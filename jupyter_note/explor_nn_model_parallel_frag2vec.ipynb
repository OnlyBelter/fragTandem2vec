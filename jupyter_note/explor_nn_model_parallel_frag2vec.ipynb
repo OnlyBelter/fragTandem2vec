{
 "cells": [
  {
   "cell_type": "code",
   "execution_count": 1,
   "metadata": {},
   "outputs": [],
   "source": [
    "from __future__ import absolute_import, division, print_function, unicode_literals\n",
    "\n",
    "# TensorFlow and tf.keras\n",
    "import tensorflow as tf\n",
    "from tensorflow import keras\n",
    "\n",
    "# Helper libraries\n",
    "import numpy as np\n",
    "import pandas as pd\n",
    "import matplotlib.pyplot as plt\n",
    "import time\n",
    "from sklearn.metrics import pairwise_distances\n",
    "\n",
    "from rdkit import Chem\n",
    "from rdkit.Chem import Draw\n",
    "from rdkit.Chem.Draw import IPythonConsole\n",
    "IPythonConsole.ipython_useSVG = True"
   ]
  },
  {
   "cell_type": "code",
   "execution_count": 2,
   "metadata": {},
   "outputs": [],
   "source": [
    "def read_xy(x_fp, y_fp):\n",
    "    x = pd.read_csv(x_fp, header=None, index_col=0)\n",
    "    y = pd.read_csv(y_fp, index_col=0)\n",
    "    return {'x': x, 'y': y}"
   ]
  },
  {
   "cell_type": "code",
   "execution_count": 3,
   "metadata": {},
   "outputs": [],
   "source": [
    "def count_y_class(y_df):\n",
    "    y_class = y_df.apply(lambda x: ''.join([str(i) for i in x]), axis=1).to_frame(name='class')\n",
    "    # y_class.head(2)\n",
    "    \n",
    "    y_class2num = y_class['class'].value_counts().to_frame(name='num')\n",
    "    y_class2num['n_error'] = 0\n",
    "    return y_class2num"
   ]
  },
  {
   "cell_type": "code",
   "execution_count": 4,
   "metadata": {},
   "outputs": [],
   "source": [
    "def predict_y(x, model):\n",
    "    y_pred_raw = model.predict(x)\n",
    "    y_pred_bool = tf.math.sigmoid(y_pred_raw)\n",
    "    y_pred_bool = y_pred_bool.numpy()\n",
    "    y_pred_bool[y_pred_bool >= 0.5] = 1\n",
    "    y_pred_bool[y_pred_bool < 0.5] = 0\n",
    "    return y_pred_bool"
   ]
  },
  {
   "cell_type": "code",
   "execution_count": 104,
   "metadata": {},
   "outputs": [],
   "source": [
    "def predict_y_reg(x, model):\n",
    "    y_pred_raw = model.predict(x)\n",
    "    y_pred_int = np.rint(y_pred_raw)\n",
    "    return y_pred_int.astype(np.int)"
   ]
  },
  {
   "cell_type": "code",
   "execution_count": 5,
   "metadata": {},
   "outputs": [],
   "source": [
    "def count_pred_error_in_class(y, y_pred):\n",
    "    pred_comp_bool = np.all(y == y_pred, axis=1)\n",
    "    y_pred_error = y_pred[~pred_comp_bool]\n",
    "    y_class = y.apply(lambda x: ''.join([str(i) for i in x]), axis=1).to_frame(name='class')\n",
    "    y_pred_error_count_by_class = y_class.loc[y_class.index.isin(y_pred_error.index), 'class'].value_counts().to_frame(name='n_error')\n",
    "    \n",
    "    y_class2num = y_class['class'].value_counts().to_frame(name='num')\n",
    "    y_class2num['n_error'] = 0\n",
    "    y_class2num.loc[y_pred_error_count_by_class.index, 'n_error'] = y_pred_error_count_by_class.n_error\n",
    "    return y_class2num"
   ]
  },
  {
   "cell_type": "code",
   "execution_count": 80,
   "metadata": {},
   "outputs": [],
   "source": [
    "model = keras.models.load_model('../big-data/moses_dataset/nn/model_reg.h5')"
   ]
  },
  {
   "cell_type": "code",
   "execution_count": 84,
   "metadata": {},
   "outputs": [],
   "source": [
    "xy_train = read_xy(x_fp='../big-data/moses_dataset/nn/x_training_set_mol2vec.csv', y_fp='../big-data/moses_dataset/nn/y_train_regression.csv')\n",
    "x_train = xy_train['x']\n",
    "y_train = xy_train['y']"
   ]
  },
  {
   "cell_type": "code",
   "execution_count": 85,
   "metadata": {},
   "outputs": [
    {
     "data": {
      "text/html": [
       "<div>\n",
       "<style scoped>\n",
       "    .dataframe tbody tr th:only-of-type {\n",
       "        vertical-align: middle;\n",
       "    }\n",
       "\n",
       "    .dataframe tbody tr th {\n",
       "        vertical-align: top;\n",
       "    }\n",
       "\n",
       "    .dataframe thead th {\n",
       "        text-align: right;\n",
       "    }\n",
       "</style>\n",
       "<table border=\"1\" class=\"dataframe\">\n",
       "  <thead>\n",
       "    <tr style=\"text-align: right;\">\n",
       "      <th></th>\n",
       "      <th>1</th>\n",
       "      <th>2</th>\n",
       "      <th>3</th>\n",
       "      <th>4</th>\n",
       "      <th>5</th>\n",
       "      <th>6</th>\n",
       "      <th>7</th>\n",
       "      <th>8</th>\n",
       "      <th>9</th>\n",
       "      <th>10</th>\n",
       "      <th>...</th>\n",
       "      <th>91</th>\n",
       "      <th>92</th>\n",
       "      <th>93</th>\n",
       "      <th>94</th>\n",
       "      <th>95</th>\n",
       "      <th>96</th>\n",
       "      <th>97</th>\n",
       "      <th>98</th>\n",
       "      <th>99</th>\n",
       "      <th>100</th>\n",
       "    </tr>\n",
       "    <tr>\n",
       "      <th>0</th>\n",
       "      <th></th>\n",
       "      <th></th>\n",
       "      <th></th>\n",
       "      <th></th>\n",
       "      <th></th>\n",
       "      <th></th>\n",
       "      <th></th>\n",
       "      <th></th>\n",
       "      <th></th>\n",
       "      <th></th>\n",
       "      <th></th>\n",
       "      <th></th>\n",
       "      <th></th>\n",
       "      <th></th>\n",
       "      <th></th>\n",
       "      <th></th>\n",
       "      <th></th>\n",
       "      <th></th>\n",
       "      <th></th>\n",
       "      <th></th>\n",
       "      <th></th>\n",
       "    </tr>\n",
       "  </thead>\n",
       "  <tbody>\n",
       "    <tr>\n",
       "      <th>id6</th>\n",
       "      <td>0.230</td>\n",
       "      <td>4.271</td>\n",
       "      <td>-1.860</td>\n",
       "      <td>3.139</td>\n",
       "      <td>2.185</td>\n",
       "      <td>2.498</td>\n",
       "      <td>2.318</td>\n",
       "      <td>1.343</td>\n",
       "      <td>-0.212</td>\n",
       "      <td>1.851</td>\n",
       "      <td>...</td>\n",
       "      <td>7.804</td>\n",
       "      <td>1.818</td>\n",
       "      <td>0.267</td>\n",
       "      <td>3.757</td>\n",
       "      <td>-0.121</td>\n",
       "      <td>3.140</td>\n",
       "      <td>1.682</td>\n",
       "      <td>-2.240</td>\n",
       "      <td>-0.015</td>\n",
       "      <td>-1.227</td>\n",
       "    </tr>\n",
       "    <tr>\n",
       "      <th>id8</th>\n",
       "      <td>0.256</td>\n",
       "      <td>8.870</td>\n",
       "      <td>0.412</td>\n",
       "      <td>2.352</td>\n",
       "      <td>3.176</td>\n",
       "      <td>6.292</td>\n",
       "      <td>0.904</td>\n",
       "      <td>1.206</td>\n",
       "      <td>-0.017</td>\n",
       "      <td>-0.431</td>\n",
       "      <td>...</td>\n",
       "      <td>9.534</td>\n",
       "      <td>2.898</td>\n",
       "      <td>2.562</td>\n",
       "      <td>2.606</td>\n",
       "      <td>0.781</td>\n",
       "      <td>3.915</td>\n",
       "      <td>-3.332</td>\n",
       "      <td>-2.733</td>\n",
       "      <td>1.892</td>\n",
       "      <td>-2.017</td>\n",
       "    </tr>\n",
       "  </tbody>\n",
       "</table>\n",
       "<p>2 rows × 100 columns</p>\n",
       "</div>"
      ],
      "text/plain": [
       "       1      2      3      4      5      6      7      8      9      10   \\\n",
       "0                                                                           \n",
       "id6  0.230  4.271 -1.860  3.139  2.185  2.498  2.318  1.343 -0.212  1.851   \n",
       "id8  0.256  8.870  0.412  2.352  3.176  6.292  0.904  1.206 -0.017 -0.431   \n",
       "\n",
       "     ...    91     92     93     94     95     96     97     98     99     100  \n",
       "0    ...                                                                        \n",
       "id6  ...  7.804  1.818  0.267  3.757 -0.121  3.140  1.682 -2.240 -0.015 -1.227  \n",
       "id8  ...  9.534  2.898  2.562  2.606  0.781  3.915 -3.332 -2.733  1.892 -2.017  \n",
       "\n",
       "[2 rows x 100 columns]"
      ]
     },
     "execution_count": 85,
     "metadata": {},
     "output_type": "execute_result"
    }
   ],
   "source": [
    "x_train.head(2)"
   ]
  },
  {
   "cell_type": "code",
   "execution_count": 97,
   "metadata": {},
   "outputs": [
    {
     "data": {
      "text/html": [
       "<div>\n",
       "<style scoped>\n",
       "    .dataframe tbody tr th:only-of-type {\n",
       "        vertical-align: middle;\n",
       "    }\n",
       "\n",
       "    .dataframe tbody tr th {\n",
       "        vertical-align: top;\n",
       "    }\n",
       "\n",
       "    .dataframe thead th {\n",
       "        text-align: right;\n",
       "    }\n",
       "</style>\n",
       "<table border=\"1\" class=\"dataframe\">\n",
       "  <thead>\n",
       "    <tr style=\"text-align: right;\">\n",
       "      <th></th>\n",
       "      <th>nN</th>\n",
       "      <th>nS</th>\n",
       "      <th>nO</th>\n",
       "      <th>nX</th>\n",
       "      <th>nBondsD</th>\n",
       "      <th>nBondsT</th>\n",
       "      <th>naRing</th>\n",
       "      <th>nARing</th>\n",
       "    </tr>\n",
       "    <tr>\n",
       "      <th>0</th>\n",
       "      <th></th>\n",
       "      <th></th>\n",
       "      <th></th>\n",
       "      <th></th>\n",
       "      <th></th>\n",
       "      <th></th>\n",
       "      <th></th>\n",
       "      <th></th>\n",
       "    </tr>\n",
       "  </thead>\n",
       "  <tbody>\n",
       "    <tr>\n",
       "      <th>id6</th>\n",
       "      <td>1</td>\n",
       "      <td>0</td>\n",
       "      <td>4</td>\n",
       "      <td>1</td>\n",
       "      <td>1</td>\n",
       "      <td>0</td>\n",
       "      <td>1</td>\n",
       "      <td>1</td>\n",
       "    </tr>\n",
       "    <tr>\n",
       "      <th>id8</th>\n",
       "      <td>0</td>\n",
       "      <td>0</td>\n",
       "      <td>5</td>\n",
       "      <td>0</td>\n",
       "      <td>1</td>\n",
       "      <td>0</td>\n",
       "      <td>2</td>\n",
       "      <td>0</td>\n",
       "    </tr>\n",
       "    <tr>\n",
       "      <th>id11</th>\n",
       "      <td>0</td>\n",
       "      <td>0</td>\n",
       "      <td>5</td>\n",
       "      <td>0</td>\n",
       "      <td>1</td>\n",
       "      <td>0</td>\n",
       "      <td>1</td>\n",
       "      <td>0</td>\n",
       "    </tr>\n",
       "    <tr>\n",
       "      <th>id17</th>\n",
       "      <td>1</td>\n",
       "      <td>0</td>\n",
       "      <td>3</td>\n",
       "      <td>0</td>\n",
       "      <td>2</td>\n",
       "      <td>0</td>\n",
       "      <td>0</td>\n",
       "      <td>2</td>\n",
       "    </tr>\n",
       "    <tr>\n",
       "      <th>id24</th>\n",
       "      <td>5</td>\n",
       "      <td>0</td>\n",
       "      <td>1</td>\n",
       "      <td>3</td>\n",
       "      <td>0</td>\n",
       "      <td>0</td>\n",
       "      <td>3</td>\n",
       "      <td>0</td>\n",
       "    </tr>\n",
       "  </tbody>\n",
       "</table>\n",
       "</div>"
      ],
      "text/plain": [
       "      nN  nS  nO  nX  nBondsD  nBondsT  naRing  nARing\n",
       "0                                                     \n",
       "id6    1   0   4   1        1        0       1       1\n",
       "id8    0   0   5   0        1        0       2       0\n",
       "id11   0   0   5   0        1        0       1       0\n",
       "id17   1   0   3   0        2        0       0       2\n",
       "id24   5   0   1   3        0        0       3       0"
      ]
     },
     "execution_count": 97,
     "metadata": {},
     "output_type": "execute_result"
    }
   ],
   "source": [
    "y_train.head(5)"
   ]
  },
  {
   "cell_type": "code",
   "execution_count": 116,
   "metadata": {},
   "outputs": [],
   "source": [
    "y_train_bool = y_train.copy()\n",
    "y_train_bool[y_train >= 1] = 1"
   ]
  },
  {
   "cell_type": "code",
   "execution_count": 117,
   "metadata": {},
   "outputs": [
    {
     "name": "stdout",
     "output_type": "stream",
     "text": [
      "(98, 2)\n"
     ]
    },
    {
     "data": {
      "text/html": [
       "<div>\n",
       "<style scoped>\n",
       "    .dataframe tbody tr th:only-of-type {\n",
       "        vertical-align: middle;\n",
       "    }\n",
       "\n",
       "    .dataframe tbody tr th {\n",
       "        vertical-align: top;\n",
       "    }\n",
       "\n",
       "    .dataframe thead th {\n",
       "        text-align: right;\n",
       "    }\n",
       "</style>\n",
       "<table border=\"1\" class=\"dataframe\">\n",
       "  <thead>\n",
       "    <tr style=\"text-align: right;\">\n",
       "      <th></th>\n",
       "      <th>num</th>\n",
       "      <th>n_error</th>\n",
       "    </tr>\n",
       "  </thead>\n",
       "  <tbody>\n",
       "    <tr>\n",
       "      <th>10111010</th>\n",
       "      <td>4500</td>\n",
       "      <td>0</td>\n",
       "    </tr>\n",
       "    <tr>\n",
       "      <th>11101111</th>\n",
       "      <td>4500</td>\n",
       "      <td>0</td>\n",
       "    </tr>\n",
       "  </tbody>\n",
       "</table>\n",
       "</div>"
      ],
      "text/plain": [
       "           num  n_error\n",
       "10111010  4500        0\n",
       "11101111  4500        0"
      ]
     },
     "execution_count": 117,
     "metadata": {},
     "output_type": "execute_result"
    }
   ],
   "source": [
    "y_train_class2num = count_y_class(y_df=y_train_bool)\n",
    "print(y_train_class2num.shape)\n",
    "y_train_class2num.head(2)"
   ]
  },
  {
   "cell_type": "code",
   "execution_count": 108,
   "metadata": {},
   "outputs": [
    {
     "data": {
      "text/html": [
       "<div>\n",
       "<style scoped>\n",
       "    .dataframe tbody tr th:only-of-type {\n",
       "        vertical-align: middle;\n",
       "    }\n",
       "\n",
       "    .dataframe tbody tr th {\n",
       "        vertical-align: top;\n",
       "    }\n",
       "\n",
       "    .dataframe thead th {\n",
       "        text-align: right;\n",
       "    }\n",
       "</style>\n",
       "<table border=\"1\" class=\"dataframe\">\n",
       "  <thead>\n",
       "    <tr style=\"text-align: right;\">\n",
       "      <th></th>\n",
       "      <th>nN</th>\n",
       "      <th>nS</th>\n",
       "      <th>nO</th>\n",
       "      <th>nX</th>\n",
       "      <th>nBondsD</th>\n",
       "      <th>nBondsT</th>\n",
       "      <th>naRing</th>\n",
       "      <th>nARing</th>\n",
       "    </tr>\n",
       "    <tr>\n",
       "      <th>0</th>\n",
       "      <th></th>\n",
       "      <th></th>\n",
       "      <th></th>\n",
       "      <th></th>\n",
       "      <th></th>\n",
       "      <th></th>\n",
       "      <th></th>\n",
       "      <th></th>\n",
       "    </tr>\n",
       "  </thead>\n",
       "  <tbody>\n",
       "    <tr>\n",
       "      <th>id6</th>\n",
       "      <td>1</td>\n",
       "      <td>0</td>\n",
       "      <td>4</td>\n",
       "      <td>1</td>\n",
       "      <td>1</td>\n",
       "      <td>0</td>\n",
       "      <td>1</td>\n",
       "      <td>1</td>\n",
       "    </tr>\n",
       "    <tr>\n",
       "      <th>id8</th>\n",
       "      <td>0</td>\n",
       "      <td>0</td>\n",
       "      <td>6</td>\n",
       "      <td>0</td>\n",
       "      <td>1</td>\n",
       "      <td>0</td>\n",
       "      <td>2</td>\n",
       "      <td>0</td>\n",
       "    </tr>\n",
       "  </tbody>\n",
       "</table>\n",
       "</div>"
      ],
      "text/plain": [
       "     nN  nS  nO  nX  nBondsD  nBondsT  naRing  nARing\n",
       "0                                                    \n",
       "id6   1   0   4   1        1        0       1       1\n",
       "id8   0   0   6   0        1        0       2       0"
      ]
     },
     "execution_count": 108,
     "metadata": {},
     "output_type": "execute_result"
    }
   ],
   "source": [
    "y_train_pred_int = predict_y_reg(model=model, x=x_train)\n",
    "y_train_pred = pd.DataFrame(data=y_train_pred_int, index=y_train.index, columns=y_train.columns)\n",
    "y_train_pred.head(2)"
   ]
  },
  {
   "cell_type": "code",
   "execution_count": 118,
   "metadata": {},
   "outputs": [
    {
     "data": {
      "text/html": [
       "<div>\n",
       "<style scoped>\n",
       "    .dataframe tbody tr th:only-of-type {\n",
       "        vertical-align: middle;\n",
       "    }\n",
       "\n",
       "    .dataframe tbody tr th {\n",
       "        vertical-align: top;\n",
       "    }\n",
       "\n",
       "    .dataframe thead th {\n",
       "        text-align: right;\n",
       "    }\n",
       "</style>\n",
       "<table border=\"1\" class=\"dataframe\">\n",
       "  <thead>\n",
       "    <tr style=\"text-align: right;\">\n",
       "      <th></th>\n",
       "      <th>num</th>\n",
       "      <th>n_error</th>\n",
       "    </tr>\n",
       "  </thead>\n",
       "  <tbody>\n",
       "    <tr>\n",
       "      <th>10111010</th>\n",
       "      <td>4500</td>\n",
       "      <td>892</td>\n",
       "    </tr>\n",
       "    <tr>\n",
       "      <th>11101111</th>\n",
       "      <td>4500</td>\n",
       "      <td>44</td>\n",
       "    </tr>\n",
       "  </tbody>\n",
       "</table>\n",
       "</div>"
      ],
      "text/plain": [
       "           num  n_error\n",
       "10111010  4500      892\n",
       "11101111  4500       44"
      ]
     },
     "execution_count": 118,
     "metadata": {},
     "output_type": "execute_result"
    }
   ],
   "source": [
    "y_train_pred_bool = y_train_pred.copy()\n",
    "y_train_pred_bool[y_train_pred >= 1] = 1\n",
    "y_train_class2num2 = count_pred_error_in_class(y=y_train_bool, y_pred=y_train_pred_bool)\n",
    "y_train_class2num2.head(2)"
   ]
  },
  {
   "cell_type": "code",
   "execution_count": 119,
   "metadata": {},
   "outputs": [
    {
     "data": {
      "text/plain": [
       "num        155970\n",
       "n_error      5527\n",
       "dtype: int64"
      ]
     },
     "execution_count": 119,
     "metadata": {},
     "output_type": "execute_result"
    }
   ],
   "source": [
    "y_train_class2num2.sum()"
   ]
  },
  {
   "cell_type": "code",
   "execution_count": 120,
   "metadata": {},
   "outputs": [
    {
     "data": {
      "text/plain": [
       "0.9645636981470795"
      ]
     },
     "execution_count": 120,
     "metadata": {},
     "output_type": "execute_result"
    }
   ],
   "source": [
    "1-5527/155970"
   ]
  },
  {
   "cell_type": "markdown",
   "metadata": {},
   "source": [
    "### test"
   ]
  },
  {
   "cell_type": "code",
   "execution_count": 111,
   "metadata": {},
   "outputs": [],
   "source": [
    "xy_test = read_xy(x_fp='../big-data/moses_dataset/nn/x_test_set_mol2vec.csv', y_fp='../big-data/moses_dataset/nn/y_test_regression.csv')\n",
    "x_test = xy_test['x']\n",
    "y_test = xy_test['y']"
   ]
  },
  {
   "cell_type": "code",
   "execution_count": 112,
   "metadata": {},
   "outputs": [
    {
     "data": {
      "text/html": [
       "<div>\n",
       "<style scoped>\n",
       "    .dataframe tbody tr th:only-of-type {\n",
       "        vertical-align: middle;\n",
       "    }\n",
       "\n",
       "    .dataframe tbody tr th {\n",
       "        vertical-align: top;\n",
       "    }\n",
       "\n",
       "    .dataframe thead th {\n",
       "        text-align: right;\n",
       "    }\n",
       "</style>\n",
       "<table border=\"1\" class=\"dataframe\">\n",
       "  <thead>\n",
       "    <tr style=\"text-align: right;\">\n",
       "      <th></th>\n",
       "      <th>1</th>\n",
       "      <th>2</th>\n",
       "      <th>3</th>\n",
       "      <th>4</th>\n",
       "      <th>5</th>\n",
       "      <th>6</th>\n",
       "      <th>7</th>\n",
       "      <th>8</th>\n",
       "      <th>9</th>\n",
       "      <th>10</th>\n",
       "      <th>...</th>\n",
       "      <th>91</th>\n",
       "      <th>92</th>\n",
       "      <th>93</th>\n",
       "      <th>94</th>\n",
       "      <th>95</th>\n",
       "      <th>96</th>\n",
       "      <th>97</th>\n",
       "      <th>98</th>\n",
       "      <th>99</th>\n",
       "      <th>100</th>\n",
       "    </tr>\n",
       "    <tr>\n",
       "      <th>0</th>\n",
       "      <th></th>\n",
       "      <th></th>\n",
       "      <th></th>\n",
       "      <th></th>\n",
       "      <th></th>\n",
       "      <th></th>\n",
       "      <th></th>\n",
       "      <th></th>\n",
       "      <th></th>\n",
       "      <th></th>\n",
       "      <th></th>\n",
       "      <th></th>\n",
       "      <th></th>\n",
       "      <th></th>\n",
       "      <th></th>\n",
       "      <th></th>\n",
       "      <th></th>\n",
       "      <th></th>\n",
       "      <th></th>\n",
       "      <th></th>\n",
       "      <th></th>\n",
       "    </tr>\n",
       "  </thead>\n",
       "  <tbody>\n",
       "    <tr>\n",
       "      <th>id27</th>\n",
       "      <td>0.794</td>\n",
       "      <td>7.313</td>\n",
       "      <td>-1.258</td>\n",
       "      <td>2.849</td>\n",
       "      <td>2.937</td>\n",
       "      <td>3.976</td>\n",
       "      <td>1.416</td>\n",
       "      <td>1.870</td>\n",
       "      <td>0.279</td>\n",
       "      <td>1.028</td>\n",
       "      <td>...</td>\n",
       "      <td>10.392</td>\n",
       "      <td>2.231</td>\n",
       "      <td>1.297</td>\n",
       "      <td>3.920</td>\n",
       "      <td>-0.440</td>\n",
       "      <td>4.393</td>\n",
       "      <td>0.002</td>\n",
       "      <td>-3.069</td>\n",
       "      <td>0.695</td>\n",
       "      <td>-1.967</td>\n",
       "    </tr>\n",
       "    <tr>\n",
       "      <th>id39</th>\n",
       "      <td>1.467</td>\n",
       "      <td>3.095</td>\n",
       "      <td>-2.830</td>\n",
       "      <td>2.447</td>\n",
       "      <td>2.140</td>\n",
       "      <td>1.325</td>\n",
       "      <td>2.328</td>\n",
       "      <td>1.323</td>\n",
       "      <td>-0.670</td>\n",
       "      <td>2.027</td>\n",
       "      <td>...</td>\n",
       "      <td>7.120</td>\n",
       "      <td>1.221</td>\n",
       "      <td>0.689</td>\n",
       "      <td>4.305</td>\n",
       "      <td>-0.615</td>\n",
       "      <td>4.696</td>\n",
       "      <td>2.862</td>\n",
       "      <td>-1.267</td>\n",
       "      <td>-0.731</td>\n",
       "      <td>-1.225</td>\n",
       "    </tr>\n",
       "  </tbody>\n",
       "</table>\n",
       "<p>2 rows × 100 columns</p>\n",
       "</div>"
      ],
      "text/plain": [
       "        1      2      3      4      5      6      7      8      9      10   \\\n",
       "0                                                                            \n",
       "id27  0.794  7.313 -1.258  2.849  2.937  3.976  1.416  1.870  0.279  1.028   \n",
       "id39  1.467  3.095 -2.830  2.447  2.140  1.325  2.328  1.323 -0.670  2.027   \n",
       "\n",
       "      ...     91     92     93     94     95     96     97     98     99   \\\n",
       "0     ...                                                                   \n",
       "id27  ...  10.392  2.231  1.297  3.920 -0.440  4.393  0.002 -3.069  0.695   \n",
       "id39  ...   7.120  1.221  0.689  4.305 -0.615  4.696  2.862 -1.267 -0.731   \n",
       "\n",
       "        100  \n",
       "0            \n",
       "id27 -1.967  \n",
       "id39 -1.225  \n",
       "\n",
       "[2 rows x 100 columns]"
      ]
     },
     "execution_count": 112,
     "metadata": {},
     "output_type": "execute_result"
    }
   ],
   "source": [
    "x_test.head(2)"
   ]
  },
  {
   "cell_type": "code",
   "execution_count": 113,
   "metadata": {},
   "outputs": [
    {
     "data": {
      "text/html": [
       "<div>\n",
       "<style scoped>\n",
       "    .dataframe tbody tr th:only-of-type {\n",
       "        vertical-align: middle;\n",
       "    }\n",
       "\n",
       "    .dataframe tbody tr th {\n",
       "        vertical-align: top;\n",
       "    }\n",
       "\n",
       "    .dataframe thead th {\n",
       "        text-align: right;\n",
       "    }\n",
       "</style>\n",
       "<table border=\"1\" class=\"dataframe\">\n",
       "  <thead>\n",
       "    <tr style=\"text-align: right;\">\n",
       "      <th></th>\n",
       "      <th>nN</th>\n",
       "      <th>nS</th>\n",
       "      <th>nO</th>\n",
       "      <th>nX</th>\n",
       "      <th>nBondsD</th>\n",
       "      <th>nBondsT</th>\n",
       "      <th>naRing</th>\n",
       "      <th>nARing</th>\n",
       "    </tr>\n",
       "    <tr>\n",
       "      <th>0</th>\n",
       "      <th></th>\n",
       "      <th></th>\n",
       "      <th></th>\n",
       "      <th></th>\n",
       "      <th></th>\n",
       "      <th></th>\n",
       "      <th></th>\n",
       "      <th></th>\n",
       "    </tr>\n",
       "  </thead>\n",
       "  <tbody>\n",
       "    <tr>\n",
       "      <th>id27</th>\n",
       "      <td>0</td>\n",
       "      <td>0</td>\n",
       "      <td>4</td>\n",
       "      <td>0</td>\n",
       "      <td>2</td>\n",
       "      <td>0</td>\n",
       "      <td>2</td>\n",
       "      <td>0</td>\n",
       "    </tr>\n",
       "    <tr>\n",
       "      <th>id39</th>\n",
       "      <td>2</td>\n",
       "      <td>0</td>\n",
       "      <td>2</td>\n",
       "      <td>0</td>\n",
       "      <td>2</td>\n",
       "      <td>1</td>\n",
       "      <td>2</td>\n",
       "      <td>1</td>\n",
       "    </tr>\n",
       "  </tbody>\n",
       "</table>\n",
       "</div>"
      ],
      "text/plain": [
       "      nN  nS  nO  nX  nBondsD  nBondsT  naRing  nARing\n",
       "0                                                     \n",
       "id27   0   0   4   0        2        0       2       0\n",
       "id39   2   0   2   0        2        1       2       1"
      ]
     },
     "execution_count": 113,
     "metadata": {},
     "output_type": "execute_result"
    }
   ],
   "source": [
    "y_test.head(2)"
   ]
  },
  {
   "cell_type": "code",
   "execution_count": 114,
   "metadata": {},
   "outputs": [
    {
     "data": {
      "text/html": [
       "<div>\n",
       "<style scoped>\n",
       "    .dataframe tbody tr th:only-of-type {\n",
       "        vertical-align: middle;\n",
       "    }\n",
       "\n",
       "    .dataframe tbody tr th {\n",
       "        vertical-align: top;\n",
       "    }\n",
       "\n",
       "    .dataframe thead th {\n",
       "        text-align: right;\n",
       "    }\n",
       "</style>\n",
       "<table border=\"1\" class=\"dataframe\">\n",
       "  <thead>\n",
       "    <tr style=\"text-align: right;\">\n",
       "      <th></th>\n",
       "      <th>nN</th>\n",
       "      <th>nS</th>\n",
       "      <th>nO</th>\n",
       "      <th>nX</th>\n",
       "      <th>nBondsD</th>\n",
       "      <th>nBondsT</th>\n",
       "      <th>naRing</th>\n",
       "      <th>nARing</th>\n",
       "    </tr>\n",
       "    <tr>\n",
       "      <th>0</th>\n",
       "      <th></th>\n",
       "      <th></th>\n",
       "      <th></th>\n",
       "      <th></th>\n",
       "      <th></th>\n",
       "      <th></th>\n",
       "      <th></th>\n",
       "      <th></th>\n",
       "    </tr>\n",
       "  </thead>\n",
       "  <tbody>\n",
       "    <tr>\n",
       "      <th>id27</th>\n",
       "      <td>0</td>\n",
       "      <td>0</td>\n",
       "      <td>5</td>\n",
       "      <td>0</td>\n",
       "      <td>2</td>\n",
       "      <td>0</td>\n",
       "      <td>2</td>\n",
       "      <td>0</td>\n",
       "    </tr>\n",
       "    <tr>\n",
       "      <th>id39</th>\n",
       "      <td>2</td>\n",
       "      <td>0</td>\n",
       "      <td>2</td>\n",
       "      <td>0</td>\n",
       "      <td>1</td>\n",
       "      <td>1</td>\n",
       "      <td>2</td>\n",
       "      <td>1</td>\n",
       "    </tr>\n",
       "  </tbody>\n",
       "</table>\n",
       "</div>"
      ],
      "text/plain": [
       "      nN  nS  nO  nX  nBondsD  nBondsT  naRing  nARing\n",
       "0                                                     \n",
       "id27   0   0   5   0        2        0       2       0\n",
       "id39   2   0   2   0        1        1       2       1"
      ]
     },
     "execution_count": 114,
     "metadata": {},
     "output_type": "execute_result"
    }
   ],
   "source": [
    "y_test_pred = predict_y_reg(x=x_test, model=model)\n",
    "y_test_pred = pd.DataFrame(data=y_test_pred, index=y_test.index, columns=y_test.columns)\n",
    "y_test_pred.head(2)"
   ]
  },
  {
   "cell_type": "code",
   "execution_count": 115,
   "metadata": {},
   "outputs": [
    {
     "data": {
      "text/html": [
       "<div>\n",
       "<style scoped>\n",
       "    .dataframe tbody tr th:only-of-type {\n",
       "        vertical-align: middle;\n",
       "    }\n",
       "\n",
       "    .dataframe tbody tr th {\n",
       "        vertical-align: top;\n",
       "    }\n",
       "\n",
       "    .dataframe thead th {\n",
       "        text-align: right;\n",
       "    }\n",
       "</style>\n",
       "<table border=\"1\" class=\"dataframe\">\n",
       "  <thead>\n",
       "    <tr style=\"text-align: right;\">\n",
       "      <th></th>\n",
       "      <th>nN</th>\n",
       "      <th>nS</th>\n",
       "      <th>nO</th>\n",
       "      <th>nX</th>\n",
       "      <th>nBondsD</th>\n",
       "      <th>nBondsT</th>\n",
       "      <th>naRing</th>\n",
       "      <th>nARing</th>\n",
       "    </tr>\n",
       "    <tr>\n",
       "      <th>0</th>\n",
       "      <th></th>\n",
       "      <th></th>\n",
       "      <th></th>\n",
       "      <th></th>\n",
       "      <th></th>\n",
       "      <th></th>\n",
       "      <th></th>\n",
       "      <th></th>\n",
       "    </tr>\n",
       "  </thead>\n",
       "  <tbody>\n",
       "    <tr>\n",
       "      <th>id27</th>\n",
       "      <td>0</td>\n",
       "      <td>0</td>\n",
       "      <td>5</td>\n",
       "      <td>0</td>\n",
       "      <td>2</td>\n",
       "      <td>0</td>\n",
       "      <td>2</td>\n",
       "      <td>0</td>\n",
       "    </tr>\n",
       "    <tr>\n",
       "      <th>id39</th>\n",
       "      <td>2</td>\n",
       "      <td>0</td>\n",
       "      <td>2</td>\n",
       "      <td>0</td>\n",
       "      <td>1</td>\n",
       "      <td>1</td>\n",
       "      <td>2</td>\n",
       "      <td>1</td>\n",
       "    </tr>\n",
       "  </tbody>\n",
       "</table>\n",
       "</div>"
      ],
      "text/plain": [
       "      nN  nS  nO  nX  nBondsD  nBondsT  naRing  nARing\n",
       "0                                                     \n",
       "id27   0   0   5   0        2        0       2       0\n",
       "id39   2   0   2   0        1        1       2       1"
      ]
     },
     "execution_count": 115,
     "metadata": {},
     "output_type": "execute_result"
    }
   ],
   "source": [
    "y_test_pred.head(2)"
   ]
  },
  {
   "cell_type": "code",
   "execution_count": 121,
   "metadata": {},
   "outputs": [
    {
     "data": {
      "text/html": [
       "<div>\n",
       "<style scoped>\n",
       "    .dataframe tbody tr th:only-of-type {\n",
       "        vertical-align: middle;\n",
       "    }\n",
       "\n",
       "    .dataframe tbody tr th {\n",
       "        vertical-align: top;\n",
       "    }\n",
       "\n",
       "    .dataframe thead th {\n",
       "        text-align: right;\n",
       "    }\n",
       "</style>\n",
       "<table border=\"1\" class=\"dataframe\">\n",
       "  <thead>\n",
       "    <tr style=\"text-align: right;\">\n",
       "      <th></th>\n",
       "      <th>num</th>\n",
       "      <th>n_error</th>\n",
       "    </tr>\n",
       "  </thead>\n",
       "  <tbody>\n",
       "    <tr>\n",
       "      <th>10101010</th>\n",
       "      <td>5000</td>\n",
       "      <td>1412</td>\n",
       "    </tr>\n",
       "    <tr>\n",
       "      <th>11101010</th>\n",
       "      <td>5000</td>\n",
       "      <td>177</td>\n",
       "    </tr>\n",
       "    <tr>\n",
       "      <th>10101111</th>\n",
       "      <td>5000</td>\n",
       "      <td>295</td>\n",
       "    </tr>\n",
       "    <tr>\n",
       "      <th>10111111</th>\n",
       "      <td>5000</td>\n",
       "      <td>264</td>\n",
       "    </tr>\n",
       "    <tr>\n",
       "      <th>11000011</th>\n",
       "      <td>3826</td>\n",
       "      <td>17</td>\n",
       "    </tr>\n",
       "  </tbody>\n",
       "</table>\n",
       "</div>"
      ],
      "text/plain": [
       "           num  n_error\n",
       "10101010  5000     1412\n",
       "11101010  5000      177\n",
       "10101111  5000      295\n",
       "10111111  5000      264\n",
       "11000011  3826       17"
      ]
     },
     "execution_count": 121,
     "metadata": {},
     "output_type": "execute_result"
    }
   ],
   "source": [
    "y_test_bool = y_test.copy()\n",
    "y_test_pred_bool = y_test_pred.copy()\n",
    "y_test_bool[y_test >= 1] = 1\n",
    "y_test_pred_bool[y_test_pred >= 1] = 1\n",
    "y_test_class2num = count_pred_error_in_class(y=y_test_bool, y_pred=y_test_pred_bool)\n",
    "y_test_class2num.head()"
   ]
  },
  {
   "cell_type": "code",
   "execution_count": 122,
   "metadata": {},
   "outputs": [
    {
     "data": {
      "text/plain": [
       "num        48207\n",
       "n_error     2978\n",
       "dtype: int64"
      ]
     },
     "execution_count": 122,
     "metadata": {},
     "output_type": "execute_result"
    }
   ],
   "source": [
    "y_test_class2num.sum()"
   ]
  },
  {
   "cell_type": "code",
   "execution_count": 123,
   "metadata": {},
   "outputs": [
    {
     "data": {
      "text/plain": [
       "(0.16223784927500157, 0.14143174227809238, 0.06177526085423279)"
      ]
     },
     "execution_count": 123,
     "metadata": {},
     "output_type": "execute_result"
    }
   ],
   "source": [
    "7821 / 48207, 6818 / 48207, 2978/48207"
   ]
  },
  {
   "cell_type": "code",
   "execution_count": 124,
   "metadata": {},
   "outputs": [],
   "source": [
    "y_test_class2num['class_in_train'] = 0\n",
    "y_test_class2num.loc[y_test_class2num.index.isin(y_train_class2num2.index), 'class_in_train'] = 1"
   ]
  },
  {
   "cell_type": "code",
   "execution_count": 125,
   "metadata": {},
   "outputs": [],
   "source": [
    "y_test_class2num['accuray_in_each_class'] = 1 - y_test_class2num['n_error'] / y_test_class2num['num']"
   ]
  },
  {
   "cell_type": "code",
   "execution_count": 126,
   "metadata": {},
   "outputs": [
    {
     "data": {
      "text/html": [
       "<div>\n",
       "<style scoped>\n",
       "    .dataframe tbody tr th:only-of-type {\n",
       "        vertical-align: middle;\n",
       "    }\n",
       "\n",
       "    .dataframe tbody tr th {\n",
       "        vertical-align: top;\n",
       "    }\n",
       "\n",
       "    .dataframe thead th {\n",
       "        text-align: right;\n",
       "    }\n",
       "</style>\n",
       "<table border=\"1\" class=\"dataframe\">\n",
       "  <thead>\n",
       "    <tr style=\"text-align: right;\">\n",
       "      <th></th>\n",
       "      <th>num</th>\n",
       "      <th>n_error</th>\n",
       "      <th>class_in_train</th>\n",
       "      <th>accuray_in_each_class</th>\n",
       "    </tr>\n",
       "  </thead>\n",
       "  <tbody>\n",
       "    <tr>\n",
       "      <th>10101010</th>\n",
       "      <td>5000</td>\n",
       "      <td>1412</td>\n",
       "      <td>0</td>\n",
       "      <td>0.717600</td>\n",
       "    </tr>\n",
       "    <tr>\n",
       "      <th>11101010</th>\n",
       "      <td>5000</td>\n",
       "      <td>177</td>\n",
       "      <td>0</td>\n",
       "      <td>0.964600</td>\n",
       "    </tr>\n",
       "    <tr>\n",
       "      <th>10101111</th>\n",
       "      <td>5000</td>\n",
       "      <td>295</td>\n",
       "      <td>0</td>\n",
       "      <td>0.941000</td>\n",
       "    </tr>\n",
       "    <tr>\n",
       "      <th>10111111</th>\n",
       "      <td>5000</td>\n",
       "      <td>264</td>\n",
       "      <td>0</td>\n",
       "      <td>0.947200</td>\n",
       "    </tr>\n",
       "    <tr>\n",
       "      <th>11000011</th>\n",
       "      <td>3826</td>\n",
       "      <td>17</td>\n",
       "      <td>0</td>\n",
       "      <td>0.995557</td>\n",
       "    </tr>\n",
       "  </tbody>\n",
       "</table>\n",
       "</div>"
      ],
      "text/plain": [
       "           num  n_error  class_in_train  accuray_in_each_class\n",
       "10101010  5000     1412               0               0.717600\n",
       "11101010  5000      177               0               0.964600\n",
       "10101111  5000      295               0               0.941000\n",
       "10111111  5000      264               0               0.947200\n",
       "11000011  3826       17               0               0.995557"
      ]
     },
     "execution_count": 126,
     "metadata": {},
     "output_type": "execute_result"
    }
   ],
   "source": [
    "y_test_class2num.head()"
   ]
  },
  {
   "cell_type": "code",
   "execution_count": 127,
   "metadata": {},
   "outputs": [],
   "source": [
    "y_test_class2num.to_csv('../big-data/moses_dataset/nn/y_test_class2num_reg.csv')"
   ]
  },
  {
   "cell_type": "markdown",
   "metadata": {},
   "source": [
    "### embedding vector"
   ]
  },
  {
   "cell_type": "code",
   "execution_count": 128,
   "metadata": {},
   "outputs": [
    {
     "name": "stdout",
     "output_type": "stream",
     "text": [
      "WARNING:tensorflow:No training configuration found in save file: the model was *not* compiled. Compile it manually.\n"
     ]
    },
    {
     "data": {
      "text/plain": [
       "<tensorflow.python.keras.engine.sequential.Sequential at 0x7f5c646236a0>"
      ]
     },
     "execution_count": 128,
     "metadata": {},
     "output_type": "execute_result"
    }
   ],
   "source": [
    "m_part1 = keras.models.load_model('../big-data/moses_dataset/nn/m_part1_reg.h5')\n",
    "m_part1"
   ]
  },
  {
   "cell_type": "code",
   "execution_count": 129,
   "metadata": {},
   "outputs": [
    {
     "data": {
      "text/plain": [
       "(204177, 100)"
      ]
     },
     "execution_count": 129,
     "metadata": {},
     "output_type": "execute_result"
    }
   ],
   "source": [
    "x_train_test = x_train.append(x_test)\n",
    "x_train_test.shape"
   ]
  },
  {
   "cell_type": "code",
   "execution_count": 130,
   "metadata": {},
   "outputs": [
    {
     "data": {
      "text/plain": [
       "numpy.ndarray"
      ]
     },
     "execution_count": 130,
     "metadata": {},
     "output_type": "execute_result"
    }
   ],
   "source": [
    "x_embedding = m_part1.predict(x_train_test)\n",
    "type(x_embedding)"
   ]
  },
  {
   "cell_type": "code",
   "execution_count": 131,
   "metadata": {},
   "outputs": [
    {
     "data": {
      "text/html": [
       "<div>\n",
       "<style scoped>\n",
       "    .dataframe tbody tr th:only-of-type {\n",
       "        vertical-align: middle;\n",
       "    }\n",
       "\n",
       "    .dataframe tbody tr th {\n",
       "        vertical-align: top;\n",
       "    }\n",
       "\n",
       "    .dataframe thead th {\n",
       "        text-align: right;\n",
       "    }\n",
       "</style>\n",
       "<table border=\"1\" class=\"dataframe\">\n",
       "  <thead>\n",
       "    <tr style=\"text-align: right;\">\n",
       "      <th></th>\n",
       "      <th>0</th>\n",
       "      <th>1</th>\n",
       "      <th>2</th>\n",
       "      <th>3</th>\n",
       "      <th>4</th>\n",
       "      <th>5</th>\n",
       "      <th>6</th>\n",
       "      <th>7</th>\n",
       "      <th>8</th>\n",
       "      <th>9</th>\n",
       "      <th>...</th>\n",
       "      <th>20</th>\n",
       "      <th>21</th>\n",
       "      <th>22</th>\n",
       "      <th>23</th>\n",
       "      <th>24</th>\n",
       "      <th>25</th>\n",
       "      <th>26</th>\n",
       "      <th>27</th>\n",
       "      <th>28</th>\n",
       "      <th>29</th>\n",
       "    </tr>\n",
       "    <tr>\n",
       "      <th>0</th>\n",
       "      <th></th>\n",
       "      <th></th>\n",
       "      <th></th>\n",
       "      <th></th>\n",
       "      <th></th>\n",
       "      <th></th>\n",
       "      <th></th>\n",
       "      <th></th>\n",
       "      <th></th>\n",
       "      <th></th>\n",
       "      <th></th>\n",
       "      <th></th>\n",
       "      <th></th>\n",
       "      <th></th>\n",
       "      <th></th>\n",
       "      <th></th>\n",
       "      <th></th>\n",
       "      <th></th>\n",
       "      <th></th>\n",
       "      <th></th>\n",
       "      <th></th>\n",
       "    </tr>\n",
       "  </thead>\n",
       "  <tbody>\n",
       "    <tr>\n",
       "      <th>id6</th>\n",
       "      <td>-1.499594</td>\n",
       "      <td>4.795064</td>\n",
       "      <td>-1.682328</td>\n",
       "      <td>3.634081</td>\n",
       "      <td>2.648775</td>\n",
       "      <td>-1.290213</td>\n",
       "      <td>1.098553</td>\n",
       "      <td>-1.721439</td>\n",
       "      <td>0.142399</td>\n",
       "      <td>-1.757469</td>\n",
       "      <td>...</td>\n",
       "      <td>1.611947</td>\n",
       "      <td>-0.746514</td>\n",
       "      <td>-0.910748</td>\n",
       "      <td>0.334813</td>\n",
       "      <td>-1.757399</td>\n",
       "      <td>1.627908</td>\n",
       "      <td>0.670884</td>\n",
       "      <td>-1.455732</td>\n",
       "      <td>5.117005</td>\n",
       "      <td>-1.614040</td>\n",
       "    </tr>\n",
       "    <tr>\n",
       "      <th>id8</th>\n",
       "      <td>-1.740047</td>\n",
       "      <td>8.122423</td>\n",
       "      <td>-1.756263</td>\n",
       "      <td>1.207755</td>\n",
       "      <td>0.971331</td>\n",
       "      <td>-1.728168</td>\n",
       "      <td>4.421060</td>\n",
       "      <td>-1.726882</td>\n",
       "      <td>-1.115949</td>\n",
       "      <td>-1.740837</td>\n",
       "      <td>...</td>\n",
       "      <td>-1.353415</td>\n",
       "      <td>-1.085281</td>\n",
       "      <td>3.865592</td>\n",
       "      <td>-1.224507</td>\n",
       "      <td>-1.758050</td>\n",
       "      <td>-1.690312</td>\n",
       "      <td>-0.845013</td>\n",
       "      <td>-1.326752</td>\n",
       "      <td>11.165923</td>\n",
       "      <td>-1.721184</td>\n",
       "    </tr>\n",
       "  </tbody>\n",
       "</table>\n",
       "<p>2 rows × 30 columns</p>\n",
       "</div>"
      ],
      "text/plain": [
       "           0         1         2         3         4         5         6   \\\n",
       "0                                                                           \n",
       "id6 -1.499594  4.795064 -1.682328  3.634081  2.648775 -1.290213  1.098553   \n",
       "id8 -1.740047  8.122423 -1.756263  1.207755  0.971331 -1.728168  4.421060   \n",
       "\n",
       "           7         8         9   ...        20        21        22  \\\n",
       "0                                  ...                                 \n",
       "id6 -1.721439  0.142399 -1.757469  ...  1.611947 -0.746514 -0.910748   \n",
       "id8 -1.726882 -1.115949 -1.740837  ... -1.353415 -1.085281  3.865592   \n",
       "\n",
       "           23        24        25        26        27         28        29  \n",
       "0                                                                           \n",
       "id6  0.334813 -1.757399  1.627908  0.670884 -1.455732   5.117005 -1.614040  \n",
       "id8 -1.224507 -1.758050 -1.690312 -0.845013 -1.326752  11.165923 -1.721184  \n",
       "\n",
       "[2 rows x 30 columns]"
      ]
     },
     "execution_count": 131,
     "metadata": {},
     "output_type": "execute_result"
    }
   ],
   "source": [
    "x_embedding = pd.DataFrame(data=x_embedding, index=x_train_test.index)\n",
    "x_embedding.head(2)"
   ]
  },
  {
   "cell_type": "markdown",
   "metadata": {},
   "source": [
    "##### fragment embedding"
   ]
  },
  {
   "cell_type": "code",
   "execution_count": 132,
   "metadata": {},
   "outputs": [
    {
     "data": {
      "text/html": [
       "<div>\n",
       "<style scoped>\n",
       "    .dataframe tbody tr th:only-of-type {\n",
       "        vertical-align: middle;\n",
       "    }\n",
       "\n",
       "    .dataframe tbody tr th {\n",
       "        vertical-align: top;\n",
       "    }\n",
       "\n",
       "    .dataframe thead th {\n",
       "        text-align: right;\n",
       "    }\n",
       "</style>\n",
       "<table border=\"1\" class=\"dataframe\">\n",
       "  <thead>\n",
       "    <tr style=\"text-align: right;\">\n",
       "      <th></th>\n",
       "      <th>0</th>\n",
       "      <th>1</th>\n",
       "      <th>2</th>\n",
       "      <th>3</th>\n",
       "      <th>4</th>\n",
       "      <th>5</th>\n",
       "      <th>6</th>\n",
       "      <th>7</th>\n",
       "      <th>8</th>\n",
       "      <th>9</th>\n",
       "      <th>...</th>\n",
       "      <th>90</th>\n",
       "      <th>91</th>\n",
       "      <th>92</th>\n",
       "      <th>93</th>\n",
       "      <th>94</th>\n",
       "      <th>95</th>\n",
       "      <th>96</th>\n",
       "      <th>97</th>\n",
       "      <th>98</th>\n",
       "      <th>99</th>\n",
       "    </tr>\n",
       "    <tr>\n",
       "      <th>fragment</th>\n",
       "      <th></th>\n",
       "      <th></th>\n",
       "      <th></th>\n",
       "      <th></th>\n",
       "      <th></th>\n",
       "      <th></th>\n",
       "      <th></th>\n",
       "      <th></th>\n",
       "      <th></th>\n",
       "      <th></th>\n",
       "      <th></th>\n",
       "      <th></th>\n",
       "      <th></th>\n",
       "      <th></th>\n",
       "      <th></th>\n",
       "      <th></th>\n",
       "      <th></th>\n",
       "      <th></th>\n",
       "      <th></th>\n",
       "      <th></th>\n",
       "      <th></th>\n",
       "    </tr>\n",
       "  </thead>\n",
       "  <tbody>\n",
       "    <tr>\n",
       "      <th>CC</th>\n",
       "      <td>0.102366</td>\n",
       "      <td>0.236778</td>\n",
       "      <td>-0.212418</td>\n",
       "      <td>0.097849</td>\n",
       "      <td>0.353949</td>\n",
       "      <td>0.066136</td>\n",
       "      <td>0.251520</td>\n",
       "      <td>0.141767</td>\n",
       "      <td>-0.135168</td>\n",
       "      <td>0.230127</td>\n",
       "      <td>...</td>\n",
       "      <td>0.707791</td>\n",
       "      <td>-0.000694</td>\n",
       "      <td>-0.055997</td>\n",
       "      <td>0.399240</td>\n",
       "      <td>-0.149455</td>\n",
       "      <td>0.417486</td>\n",
       "      <td>0.369599</td>\n",
       "      <td>-0.189464</td>\n",
       "      <td>-0.133221</td>\n",
       "      <td>0.059110</td>\n",
       "    </tr>\n",
       "    <tr>\n",
       "      <th>CN</th>\n",
       "      <td>0.135850</td>\n",
       "      <td>0.226165</td>\n",
       "      <td>-0.434924</td>\n",
       "      <td>0.303119</td>\n",
       "      <td>-0.014223</td>\n",
       "      <td>0.132242</td>\n",
       "      <td>0.368385</td>\n",
       "      <td>0.068198</td>\n",
       "      <td>-0.059371</td>\n",
       "      <td>0.287510</td>\n",
       "      <td>...</td>\n",
       "      <td>0.617289</td>\n",
       "      <td>-0.113810</td>\n",
       "      <td>0.043899</td>\n",
       "      <td>0.385367</td>\n",
       "      <td>0.093859</td>\n",
       "      <td>0.156435</td>\n",
       "      <td>0.381115</td>\n",
       "      <td>-0.142981</td>\n",
       "      <td>0.027194</td>\n",
       "      <td>-0.063204</td>\n",
       "    </tr>\n",
       "  </tbody>\n",
       "</table>\n",
       "<p>2 rows × 100 columns</p>\n",
       "</div>"
      ],
      "text/plain": [
       "                 0         1         2         3         4         5  \\\n",
       "fragment                                                               \n",
       "CC        0.102366  0.236778 -0.212418  0.097849  0.353949  0.066136   \n",
       "CN        0.135850  0.226165 -0.434924  0.303119 -0.014223  0.132242   \n",
       "\n",
       "                 6         7         8         9  ...        90        91  \\\n",
       "fragment                                          ...                       \n",
       "CC        0.251520  0.141767 -0.135168  0.230127  ...  0.707791 -0.000694   \n",
       "CN        0.368385  0.068198 -0.059371  0.287510  ...  0.617289 -0.113810   \n",
       "\n",
       "                92        93        94        95        96        97  \\\n",
       "fragment                                                               \n",
       "CC       -0.055997  0.399240 -0.149455  0.417486  0.369599 -0.189464   \n",
       "CN        0.043899  0.385367  0.093859  0.156435  0.381115 -0.142981   \n",
       "\n",
       "                98        99  \n",
       "fragment                      \n",
       "CC       -0.133221  0.059110  \n",
       "CN        0.027194 -0.063204  \n",
       "\n",
       "[2 rows x 100 columns]"
      ]
     },
     "execution_count": 132,
     "metadata": {},
     "output_type": "execute_result"
    }
   ],
   "source": [
    "frag2vec = pd.read_csv('../big-data/moses_dataset/best_model/sub_ws_4_minn_1_maxn_2/frag2vec_ws_4_minn_1_maxn_2.csv', index_col='fragment')\n",
    "frag2vec.head(2)"
   ]
  },
  {
   "cell_type": "code",
   "execution_count": 133,
   "metadata": {},
   "outputs": [
    {
     "data": {
      "text/html": [
       "<div>\n",
       "<style scoped>\n",
       "    .dataframe tbody tr th:only-of-type {\n",
       "        vertical-align: middle;\n",
       "    }\n",
       "\n",
       "    .dataframe tbody tr th {\n",
       "        vertical-align: top;\n",
       "    }\n",
       "\n",
       "    .dataframe thead th {\n",
       "        text-align: right;\n",
       "    }\n",
       "</style>\n",
       "<table border=\"1\" class=\"dataframe\">\n",
       "  <thead>\n",
       "    <tr style=\"text-align: right;\">\n",
       "      <th></th>\n",
       "      <th>0</th>\n",
       "      <th>1</th>\n",
       "      <th>2</th>\n",
       "      <th>3</th>\n",
       "      <th>4</th>\n",
       "      <th>5</th>\n",
       "      <th>6</th>\n",
       "      <th>7</th>\n",
       "      <th>8</th>\n",
       "      <th>9</th>\n",
       "      <th>...</th>\n",
       "      <th>20</th>\n",
       "      <th>21</th>\n",
       "      <th>22</th>\n",
       "      <th>23</th>\n",
       "      <th>24</th>\n",
       "      <th>25</th>\n",
       "      <th>26</th>\n",
       "      <th>27</th>\n",
       "      <th>28</th>\n",
       "      <th>29</th>\n",
       "    </tr>\n",
       "    <tr>\n",
       "      <th>fragment</th>\n",
       "      <th></th>\n",
       "      <th></th>\n",
       "      <th></th>\n",
       "      <th></th>\n",
       "      <th></th>\n",
       "      <th></th>\n",
       "      <th></th>\n",
       "      <th></th>\n",
       "      <th></th>\n",
       "      <th></th>\n",
       "      <th></th>\n",
       "      <th></th>\n",
       "      <th></th>\n",
       "      <th></th>\n",
       "      <th></th>\n",
       "      <th></th>\n",
       "      <th></th>\n",
       "      <th></th>\n",
       "      <th></th>\n",
       "      <th></th>\n",
       "      <th></th>\n",
       "    </tr>\n",
       "  </thead>\n",
       "  <tbody>\n",
       "    <tr>\n",
       "      <th>CC</th>\n",
       "      <td>-0.558245</td>\n",
       "      <td>-1.438177</td>\n",
       "      <td>0.099167</td>\n",
       "      <td>-1.690964</td>\n",
       "      <td>0.609527</td>\n",
       "      <td>0.275151</td>\n",
       "      <td>-0.131262</td>\n",
       "      <td>-1.386071</td>\n",
       "      <td>-1.124998</td>\n",
       "      <td>-0.883890</td>\n",
       "      <td>...</td>\n",
       "      <td>0.888008</td>\n",
       "      <td>-1.322027</td>\n",
       "      <td>1.935024</td>\n",
       "      <td>2.144108</td>\n",
       "      <td>-0.883948</td>\n",
       "      <td>0.212668</td>\n",
       "      <td>0.572107</td>\n",
       "      <td>0.954083</td>\n",
       "      <td>-0.496624</td>\n",
       "      <td>-1.354179</td>\n",
       "    </tr>\n",
       "    <tr>\n",
       "      <th>CN</th>\n",
       "      <td>-0.458151</td>\n",
       "      <td>-1.483617</td>\n",
       "      <td>0.175892</td>\n",
       "      <td>-1.543361</td>\n",
       "      <td>0.740270</td>\n",
       "      <td>-0.030037</td>\n",
       "      <td>0.702270</td>\n",
       "      <td>-1.455249</td>\n",
       "      <td>-1.184582</td>\n",
       "      <td>-1.250804</td>\n",
       "      <td>...</td>\n",
       "      <td>0.650653</td>\n",
       "      <td>-1.315698</td>\n",
       "      <td>1.569044</td>\n",
       "      <td>3.021253</td>\n",
       "      <td>0.223890</td>\n",
       "      <td>0.342611</td>\n",
       "      <td>0.793450</td>\n",
       "      <td>0.123334</td>\n",
       "      <td>-1.163844</td>\n",
       "      <td>-1.464272</td>\n",
       "    </tr>\n",
       "  </tbody>\n",
       "</table>\n",
       "<p>2 rows × 30 columns</p>\n",
       "</div>"
      ],
      "text/plain": [
       "                0         1         2         3         4         5   \\\n",
       "fragment                                                               \n",
       "CC       -0.558245 -1.438177  0.099167 -1.690964  0.609527  0.275151   \n",
       "CN       -0.458151 -1.483617  0.175892 -1.543361  0.740270 -0.030037   \n",
       "\n",
       "                6         7         8         9   ...        20        21  \\\n",
       "fragment                                          ...                       \n",
       "CC       -0.131262 -1.386071 -1.124998 -0.883890  ...  0.888008 -1.322027   \n",
       "CN        0.702270 -1.455249 -1.184582 -1.250804  ...  0.650653 -1.315698   \n",
       "\n",
       "                22        23        24        25        26        27  \\\n",
       "fragment                                                               \n",
       "CC        1.935024  2.144108 -0.883948  0.212668  0.572107  0.954083   \n",
       "CN        1.569044  3.021253  0.223890  0.342611  0.793450  0.123334   \n",
       "\n",
       "                28        29  \n",
       "fragment                      \n",
       "CC       -0.496624 -1.354179  \n",
       "CN       -1.163844 -1.464272  \n",
       "\n",
       "[2 rows x 30 columns]"
      ]
     },
     "execution_count": 133,
     "metadata": {},
     "output_type": "execute_result"
    }
   ],
   "source": [
    "frag_embedding = m_part1.predict(frag2vec)\n",
    "frag_embedding_df = pd.DataFrame(data=frag_embedding, index=frag2vec.index)\n",
    "frag_embedding_df.head(2)"
   ]
  },
  {
   "cell_type": "code",
   "execution_count": 134,
   "metadata": {},
   "outputs": [],
   "source": [
    "frag_embedding_df.to_csv('../big-data/moses_dataset/nn/frag_embedding_reg.csv')"
   ]
  },
  {
   "cell_type": "code",
   "execution_count": 135,
   "metadata": {},
   "outputs": [
    {
     "data": {
      "text/html": [
       "<div>\n",
       "<style scoped>\n",
       "    .dataframe tbody tr th:only-of-type {\n",
       "        vertical-align: middle;\n",
       "    }\n",
       "\n",
       "    .dataframe tbody tr th {\n",
       "        vertical-align: top;\n",
       "    }\n",
       "\n",
       "    .dataframe thead th {\n",
       "        text-align: right;\n",
       "    }\n",
       "</style>\n",
       "<table border=\"1\" class=\"dataframe\">\n",
       "  <thead>\n",
       "    <tr style=\"text-align: right;\">\n",
       "      <th></th>\n",
       "      <th>smiles</th>\n",
       "    </tr>\n",
       "    <tr>\n",
       "      <th>cid</th>\n",
       "      <th></th>\n",
       "    </tr>\n",
       "  </thead>\n",
       "  <tbody>\n",
       "    <tr>\n",
       "      <th>id2</th>\n",
       "      <td>CCCS(=O)c1ccc2[nH]c(=NC(=O)OC)[nH]c2c1</td>\n",
       "    </tr>\n",
       "    <tr>\n",
       "      <th>id3</th>\n",
       "      <td>CC(C)(C)C(=O)C(Oc1ccc(Cl)cc1)n1ccnc1</td>\n",
       "    </tr>\n",
       "  </tbody>\n",
       "</table>\n",
       "</div>"
      ],
      "text/plain": [
       "                                     smiles\n",
       "cid                                        \n",
       "id2  CCCS(=O)c1ccc2[nH]c(=NC(=O)OC)[nH]c2c1\n",
       "id3    CC(C)(C)C(=O)C(Oc1ccc(Cl)cc1)n1ccnc1"
      ]
     },
     "execution_count": 135,
     "metadata": {},
     "output_type": "execute_result"
    }
   ],
   "source": [
    "cid2smiles = pd.read_csv('../big-data/moses_dataset/result/mol2md_with_cid.csv', index_col='cid', usecols=['smiles', 'cid'])\n",
    "cid2smiles.head(2)"
   ]
  },
  {
   "cell_type": "code",
   "execution_count": 44,
   "metadata": {},
   "outputs": [],
   "source": [
    "cid2smiles.loc[x_embedding.index, ['smiles']].to_csv('../big-data/moses_dataset/nn/cid2smiles_all_in_train_test.csv')"
   ]
  },
  {
   "cell_type": "code",
   "execution_count": 136,
   "metadata": {},
   "outputs": [
    {
     "data": {
      "text/html": [
       "<div>\n",
       "<style scoped>\n",
       "    .dataframe tbody tr th:only-of-type {\n",
       "        vertical-align: middle;\n",
       "    }\n",
       "\n",
       "    .dataframe tbody tr th {\n",
       "        vertical-align: top;\n",
       "    }\n",
       "\n",
       "    .dataframe thead th {\n",
       "        text-align: right;\n",
       "    }\n",
       "</style>\n",
       "<table border=\"1\" class=\"dataframe\">\n",
       "  <thead>\n",
       "    <tr style=\"text-align: right;\">\n",
       "      <th></th>\n",
       "      <th>0</th>\n",
       "      <th>1</th>\n",
       "      <th>2</th>\n",
       "      <th>3</th>\n",
       "      <th>4</th>\n",
       "      <th>5</th>\n",
       "      <th>6</th>\n",
       "      <th>7</th>\n",
       "      <th>8</th>\n",
       "      <th>9</th>\n",
       "      <th>...</th>\n",
       "      <th>20</th>\n",
       "      <th>21</th>\n",
       "      <th>22</th>\n",
       "      <th>23</th>\n",
       "      <th>24</th>\n",
       "      <th>25</th>\n",
       "      <th>26</th>\n",
       "      <th>27</th>\n",
       "      <th>28</th>\n",
       "      <th>29</th>\n",
       "    </tr>\n",
       "    <tr>\n",
       "      <th>smiles</th>\n",
       "      <th></th>\n",
       "      <th></th>\n",
       "      <th></th>\n",
       "      <th></th>\n",
       "      <th></th>\n",
       "      <th></th>\n",
       "      <th></th>\n",
       "      <th></th>\n",
       "      <th></th>\n",
       "      <th></th>\n",
       "      <th></th>\n",
       "      <th></th>\n",
       "      <th></th>\n",
       "      <th></th>\n",
       "      <th></th>\n",
       "      <th></th>\n",
       "      <th></th>\n",
       "      <th></th>\n",
       "      <th></th>\n",
       "      <th></th>\n",
       "      <th></th>\n",
       "    </tr>\n",
       "  </thead>\n",
       "  <tbody>\n",
       "    <tr>\n",
       "      <th>CC1Oc2ccc(Cl)cc2N(CC(O)CO)C1=O</th>\n",
       "      <td>-1.499594</td>\n",
       "      <td>4.795064</td>\n",
       "      <td>-1.682328</td>\n",
       "      <td>3.634081</td>\n",
       "      <td>2.648775</td>\n",
       "      <td>-1.290213</td>\n",
       "      <td>1.098553</td>\n",
       "      <td>-1.721439</td>\n",
       "      <td>0.142399</td>\n",
       "      <td>-1.757469</td>\n",
       "      <td>...</td>\n",
       "      <td>1.611947</td>\n",
       "      <td>-0.746514</td>\n",
       "      <td>-0.910748</td>\n",
       "      <td>0.334813</td>\n",
       "      <td>-1.757399</td>\n",
       "      <td>1.627908</td>\n",
       "      <td>0.670884</td>\n",
       "      <td>-1.455732</td>\n",
       "      <td>5.117005</td>\n",
       "      <td>-1.614040</td>\n",
       "    </tr>\n",
       "    <tr>\n",
       "      <th>COc1ccccc1OC(=O)Oc1ccccc1OC</th>\n",
       "      <td>-1.740047</td>\n",
       "      <td>8.122423</td>\n",
       "      <td>-1.756263</td>\n",
       "      <td>1.207755</td>\n",
       "      <td>0.971331</td>\n",
       "      <td>-1.728168</td>\n",
       "      <td>4.421060</td>\n",
       "      <td>-1.726882</td>\n",
       "      <td>-1.115949</td>\n",
       "      <td>-1.740837</td>\n",
       "      <td>...</td>\n",
       "      <td>-1.353415</td>\n",
       "      <td>-1.085281</td>\n",
       "      <td>3.865592</td>\n",
       "      <td>-1.224507</td>\n",
       "      <td>-1.758050</td>\n",
       "      <td>-1.690312</td>\n",
       "      <td>-0.845013</td>\n",
       "      <td>-1.326752</td>\n",
       "      <td>11.165923</td>\n",
       "      <td>-1.721184</td>\n",
       "    </tr>\n",
       "  </tbody>\n",
       "</table>\n",
       "<p>2 rows × 30 columns</p>\n",
       "</div>"
      ],
      "text/plain": [
       "                                      0         1         2         3   \\\n",
       "smiles                                                                   \n",
       "CC1Oc2ccc(Cl)cc2N(CC(O)CO)C1=O -1.499594  4.795064 -1.682328  3.634081   \n",
       "COc1ccccc1OC(=O)Oc1ccccc1OC    -1.740047  8.122423 -1.756263  1.207755   \n",
       "\n",
       "                                      4         5         6         7   \\\n",
       "smiles                                                                   \n",
       "CC1Oc2ccc(Cl)cc2N(CC(O)CO)C1=O  2.648775 -1.290213  1.098553 -1.721439   \n",
       "COc1ccccc1OC(=O)Oc1ccccc1OC     0.971331 -1.728168  4.421060 -1.726882   \n",
       "\n",
       "                                      8         9   ...        20        21  \\\n",
       "smiles                                              ...                       \n",
       "CC1Oc2ccc(Cl)cc2N(CC(O)CO)C1=O  0.142399 -1.757469  ...  1.611947 -0.746514   \n",
       "COc1ccccc1OC(=O)Oc1ccccc1OC    -1.115949 -1.740837  ... -1.353415 -1.085281   \n",
       "\n",
       "                                      22        23        24        25  \\\n",
       "smiles                                                                   \n",
       "CC1Oc2ccc(Cl)cc2N(CC(O)CO)C1=O -0.910748  0.334813 -1.757399  1.627908   \n",
       "COc1ccccc1OC(=O)Oc1ccccc1OC     3.865592 -1.224507 -1.758050 -1.690312   \n",
       "\n",
       "                                      26        27         28        29  \n",
       "smiles                                                                   \n",
       "CC1Oc2ccc(Cl)cc2N(CC(O)CO)C1=O  0.670884 -1.455732   5.117005 -1.614040  \n",
       "COc1ccccc1OC(=O)Oc1ccccc1OC    -0.845013 -1.326752  11.165923 -1.721184  \n",
       "\n",
       "[2 rows x 30 columns]"
      ]
     },
     "execution_count": 136,
     "metadata": {},
     "output_type": "execute_result"
    }
   ],
   "source": [
    "x_embedding2 = x_embedding.copy()\n",
    "x_embedding2['smiles'] = cid2smiles.loc[x_embedding.index, 'smiles']\n",
    "x_embedding2.set_index('smiles', inplace=True)\n",
    "# x_embedding.drop(columns='cid', inplace=True)\n",
    "x_embedding2.head(2)"
   ]
  },
  {
   "cell_type": "code",
   "execution_count": 137,
   "metadata": {},
   "outputs": [
    {
     "data": {
      "text/plain": [
       "'Cc1cc(Cc2cnc(N)nc2N)c2cccnc2c1N(C)C'"
      ]
     },
     "execution_count": 137,
     "metadata": {},
     "output_type": "execute_result"
    }
   ],
   "source": [
    "x_embedding2.iloc[9, :].name"
   ]
  },
  {
   "cell_type": "code",
   "execution_count": 138,
   "metadata": {},
   "outputs": [],
   "source": [
    "def cal_distance(x, y, metric='euclidean'):\n",
    "    if type(x) == pd.core.series.Series:\n",
    "        x = x.values.reshape(1, -1)\n",
    "    if type(y) == pd.core.series.Series:\n",
    "        y = y.values.reshape(1, -1)\n",
    "    return pairwise_distances(x, y, metric=metric)"
   ]
  },
  {
   "cell_type": "code",
   "execution_count": 139,
   "metadata": {},
   "outputs": [],
   "source": [
    "def print_closest_words(x_embedding, x_query, n=5, add_vec=None):\n",
    "    x = x_embedding.loc[x_query].values.reshape(1, -1).copy()\n",
    "    # print('x is: {}'.format(x))\n",
    "    if add_vec is not None:\n",
    "        x += add_vec\n",
    "        # print('x + add_vec is: {}'.format(x))\n",
    "    dists = cal_distance(x=x_embedding.values, y=x)     # compute distances to all words\n",
    "    lst = sorted(enumerate(dists), key=lambda x: x[1]) # sort by distance\n",
    "    # print(lst[:100])\n",
    "    if add_vec is not None:\n",
    "        for idx, difference in lst[0:n]:\n",
    "            print(x_embedding.iloc[idx,:].name, difference)\n",
    "    else:\n",
    "        for idx, difference in lst[1:n+1]:   # take the top n\n",
    "            print(x_embedding.iloc[idx,:].name, difference)"
   ]
  },
  {
   "cell_type": "code",
   "execution_count": 140,
   "metadata": {},
   "outputs": [],
   "source": [
    "def get_minus_result(x_embedding, x, y):\n",
    "    x = x_embedding.loc[x].values.reshape(1, -1)\n",
    "    y = x_embedding.loc[y].values.reshape(1, -1)\n",
    "    return x-y"
   ]
  },
  {
   "cell_type": "code",
   "execution_count": 141,
   "metadata": {},
   "outputs": [],
   "source": [
    "def draw_mol_by_smiles(smiles):\n",
    "    mol = Chem.MolFromSmiles(smiles)\n",
    "    size = (200, 200)\n",
    "    return Draw.MolToImage(mol, size=size)"
   ]
  },
  {
   "cell_type": "code",
   "execution_count": 142,
   "metadata": {},
   "outputs": [
    {
     "data": {
      "text/plain": [
       "array([[11.711132]], dtype=float32)"
      ]
     },
     "execution_count": 142,
     "metadata": {},
     "output_type": "execute_result"
    }
   ],
   "source": [
    "mol1 = x_embedding2.loc['COc1ccccc1OC(=O)Oc1ccccc1OC']\n",
    "mol2 = x_embedding2.loc['CC1Oc2ccc(Cl)cc2N(CC(O)CO)C1=O']\n",
    "# mol1 = mol1.values.reshape(-1,1)\n",
    "# print(mol1.shape, type(mol1))\n",
    "# print(type(mol1) == pd.core.series.Series)\n",
    "cal_distance(mol1, mol2)"
   ]
  },
  {
   "cell_type": "code",
   "execution_count": 143,
   "metadata": {},
   "outputs": [
    {
     "data": {
      "text/plain": [
       "array([[-7.2169304e-04, -9.5160341e-01,  2.2399426e-04, -5.4216909e-01,\n",
       "        -1.1711299e-02,  2.3708820e-02, -5.7664728e-01,  9.6070766e-04,\n",
       "        -2.0453930e-02,  3.8778782e-03,  2.0872515e-01, -2.5976789e-01,\n",
       "        -2.3678982e-01, -4.5841575e-02, -3.1049818e-01, -3.0063570e-01,\n",
       "        -2.8434420e-01,  2.0001948e-01, -1.4194131e-02, -7.9028201e-01,\n",
       "         1.0790551e-01,  1.7651308e-01, -3.9916325e-01, -1.5946746e-02,\n",
       "         3.5405159e-05,  1.7398953e-02,  1.0632497e-01,  2.2073221e-01,\n",
       "        -6.6287422e-01,  1.2984633e-02]], dtype=float32)"
      ]
     },
     "execution_count": 143,
     "metadata": {},
     "output_type": "execute_result"
    }
   ],
   "source": [
    "ch2 = get_minus_result(x_embedding2, 'COc1cccc(COC(=O)c2cccc(OC)c2O)c1', 'COc1ccccc1OC(=O)Oc1ccccc1OC')\n",
    "ch2"
   ]
  },
  {
   "cell_type": "code",
   "execution_count": 163,
   "metadata": {},
   "outputs": [
    {
     "data": {
      "image/png": "[encoded data removed]",
      "text/plain": [
       "<PIL.Image.Image image mode=RGB size=200x200 at 0x7F5C64792F60>"
      ]
     },
     "execution_count": 163,
     "metadata": {},
     "output_type": "execute_result"
    }
   ],
   "source": [
    "draw_mol_by_smiles('COc1cccc(COC(=O)c2cccc(OC)c2O)c1')"
   ]
  },
  {
   "cell_type": "code",
   "execution_count": 164,
   "metadata": {},
   "outputs": [
    {
     "data": {
      "image/png": "[encoded data removed]",
      "text/plain": [
       "<PIL.Image.Image image mode=RGB size=200x200 at 0x7F5C646DBEF0>"
      ]
     },
     "execution_count": 164,
     "metadata": {},
     "output_type": "execute_result"
    }
   ],
   "source": [
    "draw_mol_by_smiles('COc1ccccc1OC(=O)Oc1ccccc1OC')"
   ]
  },
  {
   "cell_type": "code",
   "execution_count": 144,
   "metadata": {},
   "outputs": [
    {
     "data": {
      "text/plain": [
       "array([[-1.7400475 ,  8.122423  , -1.7562625 ,  1.207755  ,  0.97133076,\n",
       "        -1.7281684 ,  4.42106   , -1.7268825 , -1.1159489 , -1.7408365 ,\n",
       "         0.24293756,  1.847097  ,  1.6051044 ,  1.2472619 , -0.8518298 ,\n",
       "         1.2280526 , -0.68945897,  1.0293088 , -1.507268  ,  1.4460465 ,\n",
       "        -1.3534151 , -1.0852808 ,  3.8655915 , -1.2245071 , -1.7580503 ,\n",
       "        -1.690312  , -0.8450131 , -1.3267522 , 11.165923  , -1.7211838 ]],\n",
       "      dtype=float32)"
      ]
     },
     "execution_count": 144,
     "metadata": {},
     "output_type": "execute_result"
    }
   ],
   "source": [
    "x_embedding2.loc['COc1ccccc1OC(=O)Oc1ccccc1OC'].values.reshape(1,-1)"
   ]
  },
  {
   "cell_type": "code",
   "execution_count": 145,
   "metadata": {},
   "outputs": [
    {
     "name": "stdout",
     "output_type": "stream",
     "text": [
      "COc1ccc(OCC(=O)Oc2ccc(OC)cc2)cc1 [0.2476424]\n",
      "COc1ccc(OC(=O)COc2ccccc2OC)cc1 [0.2476424]\n",
      "COc1ccccc1OCC(=O)Oc1ccccc1OC [0.2476424]\n",
      "COc1ccc(OC(=O)COc2cccc(OC)c2)cc1 [0.2476424]\n",
      "COc1cc(OC)c(C(=O)OCc2ccccc2)cc1OC [0.4751656]\n"
     ]
    }
   ],
   "source": [
    "print_closest_words(x_embedding=x_embedding2, x_query='COc1ccccc1OC(=O)Oc1ccccc1OC')"
   ]
  },
  {
   "cell_type": "code",
   "execution_count": 146,
   "metadata": {},
   "outputs": [
    {
     "data": {
      "image/png": "[encoded data removed]",
      "text/plain": [
       "<PIL.Image.Image image mode=RGB size=200x200 at 0x7F5C651065F8>"
      ]
     },
     "execution_count": 146,
     "metadata": {},
     "output_type": "execute_result"
    }
   ],
   "source": [
    "draw_mol_by_smiles('COc1ccccc1OC(=O)Oc1ccccc1OC')"
   ]
  },
  {
   "cell_type": "code",
   "execution_count": 147,
   "metadata": {},
   "outputs": [
    {
     "data": {
      "image/png": "[encoded data removed]",
      "text/plain": [
       "<PIL.Image.Image image mode=RGB size=200x200 at 0x7F5C65106320>"
      ]
     },
     "execution_count": 147,
     "metadata": {},
     "output_type": "execute_result"
    }
   ],
   "source": [
    "draw_mol_by_smiles('COc1ccc(OCC(=O)Oc2ccc(OC)cc2)cc1')"
   ]
  },
  {
   "cell_type": "code",
   "execution_count": 148,
   "metadata": {},
   "outputs": [
    {
     "name": "stdout",
     "output_type": "stream",
     "text": [
      "COC(=O)c1cc(Br)c(O)c(Br)c1 [0.]\n",
      "COC(=O)Cc1cc(Br)c(O)c(Br)c1 [0.3314439]\n",
      "COC(=O)CCc1cc(Br)c(O)c(Br)c1 [0.64642835]\n",
      "CCOC(=O)c1c(O)cc(Br)cc1F [0.8864195]\n",
      "CC(=O)c1cc(Br)c(F)cc1OCCCO [0.9609371]\n"
     ]
    }
   ],
   "source": [
    "print_closest_words(x_embedding=x_embedding2, x_query='COC(=O)c1cc(Br)cc(Br)c1O')"
   ]
  },
  {
   "cell_type": "code",
   "execution_count": 149,
   "metadata": {},
   "outputs": [
    {
     "name": "stdout",
     "output_type": "stream",
     "text": [
      "COc1c(Br)cc(C(C)=O)cc1Br [0.8278422]\n",
      "CC(=O)Oc1cc(Br)c(C)cc1Br [0.8278422]\n",
      "CC(=O)c1cc(Br)c(O)c(Br)c1O [0.8278422]\n",
      "CC(=O)Oc1c(Br)cc(C)cc1Br [0.8278422]\n",
      "COCC(=O)c1cc(Br)ccc1Br [0.8278422]\n"
     ]
    }
   ],
   "source": [
    "print_closest_words(x_embedding=x_embedding2, x_query='COC(=O)c1cc(Br)cc(Br)c1O', add_vec=ch2)"
   ]
  },
  {
   "cell_type": "code",
   "execution_count": 150,
   "metadata": {},
   "outputs": [
    {
     "name": "stdout",
     "output_type": "stream",
     "text": [
      "CCC(=O)c1cc(Br)c(OC)cc1O [0.59857804]\n",
      "COc1ccc(C(=O)CCO)cc1Br [0.59857804]\n",
      "O=C(CO)CCOc1ccccc1Br [0.59857804]\n",
      "O=C(CO)CCOc1cccc(Br)c1 [0.59857804]\n",
      "O=C(CO)CCOc1ccc(Br)cc1 [0.59857804]\n"
     ]
    }
   ],
   "source": [
    "print_closest_words(x_embedding=x_embedding2, x_query='CCOC(=O)COc1ccc(Br)cc1', add_vec=ch2)"
   ]
  },
  {
   "cell_type": "code",
   "execution_count": 151,
   "metadata": {},
   "outputs": [
    {
     "name": "stdout",
     "output_type": "stream",
     "text": [
      "O=C(OCC1CCCO1)c1ccccc1Br [1.1920929e-07]\n",
      "CCOC(=O)C1COc2ccc(Br)cc21 [1.1920929e-07]\n",
      "O=C(Cc1cccc(Br)c1)OC1CCOC1 [1.1920929e-07]\n",
      "CCOC(=O)C1Cc2cccc(Br)c2O1 [1.1920929e-07]\n",
      "O=C(COCC1CCOC1)c1ccc(Br)cc1 [0.30967838]\n"
     ]
    }
   ],
   "source": [
    "print_closest_words(x_embedding=x_embedding2, x_query='O=C(OCC1CCCO1)c1cccc(Br)c1')"
   ]
  },
  {
   "cell_type": "code",
   "execution_count": 152,
   "metadata": {},
   "outputs": [
    {
     "data": {
      "image/png": "[encoded data removed]",
      "text/plain": [
       "<PIL.Image.Image image mode=RGB size=200x200 at 0x7F5C65106438>"
      ]
     },
     "execution_count": 152,
     "metadata": {},
     "output_type": "execute_result"
    }
   ],
   "source": [
    "draw_mol_by_smiles('O=C(OCC1CCCO1)c1cccc(Br)c1')"
   ]
  },
  {
   "cell_type": "code",
   "execution_count": 153,
   "metadata": {},
   "outputs": [
    {
     "data": {
      "image/png": "[encoded data removed]",
      "text/plain": [
       "<PIL.Image.Image image mode=RGB size=200x200 at 0x7F5C651064A8>"
      ]
     },
     "execution_count": 153,
     "metadata": {},
     "output_type": "execute_result"
    }
   ],
   "source": [
    "draw_mol_by_smiles('O=C(OCC1CCCO1)c1ccccc1Br')"
   ]
  },
  {
   "cell_type": "code",
   "execution_count": 154,
   "metadata": {},
   "outputs": [
    {
     "data": {
      "image/png": "[encoded data removed]",
      "text/plain": [
       "<PIL.Image.Image image mode=RGB size=200x200 at 0x7F5C651131D0>"
      ]
     },
     "execution_count": 154,
     "metadata": {},
     "output_type": "execute_result"
    }
   ],
   "source": [
    "draw_mol_by_smiles('O=C(COCC1CCOC1)c1ccc(Br)cc1')"
   ]
  },
  {
   "cell_type": "code",
   "execution_count": 155,
   "metadata": {},
   "outputs": [
    {
     "data": {
      "text/plain": [
       "array([[ 2.3546076e-01, -9.2429113e-01, -9.6678734e-05, -2.8019696e-01,\n",
       "         5.7322025e-02,  2.7282667e-01, -7.8666323e-01, -3.7044525e-02,\n",
       "        -6.0613990e-02, -1.6450882e-05,  2.2675842e-01, -3.8749033e-01,\n",
       "        -5.4004669e-02,  8.5949898e-03, -9.5927715e-04, -7.1066380e-02,\n",
       "        -7.4346304e-02,  1.1248946e-02,  1.1036050e-01, -4.0107518e-01,\n",
       "         1.4762437e-01,  4.8563933e-01, -3.2737255e-01,  2.7357996e-01,\n",
       "         5.4061413e-04,  2.0986903e-01,  1.0140395e-01,  1.2186682e-01,\n",
       "        -9.5445585e-01,  8.4623575e-02]], dtype=float32)"
      ]
     },
     "execution_count": 155,
     "metadata": {},
     "output_type": "execute_result"
    }
   ],
   "source": [
    "o = get_minus_result(x_embedding=x_embedding2, x='O=c1c(O)c(-c2ccc(O)cc2)oc2ccccc12', y='O=c1c(O)c(-c2ccc(O)cc2)oc2cccc(O)c12')\n",
    "o"
   ]
  },
  {
   "cell_type": "code",
   "execution_count": 156,
   "metadata": {},
   "outputs": [
    {
     "data": {
      "image/png": "[encoded data removed]",
      "text/plain": [
       "<PIL.Image.Image image mode=RGB size=200x200 at 0x7F5C64629940>"
      ]
     },
     "execution_count": 156,
     "metadata": {},
     "output_type": "execute_result"
    }
   ],
   "source": [
    "draw_mol_by_smiles('O=c1c(O)c(-c2ccc(O)cc2)oc2cccc(O)c12')"
   ]
  },
  {
   "cell_type": "code",
   "execution_count": 157,
   "metadata": {},
   "outputs": [
    {
     "data": {
      "image/png": "[encoded data removed]",
      "text/plain": [
       "<PIL.Image.Image image mode=RGB size=200x200 at 0x7F5C64BA2A90>"
      ]
     },
     "execution_count": 157,
     "metadata": {},
     "output_type": "execute_result"
    }
   ],
   "source": [
    "draw_mol_by_smiles('O=c1c(O)c(-c2ccc(O)cc2)oc2ccccc12')"
   ]
  },
  {
   "cell_type": "code",
   "execution_count": 158,
   "metadata": {},
   "outputs": [
    {
     "name": "stdout",
     "output_type": "stream",
     "text": [
      "Cc1ccc(-c2nc(C#N)c(N3CCCC3)o2)cc1 [1.8722073]\n",
      "N#Cc1nc(Cc2ccccc2)oc1N1CCCC1 [1.8722073]\n",
      "Cc1ccccc1-c1nc(C#N)c(N2CCCC2)o1 [1.8722073]\n",
      "Cc1cccc(-c2nc(C#N)c(N3CCCC3)o2)c1 [1.8722073]\n",
      "N#Cc1nc(-c2ccccc2)oc1N1CCCCC1 [2.6837091]\n"
     ]
    }
   ],
   "source": [
    "print_closest_words(x_embedding=x_embedding2, x_query='Cc1ccc(-c2nc(C#N)c(N3CCCC3)o2)cc1', add_vec=o)"
   ]
  },
  {
   "cell_type": "code",
   "execution_count": 237,
   "metadata": {},
   "outputs": [
    {
     "data": {
      "image/png": "[encoded data removed]",
      "text/plain": [
       "<PIL.Image.Image image mode=RGB size=200x200 at 0x7FD5068A8588>"
      ]
     },
     "execution_count": 237,
     "metadata": {},
     "output_type": "execute_result"
    }
   ],
   "source": [
    "draw_mol_by_smiles('Cc1ccc(-c2nc(C#N)c(N3CCCC3)o2)cc1')"
   ]
  },
  {
   "cell_type": "code",
   "execution_count": 160,
   "metadata": {},
   "outputs": [
    {
     "data": {
      "image/png": "[encoded data removed]",
      "text/plain": [
       "<PIL.Image.Image image mode=RGB size=200x200 at 0x7F5C65113630>"
      ]
     },
     "execution_count": 160,
     "metadata": {},
     "output_type": "execute_result"
    }
   ],
   "source": [
    "draw_mol_by_smiles('N#Cc1nc(-c2ccccc2)oc1N1CCCCC1')"
   ]
  },
  {
   "cell_type": "code",
   "execution_count": 161,
   "metadata": {},
   "outputs": [
    {
     "name": "stdout",
     "output_type": "stream",
     "text": [
      "Cc1ccc(-c2nc(C#N)c(N3CCCC3)o2)cc1 [1.8267605]\n",
      "N#Cc1nc(Cc2ccccc2)oc1N1CCCC1 [1.8267605]\n",
      "Cc1ccccc1-c1nc(C#N)c(N2CCCC2)o1 [1.8267605]\n",
      "Cc1cccc(-c2nc(C#N)c(N3CCCC3)o2)c1 [1.8267605]\n",
      "N#Cc1nc(-c2ccccc2)oc1N1CCCCC1 [2.5910547]\n"
     ]
    }
   ],
   "source": [
    "print_closest_words(x_embedding=x_embedding2, x_query='Cc1ccc(-c2nc(C#N)c(N3CCCC3)o2)cc1', add_vec=ch2)"
   ]
  },
  {
   "cell_type": "code",
   "execution_count": 162,
   "metadata": {},
   "outputs": [
    {
     "data": {
      "image/png": "[encoded data removed]",
      "text/plain": [
       "<PIL.Image.Image image mode=RGB size=200x200 at 0x7F5C969F9FD0>"
      ]
     },
     "execution_count": 162,
     "metadata": {},
     "output_type": "execute_result"
    }
   ],
   "source": [
    "draw_mol_by_smiles('N#Cc1nc(-c2ccccc2)oc1N1CCCCC1')  # good example"
   ]
  },
  {
   "cell_type": "markdown",
   "metadata": {},
   "source": [
    "##### similarity in fragment embedding"
   ]
  },
  {
   "cell_type": "code",
   "execution_count": 165,
   "metadata": {},
   "outputs": [
    {
     "name": "stdout",
     "output_type": "stream",
     "text": [
      "CN [2.07466464]\n",
      "C1=CCCC=CC1 [2.14207096]\n",
      "C1=CCCCC=C1 [2.16296164]\n",
      "C1CCCC1 [2.31532599]\n",
      "C1=CCC=NC=C1 [2.32695495]\n"
     ]
    }
   ],
   "source": [
    "print_closest_words(x_embedding=frag2vec, x_query='CC')"
   ]
  },
  {
   "cell_type": "code",
   "execution_count": 166,
   "metadata": {},
   "outputs": [
    {
     "name": "stdout",
     "output_type": "stream",
     "text": [
      "C [1.3998404]\n",
      "CN [2.8189292]\n",
      "CBr [3.2146254]\n",
      "CF [3.3278666]\n",
      "CCl [3.368542]\n"
     ]
    }
   ],
   "source": [
    "print_closest_words(x_embedding=frag_embedding_df, x_query='CC')"
   ]
  },
  {
   "cell_type": "code",
   "execution_count": 167,
   "metadata": {},
   "outputs": [
    {
     "name": "stdout",
     "output_type": "stream",
     "text": [
      "C [3.2235312]\n",
      "CC [3.5713756]\n",
      "CN [4.3684893]\n",
      "CS [4.620403]\n",
      "CBr [4.8345466]\n"
     ]
    }
   ],
   "source": [
    "print_closest_words(x_embedding=frag_embedding_df, x_query='CO')"
   ]
  },
  {
   "cell_type": "code",
   "execution_count": 169,
   "metadata": {},
   "outputs": [
    {
     "name": "stdout",
     "output_type": "stream",
     "text": [
      "C=O [6.4880624]\n",
      "CC [6.9603767]\n",
      "CN [7.2390494]\n",
      "C [7.3631477]\n",
      "CF [7.3641043]\n"
     ]
    }
   ],
   "source": [
    "print_closest_words(x_embedding=frag_embedding_df, x_query='C=C')"
   ]
  },
  {
   "cell_type": "code",
   "execution_count": 170,
   "metadata": {},
   "outputs": [
    {
     "data": {
      "text/plain": [
       "array([[-0.9069163 ,  0.16055357, -1.4519948 ,  0.04600358,  2.1111865 ,\n",
       "         0.94069785, -0.33108783,  0.00733316,  0.02371764, -0.3574866 ,\n",
       "         2.11189   ,  1.2330089 ,  1.6423912 ,  1.6493165 ,  0.5750477 ,\n",
       "        -0.00603211,  1.0300648 ,  3.5397837 ,  1.1197469 , -0.08535624,\n",
       "         0.27110136,  0.1865567 , -0.07768476,  1.6632302 ,  1.0584667 ,\n",
       "        -1.3718281 ,  0.21978402, -2.4010406 ,  0.13508382,  1.2698841 ]],\n",
       "      dtype=float32)"
      ]
     },
     "execution_count": 170,
     "metadata": {},
     "output_type": "execute_result"
    }
   ],
   "source": [
    "double_bond = get_minus_result(x_embedding=frag_embedding_df, x='C=C', y='CC')\n",
    "double_bond"
   ]
  },
  {
   "cell_type": "code",
   "execution_count": 171,
   "metadata": {},
   "outputs": [
    {
     "data": {
      "text/plain": [
       "array([[-1.0754894 , -0.05029994, -0.9682723 ,  0.01637173,  3.1190686 ,\n",
       "         0.2904792 , -1.7564679 , -0.03005278, -0.39539814, -1.7665595 ,\n",
       "         0.6097307 , -1.3078978 ,  2.4683962 ,  0.09237754, -0.7451295 ,\n",
       "         0.1150409 ,  0.30381685,  2.800765  ,  0.45277417,  0.6171602 ,\n",
       "         0.23249733,  0.35240924,  0.04863632, -0.2631368 , -0.09964848,\n",
       "         0.67061937,  1.0381212 , -0.4477899 ,  1.2853549 , -0.17619288]],\n",
       "      dtype=float32)"
      ]
     },
     "execution_count": 171,
     "metadata": {},
     "output_type": "execute_result"
    }
   ],
   "source": [
    "double_bond2 = get_minus_result(x_embedding=frag_embedding_df, x='C=O', y='CO')\n",
    "double_bond2"
   ]
  },
  {
   "cell_type": "code",
   "execution_count": 172,
   "metadata": {},
   "outputs": [
    {
     "data": {
      "text/plain": [
       "array([[-1.3957481 , -0.08041072, -1.3055601 , -0.00601339,  1.2437274 ,\n",
       "        -1.1243701 , -2.16369   ,  0.43716812, -1.4693278 ,  0.51733625,\n",
       "        -1.0354639 , -1.0465071 ,  1.3476306 ,  0.04740214,  1.6594639 ,\n",
       "         0.3608284 ,  0.13601375,  1.9363195 , -0.7505995 , -0.16096044,\n",
       "        -0.02901536,  1.1739947 , -0.31962013, -0.18861854, -0.6297839 ,\n",
       "        -0.17125994,  0.12829292,  1.6007774 ,  1.075871  ,  0.00354147]],\n",
       "      dtype=float32)"
      ]
     },
     "execution_count": 172,
     "metadata": {},
     "output_type": "execute_result"
    }
   ],
   "source": [
    "double_bond3 = get_minus_result(x_embedding=frag_embedding_df, x='C=S', y='CS')\n",
    "double_bond3"
   ]
  },
  {
   "cell_type": "code",
   "execution_count": 173,
   "metadata": {},
   "outputs": [
    {
     "data": {
      "text/plain": [
       "array([[-0.8261296 ,  0.41114938, -1.6881613 ,  0.32293153,  3.2755349 ,\n",
       "         0.18846641, -2.459127  ,  5.5993958 , -0.1279794 , -0.3589108 ,\n",
       "        -3.6940436 , -2.097483  ,  2.7329798 ,  0.21572757,  2.1169827 ,\n",
       "         2.0556507 , -0.6032865 ,  4.818708  , -1.7358465 ,  0.1737749 ,\n",
       "        -1.02369   ,  2.7960978 , -1.5079298 ,  1.5021176 , -1.8424561 ,\n",
       "        -0.30885392,  0.1059857 ,  3.3131592 , -0.19692159,  3.029746  ]],\n",
       "      dtype=float32)"
      ]
     },
     "execution_count": 173,
     "metadata": {},
     "output_type": "execute_result"
    }
   ],
   "source": [
    "double_bond4 = get_minus_result(x_embedding=frag_embedding_df, x='C=N', y='CN')\n",
    "double_bond4"
   ]
  },
  {
   "cell_type": "code",
   "execution_count": 174,
   "metadata": {},
   "outputs": [
    {
     "data": {
      "text/plain": [
       "array([-1.0510708 ,  0.11024807, -1.3534971 ,  0.09482336,  2.4373794 ,\n",
       "        0.07381836, -1.6775932 ,  1.5034611 , -0.49224693, -0.49140516,\n",
       "       -0.5019717 , -0.80471975,  2.0478494 ,  0.5012059 ,  0.9015912 ,\n",
       "        0.631372  ,  0.21665221,  3.2738938 , -0.22848123,  0.1361546 ,\n",
       "       -0.13727666,  1.1272646 , -0.4641496 ,  0.67839813, -0.37835544,\n",
       "       -0.29533064,  0.37304598,  0.51627654,  0.57484704,  1.0317447 ],\n",
       "      dtype=float32)"
      ]
     },
     "execution_count": 174,
     "metadata": {},
     "output_type": "execute_result"
    }
   ],
   "source": [
    "double_bond_mean = np.concatenate((double_bond, double_bond2, double_bond3, double_bond4)).mean(axis=0)\n",
    "double_bond_mean"
   ]
  },
  {
   "cell_type": "code",
   "execution_count": 177,
   "metadata": {},
   "outputs": [
    {
     "data": {
      "text/plain": [
       "array([[8.072913]], dtype=float32)"
      ]
     },
     "execution_count": 177,
     "metadata": {},
     "output_type": "execute_result"
    }
   ],
   "source": [
    "cal_distance(double_bond, double_bond3)"
   ]
  },
  {
   "cell_type": "code",
   "execution_count": 182,
   "metadata": {},
   "outputs": [
    {
     "name": "stdout",
     "output_type": "stream",
     "text": [
      "C=O [3.5713756]\n",
      "C=C [6.220685]\n",
      "CC [6.2624974]\n",
      "CF [6.711393]\n",
      "C1=CC=CCC=C1 [6.847985]\n"
     ]
    }
   ],
   "source": [
    "print_closest_words(x_embedding=frag_embedding_df, x_query='CC', add_vec=double_bond2)"
   ]
  },
  {
   "cell_type": "code",
   "execution_count": 184,
   "metadata": {},
   "outputs": [
    {
     "name": "stdout",
     "output_type": "stream",
     "text": [
      "C=O [2.0647654e-07]\n",
      "CC [6.119925]\n",
      "CO [6.2624974]\n",
      "C=C [6.4880624]\n",
      "C [6.5317984]\n"
     ]
    }
   ],
   "source": [
    "print_closest_words(x_embedding=frag_embedding_df, x_query='CO', add_vec=double_bond2)"
   ]
  },
  {
   "cell_type": "code",
   "execution_count": 185,
   "metadata": {},
   "outputs": [
    {
     "name": "stdout",
     "output_type": "stream",
     "text": [
      "C=O [4.620403]\n",
      "C=S [5.671829]\n",
      "CC [5.991187]\n",
      "CS [6.2624974]\n",
      "C [6.283827]\n"
     ]
    }
   ],
   "source": [
    "print_closest_words(x_embedding=frag_embedding_df, x_query='CS', add_vec=double_bond2)"
   ]
  },
  {
   "cell_type": "code",
   "execution_count": 194,
   "metadata": {},
   "outputs": [
    {
     "name": "stdout",
     "output_type": "stream",
     "text": [
      "OS [5.98756]\n",
      "C1=CSCO1 [8.344847]\n",
      "C1=CSCCC1 [8.429715]\n",
      "C1=CSCCCC1 [8.565202]\n",
      "C1=CNSCC1 [8.6135645]\n"
     ]
    }
   ],
   "source": [
    "print_closest_words(x_embedding=frag_embedding_df, x_query='OS', add_vec=double_bond_mean)"
   ]
  },
  {
   "cell_type": "code",
   "execution_count": 199,
   "metadata": {},
   "outputs": [
    {
     "name": "stdout",
     "output_type": "stream",
     "text": [
      "C=C [6.690533]\n",
      "C1CC1 [6.9603767]\n",
      "C1=CC2C=CC(C1)CNC2 [7.3189626]\n",
      "C1=CCC2CC(C=CN2)C1 [7.326511]\n",
      "C1=CC2CCCCC(CC1)C2 [7.4690814]\n"
     ]
    }
   ],
   "source": [
    "print_closest_words(x_embedding=frag_embedding_df, x_query='C1CC1', add_vec=double_bond)"
   ]
  },
  {
   "cell_type": "markdown",
   "metadata": {},
   "source": [
    "##### triple bond"
   ]
  },
  {
   "cell_type": "code",
   "execution_count": 196,
   "metadata": {},
   "outputs": [],
   "source": [
    "tri_bond = get_minus_result(x_embedding=frag_embedding_df, x='C#C', y='CC')"
   ]
  },
  {
   "cell_type": "code",
   "execution_count": 203,
   "metadata": {},
   "outputs": [],
   "source": [
    "# print_closest_words(x_embedding=frag_embedding_df, x_query=tri_bond)"
   ]
  },
  {
   "cell_type": "code",
   "execution_count": 197,
   "metadata": {},
   "outputs": [
    {
     "name": "stdout",
     "output_type": "stream",
     "text": [
      "C#C [2.8189292]\n",
      "C#N [4.3066435]\n",
      "C [6.3235435]\n",
      "CC [6.3629184]\n",
      "CCl [6.668081]\n"
     ]
    }
   ],
   "source": [
    "print_closest_words(x_embedding=frag_embedding_df, x_query='CN', add_vec=tri_bond)"
   ]
  },
  {
   "cell_type": "code",
   "execution_count": 198,
   "metadata": {},
   "outputs": [
    {
     "name": "stdout",
     "output_type": "stream",
     "text": [
      "CC [2.8189292]\n",
      "C [3.1315868]\n",
      "CO [4.3684893]\n",
      "C1=CC=CNC=C1 [4.480303]\n",
      "CBr [4.4869633]\n"
     ]
    }
   ],
   "source": [
    "print_closest_words(x_embedding=frag_embedding_df, x_query='CN')"
   ]
  },
  {
   "cell_type": "markdown",
   "metadata": {},
   "source": [
    "##### aromaticity, 芳香性"
   ]
  },
  {
   "cell_type": "code",
   "execution_count": 200,
   "metadata": {},
   "outputs": [],
   "source": [
    "arom = get_minus_result(x_embedding=frag_embedding_df, x='C1=CC=CC=C1', y='C1CCCCC1')"
   ]
  },
  {
   "cell_type": "code",
   "execution_count": 201,
   "metadata": {},
   "outputs": [
    {
     "name": "stdout",
     "output_type": "stream",
     "text": [
      "C1=CC=COC=C1 [3.5612214]\n",
      "C1=COCC1 [3.8171299]\n",
      "C1=COC=C1 [3.8982756]\n",
      "C1=CCCOC=C1 [4.8638096]\n",
      "C1=CCOC=CC1 [4.893565]\n"
     ]
    }
   ],
   "source": [
    "print_closest_words(x_embedding=frag_embedding_df, x_query='C1CCOCC1', add_vec=arom)"
   ]
  },
  {
   "cell_type": "code",
   "execution_count": 1,
   "metadata": {},
   "outputs": [],
   "source": [
    "def draw_multiple_mol(smiles_list, mols_per_row=4, file_path=None, legend=None):\n",
    "    mols = []\n",
    "    for i in smiles_list:\n",
    "        mols.append(Chem.MolFromSmiles(i))\n",
    "    mols_per_row = min(len(smiles_list), mols_per_row)\n",
    "    if legend is None:\n",
    "        img=Draw.MolsToGridImage(mols, molsPerRow=mols_per_row, subImgSize=(300, 160), useSVG=True)\n",
    "    else:\n",
    "        img=Draw.MolsToGridImage(mols, molsPerRow=mols_per_row, subImgSize=(300, 160), useSVG=True, legend=legend)\n",
    "    if file_path:\n",
    "        with open(file_path, 'w') as f_handle:\n",
    "            f_handle.write(img.data)\n",
    "    return img"
   ]
  },
  {
   "cell_type": "code",
   "execution_count": 46,
   "metadata": {},
   "outputs": [
    {
     "data": {
      "image/svg+xml": [
       "<svg baseProfile=\"full\" height=\"160px\" version=\"1.1\" width=\"600px\" xml:space=\"preserve\" xmlns=\"http://www.w3.org/2000/svg\" xmlns:rdkit=\"http://www.rdkit.org/xml\" xmlns:xlink=\"http://www.w3.org/1999/xlink\">\n",
       "<!-- END OF HEADER -->\n",
       "<rect height=\"160\" style=\"opacity:1.0;fill:#FFFFFF;stroke:none\" width=\"600\" x=\"0\" y=\"0\"> </rect>\n",
       "<path class=\"bond-0\" d=\"M 13.6364,88.4081 38.2096,101.675\" style=\"fill:none;fill-rule:evenodd;stroke:#000000;stroke-width:2px;stroke-linecap:butt;stroke-linejoin:miter;stroke-opacity:1\"/>\n",
       "<path class=\"bond-1\" d=\"M 38.2096,101.675 61.9852,87.0267\" style=\"fill:none;fill-rule:evenodd;stroke:#000000;stroke-width:2px;stroke-linecap:butt;stroke-linejoin:miter;stroke-opacity:1\"/>\n",
       "<path class=\"bond-2\" d=\"M 61.9852,87.0267 72.4084,92.6539\" style=\"fill:none;fill-rule:evenodd;stroke:#000000;stroke-width:2px;stroke-linecap:butt;stroke-linejoin:miter;stroke-opacity:1\"/>\n",
       "<path class=\"bond-2\" d=\"M 72.4084,92.6539 82.8316,98.2811\" style=\"fill:none;fill-rule:evenodd;stroke:#CCCC00;stroke-width:2px;stroke-linecap:butt;stroke-linejoin:miter;stroke-opacity:1\"/>\n",
       "<path class=\"bond-3\" d=\"M 83.8999,105.027 84.1657,114.33\" style=\"fill:none;fill-rule:evenodd;stroke:#CCCC00;stroke-width:2px;stroke-linecap:butt;stroke-linejoin:miter;stroke-opacity:1\"/>\n",
       "<path class=\"bond-3\" d=\"M 84.1657,114.33 84.4315,123.633\" style=\"fill:none;fill-rule:evenodd;stroke:#FF0000;stroke-width:2px;stroke-linecap:butt;stroke-linejoin:miter;stroke-opacity:1\"/>\n",
       "<path class=\"bond-3\" d=\"M 89.4828,104.868 89.7486,114.17\" style=\"fill:none;fill-rule:evenodd;stroke:#CCCC00;stroke-width:2px;stroke-linecap:butt;stroke-linejoin:miter;stroke-opacity:1\"/>\n",
       "<path class=\"bond-3\" d=\"M 89.7486,114.17 90.0144,123.473\" style=\"fill:none;fill-rule:evenodd;stroke:#FF0000;stroke-width:2px;stroke-linecap:butt;stroke-linejoin:miter;stroke-opacity:1\"/>\n",
       "<path class=\"bond-4\" d=\"M 90.2851,97.9971 100.31,91.8212\" style=\"fill:none;fill-rule:evenodd;stroke:#CCCC00;stroke-width:2px;stroke-linecap:butt;stroke-linejoin:miter;stroke-opacity:1\"/>\n",
       "<path class=\"bond-4\" d=\"M 100.31,91.8212 110.334,85.6453\" style=\"fill:none;fill-rule:evenodd;stroke:#000000;stroke-width:2px;stroke-linecap:butt;stroke-linejoin:miter;stroke-opacity:1\"/>\n",
       "<path class=\"bond-5\" d=\"M 110.334,85.6453 109.536,57.7311\" style=\"fill:none;fill-rule:evenodd;stroke:#000000;stroke-width:2px;stroke-linecap:butt;stroke-linejoin:miter;stroke-opacity:1\"/>\n",
       "<path class=\"bond-5\" d=\"M 115.797,81.2986 115.239,61.7587\" style=\"fill:none;fill-rule:evenodd;stroke:#000000;stroke-width:2px;stroke-linecap:butt;stroke-linejoin:miter;stroke-opacity:1\"/>\n",
       "<path class=\"bond-18\" d=\"M 110.334,85.6453 134.907,98.9117\" style=\"fill:none;fill-rule:evenodd;stroke:#000000;stroke-width:2px;stroke-linecap:butt;stroke-linejoin:miter;stroke-opacity:1\"/>\n",
       "<path class=\"bond-6\" d=\"M 109.536,57.7311 133.312,43.0833\" style=\"fill:none;fill-rule:evenodd;stroke:#000000;stroke-width:2px;stroke-linecap:butt;stroke-linejoin:miter;stroke-opacity:1\"/>\n",
       "<path class=\"bond-7\" d=\"M 133.312,43.0833 157.885,56.3496\" style=\"fill:none;fill-rule:evenodd;stroke:#000000;stroke-width:2px;stroke-linecap:butt;stroke-linejoin:miter;stroke-opacity:1\"/>\n",
       "<path class=\"bond-7\" d=\"M 134.345,49.9879 151.546,59.2743\" style=\"fill:none;fill-rule:evenodd;stroke:#000000;stroke-width:2px;stroke-linecap:butt;stroke-linejoin:miter;stroke-opacity:1\"/>\n",
       "<path class=\"bond-8\" d=\"M 157.885,56.3496 167.002,53.0968\" style=\"fill:none;fill-rule:evenodd;stroke:#000000;stroke-width:2px;stroke-linecap:butt;stroke-linejoin:miter;stroke-opacity:1\"/>\n",
       "<path class=\"bond-8\" d=\"M 167.002,53.0968 176.119,49.8439\" style=\"fill:none;fill-rule:evenodd;stroke:#0000FF;stroke-width:2px;stroke-linecap:butt;stroke-linejoin:miter;stroke-opacity:1\"/>\n",
       "<path class=\"bond-19\" d=\"M 157.885,56.3496 158.683,84.2639\" style=\"fill:none;fill-rule:evenodd;stroke:#000000;stroke-width:2px;stroke-linecap:butt;stroke-linejoin:miter;stroke-opacity:1\"/>\n",
       "<path class=\"bond-9\" d=\"M 187.776,51.6194 194.508,60.3494\" style=\"fill:none;fill-rule:evenodd;stroke:#0000FF;stroke-width:2px;stroke-linecap:butt;stroke-linejoin:miter;stroke-opacity:1\"/>\n",
       "<path class=\"bond-9\" d=\"M 194.508,60.3494 201.24,69.0794\" style=\"fill:none;fill-rule:evenodd;stroke:#000000;stroke-width:2px;stroke-linecap:butt;stroke-linejoin:miter;stroke-opacity:1\"/>\n",
       "<path class=\"bond-10\" d=\"M 201.24,69.0794 213.18,68.7383\" style=\"fill:none;fill-rule:evenodd;stroke:#000000;stroke-width:2px;stroke-linecap:butt;stroke-linejoin:miter;stroke-opacity:1\"/>\n",
       "<path class=\"bond-10\" d=\"M 213.18,68.7383 225.12,68.3971\" style=\"fill:none;fill-rule:evenodd;stroke:#0000FF;stroke-width:2px;stroke-linecap:butt;stroke-linejoin:miter;stroke-opacity:1\"/>\n",
       "<path class=\"bond-10\" d=\"M 204.662,63.3942 213.02,63.1554\" style=\"fill:none;fill-rule:evenodd;stroke:#000000;stroke-width:2px;stroke-linecap:butt;stroke-linejoin:miter;stroke-opacity:1\"/>\n",
       "<path class=\"bond-10\" d=\"M 213.02,63.1554 221.378,62.9166\" style=\"fill:none;fill-rule:evenodd;stroke:#0000FF;stroke-width:2px;stroke-linecap:butt;stroke-linejoin:miter;stroke-opacity:1\"/>\n",
       "<path class=\"bond-15\" d=\"M 201.24,69.0794 194.95,78.2782\" style=\"fill:none;fill-rule:evenodd;stroke:#000000;stroke-width:2px;stroke-linecap:butt;stroke-linejoin:miter;stroke-opacity:1\"/>\n",
       "<path class=\"bond-15\" d=\"M 194.95,78.2782 188.66,87.477\" style=\"fill:none;fill-rule:evenodd;stroke:#0000FF;stroke-width:2px;stroke-linecap:butt;stroke-linejoin:miter;stroke-opacity:1\"/>\n",
       "<path class=\"bond-11\" d=\"M 232.021,72.9361 237.911,82.4968\" style=\"fill:none;fill-rule:evenodd;stroke:#0000FF;stroke-width:2px;stroke-linecap:butt;stroke-linejoin:miter;stroke-opacity:1\"/>\n",
       "<path class=\"bond-11\" d=\"M 237.911,82.4968 243.802,92.0575\" style=\"fill:none;fill-rule:evenodd;stroke:#000000;stroke-width:2px;stroke-linecap:butt;stroke-linejoin:miter;stroke-opacity:1\"/>\n",
       "<path class=\"bond-12\" d=\"M 241.344,90.7308 235.967,100.69\" style=\"fill:none;fill-rule:evenodd;stroke:#000000;stroke-width:2px;stroke-linecap:butt;stroke-linejoin:miter;stroke-opacity:1\"/>\n",
       "<path class=\"bond-12\" d=\"M 235.967,100.69 230.591,110.65\" style=\"fill:none;fill-rule:evenodd;stroke:#FF0000;stroke-width:2px;stroke-linecap:butt;stroke-linejoin:miter;stroke-opacity:1\"/>\n",
       "<path class=\"bond-12\" d=\"M 246.259,93.3841 240.882,103.344\" style=\"fill:none;fill-rule:evenodd;stroke:#000000;stroke-width:2px;stroke-linecap:butt;stroke-linejoin:miter;stroke-opacity:1\"/>\n",
       "<path class=\"bond-12\" d=\"M 240.882,103.344 235.505,113.303\" style=\"fill:none;fill-rule:evenodd;stroke:#FF0000;stroke-width:2px;stroke-linecap:butt;stroke-linejoin:miter;stroke-opacity:1\"/>\n",
       "<path class=\"bond-13\" d=\"M 243.802,92.0575 255.585,91.7208\" style=\"fill:none;fill-rule:evenodd;stroke:#000000;stroke-width:2px;stroke-linecap:butt;stroke-linejoin:miter;stroke-opacity:1\"/>\n",
       "<path class=\"bond-13\" d=\"M 255.585,91.7208 267.369,91.3841\" style=\"fill:none;fill-rule:evenodd;stroke:#FF0000;stroke-width:2px;stroke-linecap:butt;stroke-linejoin:miter;stroke-opacity:1\"/>\n",
       "<path class=\"bond-14\" d=\"M 274.583,95.9142 280.473,105.475\" style=\"fill:none;fill-rule:evenodd;stroke:#FF0000;stroke-width:2px;stroke-linecap:butt;stroke-linejoin:miter;stroke-opacity:1\"/>\n",
       "<path class=\"bond-14\" d=\"M 280.473,105.475 286.364,115.036\" style=\"fill:none;fill-rule:evenodd;stroke:#000000;stroke-width:2px;stroke-linecap:butt;stroke-linejoin:miter;stroke-opacity:1\"/>\n",
       "<path class=\"bond-16\" d=\"M 177.409,89.7623 168.046,87.0131\" style=\"fill:none;fill-rule:evenodd;stroke:#0000FF;stroke-width:2px;stroke-linecap:butt;stroke-linejoin:miter;stroke-opacity:1\"/>\n",
       "<path class=\"bond-16\" d=\"M 168.046,87.0131 158.683,84.2639\" style=\"fill:none;fill-rule:evenodd;stroke:#000000;stroke-width:2px;stroke-linecap:butt;stroke-linejoin:miter;stroke-opacity:1\"/>\n",
       "<path class=\"bond-17\" d=\"M 158.683,84.2639 134.907,98.9117\" style=\"fill:none;fill-rule:evenodd;stroke:#000000;stroke-width:2px;stroke-linecap:butt;stroke-linejoin:miter;stroke-opacity:1\"/>\n",
       "<path class=\"bond-17\" d=\"M 152.187,81.7059 135.544,91.9594\" style=\"fill:none;fill-rule:evenodd;stroke:#000000;stroke-width:2px;stroke-linecap:butt;stroke-linejoin:miter;stroke-opacity:1\"/>\n",
       "<text style=\"font-size:9px;font-style:normal;font-weight:normal;fill-opacity:1;stroke:none;font-family:sans-serif;text-anchor:start;fill:#CCCC00\" x=\"82.8316\" y=\"104.947\"><tspan>S</tspan></text>\n",
       "<text style=\"font-size:9px;font-style:normal;font-weight:normal;fill-opacity:1;stroke:none;font-family:sans-serif;text-anchor:start;fill:#FF0000\" x=\"83.009\" y=\"132.862\"><tspan>O</tspan></text>\n",
       "<text style=\"font-size:9px;font-style:normal;font-weight:normal;fill-opacity:1;stroke:none;font-family:sans-serif;text-anchor:start;fill:#0000FF\" x=\"176.119\" y=\"51.6194\"><tspan>NH</tspan></text>\n",
       "<text style=\"font-size:9px;font-style:normal;font-weight:normal;fill-opacity:1;stroke:none;font-family:sans-serif;text-anchor:start;fill:#0000FF\" x=\"225.12\" y=\"72.9361\"><tspan>N</tspan></text>\n",
       "<text style=\"font-size:9px;font-style:normal;font-weight:normal;fill-opacity:1;stroke:none;font-family:sans-serif;text-anchor:start;fill:#FF0000\" x=\"226.188\" y=\"121.285\"><tspan>O</tspan></text>\n",
       "<text style=\"font-size:9px;font-style:normal;font-weight:normal;fill-opacity:1;stroke:none;font-family:sans-serif;text-anchor:start;fill:#FF0000\" x=\"267.369\" y=\"95.9142\"><tspan>O</tspan></text>\n",
       "<text style=\"font-size:9px;font-style:normal;font-weight:normal;fill-opacity:1;stroke:none;font-family:sans-serif;text-anchor:start;fill:#0000FF\" x=\"177.409\" y=\"96.7856\"><tspan>NH</tspan></text>\n",
       "<path class=\"bond-0\" d=\"M 575.316,104.985 547.556,108.02\" style=\"fill:none;fill-rule:evenodd;stroke:#000000;stroke-width:2px;stroke-linecap:butt;stroke-linejoin:miter;stroke-opacity:1\"/>\n",
       "<path class=\"bond-1\" d=\"M 547.556,108.02 541.007,99.0852\" style=\"fill:none;fill-rule:evenodd;stroke:#000000;stroke-width:2px;stroke-linecap:butt;stroke-linejoin:miter;stroke-opacity:1\"/>\n",
       "<path class=\"bond-1\" d=\"M 541.007,99.0852 534.459,90.1505\" style=\"fill:none;fill-rule:evenodd;stroke:#FF0000;stroke-width:2px;stroke-linecap:butt;stroke-linejoin:miter;stroke-opacity:1\"/>\n",
       "<path class=\"bond-2\" d=\"M 526.701,85.9714 514.994,87.2511\" style=\"fill:none;fill-rule:evenodd;stroke:#FF0000;stroke-width:2px;stroke-linecap:butt;stroke-linejoin:miter;stroke-opacity:1\"/>\n",
       "<path class=\"bond-2\" d=\"M 514.994,87.2511 503.287,88.5307\" style=\"fill:none;fill-rule:evenodd;stroke:#000000;stroke-width:2px;stroke-linecap:butt;stroke-linejoin:miter;stroke-opacity:1\"/>\n",
       "<path class=\"bond-3\" d=\"M 500.732,87.4055 496.13,97.8576\" style=\"fill:none;fill-rule:evenodd;stroke:#000000;stroke-width:2px;stroke-linecap:butt;stroke-linejoin:miter;stroke-opacity:1\"/>\n",
       "<path class=\"bond-3\" d=\"M 496.13,97.8576 491.528,108.31\" style=\"fill:none;fill-rule:evenodd;stroke:#FF0000;stroke-width:2px;stroke-linecap:butt;stroke-linejoin:miter;stroke-opacity:1\"/>\n",
       "<path class=\"bond-3\" d=\"M 505.843,89.6559 501.242,100.108\" style=\"fill:none;fill-rule:evenodd;stroke:#000000;stroke-width:2px;stroke-linecap:butt;stroke-linejoin:miter;stroke-opacity:1\"/>\n",
       "<path class=\"bond-3\" d=\"M 501.242,100.108 496.64,110.56\" style=\"fill:none;fill-rule:evenodd;stroke:#FF0000;stroke-width:2px;stroke-linecap:butt;stroke-linejoin:miter;stroke-opacity:1\"/>\n",
       "<path class=\"bond-4\" d=\"M 503.287,88.5307 486.779,66.0069\" style=\"fill:none;fill-rule:evenodd;stroke:#000000;stroke-width:2px;stroke-linecap:butt;stroke-linejoin:miter;stroke-opacity:1\"/>\n",
       "<path class=\"bond-5\" d=\"M 486.779,66.0069 495.298,39.4124\" style=\"fill:none;fill-rule:evenodd;stroke:#000000;stroke-width:2px;stroke-linecap:butt;stroke-linejoin:miter;stroke-opacity:1\"/>\n",
       "<path class=\"bond-5\" d=\"M 482.738,60.314 488.701,41.6978\" style=\"fill:none;fill-rule:evenodd;stroke:#000000;stroke-width:2px;stroke-linecap:butt;stroke-linejoin:miter;stroke-opacity:1\"/>\n",
       "<path class=\"bond-19\" d=\"M 486.779,66.0069 474.834,66.0566\" style=\"fill:none;fill-rule:evenodd;stroke:#000000;stroke-width:2px;stroke-linecap:butt;stroke-linejoin:miter;stroke-opacity:1\"/>\n",
       "<path class=\"bond-19\" d=\"M 474.834,66.0566 462.888,66.1063\" style=\"fill:none;fill-rule:evenodd;stroke:#0000FF;stroke-width:2px;stroke-linecap:butt;stroke-linejoin:miter;stroke-opacity:1\"/>\n",
       "<path class=\"bond-6\" d=\"M 495.298,39.4124 485.985,32.7051\" style=\"fill:none;fill-rule:evenodd;stroke:#000000;stroke-width:2px;stroke-linecap:butt;stroke-linejoin:miter;stroke-opacity:1\"/>\n",
       "<path class=\"bond-6\" d=\"M 485.985,32.7051 476.672,25.9977\" style=\"fill:none;fill-rule:evenodd;stroke:#0000FF;stroke-width:2px;stroke-linecap:butt;stroke-linejoin:miter;stroke-opacity:1\"/>\n",
       "<path class=\"bond-7\" d=\"M 468.604,26.049 459.359,32.8247\" style=\"fill:none;fill-rule:evenodd;stroke:#0000FF;stroke-width:2px;stroke-linecap:butt;stroke-linejoin:miter;stroke-opacity:1\"/>\n",
       "<path class=\"bond-7\" d=\"M 459.359,32.8247 450.114,39.6004\" style=\"fill:none;fill-rule:evenodd;stroke:#000000;stroke-width:2px;stroke-linecap:butt;stroke-linejoin:miter;stroke-opacity:1\"/>\n",
       "<path class=\"bond-7\" d=\"M 469.132,32.5864 462.661,37.3294\" style=\"fill:none;fill-rule:evenodd;stroke:#0000FF;stroke-width:2px;stroke-linecap:butt;stroke-linejoin:miter;stroke-opacity:1\"/>\n",
       "<path class=\"bond-7\" d=\"M 462.661,37.3294 456.189,42.0725\" style=\"fill:none;fill-rule:evenodd;stroke:#000000;stroke-width:2px;stroke-linecap:butt;stroke-linejoin:miter;stroke-opacity:1\"/>\n",
       "<path class=\"bond-8\" d=\"M 450.114,39.6004 453.717,50.5346\" style=\"fill:none;fill-rule:evenodd;stroke:#000000;stroke-width:2px;stroke-linecap:butt;stroke-linejoin:miter;stroke-opacity:1\"/>\n",
       "<path class=\"bond-8\" d=\"M 453.717,50.5346 457.32,61.4688\" style=\"fill:none;fill-rule:evenodd;stroke:#0000FF;stroke-width:2px;stroke-linecap:butt;stroke-linejoin:miter;stroke-opacity:1\"/>\n",
       "<path class=\"bond-9\" d=\"M 455.502,70.7774 449.018,79.7804\" style=\"fill:none;fill-rule:evenodd;stroke:#0000FF;stroke-width:2px;stroke-linecap:butt;stroke-linejoin:miter;stroke-opacity:1\"/>\n",
       "<path class=\"bond-9\" d=\"M 449.018,79.7804 442.534,88.7835\" style=\"fill:none;fill-rule:evenodd;stroke:#000000;stroke-width:2px;stroke-linecap:butt;stroke-linejoin:miter;stroke-opacity:1\"/>\n",
       "<path class=\"bond-10\" d=\"M 442.534,88.7835 453.998,114.247\" style=\"fill:none;fill-rule:evenodd;stroke:#000000;stroke-width:2px;stroke-linecap:butt;stroke-linejoin:miter;stroke-opacity:1\"/>\n",
       "<path class=\"bond-20\" d=\"M 442.534,88.7835 414.749,85.98\" style=\"fill:none;fill-rule:evenodd;stroke:#000000;stroke-width:2px;stroke-linecap:butt;stroke-linejoin:miter;stroke-opacity:1\"/>\n",
       "<path class=\"bond-11\" d=\"M 453.998,114.247 437.678,136.908\" style=\"fill:none;fill-rule:evenodd;stroke:#000000;stroke-width:2px;stroke-linecap:butt;stroke-linejoin:miter;stroke-opacity:1\"/>\n",
       "<path class=\"bond-12\" d=\"M 437.678,136.908 409.894,134.104\" style=\"fill:none;fill-rule:evenodd;stroke:#000000;stroke-width:2px;stroke-linecap:butt;stroke-linejoin:miter;stroke-opacity:1\"/>\n",
       "<path class=\"bond-13\" d=\"M 409.894,134.104 398.429,108.64\" style=\"fill:none;fill-rule:evenodd;stroke:#000000;stroke-width:2px;stroke-linecap:butt;stroke-linejoin:miter;stroke-opacity:1\"/>\n",
       "<path class=\"bond-14\" d=\"M 398.429,108.64 370.645,105.837\" style=\"fill:none;fill-rule:evenodd;stroke:#000000;stroke-width:2px;stroke-linecap:butt;stroke-linejoin:miter;stroke-opacity:1\"/>\n",
       "<path class=\"bond-14\" d=\"M 394.822,102.663 375.373,100.701\" style=\"fill:none;fill-rule:evenodd;stroke:#000000;stroke-width:2px;stroke-linecap:butt;stroke-linejoin:miter;stroke-opacity:1\"/>\n",
       "<path class=\"bond-21\" d=\"M 398.429,108.64 414.749,85.98\" style=\"fill:none;fill-rule:evenodd;stroke:#000000;stroke-width:2px;stroke-linecap:butt;stroke-linejoin:miter;stroke-opacity:1\"/>\n",
       "<path class=\"bond-15\" d=\"M 370.645,105.837 359.18,80.3731\" style=\"fill:none;fill-rule:evenodd;stroke:#000000;stroke-width:2px;stroke-linecap:butt;stroke-linejoin:miter;stroke-opacity:1\"/>\n",
       "<path class=\"bond-16\" d=\"M 359.18,80.3731 375.5,57.7127\" style=\"fill:none;fill-rule:evenodd;stroke:#000000;stroke-width:2px;stroke-linecap:butt;stroke-linejoin:miter;stroke-opacity:1\"/>\n",
       "<path class=\"bond-16\" d=\"M 366.16,80.2381 377.584,64.3758\" style=\"fill:none;fill-rule:evenodd;stroke:#000000;stroke-width:2px;stroke-linecap:butt;stroke-linejoin:miter;stroke-opacity:1\"/>\n",
       "<path class=\"bond-17\" d=\"M 375.5,57.7127 403.285,60.5162\" style=\"fill:none;fill-rule:evenodd;stroke:#000000;stroke-width:2px;stroke-linecap:butt;stroke-linejoin:miter;stroke-opacity:1\"/>\n",
       "<path class=\"bond-18\" d=\"M 403.285,60.5162 414.749,85.98\" style=\"fill:none;fill-rule:evenodd;stroke:#000000;stroke-width:2px;stroke-linecap:butt;stroke-linejoin:miter;stroke-opacity:1\"/>\n",
       "<path class=\"bond-18\" d=\"M 399.912,66.6287 407.937,84.4533\" style=\"fill:none;fill-rule:evenodd;stroke:#000000;stroke-width:2px;stroke-linecap:butt;stroke-linejoin:miter;stroke-opacity:1\"/>\n",
       "<text style=\"font-size:9px;font-style:normal;font-weight:normal;fill-opacity:1;stroke:none;font-family:sans-serif;text-anchor:start;fill:#FF0000\" x=\"526.701\" y=\"90.1505\"><tspan>O</tspan></text>\n",
       "<text style=\"font-size:9px;font-style:normal;font-weight:normal;fill-opacity:1;stroke:none;font-family:sans-serif;text-anchor:start;fill:#FF0000\" x=\"487.688\" y=\"118.743\"><tspan>O</tspan></text>\n",
       "<text style=\"font-size:9px;font-style:normal;font-weight:normal;fill-opacity:1;stroke:none;font-family:sans-serif;text-anchor:start;fill:#0000FF\" x=\"468.604\" y=\"27.7466\"><tspan>N</tspan></text>\n",
       "<text style=\"font-size:9px;font-style:normal;font-weight:normal;fill-opacity:1;stroke:none;font-family:sans-serif;text-anchor:start;fill:#0000FF\" x=\"454.82\" y=\"70.7774\"><tspan>N</tspan></text>\n",
       "</svg>"
      ],
      "text/plain": [
       "<IPython.core.display.SVG object>"
      ]
     },
     "execution_count": 46,
     "metadata": {},
     "output_type": "execute_result"
    }
   ],
   "source": [
    "smiles = ['CCCS(=O)c1ccc2[nH]c(=NC(=O)OC)[nH]c2c1', 'CCOC(=O)c1cncn1C1CCCc2ccccc21']\n",
    "draw_multiple_mol(smiles, file_path='./figures/two_mols2.svg')"
   ]
  },
  {
   "cell_type": "code",
   "execution_count": 35,
   "metadata": {},
   "outputs": [],
   "source": [
    "with open('./figures/two_mol.svg', 'w') as f_handle:\n",
    "    f_handle.write(img.data)"
   ]
  },
  {
   "cell_type": "code",
   "execution_count": 22,
   "metadata": {},
   "outputs": [],
   "source": [
    "from rdkit.Chem import rdDepictor\n",
    "from rdkit.Chem.Draw import rdMolDraw2D\n",
    "from IPython.display import SVG\n",
    "def moltosvg(mol,molSize=(450,150),kekulize=True):\n",
    "    mc = Chem.Mol(mol.ToBinary())\n",
    "    if kekulize:\n",
    "        try:\n",
    "            Chem.Kekulize(mc)\n",
    "        except:\n",
    "            mc = Chem.Mol(mol.ToBinary())\n",
    "    if not mc.GetNumConformers():\n",
    "        rdDepictor.Compute2DCoords(mc)\n",
    "    drawer = rdMolDraw2D.MolDraw2DSVG(molSize[0],molSize[1])\n",
    "    drawer.DrawMolecule(mc)\n",
    "    drawer.FinishDrawing()\n",
    "    svg = drawer.GetDrawingText()\n",
    "    # It seems that the svg renderer used doesn't quite hit the spec.\n",
    "    # Here are some fixes to make it work in the notebook, although I think\n",
    "    # the underlying issue needs to be resolved at the generation step\n",
    "    return svg.replace('svg:','')"
   ]
  },
  {
   "cell_type": "code",
   "execution_count": 23,
   "metadata": {},
   "outputs": [
    {
     "data": {
      "image/svg+xml": [
       "<svg baseProfile=\"full\" height=\"150px\" version=\"1.1\" width=\"450px\" xml:space=\"preserve\" xmlns=\"http://www.w3.org/2000/svg\" xmlns:rdkit=\"http://www.rdkit.org/xml\" xmlns:xlink=\"http://www.w3.org/1999/xlink\">\n",
       "<!-- END OF HEADER -->\n",
       "<rect height=\"150\" style=\"opacity:1.0;fill:#FFFFFF;stroke:none\" width=\"450\" x=\"0\" y=\"0\"> </rect>\n",
       "<path class=\"bond-0\" d=\"M 35.2616,73.4816 70.4551,91.8984\" style=\"fill:none;fill-rule:evenodd;stroke:#000000;stroke-width:2px;stroke-linecap:butt;stroke-linejoin:miter;stroke-opacity:1\"/>\n",
       "<path class=\"bond-1\" d=\"M 70.4551,91.8984 104.001,70.6284\" style=\"fill:none;fill-rule:evenodd;stroke:#000000;stroke-width:2px;stroke-linecap:butt;stroke-linejoin:miter;stroke-opacity:1\"/>\n",
       "<path class=\"bond-2\" d=\"M 104.001,70.6284 118.947,78.4498\" style=\"fill:none;fill-rule:evenodd;stroke:#000000;stroke-width:2px;stroke-linecap:butt;stroke-linejoin:miter;stroke-opacity:1\"/>\n",
       "<path class=\"bond-2\" d=\"M 118.947,78.4498 133.894,86.2712\" style=\"fill:none;fill-rule:evenodd;stroke:#CCCC00;stroke-width:2px;stroke-linecap:butt;stroke-linejoin:miter;stroke-opacity:1\"/>\n",
       "<path class=\"bond-3\" d=\"M 135.501,95.83 136.05,109.053\" style=\"fill:none;fill-rule:evenodd;stroke:#CCCC00;stroke-width:2px;stroke-linecap:butt;stroke-linejoin:miter;stroke-opacity:1\"/>\n",
       "<path class=\"bond-3\" d=\"M 136.05,109.053 136.599,122.277\" style=\"fill:none;fill-rule:evenodd;stroke:#FF0000;stroke-width:2px;stroke-linecap:butt;stroke-linejoin:miter;stroke-opacity:1\"/>\n",
       "<path class=\"bond-3\" d=\"M 143.438,95.5006 143.987,108.724\" style=\"fill:none;fill-rule:evenodd;stroke:#CCCC00;stroke-width:2px;stroke-linecap:butt;stroke-linejoin:miter;stroke-opacity:1\"/>\n",
       "<path class=\"bond-3\" d=\"M 143.987,108.724 144.536,121.947\" style=\"fill:none;fill-rule:evenodd;stroke:#FF0000;stroke-width:2px;stroke-linecap:butt;stroke-linejoin:miter;stroke-opacity:1\"/>\n",
       "<path class=\"bond-4\" d=\"M 144.496,85.6841 158.618,76.7296\" style=\"fill:none;fill-rule:evenodd;stroke:#CCCC00;stroke-width:2px;stroke-linecap:butt;stroke-linejoin:miter;stroke-opacity:1\"/>\n",
       "<path class=\"bond-4\" d=\"M 158.618,76.7296 172.741,67.7751\" style=\"fill:none;fill-rule:evenodd;stroke:#000000;stroke-width:2px;stroke-linecap:butt;stroke-linejoin:miter;stroke-opacity:1\"/>\n",
       "<path class=\"bond-5\" d=\"M 172.741,67.7751 171.093,28.0882\" style=\"fill:none;fill-rule:evenodd;stroke:#000000;stroke-width:2px;stroke-linecap:butt;stroke-linejoin:miter;stroke-opacity:1\"/>\n",
       "<path class=\"bond-5\" d=\"M 180.431,61.4926 179.278,33.7118\" style=\"fill:none;fill-rule:evenodd;stroke:#000000;stroke-width:2px;stroke-linecap:butt;stroke-linejoin:miter;stroke-opacity:1\"/>\n",
       "<path class=\"bond-18\" d=\"M 172.741,67.7751 207.934,86.1919\" style=\"fill:none;fill-rule:evenodd;stroke:#000000;stroke-width:2px;stroke-linecap:butt;stroke-linejoin:miter;stroke-opacity:1\"/>\n",
       "<path class=\"bond-6\" d=\"M 171.093,28.0882 204.64,6.81818\" style=\"fill:none;fill-rule:evenodd;stroke:#000000;stroke-width:2px;stroke-linecap:butt;stroke-linejoin:miter;stroke-opacity:1\"/>\n",
       "<path class=\"bond-7\" d=\"M 204.64,6.81818 239.833,25.235\" style=\"fill:none;fill-rule:evenodd;stroke:#000000;stroke-width:2px;stroke-linecap:butt;stroke-linejoin:miter;stroke-opacity:1\"/>\n",
       "<path class=\"bond-7\" d=\"M 206.235,16.6194 230.871,29.5111\" style=\"fill:none;fill-rule:evenodd;stroke:#000000;stroke-width:2px;stroke-linecap:butt;stroke-linejoin:miter;stroke-opacity:1\"/>\n",
       "<path class=\"bond-8\" d=\"M 239.833,25.235 252.713,20.451\" style=\"fill:none;fill-rule:evenodd;stroke:#000000;stroke-width:2px;stroke-linecap:butt;stroke-linejoin:miter;stroke-opacity:1\"/>\n",
       "<path class=\"bond-8\" d=\"M 252.713,20.451 265.592,15.667\" style=\"fill:none;fill-rule:evenodd;stroke:#0000FF;stroke-width:2px;stroke-linecap:butt;stroke-linejoin:miter;stroke-opacity:1\"/>\n",
       "<path class=\"bond-19\" d=\"M 239.833,25.235 241.48,64.9218\" style=\"fill:none;fill-rule:evenodd;stroke:#000000;stroke-width:2px;stroke-linecap:butt;stroke-linejoin:miter;stroke-opacity:1\"/>\n",
       "<path class=\"bond-9\" d=\"M 282.311,18.0245 292.02,30.2839\" style=\"fill:none;fill-rule:evenodd;stroke:#0000FF;stroke-width:2px;stroke-linecap:butt;stroke-linejoin:miter;stroke-opacity:1\"/>\n",
       "<path class=\"bond-9\" d=\"M 292.02,30.2839 301.729,42.5434\" style=\"fill:none;fill-rule:evenodd;stroke:#000000;stroke-width:2px;stroke-linecap:butt;stroke-linejoin:miter;stroke-opacity:1\"/>\n",
       "<path class=\"bond-10\" d=\"M 301.729,42.5434 318.703,41.8388\" style=\"fill:none;fill-rule:evenodd;stroke:#000000;stroke-width:2px;stroke-linecap:butt;stroke-linejoin:miter;stroke-opacity:1\"/>\n",
       "<path class=\"bond-10\" d=\"M 318.703,41.8388 335.677,41.1342\" style=\"fill:none;fill-rule:evenodd;stroke:#0000FF;stroke-width:2px;stroke-linecap:butt;stroke-linejoin:miter;stroke-opacity:1\"/>\n",
       "<path class=\"bond-10\" d=\"M 306.491,34.3946 318.374,33.9014\" style=\"fill:none;fill-rule:evenodd;stroke:#000000;stroke-width:2px;stroke-linecap:butt;stroke-linejoin:miter;stroke-opacity:1\"/>\n",
       "<path class=\"bond-10\" d=\"M 318.374,33.9014 330.256,33.4082\" style=\"fill:none;fill-rule:evenodd;stroke:#0000FF;stroke-width:2px;stroke-linecap:butt;stroke-linejoin:miter;stroke-opacity:1\"/>\n",
       "<path class=\"bond-15\" d=\"M 301.729,42.5434 292.932,55.7711\" style=\"fill:none;fill-rule:evenodd;stroke:#000000;stroke-width:2px;stroke-linecap:butt;stroke-linejoin:miter;stroke-opacity:1\"/>\n",
       "<path class=\"bond-15\" d=\"M 292.932,55.7711 284.136,68.9988\" style=\"fill:none;fill-rule:evenodd;stroke:#0000FF;stroke-width:2px;stroke-linecap:butt;stroke-linejoin:miter;stroke-opacity:1\"/>\n",
       "<path class=\"bond-11\" d=\"M 345.613,47.5162 354.149,60.9792\" style=\"fill:none;fill-rule:evenodd;stroke:#0000FF;stroke-width:2px;stroke-linecap:butt;stroke-linejoin:miter;stroke-opacity:1\"/>\n",
       "<path class=\"bond-11\" d=\"M 354.149,60.9792 362.685,74.4422\" style=\"fill:none;fill-rule:evenodd;stroke:#000000;stroke-width:2px;stroke-linecap:butt;stroke-linejoin:miter;stroke-opacity:1\"/>\n",
       "<path class=\"bond-12\" d=\"M 362.85,78.4109 379.602,77.7155\" style=\"fill:none;fill-rule:evenodd;stroke:#000000;stroke-width:2px;stroke-linecap:butt;stroke-linejoin:miter;stroke-opacity:1\"/>\n",
       "<path class=\"bond-12\" d=\"M 379.602,77.7155 396.354,77.0202\" style=\"fill:none;fill-rule:evenodd;stroke:#FF0000;stroke-width:2px;stroke-linecap:butt;stroke-linejoin:miter;stroke-opacity:1\"/>\n",
       "<path class=\"bond-12\" d=\"M 362.521,70.4735 379.273,69.7782\" style=\"fill:none;fill-rule:evenodd;stroke:#000000;stroke-width:2px;stroke-linecap:butt;stroke-linejoin:miter;stroke-opacity:1\"/>\n",
       "<path class=\"bond-12\" d=\"M 379.273,69.7782 396.025,69.0828\" style=\"fill:none;fill-rule:evenodd;stroke:#FF0000;stroke-width:2px;stroke-linecap:butt;stroke-linejoin:miter;stroke-opacity:1\"/>\n",
       "<path class=\"bond-13\" d=\"M 362.685,74.4422 355.209,88.7288\" style=\"fill:none;fill-rule:evenodd;stroke:#000000;stroke-width:2px;stroke-linecap:butt;stroke-linejoin:miter;stroke-opacity:1\"/>\n",
       "<path class=\"bond-13\" d=\"M 355.209,88.7288 347.733,103.016\" style=\"fill:none;fill-rule:evenodd;stroke:#FF0000;stroke-width:2px;stroke-linecap:butt;stroke-linejoin:miter;stroke-opacity:1\"/>\n",
       "<path class=\"bond-14\" d=\"M 348.466,116.256 357.002,129.719\" style=\"fill:none;fill-rule:evenodd;stroke:#FF0000;stroke-width:2px;stroke-linecap:butt;stroke-linejoin:miter;stroke-opacity:1\"/>\n",
       "<path class=\"bond-14\" d=\"M 357.002,129.719 365.539,143.182\" style=\"fill:none;fill-rule:evenodd;stroke:#000000;stroke-width:2px;stroke-linecap:butt;stroke-linejoin:miter;stroke-opacity:1\"/>\n",
       "<path class=\"bond-16\" d=\"M 268.258,72.4098 254.869,68.6658\" style=\"fill:none;fill-rule:evenodd;stroke:#0000FF;stroke-width:2px;stroke-linecap:butt;stroke-linejoin:miter;stroke-opacity:1\"/>\n",
       "<path class=\"bond-16\" d=\"M 254.869,68.6658 241.48,64.9218\" style=\"fill:none;fill-rule:evenodd;stroke:#000000;stroke-width:2px;stroke-linecap:butt;stroke-linejoin:miter;stroke-opacity:1\"/>\n",
       "<path class=\"bond-17\" d=\"M 241.48,64.9218 207.934,86.1919\" style=\"fill:none;fill-rule:evenodd;stroke:#000000;stroke-width:2px;stroke-linecap:butt;stroke-linejoin:miter;stroke-opacity:1\"/>\n",
       "<path class=\"bond-17\" d=\"M 232.195,61.4031 208.712,76.2921\" style=\"fill:none;fill-rule:evenodd;stroke:#000000;stroke-width:2px;stroke-linecap:butt;stroke-linejoin:miter;stroke-opacity:1\"/>\n",
       "<text style=\"font-size:13px;font-style:normal;font-weight:normal;fill-opacity:1;stroke:none;font-family:sans-serif;text-anchor:start;fill:#CCCC00\" x=\"133.894\" y=\"95.6653\"><tspan>S</tspan></text>\n",
       "<text style=\"font-size:13px;font-style:normal;font-weight:normal;fill-opacity:1;stroke:none;font-family:sans-serif;text-anchor:start;fill:#FF0000\" x=\"134.659\" y=\"135.352\"><tspan>O</tspan></text>\n",
       "<text style=\"font-size:13px;font-style:normal;font-weight:normal;fill-opacity:1;stroke:none;font-family:sans-serif;text-anchor:start;fill:#0000FF\" x=\"265.592\" y=\"18.0245\"><tspan>NH</tspan></text>\n",
       "<text style=\"font-size:13px;font-style:normal;font-weight:normal;fill-opacity:1;stroke:none;font-family:sans-serif;text-anchor:start;fill:#0000FF\" x=\"335.677\" y=\"47.5162\"><tspan>N</tspan></text>\n",
       "<text style=\"font-size:13px;font-style:normal;font-weight:normal;fill-opacity:1;stroke:none;font-family:sans-serif;text-anchor:start;fill:#FF0000\" x=\"396.189\" y=\"79.415\"><tspan>O</tspan></text>\n",
       "<text style=\"font-size:13px;font-style:normal;font-weight:normal;fill-opacity:1;stroke:none;font-family:sans-serif;text-anchor:start;fill:#FF0000\" x=\"338.086\" y=\"116.256\"><tspan>O</tspan></text>\n",
       "<text style=\"font-size:13px;font-style:normal;font-weight:normal;fill-opacity:1;stroke:none;font-family:sans-serif;text-anchor:start;fill:#0000FF\" x=\"268.258\" y=\"82.2392\"><tspan>NH</tspan></text>\n",
       "</svg>"
      ],
      "text/plain": [
       "<IPython.core.display.SVG object>"
      ]
     },
     "execution_count": 23,
     "metadata": {},
     "output_type": "execute_result"
    }
   ],
   "source": [
    "svg = moltosvg(mol=mols[0])\n",
    "SVG(svg)"
   ]
  },
  {
   "cell_type": "code",
   "execution_count": 25,
   "metadata": {},
   "outputs": [
    {
     "data": {
      "text/plain": [
       "str"
      ]
     },
     "execution_count": 25,
     "metadata": {},
     "output_type": "execute_result"
    }
   ],
   "source": [
    "type(svg)"
   ]
  },
  {
   "cell_type": "code",
   "execution_count": null,
   "metadata": {},
   "outputs": [],
   "source": []
  }
 ],
 "metadata": {
  "kernelspec": {
   "display_name": "Python 3",
   "language": "python",
   "name": "python3"
  },
  "language_info": {
   "codemirror_mode": {
    "name": "ipython",
    "version": 3
   },
   "file_extension": ".py",
   "mimetype": "text/x-python",
   "name": "python",
   "nbconvert_exporter": "python",
   "pygments_lexer": "ipython3",
   "version": "3.6.10"
  }
 },
 "nbformat": 4,
 "nbformat_minor": 4
}
