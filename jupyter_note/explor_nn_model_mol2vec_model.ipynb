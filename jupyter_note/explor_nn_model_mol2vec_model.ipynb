{
 "cells": [
  {
   "cell_type": "code",
   "execution_count": 1,
   "metadata": {},
   "outputs": [],
   "source": [
    "from __future__ import absolute_import, division, print_function, unicode_literals\n",
    "\n",
    "# TensorFlow and tf.keras\n",
    "import tensorflow as tf\n",
    "from tensorflow import keras\n",
    "\n",
    "# Helper libraries\n",
    "import numpy as np\n",
    "import pandas as pd\n",
    "import matplotlib.pyplot as plt\n",
    "import time\n",
    "from sklearn.metrics import pairwise_distances\n",
    "\n",
    "from rdkit import Chem\n",
    "from rdkit.Chem import Draw\n",
    "from rdkit.Chem.Draw import IPythonConsole\n",
    "IPythonConsole.ipython_useSVG = True"
   ]
  },
  {
   "cell_type": "code",
   "execution_count": 2,
   "metadata": {},
   "outputs": [],
   "source": [
    "def read_xy(x_fp, y_fp):\n",
    "    x = pd.read_csv(x_fp, header=None, index_col=0)\n",
    "    y = pd.read_csv(y_fp, index_col=0)\n",
    "    return {'x': x, 'y': y}"
   ]
  },
  {
   "cell_type": "code",
   "execution_count": 3,
   "metadata": {},
   "outputs": [],
   "source": [
    "def count_y_class(y_df):\n",
    "    y_class = y_df.apply(lambda x: ''.join([str(i) for i in x]), axis=1).to_frame(name='class')\n",
    "    # y_class.head(2)\n",
    "    \n",
    "    y_class2num = y_class['class'].value_counts().to_frame(name='num')\n",
    "    y_class2num['n_error'] = 0\n",
    "    return y_class2num"
   ]
  },
  {
   "cell_type": "code",
   "execution_count": 4,
   "metadata": {},
   "outputs": [],
   "source": [
    "def predict_y(x, model):\n",
    "    y_pred_raw = model.predict(x)\n",
    "    y_pred_bool = tf.math.sigmoid(y_pred_raw)\n",
    "    y_pred_bool = y_pred_bool.numpy()\n",
    "    y_pred_bool[y_pred_bool >= 0.5] = 1\n",
    "    y_pred_bool[y_pred_bool < 0.5] = 0\n",
    "    return y_pred_bool"
   ]
  },
  {
   "cell_type": "code",
   "execution_count": 5,
   "metadata": {},
   "outputs": [],
   "source": [
    "def predict_y_reg(x, model):\n",
    "    y_pred_raw = model.predict(x)\n",
    "    y_pred_int = np.rint(y_pred_raw)\n",
    "    return y_pred_int.astype(np.int)"
   ]
  },
  {
   "cell_type": "code",
   "execution_count": 6,
   "metadata": {},
   "outputs": [],
   "source": [
    "def count_pred_error_in_class(y, y_pred):\n",
    "    pred_comp_bool = np.all(y == y_pred, axis=1)\n",
    "    y_pred_error = y_pred[~pred_comp_bool]\n",
    "    y_class = y.apply(lambda x: ''.join([str(i) for i in x]), axis=1).to_frame(name='class')\n",
    "    y_pred_error_count_by_class = y_class.loc[y_class.index.isin(y_pred_error.index), 'class'].value_counts().to_frame(name='n_error')\n",
    "    \n",
    "    y_class2num = y_class['class'].value_counts().to_frame(name='num')\n",
    "    y_class2num['n_error'] = 0\n",
    "    y_class2num.loc[y_pred_error_count_by_class.index, 'n_error'] = y_pred_error_count_by_class.n_error\n",
    "    return y_class2num"
   ]
  },
  {
   "cell_type": "code",
   "execution_count": 7,
   "metadata": {},
   "outputs": [],
   "source": [
    "model = keras.models.load_model('../big-data/moses_dataset/model_mol2vec/model_reg.h5')"
   ]
  },
  {
   "cell_type": "code",
   "execution_count": 8,
   "metadata": {},
   "outputs": [],
   "source": [
    "xy_train = read_xy(x_fp='../big-data/moses_dataset/model_mol2vec/x_training_set_mol2vec.csv',   \n",
    "                                       y_fp='../big-data/moses_dataset/model_mol2vec/y_train_regression.csv')\n",
    "x_train = xy_train['x']\n",
    "y_train = xy_train['y']"
   ]
  },
  {
   "cell_type": "code",
   "execution_count": 9,
   "metadata": {},
   "outputs": [
    {
     "data": {
      "text/html": [
       "<div>\n",
       "<style scoped>\n",
       "    .dataframe tbody tr th:only-of-type {\n",
       "        vertical-align: middle;\n",
       "    }\n",
       "\n",
       "    .dataframe tbody tr th {\n",
       "        vertical-align: top;\n",
       "    }\n",
       "\n",
       "    .dataframe thead th {\n",
       "        text-align: right;\n",
       "    }\n",
       "</style>\n",
       "<table border=\"1\" class=\"dataframe\">\n",
       "  <thead>\n",
       "    <tr style=\"text-align: right;\">\n",
       "      <th></th>\n",
       "      <th>1</th>\n",
       "      <th>2</th>\n",
       "      <th>3</th>\n",
       "      <th>4</th>\n",
       "      <th>5</th>\n",
       "      <th>6</th>\n",
       "      <th>7</th>\n",
       "      <th>8</th>\n",
       "      <th>9</th>\n",
       "      <th>10</th>\n",
       "      <th>...</th>\n",
       "      <th>91</th>\n",
       "      <th>92</th>\n",
       "      <th>93</th>\n",
       "      <th>94</th>\n",
       "      <th>95</th>\n",
       "      <th>96</th>\n",
       "      <th>97</th>\n",
       "      <th>98</th>\n",
       "      <th>99</th>\n",
       "      <th>100</th>\n",
       "    </tr>\n",
       "    <tr>\n",
       "      <th>0</th>\n",
       "      <th></th>\n",
       "      <th></th>\n",
       "      <th></th>\n",
       "      <th></th>\n",
       "      <th></th>\n",
       "      <th></th>\n",
       "      <th></th>\n",
       "      <th></th>\n",
       "      <th></th>\n",
       "      <th></th>\n",
       "      <th></th>\n",
       "      <th></th>\n",
       "      <th></th>\n",
       "      <th></th>\n",
       "      <th></th>\n",
       "      <th></th>\n",
       "      <th></th>\n",
       "      <th></th>\n",
       "      <th></th>\n",
       "      <th></th>\n",
       "      <th></th>\n",
       "    </tr>\n",
       "  </thead>\n",
       "  <tbody>\n",
       "    <tr>\n",
       "      <th>id6</th>\n",
       "      <td>-36.743</td>\n",
       "      <td>-10.796</td>\n",
       "      <td>11.868</td>\n",
       "      <td>10.114</td>\n",
       "      <td>2.560</td>\n",
       "      <td>-39.522</td>\n",
       "      <td>-4.150</td>\n",
       "      <td>25.588</td>\n",
       "      <td>-36.223</td>\n",
       "      <td>-25.428</td>\n",
       "      <td>...</td>\n",
       "      <td>2.574</td>\n",
       "      <td>-11.161</td>\n",
       "      <td>5.21</td>\n",
       "      <td>-56.205</td>\n",
       "      <td>-24.180</td>\n",
       "      <td>-15.044</td>\n",
       "      <td>-25.268</td>\n",
       "      <td>-37.867</td>\n",
       "      <td>-22.767</td>\n",
       "      <td>36.371</td>\n",
       "    </tr>\n",
       "    <tr>\n",
       "      <th>id8</th>\n",
       "      <td>-1.365</td>\n",
       "      <td>-28.529</td>\n",
       "      <td>-44.825</td>\n",
       "      <td>-17.365</td>\n",
       "      <td>-48.859</td>\n",
       "      <td>-56.681</td>\n",
       "      <td>82.548</td>\n",
       "      <td>-3.718</td>\n",
       "      <td>-29.935</td>\n",
       "      <td>-16.377</td>\n",
       "      <td>...</td>\n",
       "      <td>16.007</td>\n",
       "      <td>7.878</td>\n",
       "      <td>-50.93</td>\n",
       "      <td>-59.641</td>\n",
       "      <td>-7.269</td>\n",
       "      <td>-19.215</td>\n",
       "      <td>-26.684</td>\n",
       "      <td>-61.526</td>\n",
       "      <td>-36.618</td>\n",
       "      <td>9.412</td>\n",
       "    </tr>\n",
       "  </tbody>\n",
       "</table>\n",
       "<p>2 rows × 100 columns</p>\n",
       "</div>"
      ],
      "text/plain": [
       "        1       2       3       4       5       6       7       8       9    \\\n",
       "0                                                                             \n",
       "id6 -36.743 -10.796  11.868  10.114   2.560 -39.522  -4.150  25.588 -36.223   \n",
       "id8  -1.365 -28.529 -44.825 -17.365 -48.859 -56.681  82.548  -3.718 -29.935   \n",
       "\n",
       "        10   ...     91      92     93      94      95      96      97   \\\n",
       "0            ...                                                          \n",
       "id6 -25.428  ...   2.574 -11.161   5.21 -56.205 -24.180 -15.044 -25.268   \n",
       "id8 -16.377  ...  16.007   7.878 -50.93 -59.641  -7.269 -19.215 -26.684   \n",
       "\n",
       "        98      99      100  \n",
       "0                            \n",
       "id6 -37.867 -22.767  36.371  \n",
       "id8 -61.526 -36.618   9.412  \n",
       "\n",
       "[2 rows x 100 columns]"
      ]
     },
     "execution_count": 9,
     "metadata": {},
     "output_type": "execute_result"
    }
   ],
   "source": [
    "x_train.head(2)"
   ]
  },
  {
   "cell_type": "code",
   "execution_count": 10,
   "metadata": {},
   "outputs": [
    {
     "data": {
      "text/html": [
       "<div>\n",
       "<style scoped>\n",
       "    .dataframe tbody tr th:only-of-type {\n",
       "        vertical-align: middle;\n",
       "    }\n",
       "\n",
       "    .dataframe tbody tr th {\n",
       "        vertical-align: top;\n",
       "    }\n",
       "\n",
       "    .dataframe thead th {\n",
       "        text-align: right;\n",
       "    }\n",
       "</style>\n",
       "<table border=\"1\" class=\"dataframe\">\n",
       "  <thead>\n",
       "    <tr style=\"text-align: right;\">\n",
       "      <th></th>\n",
       "      <th>nN</th>\n",
       "      <th>nS</th>\n",
       "      <th>nO</th>\n",
       "      <th>nX</th>\n",
       "      <th>nBondsD</th>\n",
       "      <th>nBondsT</th>\n",
       "      <th>naRing</th>\n",
       "      <th>nARing</th>\n",
       "    </tr>\n",
       "    <tr>\n",
       "      <th>0</th>\n",
       "      <th></th>\n",
       "      <th></th>\n",
       "      <th></th>\n",
       "      <th></th>\n",
       "      <th></th>\n",
       "      <th></th>\n",
       "      <th></th>\n",
       "      <th></th>\n",
       "    </tr>\n",
       "  </thead>\n",
       "  <tbody>\n",
       "    <tr>\n",
       "      <th>id6</th>\n",
       "      <td>1</td>\n",
       "      <td>0</td>\n",
       "      <td>4</td>\n",
       "      <td>1</td>\n",
       "      <td>1</td>\n",
       "      <td>0</td>\n",
       "      <td>1</td>\n",
       "      <td>1</td>\n",
       "    </tr>\n",
       "    <tr>\n",
       "      <th>id8</th>\n",
       "      <td>0</td>\n",
       "      <td>0</td>\n",
       "      <td>5</td>\n",
       "      <td>0</td>\n",
       "      <td>1</td>\n",
       "      <td>0</td>\n",
       "      <td>2</td>\n",
       "      <td>0</td>\n",
       "    </tr>\n",
       "  </tbody>\n",
       "</table>\n",
       "</div>"
      ],
      "text/plain": [
       "     nN  nS  nO  nX  nBondsD  nBondsT  naRing  nARing\n",
       "0                                                    \n",
       "id6   1   0   4   1        1        0       1       1\n",
       "id8   0   0   5   0        1        0       2       0"
      ]
     },
     "execution_count": 10,
     "metadata": {},
     "output_type": "execute_result"
    }
   ],
   "source": [
    "y_train.head(2)"
   ]
  },
  {
   "cell_type": "code",
   "execution_count": 11,
   "metadata": {},
   "outputs": [],
   "source": [
    "y_train_bool = y_train.copy()\n",
    "y_train_bool[y_train >= 1] = 1"
   ]
  },
  {
   "cell_type": "code",
   "execution_count": 12,
   "metadata": {},
   "outputs": [
    {
     "name": "stdout",
     "output_type": "stream",
     "text": [
      "(98, 2)\n"
     ]
    },
    {
     "data": {
      "text/html": [
       "<div>\n",
       "<style scoped>\n",
       "    .dataframe tbody tr th:only-of-type {\n",
       "        vertical-align: middle;\n",
       "    }\n",
       "\n",
       "    .dataframe tbody tr th {\n",
       "        vertical-align: top;\n",
       "    }\n",
       "\n",
       "    .dataframe thead th {\n",
       "        text-align: right;\n",
       "    }\n",
       "</style>\n",
       "<table border=\"1\" class=\"dataframe\">\n",
       "  <thead>\n",
       "    <tr style=\"text-align: right;\">\n",
       "      <th></th>\n",
       "      <th>num</th>\n",
       "      <th>n_error</th>\n",
       "    </tr>\n",
       "  </thead>\n",
       "  <tbody>\n",
       "    <tr>\n",
       "      <th>10110011</th>\n",
       "      <td>4500</td>\n",
       "      <td>0</td>\n",
       "    </tr>\n",
       "    <tr>\n",
       "      <th>10100011</th>\n",
       "      <td>4500</td>\n",
       "      <td>0</td>\n",
       "    </tr>\n",
       "  </tbody>\n",
       "</table>\n",
       "</div>"
      ],
      "text/plain": [
       "           num  n_error\n",
       "10110011  4500        0\n",
       "10100011  4500        0"
      ]
     },
     "execution_count": 12,
     "metadata": {},
     "output_type": "execute_result"
    }
   ],
   "source": [
    "y_train_class2num = count_y_class(y_df=y_train_bool)\n",
    "print(y_train_class2num.shape)\n",
    "y_train_class2num.head(2)"
   ]
  },
  {
   "cell_type": "code",
   "execution_count": 13,
   "metadata": {},
   "outputs": [
    {
     "data": {
      "text/html": [
       "<div>\n",
       "<style scoped>\n",
       "    .dataframe tbody tr th:only-of-type {\n",
       "        vertical-align: middle;\n",
       "    }\n",
       "\n",
       "    .dataframe tbody tr th {\n",
       "        vertical-align: top;\n",
       "    }\n",
       "\n",
       "    .dataframe thead th {\n",
       "        text-align: right;\n",
       "    }\n",
       "</style>\n",
       "<table border=\"1\" class=\"dataframe\">\n",
       "  <thead>\n",
       "    <tr style=\"text-align: right;\">\n",
       "      <th></th>\n",
       "      <th>nN</th>\n",
       "      <th>nS</th>\n",
       "      <th>nO</th>\n",
       "      <th>nX</th>\n",
       "      <th>nBondsD</th>\n",
       "      <th>nBondsT</th>\n",
       "      <th>naRing</th>\n",
       "      <th>nARing</th>\n",
       "    </tr>\n",
       "    <tr>\n",
       "      <th>0</th>\n",
       "      <th></th>\n",
       "      <th></th>\n",
       "      <th></th>\n",
       "      <th></th>\n",
       "      <th></th>\n",
       "      <th></th>\n",
       "      <th></th>\n",
       "      <th></th>\n",
       "    </tr>\n",
       "  </thead>\n",
       "  <tbody>\n",
       "    <tr>\n",
       "      <th>id6</th>\n",
       "      <td>0</td>\n",
       "      <td>0</td>\n",
       "      <td>4</td>\n",
       "      <td>0</td>\n",
       "      <td>1</td>\n",
       "      <td>0</td>\n",
       "      <td>1</td>\n",
       "      <td>1</td>\n",
       "    </tr>\n",
       "    <tr>\n",
       "      <th>id8</th>\n",
       "      <td>0</td>\n",
       "      <td>0</td>\n",
       "      <td>5</td>\n",
       "      <td>0</td>\n",
       "      <td>1</td>\n",
       "      <td>0</td>\n",
       "      <td>2</td>\n",
       "      <td>0</td>\n",
       "    </tr>\n",
       "  </tbody>\n",
       "</table>\n",
       "</div>"
      ],
      "text/plain": [
       "     nN  nS  nO  nX  nBondsD  nBondsT  naRing  nARing\n",
       "0                                                    \n",
       "id6   0   0   4   0        1        0       1       1\n",
       "id8   0   0   5   0        1        0       2       0"
      ]
     },
     "execution_count": 13,
     "metadata": {},
     "output_type": "execute_result"
    }
   ],
   "source": [
    "y_train_pred_int = predict_y_reg(model=model, x=x_train)\n",
    "y_train_pred = pd.DataFrame(data=y_train_pred_int, index=y_train.index, columns=y_train.columns)\n",
    "y_train_pred.head(2)"
   ]
  },
  {
   "cell_type": "code",
   "execution_count": 14,
   "metadata": {},
   "outputs": [
    {
     "data": {
      "text/html": [
       "<div>\n",
       "<style scoped>\n",
       "    .dataframe tbody tr th:only-of-type {\n",
       "        vertical-align: middle;\n",
       "    }\n",
       "\n",
       "    .dataframe tbody tr th {\n",
       "        vertical-align: top;\n",
       "    }\n",
       "\n",
       "    .dataframe thead th {\n",
       "        text-align: right;\n",
       "    }\n",
       "</style>\n",
       "<table border=\"1\" class=\"dataframe\">\n",
       "  <thead>\n",
       "    <tr style=\"text-align: right;\">\n",
       "      <th></th>\n",
       "      <th>num</th>\n",
       "      <th>n_error</th>\n",
       "    </tr>\n",
       "  </thead>\n",
       "  <tbody>\n",
       "    <tr>\n",
       "      <th>10110011</th>\n",
       "      <td>4500</td>\n",
       "      <td>380</td>\n",
       "    </tr>\n",
       "    <tr>\n",
       "      <th>10100011</th>\n",
       "      <td>4500</td>\n",
       "      <td>314</td>\n",
       "    </tr>\n",
       "  </tbody>\n",
       "</table>\n",
       "</div>"
      ],
      "text/plain": [
       "           num  n_error\n",
       "10110011  4500      380\n",
       "10100011  4500      314"
      ]
     },
     "execution_count": 14,
     "metadata": {},
     "output_type": "execute_result"
    }
   ],
   "source": [
    "y_train_pred_bool = y_train_pred.copy()\n",
    "y_train_pred_bool[y_train_pred >= 1] = 1\n",
    "y_train_class2num2 = count_pred_error_in_class(y=y_train_bool, y_pred=y_train_pred_bool)\n",
    "y_train_class2num2.head(2)"
   ]
  },
  {
   "cell_type": "code",
   "execution_count": 15,
   "metadata": {},
   "outputs": [
    {
     "data": {
      "text/plain": [
       "num        155970\n",
       "n_error      8447\n",
       "dtype: int64"
      ]
     },
     "execution_count": 15,
     "metadata": {},
     "output_type": "execute_result"
    }
   ],
   "source": [
    "y_train_class2num2.sum()"
   ]
  },
  {
   "cell_type": "code",
   "execution_count": 16,
   "metadata": {},
   "outputs": [
    {
     "data": {
      "text/plain": [
       "0.9458421491312432"
      ]
     },
     "execution_count": 16,
     "metadata": {},
     "output_type": "execute_result"
    }
   ],
   "source": [
    "1-8447/155970"
   ]
  },
  {
   "cell_type": "markdown",
   "metadata": {},
   "source": [
    "### test"
   ]
  },
  {
   "cell_type": "code",
   "execution_count": 17,
   "metadata": {},
   "outputs": [],
   "source": [
    "xy_test = read_xy(x_fp='../big-data/moses_dataset/model_mol2vec/x_test_set_mol2vec.csv', \n",
    "                                     y_fp='../big-data/moses_dataset/model_mol2vec/y_test_regression.csv')\n",
    "x_test = xy_test['x']\n",
    "y_test = xy_test['y']"
   ]
  },
  {
   "cell_type": "code",
   "execution_count": 18,
   "metadata": {},
   "outputs": [
    {
     "data": {
      "text/html": [
       "<div>\n",
       "<style scoped>\n",
       "    .dataframe tbody tr th:only-of-type {\n",
       "        vertical-align: middle;\n",
       "    }\n",
       "\n",
       "    .dataframe tbody tr th {\n",
       "        vertical-align: top;\n",
       "    }\n",
       "\n",
       "    .dataframe thead th {\n",
       "        text-align: right;\n",
       "    }\n",
       "</style>\n",
       "<table border=\"1\" class=\"dataframe\">\n",
       "  <thead>\n",
       "    <tr style=\"text-align: right;\">\n",
       "      <th></th>\n",
       "      <th>1</th>\n",
       "      <th>2</th>\n",
       "      <th>3</th>\n",
       "      <th>4</th>\n",
       "      <th>5</th>\n",
       "      <th>6</th>\n",
       "      <th>7</th>\n",
       "      <th>8</th>\n",
       "      <th>9</th>\n",
       "      <th>10</th>\n",
       "      <th>...</th>\n",
       "      <th>91</th>\n",
       "      <th>92</th>\n",
       "      <th>93</th>\n",
       "      <th>94</th>\n",
       "      <th>95</th>\n",
       "      <th>96</th>\n",
       "      <th>97</th>\n",
       "      <th>98</th>\n",
       "      <th>99</th>\n",
       "      <th>100</th>\n",
       "    </tr>\n",
       "    <tr>\n",
       "      <th>0</th>\n",
       "      <th></th>\n",
       "      <th></th>\n",
       "      <th></th>\n",
       "      <th></th>\n",
       "      <th></th>\n",
       "      <th></th>\n",
       "      <th></th>\n",
       "      <th></th>\n",
       "      <th></th>\n",
       "      <th></th>\n",
       "      <th></th>\n",
       "      <th></th>\n",
       "      <th></th>\n",
       "      <th></th>\n",
       "      <th></th>\n",
       "      <th></th>\n",
       "      <th></th>\n",
       "      <th></th>\n",
       "      <th></th>\n",
       "      <th></th>\n",
       "      <th></th>\n",
       "    </tr>\n",
       "  </thead>\n",
       "  <tbody>\n",
       "    <tr>\n",
       "      <th>id27</th>\n",
       "      <td>-1.856</td>\n",
       "      <td>-56.556</td>\n",
       "      <td>-17.655</td>\n",
       "      <td>-0.635</td>\n",
       "      <td>-14.021</td>\n",
       "      <td>-47.397</td>\n",
       "      <td>60.738</td>\n",
       "      <td>4.549</td>\n",
       "      <td>-11.275</td>\n",
       "      <td>-29.846</td>\n",
       "      <td>...</td>\n",
       "      <td>46.195</td>\n",
       "      <td>17.980</td>\n",
       "      <td>-38.201</td>\n",
       "      <td>-63.067</td>\n",
       "      <td>-7.260</td>\n",
       "      <td>-18.807</td>\n",
       "      <td>-26.718</td>\n",
       "      <td>-65.773</td>\n",
       "      <td>-32.008</td>\n",
       "      <td>-0.152</td>\n",
       "    </tr>\n",
       "    <tr>\n",
       "      <th>id39</th>\n",
       "      <td>-10.020</td>\n",
       "      <td>-37.893</td>\n",
       "      <td>5.512</td>\n",
       "      <td>4.392</td>\n",
       "      <td>-16.273</td>\n",
       "      <td>-43.165</td>\n",
       "      <td>34.261</td>\n",
       "      <td>37.852</td>\n",
       "      <td>-56.066</td>\n",
       "      <td>6.019</td>\n",
       "      <td>...</td>\n",
       "      <td>24.346</td>\n",
       "      <td>-14.992</td>\n",
       "      <td>-52.569</td>\n",
       "      <td>-75.148</td>\n",
       "      <td>-26.165</td>\n",
       "      <td>17.749</td>\n",
       "      <td>-3.785</td>\n",
       "      <td>-68.614</td>\n",
       "      <td>-17.951</td>\n",
       "      <td>46.924</td>\n",
       "    </tr>\n",
       "  </tbody>\n",
       "</table>\n",
       "<p>2 rows × 100 columns</p>\n",
       "</div>"
      ],
      "text/plain": [
       "         1       2       3      4       5       6       7       8       9    \\\n",
       "0                                                                             \n",
       "id27  -1.856 -56.556 -17.655 -0.635 -14.021 -47.397  60.738   4.549 -11.275   \n",
       "id39 -10.020 -37.893   5.512  4.392 -16.273 -43.165  34.261  37.852 -56.066   \n",
       "\n",
       "         10   ...     91      92      93      94      95      96      97   \\\n",
       "0             ...                                                           \n",
       "id27 -29.846  ...  46.195  17.980 -38.201 -63.067  -7.260 -18.807 -26.718   \n",
       "id39   6.019  ...  24.346 -14.992 -52.569 -75.148 -26.165  17.749  -3.785   \n",
       "\n",
       "         98      99      100  \n",
       "0                             \n",
       "id27 -65.773 -32.008  -0.152  \n",
       "id39 -68.614 -17.951  46.924  \n",
       "\n",
       "[2 rows x 100 columns]"
      ]
     },
     "execution_count": 18,
     "metadata": {},
     "output_type": "execute_result"
    }
   ],
   "source": [
    "x_test.head(2)"
   ]
  },
  {
   "cell_type": "code",
   "execution_count": 19,
   "metadata": {},
   "outputs": [
    {
     "data": {
      "text/html": [
       "<div>\n",
       "<style scoped>\n",
       "    .dataframe tbody tr th:only-of-type {\n",
       "        vertical-align: middle;\n",
       "    }\n",
       "\n",
       "    .dataframe tbody tr th {\n",
       "        vertical-align: top;\n",
       "    }\n",
       "\n",
       "    .dataframe thead th {\n",
       "        text-align: right;\n",
       "    }\n",
       "</style>\n",
       "<table border=\"1\" class=\"dataframe\">\n",
       "  <thead>\n",
       "    <tr style=\"text-align: right;\">\n",
       "      <th></th>\n",
       "      <th>nN</th>\n",
       "      <th>nS</th>\n",
       "      <th>nO</th>\n",
       "      <th>nX</th>\n",
       "      <th>nBondsD</th>\n",
       "      <th>nBondsT</th>\n",
       "      <th>naRing</th>\n",
       "      <th>nARing</th>\n",
       "    </tr>\n",
       "    <tr>\n",
       "      <th>0</th>\n",
       "      <th></th>\n",
       "      <th></th>\n",
       "      <th></th>\n",
       "      <th></th>\n",
       "      <th></th>\n",
       "      <th></th>\n",
       "      <th></th>\n",
       "      <th></th>\n",
       "    </tr>\n",
       "  </thead>\n",
       "  <tbody>\n",
       "    <tr>\n",
       "      <th>id27</th>\n",
       "      <td>0</td>\n",
       "      <td>0</td>\n",
       "      <td>4</td>\n",
       "      <td>0</td>\n",
       "      <td>2</td>\n",
       "      <td>0</td>\n",
       "      <td>2</td>\n",
       "      <td>0</td>\n",
       "    </tr>\n",
       "    <tr>\n",
       "      <th>id39</th>\n",
       "      <td>2</td>\n",
       "      <td>0</td>\n",
       "      <td>2</td>\n",
       "      <td>0</td>\n",
       "      <td>2</td>\n",
       "      <td>1</td>\n",
       "      <td>2</td>\n",
       "      <td>1</td>\n",
       "    </tr>\n",
       "  </tbody>\n",
       "</table>\n",
       "</div>"
      ],
      "text/plain": [
       "      nN  nS  nO  nX  nBondsD  nBondsT  naRing  nARing\n",
       "0                                                     \n",
       "id27   0   0   4   0        2        0       2       0\n",
       "id39   2   0   2   0        2        1       2       1"
      ]
     },
     "execution_count": 19,
     "metadata": {},
     "output_type": "execute_result"
    }
   ],
   "source": [
    "y_test.head(2)"
   ]
  },
  {
   "cell_type": "code",
   "execution_count": 20,
   "metadata": {},
   "outputs": [
    {
     "data": {
      "text/html": [
       "<div>\n",
       "<style scoped>\n",
       "    .dataframe tbody tr th:only-of-type {\n",
       "        vertical-align: middle;\n",
       "    }\n",
       "\n",
       "    .dataframe tbody tr th {\n",
       "        vertical-align: top;\n",
       "    }\n",
       "\n",
       "    .dataframe thead th {\n",
       "        text-align: right;\n",
       "    }\n",
       "</style>\n",
       "<table border=\"1\" class=\"dataframe\">\n",
       "  <thead>\n",
       "    <tr style=\"text-align: right;\">\n",
       "      <th></th>\n",
       "      <th>nN</th>\n",
       "      <th>nS</th>\n",
       "      <th>nO</th>\n",
       "      <th>nX</th>\n",
       "      <th>nBondsD</th>\n",
       "      <th>nBondsT</th>\n",
       "      <th>naRing</th>\n",
       "      <th>nARing</th>\n",
       "    </tr>\n",
       "    <tr>\n",
       "      <th>0</th>\n",
       "      <th></th>\n",
       "      <th></th>\n",
       "      <th></th>\n",
       "      <th></th>\n",
       "      <th></th>\n",
       "      <th></th>\n",
       "      <th></th>\n",
       "      <th></th>\n",
       "    </tr>\n",
       "  </thead>\n",
       "  <tbody>\n",
       "    <tr>\n",
       "      <th>id27</th>\n",
       "      <td>0</td>\n",
       "      <td>0</td>\n",
       "      <td>4</td>\n",
       "      <td>0</td>\n",
       "      <td>2</td>\n",
       "      <td>0</td>\n",
       "      <td>2</td>\n",
       "      <td>0</td>\n",
       "    </tr>\n",
       "    <tr>\n",
       "      <th>id39</th>\n",
       "      <td>2</td>\n",
       "      <td>0</td>\n",
       "      <td>2</td>\n",
       "      <td>0</td>\n",
       "      <td>1</td>\n",
       "      <td>1</td>\n",
       "      <td>2</td>\n",
       "      <td>1</td>\n",
       "    </tr>\n",
       "  </tbody>\n",
       "</table>\n",
       "</div>"
      ],
      "text/plain": [
       "      nN  nS  nO  nX  nBondsD  nBondsT  naRing  nARing\n",
       "0                                                     \n",
       "id27   0   0   4   0        2        0       2       0\n",
       "id39   2   0   2   0        1        1       2       1"
      ]
     },
     "execution_count": 20,
     "metadata": {},
     "output_type": "execute_result"
    }
   ],
   "source": [
    "y_test_pred = predict_y_reg(x=x_test, model=model)\n",
    "y_test_pred = pd.DataFrame(data=y_test_pred, index=y_test.index, columns=y_test.columns)\n",
    "y_test_pred.head(2)"
   ]
  },
  {
   "cell_type": "code",
   "execution_count": 21,
   "metadata": {},
   "outputs": [
    {
     "data": {
      "text/html": [
       "<div>\n",
       "<style scoped>\n",
       "    .dataframe tbody tr th:only-of-type {\n",
       "        vertical-align: middle;\n",
       "    }\n",
       "\n",
       "    .dataframe tbody tr th {\n",
       "        vertical-align: top;\n",
       "    }\n",
       "\n",
       "    .dataframe thead th {\n",
       "        text-align: right;\n",
       "    }\n",
       "</style>\n",
       "<table border=\"1\" class=\"dataframe\">\n",
       "  <thead>\n",
       "    <tr style=\"text-align: right;\">\n",
       "      <th></th>\n",
       "      <th>nN</th>\n",
       "      <th>nS</th>\n",
       "      <th>nO</th>\n",
       "      <th>nX</th>\n",
       "      <th>nBondsD</th>\n",
       "      <th>nBondsT</th>\n",
       "      <th>naRing</th>\n",
       "      <th>nARing</th>\n",
       "    </tr>\n",
       "    <tr>\n",
       "      <th>0</th>\n",
       "      <th></th>\n",
       "      <th></th>\n",
       "      <th></th>\n",
       "      <th></th>\n",
       "      <th></th>\n",
       "      <th></th>\n",
       "      <th></th>\n",
       "      <th></th>\n",
       "    </tr>\n",
       "  </thead>\n",
       "  <tbody>\n",
       "    <tr>\n",
       "      <th>id27</th>\n",
       "      <td>0</td>\n",
       "      <td>0</td>\n",
       "      <td>4</td>\n",
       "      <td>0</td>\n",
       "      <td>2</td>\n",
       "      <td>0</td>\n",
       "      <td>2</td>\n",
       "      <td>0</td>\n",
       "    </tr>\n",
       "    <tr>\n",
       "      <th>id39</th>\n",
       "      <td>2</td>\n",
       "      <td>0</td>\n",
       "      <td>2</td>\n",
       "      <td>0</td>\n",
       "      <td>1</td>\n",
       "      <td>1</td>\n",
       "      <td>2</td>\n",
       "      <td>1</td>\n",
       "    </tr>\n",
       "  </tbody>\n",
       "</table>\n",
       "</div>"
      ],
      "text/plain": [
       "      nN  nS  nO  nX  nBondsD  nBondsT  naRing  nARing\n",
       "0                                                     \n",
       "id27   0   0   4   0        2        0       2       0\n",
       "id39   2   0   2   0        1        1       2       1"
      ]
     },
     "execution_count": 21,
     "metadata": {},
     "output_type": "execute_result"
    }
   ],
   "source": [
    "y_test_pred.head(2)"
   ]
  },
  {
   "cell_type": "code",
   "execution_count": 22,
   "metadata": {},
   "outputs": [
    {
     "data": {
      "text/html": [
       "<div>\n",
       "<style scoped>\n",
       "    .dataframe tbody tr th:only-of-type {\n",
       "        vertical-align: middle;\n",
       "    }\n",
       "\n",
       "    .dataframe tbody tr th {\n",
       "        vertical-align: top;\n",
       "    }\n",
       "\n",
       "    .dataframe thead th {\n",
       "        text-align: right;\n",
       "    }\n",
       "</style>\n",
       "<table border=\"1\" class=\"dataframe\">\n",
       "  <thead>\n",
       "    <tr style=\"text-align: right;\">\n",
       "      <th></th>\n",
       "      <th>num</th>\n",
       "      <th>n_error</th>\n",
       "    </tr>\n",
       "  </thead>\n",
       "  <tbody>\n",
       "    <tr>\n",
       "      <th>10101010</th>\n",
       "      <td>5000</td>\n",
       "      <td>342</td>\n",
       "    </tr>\n",
       "    <tr>\n",
       "      <th>10101111</th>\n",
       "      <td>5000</td>\n",
       "      <td>100</td>\n",
       "    </tr>\n",
       "  </tbody>\n",
       "</table>\n",
       "</div>"
      ],
      "text/plain": [
       "           num  n_error\n",
       "10101010  5000      342\n",
       "10101111  5000      100"
      ]
     },
     "execution_count": 22,
     "metadata": {},
     "output_type": "execute_result"
    }
   ],
   "source": [
    "y_test_bool = y_test.copy()\n",
    "y_test_pred_bool = y_test_pred.copy()\n",
    "y_test_bool[y_test >= 1] = 1\n",
    "y_test_pred_bool[y_test_pred >= 1] = 1\n",
    "y_test_class2num = count_pred_error_in_class(y=y_test_bool, y_pred=y_test_pred_bool)\n",
    "y_test_class2num.head(2)"
   ]
  },
  {
   "cell_type": "code",
   "execution_count": 23,
   "metadata": {},
   "outputs": [
    {
     "data": {
      "text/plain": [
       "num        48207\n",
       "n_error     3332\n",
       "dtype: int64"
      ]
     },
     "execution_count": 23,
     "metadata": {},
     "output_type": "execute_result"
    }
   ],
   "source": [
    "y_test_class2num.sum()"
   ]
  },
  {
   "cell_type": "code",
   "execution_count": 24,
   "metadata": {},
   "outputs": [
    {
     "data": {
      "text/plain": [
       "(0.16223784927500157,\n",
       " 0.14143174227809238,\n",
       " 0.06177526085423279,\n",
       " 0.15128244906401903,\n",
       " 0.42597548073931174,\n",
       " 0.06911859273549485)"
      ]
     },
     "execution_count": 24,
     "metadata": {},
     "output_type": "execute_result"
    }
   ],
   "source": [
    "7821 / 48207, 6818 / 48207, 2978/48207, 5851/38676, 20535/48207, 3332/48207"
   ]
  },
  {
   "cell_type": "code",
   "execution_count": 25,
   "metadata": {},
   "outputs": [],
   "source": [
    "y_test_class2num['class_in_train'] = 0\n",
    "y_test_class2num.loc[y_test_class2num.index.isin(y_train_class2num2.index), 'class_in_train'] = 1"
   ]
  },
  {
   "cell_type": "code",
   "execution_count": 26,
   "metadata": {},
   "outputs": [],
   "source": [
    "y_test_class2num['accuray_in_each_class'] = 1 - y_test_class2num['n_error'] / y_test_class2num['num']"
   ]
  },
  {
   "cell_type": "code",
   "execution_count": 27,
   "metadata": {},
   "outputs": [
    {
     "data": {
      "text/html": [
       "<div>\n",
       "<style scoped>\n",
       "    .dataframe tbody tr th:only-of-type {\n",
       "        vertical-align: middle;\n",
       "    }\n",
       "\n",
       "    .dataframe tbody tr th {\n",
       "        vertical-align: top;\n",
       "    }\n",
       "\n",
       "    .dataframe thead th {\n",
       "        text-align: right;\n",
       "    }\n",
       "</style>\n",
       "<table border=\"1\" class=\"dataframe\">\n",
       "  <thead>\n",
       "    <tr style=\"text-align: right;\">\n",
       "      <th></th>\n",
       "      <th>num</th>\n",
       "      <th>n_error</th>\n",
       "      <th>class_in_train</th>\n",
       "      <th>accuray_in_each_class</th>\n",
       "    </tr>\n",
       "  </thead>\n",
       "  <tbody>\n",
       "    <tr>\n",
       "      <th>10101010</th>\n",
       "      <td>5000</td>\n",
       "      <td>342</td>\n",
       "      <td>0</td>\n",
       "      <td>0.93160</td>\n",
       "    </tr>\n",
       "    <tr>\n",
       "      <th>10101111</th>\n",
       "      <td>5000</td>\n",
       "      <td>100</td>\n",
       "      <td>0</td>\n",
       "      <td>0.98000</td>\n",
       "    </tr>\n",
       "    <tr>\n",
       "      <th>10111111</th>\n",
       "      <td>5000</td>\n",
       "      <td>638</td>\n",
       "      <td>0</td>\n",
       "      <td>0.87240</td>\n",
       "    </tr>\n",
       "    <tr>\n",
       "      <th>11101010</th>\n",
       "      <td>5000</td>\n",
       "      <td>396</td>\n",
       "      <td>0</td>\n",
       "      <td>0.92080</td>\n",
       "    </tr>\n",
       "    <tr>\n",
       "      <th>11000011</th>\n",
       "      <td>3826</td>\n",
       "      <td>73</td>\n",
       "      <td>0</td>\n",
       "      <td>0.98092</td>\n",
       "    </tr>\n",
       "  </tbody>\n",
       "</table>\n",
       "</div>"
      ],
      "text/plain": [
       "           num  n_error  class_in_train  accuray_in_each_class\n",
       "10101010  5000      342               0                0.93160\n",
       "10101111  5000      100               0                0.98000\n",
       "10111111  5000      638               0                0.87240\n",
       "11101010  5000      396               0                0.92080\n",
       "11000011  3826       73               0                0.98092"
      ]
     },
     "execution_count": 27,
     "metadata": {},
     "output_type": "execute_result"
    }
   ],
   "source": [
    "y_test_class2num.head()"
   ]
  },
  {
   "cell_type": "code",
   "execution_count": 28,
   "metadata": {},
   "outputs": [],
   "source": [
    "y_test_class2num.to_csv('../big-data/moses_dataset/model_mol2vec/y_test_class2num_reg_model_mol2vec_new.csv')"
   ]
  },
  {
   "cell_type": "markdown",
   "metadata": {},
   "source": [
    "### embedding vector"
   ]
  },
  {
   "cell_type": "code",
   "execution_count": 29,
   "metadata": {},
   "outputs": [
    {
     "name": "stdout",
     "output_type": "stream",
     "text": [
      "WARNING:tensorflow:No training configuration found in save file: the model was *not* compiled. Compile it manually.\n"
     ]
    },
    {
     "data": {
      "text/plain": [
       "<tensorflow.python.keras.engine.sequential.Sequential at 0x7fd0a5cff390>"
      ]
     },
     "execution_count": 29,
     "metadata": {},
     "output_type": "execute_result"
    }
   ],
   "source": [
    "m_part1 = keras.models.load_model('../big-data/moses_dataset/model_mol2vec/m_part1_reg.h5')\n",
    "m_part1"
   ]
  },
  {
   "cell_type": "code",
   "execution_count": 30,
   "metadata": {},
   "outputs": [
    {
     "data": {
      "text/plain": [
       "(204177, 100)"
      ]
     },
     "execution_count": 30,
     "metadata": {},
     "output_type": "execute_result"
    }
   ],
   "source": [
    "x_train_test = x_train.append(x_test)\n",
    "x_train_test.shape"
   ]
  },
  {
   "cell_type": "code",
   "execution_count": 33,
   "metadata": {},
   "outputs": [
    {
     "data": {
      "text/html": [
       "<div>\n",
       "<style scoped>\n",
       "    .dataframe tbody tr th:only-of-type {\n",
       "        vertical-align: middle;\n",
       "    }\n",
       "\n",
       "    .dataframe tbody tr th {\n",
       "        vertical-align: top;\n",
       "    }\n",
       "\n",
       "    .dataframe thead th {\n",
       "        text-align: right;\n",
       "    }\n",
       "</style>\n",
       "<table border=\"1\" class=\"dataframe\">\n",
       "  <thead>\n",
       "    <tr style=\"text-align: right;\">\n",
       "      <th></th>\n",
       "      <th>smiles</th>\n",
       "    </tr>\n",
       "    <tr>\n",
       "      <th>cid</th>\n",
       "      <th></th>\n",
       "    </tr>\n",
       "  </thead>\n",
       "  <tbody>\n",
       "    <tr>\n",
       "      <th>id2</th>\n",
       "      <td>CCCS(=O)c1ccc2[nH]c(=NC(=O)OC)[nH]c2c1</td>\n",
       "    </tr>\n",
       "    <tr>\n",
       "      <th>id3</th>\n",
       "      <td>CC(C)(C)C(=O)C(Oc1ccc(Cl)cc1)n1ccnc1</td>\n",
       "    </tr>\n",
       "  </tbody>\n",
       "</table>\n",
       "</div>"
      ],
      "text/plain": [
       "                                     smiles\n",
       "cid                                        \n",
       "id2  CCCS(=O)c1ccc2[nH]c(=NC(=O)OC)[nH]c2c1\n",
       "id3    CC(C)(C)C(=O)C(Oc1ccc(Cl)cc1)n1ccnc1"
      ]
     },
     "execution_count": 33,
     "metadata": {},
     "output_type": "execute_result"
    }
   ],
   "source": [
    "cid2smiles = pd.read_csv('../big-data/moses_dataset/result/mol2md_with_cid.csv', index_col='cid', usecols=['smiles', 'cid'])\n",
    "cid2smiles.head(2)"
   ]
  },
  {
   "cell_type": "code",
   "execution_count": 64,
   "metadata": {},
   "outputs": [
    {
     "data": {
      "text/html": [
       "<div>\n",
       "<style scoped>\n",
       "    .dataframe tbody tr th:only-of-type {\n",
       "        vertical-align: middle;\n",
       "    }\n",
       "\n",
       "    .dataframe tbody tr th {\n",
       "        vertical-align: top;\n",
       "    }\n",
       "\n",
       "    .dataframe thead th {\n",
       "        text-align: right;\n",
       "    }\n",
       "</style>\n",
       "<table border=\"1\" class=\"dataframe\">\n",
       "  <thead>\n",
       "    <tr style=\"text-align: right;\">\n",
       "      <th></th>\n",
       "      <th>1</th>\n",
       "      <th>2</th>\n",
       "      <th>3</th>\n",
       "      <th>4</th>\n",
       "      <th>5</th>\n",
       "      <th>6</th>\n",
       "      <th>7</th>\n",
       "      <th>8</th>\n",
       "      <th>9</th>\n",
       "      <th>10</th>\n",
       "      <th>...</th>\n",
       "      <th>91</th>\n",
       "      <th>92</th>\n",
       "      <th>93</th>\n",
       "      <th>94</th>\n",
       "      <th>95</th>\n",
       "      <th>96</th>\n",
       "      <th>97</th>\n",
       "      <th>98</th>\n",
       "      <th>99</th>\n",
       "      <th>100</th>\n",
       "    </tr>\n",
       "    <tr>\n",
       "      <th>smiles</th>\n",
       "      <th></th>\n",
       "      <th></th>\n",
       "      <th></th>\n",
       "      <th></th>\n",
       "      <th></th>\n",
       "      <th></th>\n",
       "      <th></th>\n",
       "      <th></th>\n",
       "      <th></th>\n",
       "      <th></th>\n",
       "      <th></th>\n",
       "      <th></th>\n",
       "      <th></th>\n",
       "      <th></th>\n",
       "      <th></th>\n",
       "      <th></th>\n",
       "      <th></th>\n",
       "      <th></th>\n",
       "      <th></th>\n",
       "      <th></th>\n",
       "      <th></th>\n",
       "    </tr>\n",
       "  </thead>\n",
       "  <tbody>\n",
       "    <tr>\n",
       "      <th>CC1Oc2ccc(Cl)cc2N(CC(O)CO)C1=O</th>\n",
       "      <td>23.425</td>\n",
       "      <td>3.503</td>\n",
       "      <td>-10.885</td>\n",
       "      <td>-29.461</td>\n",
       "      <td>27.768</td>\n",
       "      <td>-9.342</td>\n",
       "      <td>14.281</td>\n",
       "      <td>-48.240</td>\n",
       "      <td>1.767</td>\n",
       "      <td>-0.328</td>\n",
       "      <td>...</td>\n",
       "      <td>8.005</td>\n",
       "      <td>9.494</td>\n",
       "      <td>-23.133</td>\n",
       "      <td>-0.944</td>\n",
       "      <td>-13.409</td>\n",
       "      <td>-20.449</td>\n",
       "      <td>-15.793</td>\n",
       "      <td>-17.295</td>\n",
       "      <td>-6.348</td>\n",
       "      <td>2.038</td>\n",
       "    </tr>\n",
       "    <tr>\n",
       "      <th>COc1ccccc1OC(=O)Oc1ccccc1OC</th>\n",
       "      <td>45.314</td>\n",
       "      <td>1.383</td>\n",
       "      <td>-3.867</td>\n",
       "      <td>-7.540</td>\n",
       "      <td>-13.052</td>\n",
       "      <td>34.788</td>\n",
       "      <td>32.245</td>\n",
       "      <td>-44.028</td>\n",
       "      <td>5.547</td>\n",
       "      <td>2.348</td>\n",
       "      <td>...</td>\n",
       "      <td>-5.454</td>\n",
       "      <td>5.978</td>\n",
       "      <td>-40.544</td>\n",
       "      <td>-51.711</td>\n",
       "      <td>-12.974</td>\n",
       "      <td>-5.763</td>\n",
       "      <td>-40.700</td>\n",
       "      <td>-33.748</td>\n",
       "      <td>-29.275</td>\n",
       "      <td>-21.032</td>\n",
       "    </tr>\n",
       "  </tbody>\n",
       "</table>\n",
       "<p>2 rows × 100 columns</p>\n",
       "</div>"
      ],
      "text/plain": [
       "                                   1      2       3       4       5       6    \\\n",
       "smiles                                                                          \n",
       "CC1Oc2ccc(Cl)cc2N(CC(O)CO)C1=O  23.425  3.503 -10.885 -29.461  27.768  -9.342   \n",
       "COc1ccccc1OC(=O)Oc1ccccc1OC     45.314  1.383  -3.867  -7.540 -13.052  34.788   \n",
       "\n",
       "                                   7       8      9      10   ...    91   \\\n",
       "smiles                                                        ...          \n",
       "CC1Oc2ccc(Cl)cc2N(CC(O)CO)C1=O  14.281 -48.240  1.767 -0.328  ...  8.005   \n",
       "COc1ccccc1OC(=O)Oc1ccccc1OC     32.245 -44.028  5.547  2.348  ... -5.454   \n",
       "\n",
       "                                  92      93      94      95      96      97   \\\n",
       "smiles                                                                          \n",
       "CC1Oc2ccc(Cl)cc2N(CC(O)CO)C1=O  9.494 -23.133  -0.944 -13.409 -20.449 -15.793   \n",
       "COc1ccccc1OC(=O)Oc1ccccc1OC     5.978 -40.544 -51.711 -12.974  -5.763 -40.700   \n",
       "\n",
       "                                   98      99      100  \n",
       "smiles                                                  \n",
       "CC1Oc2ccc(Cl)cc2N(CC(O)CO)C1=O -17.295  -6.348   2.038  \n",
       "COc1ccccc1OC(=O)Oc1ccccc1OC    -33.748 -29.275 -21.032  \n",
       "\n",
       "[2 rows x 100 columns]"
      ]
     },
     "execution_count": 64,
     "metadata": {},
     "output_type": "execute_result"
    }
   ],
   "source": [
    "smiles_x_train_test = x_train_test.copy()\n",
    "smiles_x_train_test['smiles'] = x_train_test.index.map(lambda x: cid2smiles.loc[x, 'smiles'])\n",
    "smiles_x_train_test.set_index('smiles', inplace=True)\n",
    "smiles_x_train_test.head(2)"
   ]
  },
  {
   "cell_type": "code",
   "execution_count": 31,
   "metadata": {},
   "outputs": [
    {
     "data": {
      "text/plain": [
       "numpy.ndarray"
      ]
     },
     "execution_count": 31,
     "metadata": {},
     "output_type": "execute_result"
    }
   ],
   "source": [
    "x_embedding = m_part1.predict(x_train_test)\n",
    "type(x_embedding)"
   ]
  },
  {
   "cell_type": "code",
   "execution_count": 32,
   "metadata": {},
   "outputs": [
    {
     "data": {
      "text/html": [
       "<div>\n",
       "<style scoped>\n",
       "    .dataframe tbody tr th:only-of-type {\n",
       "        vertical-align: middle;\n",
       "    }\n",
       "\n",
       "    .dataframe tbody tr th {\n",
       "        vertical-align: top;\n",
       "    }\n",
       "\n",
       "    .dataframe thead th {\n",
       "        text-align: right;\n",
       "    }\n",
       "</style>\n",
       "<table border=\"1\" class=\"dataframe\">\n",
       "  <thead>\n",
       "    <tr style=\"text-align: right;\">\n",
       "      <th></th>\n",
       "      <th>0</th>\n",
       "      <th>1</th>\n",
       "      <th>2</th>\n",
       "      <th>3</th>\n",
       "      <th>4</th>\n",
       "      <th>5</th>\n",
       "      <th>6</th>\n",
       "      <th>7</th>\n",
       "      <th>8</th>\n",
       "      <th>9</th>\n",
       "      <th>...</th>\n",
       "      <th>20</th>\n",
       "      <th>21</th>\n",
       "      <th>22</th>\n",
       "      <th>23</th>\n",
       "      <th>24</th>\n",
       "      <th>25</th>\n",
       "      <th>26</th>\n",
       "      <th>27</th>\n",
       "      <th>28</th>\n",
       "      <th>29</th>\n",
       "    </tr>\n",
       "    <tr>\n",
       "      <th>0</th>\n",
       "      <th></th>\n",
       "      <th></th>\n",
       "      <th></th>\n",
       "      <th></th>\n",
       "      <th></th>\n",
       "      <th></th>\n",
       "      <th></th>\n",
       "      <th></th>\n",
       "      <th></th>\n",
       "      <th></th>\n",
       "      <th></th>\n",
       "      <th></th>\n",
       "      <th></th>\n",
       "      <th></th>\n",
       "      <th></th>\n",
       "      <th></th>\n",
       "      <th></th>\n",
       "      <th></th>\n",
       "      <th></th>\n",
       "      <th></th>\n",
       "      <th></th>\n",
       "    </tr>\n",
       "  </thead>\n",
       "  <tbody>\n",
       "    <tr>\n",
       "      <th>id6</th>\n",
       "      <td>8.015435</td>\n",
       "      <td>42.553406</td>\n",
       "      <td>7.761578</td>\n",
       "      <td>24.478992</td>\n",
       "      <td>6.927800</td>\n",
       "      <td>-1.758099</td>\n",
       "      <td>-1.404098</td>\n",
       "      <td>31.323586</td>\n",
       "      <td>6.068540</td>\n",
       "      <td>24.564615</td>\n",
       "      <td>...</td>\n",
       "      <td>-1.758099</td>\n",
       "      <td>25.490200</td>\n",
       "      <td>-1.758099</td>\n",
       "      <td>17.449503</td>\n",
       "      <td>-1.758099</td>\n",
       "      <td>-1.757850</td>\n",
       "      <td>-1.758099</td>\n",
       "      <td>-1.758099</td>\n",
       "      <td>70.930901</td>\n",
       "      <td>-1.758099</td>\n",
       "    </tr>\n",
       "    <tr>\n",
       "      <th>id8</th>\n",
       "      <td>5.744818</td>\n",
       "      <td>45.429264</td>\n",
       "      <td>34.519726</td>\n",
       "      <td>31.130407</td>\n",
       "      <td>-1.758099</td>\n",
       "      <td>-1.758099</td>\n",
       "      <td>-1.622563</td>\n",
       "      <td>54.093750</td>\n",
       "      <td>-1.758099</td>\n",
       "      <td>24.393270</td>\n",
       "      <td>...</td>\n",
       "      <td>-1.758099</td>\n",
       "      <td>23.093681</td>\n",
       "      <td>-1.758099</td>\n",
       "      <td>-1.757834</td>\n",
       "      <td>-1.758099</td>\n",
       "      <td>5.502191</td>\n",
       "      <td>-1.758099</td>\n",
       "      <td>-1.758099</td>\n",
       "      <td>106.119667</td>\n",
       "      <td>-1.758099</td>\n",
       "    </tr>\n",
       "  </tbody>\n",
       "</table>\n",
       "<p>2 rows × 30 columns</p>\n",
       "</div>"
      ],
      "text/plain": [
       "           0          1          2          3         4         5         6   \\\n",
       "0                                                                              \n",
       "id6  8.015435  42.553406   7.761578  24.478992  6.927800 -1.758099 -1.404098   \n",
       "id8  5.744818  45.429264  34.519726  31.130407 -1.758099 -1.758099 -1.622563   \n",
       "\n",
       "            7         8          9   ...        20         21        22  \\\n",
       "0                                    ...                                  \n",
       "id6  31.323586  6.068540  24.564615  ... -1.758099  25.490200 -1.758099   \n",
       "id8  54.093750 -1.758099  24.393270  ... -1.758099  23.093681 -1.758099   \n",
       "\n",
       "            23        24        25        26        27          28        29  \n",
       "0                                                                             \n",
       "id6  17.449503 -1.758099 -1.757850 -1.758099 -1.758099   70.930901 -1.758099  \n",
       "id8  -1.757834 -1.758099  5.502191 -1.758099 -1.758099  106.119667 -1.758099  \n",
       "\n",
       "[2 rows x 30 columns]"
      ]
     },
     "execution_count": 32,
     "metadata": {},
     "output_type": "execute_result"
    }
   ],
   "source": [
    "x_embedding = pd.DataFrame(data=x_embedding, index=x_train_test.index)\n",
    "x_embedding.head(2)"
   ]
  },
  {
   "cell_type": "markdown",
   "metadata": {},
   "source": [
    "##### fragment embedding"
   ]
  },
  {
   "cell_type": "code",
   "execution_count": 93,
   "metadata": {},
   "outputs": [
    {
     "data": {
      "text/html": [
       "<div>\n",
       "<style scoped>\n",
       "    .dataframe tbody tr th:only-of-type {\n",
       "        vertical-align: middle;\n",
       "    }\n",
       "\n",
       "    .dataframe tbody tr th {\n",
       "        vertical-align: top;\n",
       "    }\n",
       "\n",
       "    .dataframe thead th {\n",
       "        text-align: right;\n",
       "    }\n",
       "</style>\n",
       "<table border=\"1\" class=\"dataframe\">\n",
       "  <thead>\n",
       "    <tr style=\"text-align: right;\">\n",
       "      <th></th>\n",
       "      <th>0</th>\n",
       "      <th>1</th>\n",
       "      <th>2</th>\n",
       "      <th>3</th>\n",
       "      <th>4</th>\n",
       "      <th>5</th>\n",
       "      <th>6</th>\n",
       "      <th>7</th>\n",
       "      <th>8</th>\n",
       "      <th>9</th>\n",
       "      <th>...</th>\n",
       "      <th>90</th>\n",
       "      <th>91</th>\n",
       "      <th>92</th>\n",
       "      <th>93</th>\n",
       "      <th>94</th>\n",
       "      <th>95</th>\n",
       "      <th>96</th>\n",
       "      <th>97</th>\n",
       "      <th>98</th>\n",
       "      <th>99</th>\n",
       "    </tr>\n",
       "    <tr>\n",
       "      <th>fragment</th>\n",
       "      <th></th>\n",
       "      <th></th>\n",
       "      <th></th>\n",
       "      <th></th>\n",
       "      <th></th>\n",
       "      <th></th>\n",
       "      <th></th>\n",
       "      <th></th>\n",
       "      <th></th>\n",
       "      <th></th>\n",
       "      <th></th>\n",
       "      <th></th>\n",
       "      <th></th>\n",
       "      <th></th>\n",
       "      <th></th>\n",
       "      <th></th>\n",
       "      <th></th>\n",
       "      <th></th>\n",
       "      <th></th>\n",
       "      <th></th>\n",
       "      <th></th>\n",
       "    </tr>\n",
       "  </thead>\n",
       "  <tbody>\n",
       "    <tr>\n",
       "      <th>CC</th>\n",
       "      <td>0.895698</td>\n",
       "      <td>0.960010</td>\n",
       "      <td>0.284487</td>\n",
       "      <td>0.496197</td>\n",
       "      <td>0.273477</td>\n",
       "      <td>0.111131</td>\n",
       "      <td>0.001074</td>\n",
       "      <td>0.162645</td>\n",
       "      <td>0.147884</td>\n",
       "      <td>0.386042</td>\n",
       "      <td>...</td>\n",
       "      <td>0.542310</td>\n",
       "      <td>0.815626</td>\n",
       "      <td>0.466950</td>\n",
       "      <td>0.756228</td>\n",
       "      <td>0.424695</td>\n",
       "      <td>0.267780</td>\n",
       "      <td>0.917830</td>\n",
       "      <td>0.399672</td>\n",
       "      <td>0.797357</td>\n",
       "      <td>0.339533</td>\n",
       "    </tr>\n",
       "    <tr>\n",
       "      <th>CN</th>\n",
       "      <td>0.338719</td>\n",
       "      <td>0.954118</td>\n",
       "      <td>0.503906</td>\n",
       "      <td>0.966711</td>\n",
       "      <td>0.109095</td>\n",
       "      <td>0.011488</td>\n",
       "      <td>0.748014</td>\n",
       "      <td>0.260625</td>\n",
       "      <td>0.091698</td>\n",
       "      <td>0.700343</td>\n",
       "      <td>...</td>\n",
       "      <td>0.013382</td>\n",
       "      <td>0.937310</td>\n",
       "      <td>0.624582</td>\n",
       "      <td>0.896010</td>\n",
       "      <td>0.024113</td>\n",
       "      <td>0.173271</td>\n",
       "      <td>0.042907</td>\n",
       "      <td>0.528013</td>\n",
       "      <td>0.494218</td>\n",
       "      <td>0.652395</td>\n",
       "    </tr>\n",
       "  </tbody>\n",
       "</table>\n",
       "<p>2 rows × 100 columns</p>\n",
       "</div>"
      ],
      "text/plain": [
       "                 0         1         2         3         4         5  \\\n",
       "fragment                                                               \n",
       "CC        0.895698  0.960010  0.284487  0.496197  0.273477  0.111131   \n",
       "CN        0.338719  0.954118  0.503906  0.966711  0.109095  0.011488   \n",
       "\n",
       "                 6         7         8         9  ...        90        91  \\\n",
       "fragment                                          ...                       \n",
       "CC        0.001074  0.162645  0.147884  0.386042  ...  0.542310  0.815626   \n",
       "CN        0.748014  0.260625  0.091698  0.700343  ...  0.013382  0.937310   \n",
       "\n",
       "                92        93        94        95        96        97  \\\n",
       "fragment                                                               \n",
       "CC        0.466950  0.756228  0.424695  0.267780  0.917830  0.399672   \n",
       "CN        0.624582  0.896010  0.024113  0.173271  0.042907  0.528013   \n",
       "\n",
       "                98        99  \n",
       "fragment                      \n",
       "CC        0.797357  0.339533  \n",
       "CN        0.494218  0.652395  \n",
       "\n",
       "[2 rows x 100 columns]"
      ]
     },
     "execution_count": 93,
     "metadata": {},
     "output_type": "execute_result"
    }
   ],
   "source": [
    "frag2vec = pd.read_csv('../big-data/moses_dataset/model_mol2vec/.csv', index_col='fragment')\n",
    "frag2vec.head(2)"
   ]
  },
  {
   "cell_type": "code",
   "execution_count": 94,
   "metadata": {},
   "outputs": [
    {
     "data": {
      "text/html": [
       "<div>\n",
       "<style scoped>\n",
       "    .dataframe tbody tr th:only-of-type {\n",
       "        vertical-align: middle;\n",
       "    }\n",
       "\n",
       "    .dataframe tbody tr th {\n",
       "        vertical-align: top;\n",
       "    }\n",
       "\n",
       "    .dataframe thead th {\n",
       "        text-align: right;\n",
       "    }\n",
       "</style>\n",
       "<table border=\"1\" class=\"dataframe\">\n",
       "  <thead>\n",
       "    <tr style=\"text-align: right;\">\n",
       "      <th></th>\n",
       "      <th>0</th>\n",
       "      <th>1</th>\n",
       "      <th>2</th>\n",
       "      <th>3</th>\n",
       "      <th>4</th>\n",
       "      <th>5</th>\n",
       "      <th>6</th>\n",
       "      <th>7</th>\n",
       "      <th>8</th>\n",
       "      <th>9</th>\n",
       "      <th>...</th>\n",
       "      <th>20</th>\n",
       "      <th>21</th>\n",
       "      <th>22</th>\n",
       "      <th>23</th>\n",
       "      <th>24</th>\n",
       "      <th>25</th>\n",
       "      <th>26</th>\n",
       "      <th>27</th>\n",
       "      <th>28</th>\n",
       "      <th>29</th>\n",
       "    </tr>\n",
       "    <tr>\n",
       "      <th>fragment</th>\n",
       "      <th></th>\n",
       "      <th></th>\n",
       "      <th></th>\n",
       "      <th></th>\n",
       "      <th></th>\n",
       "      <th></th>\n",
       "      <th></th>\n",
       "      <th></th>\n",
       "      <th></th>\n",
       "      <th></th>\n",
       "      <th></th>\n",
       "      <th></th>\n",
       "      <th></th>\n",
       "      <th></th>\n",
       "      <th></th>\n",
       "      <th></th>\n",
       "      <th></th>\n",
       "      <th></th>\n",
       "      <th></th>\n",
       "      <th></th>\n",
       "      <th></th>\n",
       "    </tr>\n",
       "  </thead>\n",
       "  <tbody>\n",
       "    <tr>\n",
       "      <th>CC</th>\n",
       "      <td>-1.427974</td>\n",
       "      <td>-1.593983</td>\n",
       "      <td>-0.740526</td>\n",
       "      <td>-0.730927</td>\n",
       "      <td>0.736501</td>\n",
       "      <td>4.485867</td>\n",
       "      <td>-1.632842</td>\n",
       "      <td>1.330173</td>\n",
       "      <td>-1.687864</td>\n",
       "      <td>-1.672511</td>\n",
       "      <td>...</td>\n",
       "      <td>-1.643310</td>\n",
       "      <td>-1.348866</td>\n",
       "      <td>1.509166</td>\n",
       "      <td>2.201741</td>\n",
       "      <td>0.676346</td>\n",
       "      <td>6.321912</td>\n",
       "      <td>1.351905</td>\n",
       "      <td>2.359972</td>\n",
       "      <td>9.192787</td>\n",
       "      <td>-0.786794</td>\n",
       "    </tr>\n",
       "    <tr>\n",
       "      <th>CN</th>\n",
       "      <td>0.555002</td>\n",
       "      <td>-1.634406</td>\n",
       "      <td>-1.341929</td>\n",
       "      <td>-0.673288</td>\n",
       "      <td>0.282511</td>\n",
       "      <td>1.082839</td>\n",
       "      <td>-1.404662</td>\n",
       "      <td>1.335349</td>\n",
       "      <td>-1.641471</td>\n",
       "      <td>-1.578186</td>\n",
       "      <td>...</td>\n",
       "      <td>0.589535</td>\n",
       "      <td>-0.549161</td>\n",
       "      <td>1.723028</td>\n",
       "      <td>1.235878</td>\n",
       "      <td>1.871615</td>\n",
       "      <td>5.491066</td>\n",
       "      <td>-1.013417</td>\n",
       "      <td>3.084684</td>\n",
       "      <td>10.535640</td>\n",
       "      <td>-0.676520</td>\n",
       "    </tr>\n",
       "  </tbody>\n",
       "</table>\n",
       "<p>2 rows × 30 columns</p>\n",
       "</div>"
      ],
      "text/plain": [
       "                0         1         2         3         4         5   \\\n",
       "fragment                                                               \n",
       "CC       -1.427974 -1.593983 -0.740526 -0.730927  0.736501  4.485867   \n",
       "CN        0.555002 -1.634406 -1.341929 -0.673288  0.282511  1.082839   \n",
       "\n",
       "                6         7         8         9   ...        20        21  \\\n",
       "fragment                                          ...                       \n",
       "CC       -1.632842  1.330173 -1.687864 -1.672511  ... -1.643310 -1.348866   \n",
       "CN       -1.404662  1.335349 -1.641471 -1.578186  ...  0.589535 -0.549161   \n",
       "\n",
       "                22        23        24        25        26        27  \\\n",
       "fragment                                                               \n",
       "CC        1.509166  2.201741  0.676346  6.321912  1.351905  2.359972   \n",
       "CN        1.723028  1.235878  1.871615  5.491066 -1.013417  3.084684   \n",
       "\n",
       "                 28        29  \n",
       "fragment                       \n",
       "CC         9.192787 -0.786794  \n",
       "CN        10.535640 -0.676520  \n",
       "\n",
       "[2 rows x 30 columns]"
      ]
     },
     "execution_count": 94,
     "metadata": {},
     "output_type": "execute_result"
    }
   ],
   "source": [
    "frag_embedding = m_part1.predict(frag2vec)\n",
    "frag_embedding_df = pd.DataFrame(data=frag_embedding, index=frag2vec.index)\n",
    "frag_embedding_df.head(2)"
   ]
  },
  {
   "cell_type": "code",
   "execution_count": 95,
   "metadata": {},
   "outputs": [],
   "source": [
    "frag_embedding_df.to_csv('../big-data/moses_dataset/random_frag_vec/frag_embedding_reg.csv')"
   ]
  },
  {
   "cell_type": "code",
   "execution_count": 62,
   "metadata": {},
   "outputs": [
    {
     "data": {
      "text/plain": [
       "(1584663, 1)"
      ]
     },
     "execution_count": 62,
     "metadata": {},
     "output_type": "execute_result"
    }
   ],
   "source": [
    "cid2smiles.shape"
   ]
  },
  {
   "cell_type": "code",
   "execution_count": 34,
   "metadata": {},
   "outputs": [],
   "source": [
    "#cid2smiles.loc[x_embedding.index, ['smiles']].to_csv('../big-data/moses_dataset/random_frag_vec/cid2smiles_all_in_train_test.csv')"
   ]
  },
  {
   "cell_type": "code",
   "execution_count": 35,
   "metadata": {},
   "outputs": [
    {
     "data": {
      "text/html": [
       "<div>\n",
       "<style scoped>\n",
       "    .dataframe tbody tr th:only-of-type {\n",
       "        vertical-align: middle;\n",
       "    }\n",
       "\n",
       "    .dataframe tbody tr th {\n",
       "        vertical-align: top;\n",
       "    }\n",
       "\n",
       "    .dataframe thead th {\n",
       "        text-align: right;\n",
       "    }\n",
       "</style>\n",
       "<table border=\"1\" class=\"dataframe\">\n",
       "  <thead>\n",
       "    <tr style=\"text-align: right;\">\n",
       "      <th></th>\n",
       "      <th>0</th>\n",
       "      <th>1</th>\n",
       "      <th>2</th>\n",
       "      <th>3</th>\n",
       "      <th>4</th>\n",
       "      <th>5</th>\n",
       "      <th>6</th>\n",
       "      <th>7</th>\n",
       "      <th>8</th>\n",
       "      <th>9</th>\n",
       "      <th>...</th>\n",
       "      <th>20</th>\n",
       "      <th>21</th>\n",
       "      <th>22</th>\n",
       "      <th>23</th>\n",
       "      <th>24</th>\n",
       "      <th>25</th>\n",
       "      <th>26</th>\n",
       "      <th>27</th>\n",
       "      <th>28</th>\n",
       "      <th>29</th>\n",
       "    </tr>\n",
       "    <tr>\n",
       "      <th>smiles</th>\n",
       "      <th></th>\n",
       "      <th></th>\n",
       "      <th></th>\n",
       "      <th></th>\n",
       "      <th></th>\n",
       "      <th></th>\n",
       "      <th></th>\n",
       "      <th></th>\n",
       "      <th></th>\n",
       "      <th></th>\n",
       "      <th></th>\n",
       "      <th></th>\n",
       "      <th></th>\n",
       "      <th></th>\n",
       "      <th></th>\n",
       "      <th></th>\n",
       "      <th></th>\n",
       "      <th></th>\n",
       "      <th></th>\n",
       "      <th></th>\n",
       "      <th></th>\n",
       "    </tr>\n",
       "  </thead>\n",
       "  <tbody>\n",
       "    <tr>\n",
       "      <th>CC1Oc2ccc(Cl)cc2N(CC(O)CO)C1=O</th>\n",
       "      <td>8.015435</td>\n",
       "      <td>42.553406</td>\n",
       "      <td>7.761578</td>\n",
       "      <td>24.478992</td>\n",
       "      <td>6.927800</td>\n",
       "      <td>-1.758099</td>\n",
       "      <td>-1.404098</td>\n",
       "      <td>31.323586</td>\n",
       "      <td>6.068540</td>\n",
       "      <td>24.564615</td>\n",
       "      <td>...</td>\n",
       "      <td>-1.758099</td>\n",
       "      <td>25.490200</td>\n",
       "      <td>-1.758099</td>\n",
       "      <td>17.449503</td>\n",
       "      <td>-1.758099</td>\n",
       "      <td>-1.757850</td>\n",
       "      <td>-1.758099</td>\n",
       "      <td>-1.758099</td>\n",
       "      <td>70.930901</td>\n",
       "      <td>-1.758099</td>\n",
       "    </tr>\n",
       "    <tr>\n",
       "      <th>COc1ccccc1OC(=O)Oc1ccccc1OC</th>\n",
       "      <td>5.744818</td>\n",
       "      <td>45.429264</td>\n",
       "      <td>34.519726</td>\n",
       "      <td>31.130407</td>\n",
       "      <td>-1.758099</td>\n",
       "      <td>-1.758099</td>\n",
       "      <td>-1.622563</td>\n",
       "      <td>54.093750</td>\n",
       "      <td>-1.758099</td>\n",
       "      <td>24.393270</td>\n",
       "      <td>...</td>\n",
       "      <td>-1.758099</td>\n",
       "      <td>23.093681</td>\n",
       "      <td>-1.758099</td>\n",
       "      <td>-1.757834</td>\n",
       "      <td>-1.758099</td>\n",
       "      <td>5.502191</td>\n",
       "      <td>-1.758099</td>\n",
       "      <td>-1.758099</td>\n",
       "      <td>106.119667</td>\n",
       "      <td>-1.758099</td>\n",
       "    </tr>\n",
       "  </tbody>\n",
       "</table>\n",
       "<p>2 rows × 30 columns</p>\n",
       "</div>"
      ],
      "text/plain": [
       "                                      0          1          2          3   \\\n",
       "smiles                                                                      \n",
       "CC1Oc2ccc(Cl)cc2N(CC(O)CO)C1=O  8.015435  42.553406   7.761578  24.478992   \n",
       "COc1ccccc1OC(=O)Oc1ccccc1OC     5.744818  45.429264  34.519726  31.130407   \n",
       "\n",
       "                                      4         5         6          7   \\\n",
       "smiles                                                                    \n",
       "CC1Oc2ccc(Cl)cc2N(CC(O)CO)C1=O  6.927800 -1.758099 -1.404098  31.323586   \n",
       "COc1ccccc1OC(=O)Oc1ccccc1OC    -1.758099 -1.758099 -1.622563  54.093750   \n",
       "\n",
       "                                      8          9   ...        20         21  \\\n",
       "smiles                                               ...                        \n",
       "CC1Oc2ccc(Cl)cc2N(CC(O)CO)C1=O  6.068540  24.564615  ... -1.758099  25.490200   \n",
       "COc1ccccc1OC(=O)Oc1ccccc1OC    -1.758099  24.393270  ... -1.758099  23.093681   \n",
       "\n",
       "                                      22         23        24        25  \\\n",
       "smiles                                                                    \n",
       "CC1Oc2ccc(Cl)cc2N(CC(O)CO)C1=O -1.758099  17.449503 -1.758099 -1.757850   \n",
       "COc1ccccc1OC(=O)Oc1ccccc1OC    -1.758099  -1.757834 -1.758099  5.502191   \n",
       "\n",
       "                                      26        27          28        29  \n",
       "smiles                                                                    \n",
       "CC1Oc2ccc(Cl)cc2N(CC(O)CO)C1=O -1.758099 -1.758099   70.930901 -1.758099  \n",
       "COc1ccccc1OC(=O)Oc1ccccc1OC    -1.758099 -1.758099  106.119667 -1.758099  \n",
       "\n",
       "[2 rows x 30 columns]"
      ]
     },
     "execution_count": 35,
     "metadata": {},
     "output_type": "execute_result"
    }
   ],
   "source": [
    "x_embedding2 = x_embedding.copy()\n",
    "x_embedding2['smiles'] = cid2smiles.loc[x_embedding.index, 'smiles']\n",
    "x_embedding2.set_index('smiles', inplace=True)\n",
    "# x_embedding.drop(columns='cid', inplace=True)\n",
    "x_embedding2.head(2)"
   ]
  },
  {
   "cell_type": "code",
   "execution_count": 36,
   "metadata": {},
   "outputs": [
    {
     "data": {
      "text/plain": [
       "'Cc1cc(Cc2cnc(N)nc2N)c2cccnc2c1N(C)C'"
      ]
     },
     "execution_count": 36,
     "metadata": {},
     "output_type": "execute_result"
    }
   ],
   "source": [
    "x_embedding2.iloc[9, :].name"
   ]
  },
  {
   "cell_type": "code",
   "execution_count": 37,
   "metadata": {},
   "outputs": [],
   "source": [
    "def cal_distance(x, y, metric='euclidean'):\n",
    "    if type(x) == pd.core.series.Series:\n",
    "        x = x.values.reshape(1, -1)\n",
    "    if type(y) == pd.core.series.Series:\n",
    "        y = y.values.reshape(1, -1)\n",
    "    return pairwise_distances(x, y, metric=metric)"
   ]
  },
  {
   "cell_type": "code",
   "execution_count": 38,
   "metadata": {},
   "outputs": [],
   "source": [
    "def print_closest_words(x_embedding, x_query, n=5, add_vec=None):\n",
    "    x = x_embedding.loc[x_query].values.reshape(1, -1).copy()\n",
    "    # print('x is: {}'.format(x))\n",
    "    if add_vec is not None:\n",
    "        x += add_vec\n",
    "        # print('x + add_vec is: {}'.format(x))\n",
    "    dists = cal_distance(x=x_embedding.values, y=x)     # compute distances to all words\n",
    "    lst = sorted(enumerate(dists), key=lambda x: x[1]) # sort by distance\n",
    "    # print(lst[:100])\n",
    "    if add_vec is not None:\n",
    "        for idx, difference in lst[0:n]:\n",
    "            print(x_embedding.iloc[idx,:].name, difference)\n",
    "    else:\n",
    "        for idx, difference in lst[1:n+1]:   # take the top n\n",
    "            print(x_embedding.iloc[idx,:].name, difference)"
   ]
  },
  {
   "cell_type": "code",
   "execution_count": 39,
   "metadata": {},
   "outputs": [],
   "source": [
    "def get_minus_result(x_embedding, x, y):\n",
    "    x = x_embedding.loc[x].values.reshape(1, -1)\n",
    "    y = x_embedding.loc[y].values.reshape(1, -1)\n",
    "    return x-y"
   ]
  },
  {
   "cell_type": "code",
   "execution_count": 40,
   "metadata": {},
   "outputs": [],
   "source": [
    "def draw_mol_by_smiles(smiles):\n",
    "    mol = Chem.MolFromSmiles(smiles)\n",
    "    size = (200, 200)\n",
    "    return Draw.MolToImage(mol, size=size)"
   ]
  },
  {
   "cell_type": "code",
   "execution_count": 41,
   "metadata": {},
   "outputs": [
    {
     "data": {
      "text/plain": [
       "array([[56.36151]], dtype=float32)"
      ]
     },
     "execution_count": 41,
     "metadata": {},
     "output_type": "execute_result"
    }
   ],
   "source": [
    "mol1 = x_embedding2.loc['COc1ccccc1OC(=O)Oc1ccccc1OC']\n",
    "mol2 = x_embedding2.loc['CC1Oc2ccc(Cl)cc2N(CC(O)CO)C1=O']\n",
    "# mol1 = mol1.values.reshape(-1,1)\n",
    "# print(mol1.shape, type(mol1))\n",
    "# print(type(mol1) == pd.core.series.Series)\n",
    "cal_distance(mol1, mol2)"
   ]
  },
  {
   "cell_type": "code",
   "execution_count": 42,
   "metadata": {},
   "outputs": [
    {
     "data": {
      "text/plain": [
       "array([[ 2.7064419e-01, -2.9407883e+00, -1.5713806e+00, -3.2597351e+00,\n",
       "         2.3841858e-07,  0.0000000e+00, -1.3102937e-01, -3.3135223e-01,\n",
       "         0.0000000e+00, -1.6333237e+00,  0.0000000e+00, -1.0974670e+01,\n",
       "         0.0000000e+00,  0.0000000e+00, -5.7387352e-04,  0.0000000e+00,\n",
       "         0.0000000e+00,  0.0000000e+00,  0.0000000e+00,  0.0000000e+00,\n",
       "         0.0000000e+00, -2.7648029e+00,  0.0000000e+00,  2.9516220e-04,\n",
       "         0.0000000e+00,  8.3155346e-01,  5.9604645e-07,  0.0000000e+00,\n",
       "        -2.2657700e+00,  0.0000000e+00]], dtype=float32)"
      ]
     },
     "execution_count": 42,
     "metadata": {},
     "output_type": "execute_result"
    }
   ],
   "source": [
    "ch2 = get_minus_result(x_embedding2, 'COc1cccc(COC(=O)c2cccc(OC)c2O)c1', 'COc1ccccc1OC(=O)Oc1ccccc1OC')\n",
    "ch2"
   ]
  },
  {
   "cell_type": "code",
   "execution_count": 43,
   "metadata": {},
   "outputs": [
    {
     "data": {
      "image/png": "[encoded data removed]",
      "text/plain": [
       "<PIL.Image.Image image mode=RGB size=200x200 at 0x7FD07D3A8B70>"
      ]
     },
     "execution_count": 43,
     "metadata": {},
     "output_type": "execute_result"
    }
   ],
   "source": [
    "draw_mol_by_smiles('COc1cccc(COC(=O)c2cccc(OC)c2O)c1')"
   ]
  },
  {
   "cell_type": "code",
   "execution_count": 44,
   "metadata": {},
   "outputs": [
    {
     "data": {
      "image/png": "[encoded data removed]",
      "text/plain": [
       "<PIL.Image.Image image mode=RGB size=200x200 at 0x7FD0A5E58748>"
      ]
     },
     "execution_count": 44,
     "metadata": {},
     "output_type": "execute_result"
    }
   ],
   "source": [
    "draw_mol_by_smiles('COc1ccccc1OC(=O)Oc1ccccc1OC')"
   ]
  },
  {
   "cell_type": "code",
   "execution_count": 45,
   "metadata": {},
   "outputs": [
    {
     "data": {
      "text/plain": [
       "array([[  5.7448177,  45.429264 ,  34.519726 ,  31.130407 ,  -1.7580991,\n",
       "         -1.7580993,  -1.622563 ,  54.09375  ,  -1.7580993,  24.39327  ,\n",
       "         -1.7580993,  15.099196 ,  -1.7580993,  -1.7580993,  -1.7575164,\n",
       "         -1.7580993,  -1.7580993,  -1.7580993,  -1.7580993,  -1.7580993,\n",
       "         -1.7580993,  23.093681 ,  -1.7580993,  -1.7578342,  -1.7580993,\n",
       "          5.5021906,  -1.758099 ,  -1.7580993, 106.11967  ,  -1.7580993]],\n",
       "      dtype=float32)"
      ]
     },
     "execution_count": 45,
     "metadata": {},
     "output_type": "execute_result"
    }
   ],
   "source": [
    "x_embedding2.loc['COc1ccccc1OC(=O)Oc1ccccc1OC'].values.reshape(1,-1)"
   ]
  },
  {
   "cell_type": "code",
   "execution_count": 46,
   "metadata": {},
   "outputs": [
    {
     "name": "stdout",
     "output_type": "stream",
     "text": [
      "COc1ccc(OC(C)C(=O)Oc2ccccc2OC)cc1 [10.309029]\n",
      "COc1cc(CC(=O)c2ccc(O)c(OC)c2)ccc1O [10.9470005]\n",
      "COc1ccc(CC(=O)c2cc(OC)c(O)cc2O)cc1 [11.532066]\n",
      "COc1ccc(CC(=O)c2ccc(O)cc2O)c(OC)c1 [11.589741]\n",
      "COc1ccc(OC)c(CC(=O)c2ccc(O)cc2O)c1 [11.589741]\n"
     ]
    }
   ],
   "source": [
    "print_closest_words(x_embedding=x_embedding2, x_query='COc1ccccc1OC(=O)Oc1ccccc1OC')"
   ]
  },
  {
   "cell_type": "code",
   "execution_count": 109,
   "metadata": {},
   "outputs": [
    {
     "data": {
      "image/png": "[encoded data removed]",
      "text/plain": [
       "<PIL.Image.Image image mode=RGB size=200x200 at 0x7FC6C375B390>"
      ]
     },
     "execution_count": 109,
     "metadata": {},
     "output_type": "execute_result"
    }
   ],
   "source": [
    "draw_mol_by_smiles('COc1ccccc1OC(=O)Oc1ccccc1OC')"
   ]
  },
  {
   "cell_type": "code",
   "execution_count": 47,
   "metadata": {},
   "outputs": [
    {
     "data": {
      "image/png": "[encoded data removed]",
      "text/plain": [
       "<PIL.Image.Image image mode=RGB size=200x200 at 0x7FD0D9AA7F60>"
      ]
     },
     "execution_count": 47,
     "metadata": {},
     "output_type": "execute_result"
    }
   ],
   "source": [
    "draw_mol_by_smiles('COc1ccc(OC(C)C(=O)Oc2ccccc2OC)cc1')"
   ]
  },
  {
   "cell_type": "code",
   "execution_count": 48,
   "metadata": {},
   "outputs": [
    {
     "name": "stdout",
     "output_type": "stream",
     "text": [
      "COC(=O)c1cc(Br)c(O)c(Br)c1 [6.539438]\n",
      "COC(=O)c1cc(Cl)cc(Br)c1O [6.544733]\n",
      "COC(=O)c1cc(Br)cc(Cl)c1O [7.2633834]\n",
      "COC(=O)COc1c(Br)cccc1Br [8.101522]\n",
      "COCC(=O)Oc1c(Br)cccc1Br [8.270285]\n"
     ]
    }
   ],
   "source": [
    "print_closest_words(x_embedding=x_embedding2, x_query='COC(=O)c1cc(Br)cc(Br)c1O')"
   ]
  },
  {
   "cell_type": "code",
   "execution_count": 49,
   "metadata": {},
   "outputs": [
    {
     "name": "stdout",
     "output_type": "stream",
     "text": [
      "COC(=O)c1cc(Br)cc(Br)c1O [12.590632]\n",
      "CCOC(=O)c1occ(Br)c1Br [13.510105]\n",
      "COC(=O)CCOc1c(Br)cccc1Br [14.2250185]\n",
      "COC(=O)c1c(F)ccc(OC)c1Br [14.543065]\n",
      "COCCCC(=O)Oc1ccc(Br)cc1F [15.260196]\n"
     ]
    }
   ],
   "source": [
    "print_closest_words(x_embedding=x_embedding2, x_query='COC(=O)c1cc(Br)cc(Br)c1O', add_vec=ch2)"
   ]
  },
  {
   "cell_type": "code",
   "execution_count": 50,
   "metadata": {},
   "outputs": [
    {
     "data": {
      "image/png": "[encoded data removed]",
      "text/plain": [
       "<PIL.Image.Image image mode=RGB size=200x200 at 0x7FD0A5C44FD0>"
      ]
     },
     "execution_count": 50,
     "metadata": {},
     "output_type": "execute_result"
    }
   ],
   "source": [
    "draw_mol_by_smiles('COC(=O)c1cc(Br)cc(Br)c1O')"
   ]
  },
  {
   "cell_type": "code",
   "execution_count": 52,
   "metadata": {},
   "outputs": [
    {
     "data": {
      "image/png": "[encoded data removed]",
      "text/plain": [
       "<PIL.Image.Image image mode=RGB size=200x200 at 0x7FD0A68A4208>"
      ]
     },
     "execution_count": 52,
     "metadata": {},
     "output_type": "execute_result"
    }
   ],
   "source": [
    "draw_mol_by_smiles('COC(=O)CCOc1c(Br)cccc1Br')"
   ]
  },
  {
   "cell_type": "code",
   "execution_count": 53,
   "metadata": {},
   "outputs": [
    {
     "name": "stdout",
     "output_type": "stream",
     "text": [
      "CCOC(=O)COc1cccc(Br)c1 [12.247801]\n",
      "CCOC(=O)COc1ccc(Br)cc1 [12.590632]\n",
      "CCOC(=O)CCCOc1ccc(Br)cc1 [12.717602]\n",
      "CCOC(=O)CCOc1ccc(Br)cc1 [13.238694]\n",
      "CCOCCOC(=O)c1ccc(Br)cc1 [13.358435]\n"
     ]
    }
   ],
   "source": [
    "print_closest_words(x_embedding=x_embedding2, x_query='CCOC(=O)COc1ccc(Br)cc1', add_vec=ch2)"
   ]
  },
  {
   "cell_type": "code",
   "execution_count": 54,
   "metadata": {},
   "outputs": [
    {
     "name": "stdout",
     "output_type": "stream",
     "text": [
      "O=C(OCC1CCCO1)c1ccccc1Br [5.00119]\n",
      "Cc1cc(Br)ccc1C(=O)OCC1CCCO1 [6.1837816]\n",
      "O=C(OCC1CCCCO1)c1ccccc1Br [6.4755635]\n",
      "O=C(CCc1ccccc1Br)OCC1CCCO1 [7.802787]\n",
      "O=C(CCC1CCCO1)Oc1cccc(Br)c1 [8.092612]\n"
     ]
    }
   ],
   "source": [
    "print_closest_words(x_embedding=x_embedding2, x_query='O=C(OCC1CCCO1)c1cccc(Br)c1')"
   ]
  },
  {
   "cell_type": "code",
   "execution_count": 65,
   "metadata": {},
   "outputs": [
    {
     "name": "stdout",
     "output_type": "stream",
     "text": [
      "O=C(OCC1CCCO1)c1ccccc1Br [24.38688849]\n",
      "O=C(CC1CCCO1)c1ccc(Br)cc1 [35.38200695]\n",
      "O=C(Oc1cccc(Br)c1)C1CCCO1 [37.04660933]\n",
      "O=C(OCC1CCCCO1)c1ccccc1Br [38.2277591]\n",
      "O=C(CCC1CCCO1)Oc1cccc(Br)c1 [42.62281528]\n"
     ]
    }
   ],
   "source": [
    "print_closest_words(x_embedding=smiles_x_train_test, x_query='O=C(OCC1CCCO1)c1cccc(Br)c1')"
   ]
  },
  {
   "cell_type": "code",
   "execution_count": 55,
   "metadata": {},
   "outputs": [
    {
     "data": {
      "image/png": "[encoded data removed]",
      "text/plain": [
       "<PIL.Image.Image image mode=RGB size=200x200 at 0x7FD0A7031208>"
      ]
     },
     "execution_count": 55,
     "metadata": {},
     "output_type": "execute_result"
    }
   ],
   "source": [
    "draw_mol_by_smiles('O=C(OCC1CCCO1)c1cccc(Br)c1')"
   ]
  },
  {
   "cell_type": "code",
   "execution_count": 68,
   "metadata": {},
   "outputs": [
    {
     "data": {
      "image/png": "[encoded data removed]",
      "text/plain": [
       "<PIL.Image.Image image mode=RGB size=200x200 at 0x7FD0A39E98D0>"
      ]
     },
     "execution_count": 68,
     "metadata": {},
     "output_type": "execute_result"
    }
   ],
   "source": [
    "draw_mol_by_smiles('O=C(OCC1CCCCO1)c1ccccc1Br')"
   ]
  },
  {
   "cell_type": "code",
   "execution_count": 154,
   "metadata": {},
   "outputs": [
    {
     "data": {
      "image/png": "[encoded data removed]",
      "text/plain": [
       "<PIL.Image.Image image mode=RGB size=200x200 at 0x7F5C651131D0>"
      ]
     },
     "execution_count": 154,
     "metadata": {},
     "output_type": "execute_result"
    }
   ],
   "source": [
    "draw_mol_by_smiles('O=C(COCC1CCOC1)c1ccc(Br)cc1')"
   ]
  },
  {
   "cell_type": "code",
   "execution_count": 117,
   "metadata": {},
   "outputs": [
    {
     "data": {
      "text/plain": [
       "array([[-1.6928554e-02, -2.3820286e+00, -2.1684976e+00, -2.0108795e-01,\n",
       "        -1.9508076e+00, -4.7084177e-01,  1.0815144e-02,  1.6812086e-03,\n",
       "        -2.3104323e-01, -1.5218520e+00,  1.5106893e-01, -7.7001417e-01,\n",
       "        -1.2215148e+00,  2.1910667e-04,  2.3959875e-03,  1.1633635e-03,\n",
       "         1.0663509e-02, -2.5437832e-02, -9.1753006e-03, -2.9414892e-03,\n",
       "        -7.7086496e-01, -4.0419579e-02,  6.9106102e-01,  3.0494794e-01,\n",
       "         6.2769651e-03,  6.6191912e-02,  5.0997734e-02, -5.8038527e-01,\n",
       "        -1.2340322e+00, -4.0850639e-03]], dtype=float32)"
      ]
     },
     "execution_count": 117,
     "metadata": {},
     "output_type": "execute_result"
    }
   ],
   "source": [
    "o = get_minus_result(x_embedding=x_embedding2, x='O=c1c(O)c(-c2ccc(O)cc2)oc2ccccc12', y='O=c1c(O)c(-c2ccc(O)cc2)oc2cccc(O)c12')\n",
    "o"
   ]
  },
  {
   "cell_type": "code",
   "execution_count": 118,
   "metadata": {},
   "outputs": [
    {
     "data": {
      "image/png": "[encoded data removed]",
      "text/plain": [
       "<PIL.Image.Image image mode=RGB size=200x200 at 0x7FC6C2D84B38>"
      ]
     },
     "execution_count": 118,
     "metadata": {},
     "output_type": "execute_result"
    }
   ],
   "source": [
    "draw_mol_by_smiles('O=c1c(O)c(-c2ccc(O)cc2)oc2cccc(O)c12')"
   ]
  },
  {
   "cell_type": "code",
   "execution_count": 119,
   "metadata": {},
   "outputs": [
    {
     "data": {
      "image/png": "[encoded data removed]",
      "text/plain": [
       "<PIL.Image.Image image mode=RGB size=200x200 at 0x7FC6C2D849E8>"
      ]
     },
     "execution_count": 119,
     "metadata": {},
     "output_type": "execute_result"
    }
   ],
   "source": [
    "draw_mol_by_smiles('O=c1c(O)c(-c2ccc(O)cc2)oc2ccccc12')"
   ]
  },
  {
   "cell_type": "code",
   "execution_count": 120,
   "metadata": {},
   "outputs": [
    {
     "name": "stdout",
     "output_type": "stream",
     "text": [
      "Cc1ccc(-c2nc(C#N)c(N3CCCC3)o2)cc1 [4.685711]\n",
      "N#Cc1nc(Cc2ccccc2)oc1N1CCCC1 [4.685711]\n",
      "Cc1ccccc1-c1nc(C#N)c(N2CCCC2)o1 [4.685711]\n",
      "Cc1cccc(-c2nc(C#N)c(N3CCCC3)o2)c1 [4.685711]\n",
      "Cc1cc2cc(CCC#N)c(N3CCCC3)nc2cc1C [6.163431]\n"
     ]
    }
   ],
   "source": [
    "print_closest_words(x_embedding=x_embedding2, x_query='Cc1ccc(-c2nc(C#N)c(N3CCCC3)o2)cc1', add_vec=o)"
   ]
  },
  {
   "cell_type": "code",
   "execution_count": 121,
   "metadata": {},
   "outputs": [
    {
     "data": {
      "image/png": "[encoded data removed]",
      "text/plain": [
       "<PIL.Image.Image image mode=RGB size=200x200 at 0x7FC6C2D84630>"
      ]
     },
     "execution_count": 121,
     "metadata": {},
     "output_type": "execute_result"
    }
   ],
   "source": [
    "draw_mol_by_smiles('Cc1ccc(-c2nc(C#N)c(N3CCCC3)o2)cc1')"
   ]
  },
  {
   "cell_type": "code",
   "execution_count": 123,
   "metadata": {},
   "outputs": [
    {
     "data": {
      "image/png": "[encoded data removed]",
      "text/plain": [
       "<PIL.Image.Image image mode=RGB size=200x200 at 0x7FC6C2D84780>"
      ]
     },
     "execution_count": 123,
     "metadata": {},
     "output_type": "execute_result"
    }
   ],
   "source": [
    "draw_mol_by_smiles('Cc1cc2cc(CCC#N)c(N3CCCC3)nc2cc1C')"
   ]
  },
  {
   "cell_type": "code",
   "execution_count": 124,
   "metadata": {},
   "outputs": [
    {
     "name": "stdout",
     "output_type": "stream",
     "text": [
      "Cc1ccc(-c2nc(C#N)c(N3CCCC3)o2)cc1 [4.3305297]\n",
      "N#Cc1nc(Cc2ccccc2)oc1N1CCCC1 [4.3305297]\n",
      "Cc1ccccc1-c1nc(C#N)c(N2CCCC2)o1 [4.3305297]\n",
      "Cc1cccc(-c2nc(C#N)c(N3CCCC3)o2)c1 [4.3305297]\n",
      "CCNc1oc(C2CC2c2ccccc2)nc1C#N [6.1351995]\n"
     ]
    }
   ],
   "source": [
    "print_closest_words(x_embedding=x_embedding2, x_query='Cc1ccc(-c2nc(C#N)c(N3CCCC3)o2)cc1', add_vec=ch2)"
   ]
  },
  {
   "cell_type": "code",
   "execution_count": 125,
   "metadata": {},
   "outputs": [
    {
     "data": {
      "image/png": "[encoded data removed]",
      "text/plain": [
       "<PIL.Image.Image image mode=RGB size=200x200 at 0x7FC6C375BA90>"
      ]
     },
     "execution_count": 125,
     "metadata": {},
     "output_type": "execute_result"
    }
   ],
   "source": [
    "draw_mol_by_smiles('CCNc1oc(C2CC2c2ccccc2)nc1C#N')  # good example"
   ]
  },
  {
   "cell_type": "markdown",
   "metadata": {},
   "source": [
    "##### similarity in fragment embedding"
   ]
  },
  {
   "cell_type": "code",
   "execution_count": 126,
   "metadata": {},
   "outputs": [
    {
     "name": "stdout",
     "output_type": "stream",
     "text": [
      "C1CNSCCN1 [3.3470687]\n",
      "C1COSCSO1 [3.3618871]\n",
      "C1CC2CCC(C1)N2 [3.479212]\n",
      "C1=CC2CC1C2 [3.50622987]\n",
      "C1=CSN=CS1 [3.51665946]\n"
     ]
    }
   ],
   "source": [
    "print_closest_words(x_embedding=frag2vec, x_query='CC')"
   ]
  },
  {
   "cell_type": "code",
   "execution_count": 127,
   "metadata": {},
   "outputs": [
    {
     "name": "stdout",
     "output_type": "stream",
     "text": [
      "C [3.7849011]\n",
      "C1=CC=CCC=C1 [5.029673]\n",
      "CO [5.634586]\n",
      "N [5.7525043]\n",
      "C1=CC2CC(NCN2)O1 [5.9699497]\n"
     ]
    }
   ],
   "source": [
    "print_closest_words(x_embedding=frag_embedding_df, x_query='CC')"
   ]
  },
  {
   "cell_type": "code",
   "execution_count": 128,
   "metadata": {},
   "outputs": [
    {
     "name": "stdout",
     "output_type": "stream",
     "text": [
      "CC [5.634586]\n",
      "C [5.790043]\n",
      "C1NNCO1 [6.7325478]\n",
      "C1CC2COCC(C1)C2 [7.017662]\n",
      "N [7.081011]\n"
     ]
    }
   ],
   "source": [
    "print_closest_words(x_embedding=frag_embedding_df, x_query='CO')"
   ]
  },
  {
   "cell_type": "code",
   "execution_count": 129,
   "metadata": {},
   "outputs": [
    {
     "name": "stdout",
     "output_type": "stream",
     "text": [
      "C=O [7.254423]\n",
      "C1=CCCCC1 [7.731961]\n",
      "C1CC2CCCC(C1)O2 [7.9319043]\n",
      "C1CNSCCN1 [8.348729]\n",
      "C1CC2COCC(CN1)N2 [8.533664]\n"
     ]
    }
   ],
   "source": [
    "print_closest_words(x_embedding=frag_embedding_df, x_query='C=C')"
   ]
  },
  {
   "cell_type": "code",
   "execution_count": 170,
   "metadata": {},
   "outputs": [
    {
     "data": {
      "text/plain": [
       "array([[-0.9069163 ,  0.16055357, -1.4519948 ,  0.04600358,  2.1111865 ,\n",
       "         0.94069785, -0.33108783,  0.00733316,  0.02371764, -0.3574866 ,\n",
       "         2.11189   ,  1.2330089 ,  1.6423912 ,  1.6493165 ,  0.5750477 ,\n",
       "        -0.00603211,  1.0300648 ,  3.5397837 ,  1.1197469 , -0.08535624,\n",
       "         0.27110136,  0.1865567 , -0.07768476,  1.6632302 ,  1.0584667 ,\n",
       "        -1.3718281 ,  0.21978402, -2.4010406 ,  0.13508382,  1.2698841 ]],\n",
       "      dtype=float32)"
      ]
     },
     "execution_count": 170,
     "metadata": {},
     "output_type": "execute_result"
    }
   ],
   "source": [
    "double_bond = get_minus_result(x_embedding=frag_embedding_df, x='C=C', y='CC')\n",
    "double_bond"
   ]
  },
  {
   "cell_type": "code",
   "execution_count": 171,
   "metadata": {},
   "outputs": [
    {
     "data": {
      "text/plain": [
       "array([[-1.0754894 , -0.05029994, -0.9682723 ,  0.01637173,  3.1190686 ,\n",
       "         0.2904792 , -1.7564679 , -0.03005278, -0.39539814, -1.7665595 ,\n",
       "         0.6097307 , -1.3078978 ,  2.4683962 ,  0.09237754, -0.7451295 ,\n",
       "         0.1150409 ,  0.30381685,  2.800765  ,  0.45277417,  0.6171602 ,\n",
       "         0.23249733,  0.35240924,  0.04863632, -0.2631368 , -0.09964848,\n",
       "         0.67061937,  1.0381212 , -0.4477899 ,  1.2853549 , -0.17619288]],\n",
       "      dtype=float32)"
      ]
     },
     "execution_count": 171,
     "metadata": {},
     "output_type": "execute_result"
    }
   ],
   "source": [
    "double_bond2 = get_minus_result(x_embedding=frag_embedding_df, x='C=O', y='CO')\n",
    "double_bond2"
   ]
  },
  {
   "cell_type": "code",
   "execution_count": 172,
   "metadata": {},
   "outputs": [
    {
     "data": {
      "text/plain": [
       "array([[-1.3957481 , -0.08041072, -1.3055601 , -0.00601339,  1.2437274 ,\n",
       "        -1.1243701 , -2.16369   ,  0.43716812, -1.4693278 ,  0.51733625,\n",
       "        -1.0354639 , -1.0465071 ,  1.3476306 ,  0.04740214,  1.6594639 ,\n",
       "         0.3608284 ,  0.13601375,  1.9363195 , -0.7505995 , -0.16096044,\n",
       "        -0.02901536,  1.1739947 , -0.31962013, -0.18861854, -0.6297839 ,\n",
       "        -0.17125994,  0.12829292,  1.6007774 ,  1.075871  ,  0.00354147]],\n",
       "      dtype=float32)"
      ]
     },
     "execution_count": 172,
     "metadata": {},
     "output_type": "execute_result"
    }
   ],
   "source": [
    "double_bond3 = get_minus_result(x_embedding=frag_embedding_df, x='C=S', y='CS')\n",
    "double_bond3"
   ]
  },
  {
   "cell_type": "code",
   "execution_count": 173,
   "metadata": {},
   "outputs": [
    {
     "data": {
      "text/plain": [
       "array([[-0.8261296 ,  0.41114938, -1.6881613 ,  0.32293153,  3.2755349 ,\n",
       "         0.18846641, -2.459127  ,  5.5993958 , -0.1279794 , -0.3589108 ,\n",
       "        -3.6940436 , -2.097483  ,  2.7329798 ,  0.21572757,  2.1169827 ,\n",
       "         2.0556507 , -0.6032865 ,  4.818708  , -1.7358465 ,  0.1737749 ,\n",
       "        -1.02369   ,  2.7960978 , -1.5079298 ,  1.5021176 , -1.8424561 ,\n",
       "        -0.30885392,  0.1059857 ,  3.3131592 , -0.19692159,  3.029746  ]],\n",
       "      dtype=float32)"
      ]
     },
     "execution_count": 173,
     "metadata": {},
     "output_type": "execute_result"
    }
   ],
   "source": [
    "double_bond4 = get_minus_result(x_embedding=frag_embedding_df, x='C=N', y='CN')\n",
    "double_bond4"
   ]
  },
  {
   "cell_type": "code",
   "execution_count": 174,
   "metadata": {},
   "outputs": [
    {
     "data": {
      "text/plain": [
       "array([-1.0510708 ,  0.11024807, -1.3534971 ,  0.09482336,  2.4373794 ,\n",
       "        0.07381836, -1.6775932 ,  1.5034611 , -0.49224693, -0.49140516,\n",
       "       -0.5019717 , -0.80471975,  2.0478494 ,  0.5012059 ,  0.9015912 ,\n",
       "        0.631372  ,  0.21665221,  3.2738938 , -0.22848123,  0.1361546 ,\n",
       "       -0.13727666,  1.1272646 , -0.4641496 ,  0.67839813, -0.37835544,\n",
       "       -0.29533064,  0.37304598,  0.51627654,  0.57484704,  1.0317447 ],\n",
       "      dtype=float32)"
      ]
     },
     "execution_count": 174,
     "metadata": {},
     "output_type": "execute_result"
    }
   ],
   "source": [
    "double_bond_mean = np.concatenate((double_bond, double_bond2, double_bond3, double_bond4)).mean(axis=0)\n",
    "double_bond_mean"
   ]
  },
  {
   "cell_type": "code",
   "execution_count": 177,
   "metadata": {},
   "outputs": [
    {
     "data": {
      "text/plain": [
       "array([[8.072913]], dtype=float32)"
      ]
     },
     "execution_count": 177,
     "metadata": {},
     "output_type": "execute_result"
    }
   ],
   "source": [
    "cal_distance(double_bond, double_bond3)"
   ]
  },
  {
   "cell_type": "code",
   "execution_count": 182,
   "metadata": {},
   "outputs": [
    {
     "name": "stdout",
     "output_type": "stream",
     "text": [
      "C=O [3.5713756]\n",
      "C=C [6.220685]\n",
      "CC [6.2624974]\n",
      "CF [6.711393]\n",
      "C1=CC=CCC=C1 [6.847985]\n"
     ]
    }
   ],
   "source": [
    "print_closest_words(x_embedding=frag_embedding_df, x_query='CC', add_vec=double_bond2)"
   ]
  },
  {
   "cell_type": "code",
   "execution_count": 184,
   "metadata": {},
   "outputs": [
    {
     "name": "stdout",
     "output_type": "stream",
     "text": [
      "C=O [2.0647654e-07]\n",
      "CC [6.119925]\n",
      "CO [6.2624974]\n",
      "C=C [6.4880624]\n",
      "C [6.5317984]\n"
     ]
    }
   ],
   "source": [
    "print_closest_words(x_embedding=frag_embedding_df, x_query='CO', add_vec=double_bond2)"
   ]
  },
  {
   "cell_type": "code",
   "execution_count": 185,
   "metadata": {},
   "outputs": [
    {
     "name": "stdout",
     "output_type": "stream",
     "text": [
      "C=O [4.620403]\n",
      "C=S [5.671829]\n",
      "CC [5.991187]\n",
      "CS [6.2624974]\n",
      "C [6.283827]\n"
     ]
    }
   ],
   "source": [
    "print_closest_words(x_embedding=frag_embedding_df, x_query='CS', add_vec=double_bond2)"
   ]
  },
  {
   "cell_type": "code",
   "execution_count": 194,
   "metadata": {},
   "outputs": [
    {
     "name": "stdout",
     "output_type": "stream",
     "text": [
      "OS [5.98756]\n",
      "C1=CSCO1 [8.344847]\n",
      "C1=CSCCC1 [8.429715]\n",
      "C1=CSCCCC1 [8.565202]\n",
      "C1=CNSCC1 [8.6135645]\n"
     ]
    }
   ],
   "source": [
    "print_closest_words(x_embedding=frag_embedding_df, x_query='OS', add_vec=double_bond_mean)"
   ]
  },
  {
   "cell_type": "code",
   "execution_count": 199,
   "metadata": {},
   "outputs": [
    {
     "name": "stdout",
     "output_type": "stream",
     "text": [
      "C=C [6.690533]\n",
      "C1CC1 [6.9603767]\n",
      "C1=CC2C=CC(C1)CNC2 [7.3189626]\n",
      "C1=CCC2CC(C=CN2)C1 [7.326511]\n",
      "C1=CC2CCCCC(CC1)C2 [7.4690814]\n"
     ]
    }
   ],
   "source": [
    "print_closest_words(x_embedding=frag_embedding_df, x_query='C1CC1', add_vec=double_bond)"
   ]
  },
  {
   "cell_type": "markdown",
   "metadata": {},
   "source": [
    "##### triple bond"
   ]
  },
  {
   "cell_type": "code",
   "execution_count": 61,
   "metadata": {},
   "outputs": [],
   "source": [
    "tri_bond = get_minus_result(x_embedding=frag_embedding_df, x='C#C', y='CC')"
   ]
  },
  {
   "cell_type": "code",
   "execution_count": 62,
   "metadata": {},
   "outputs": [],
   "source": [
    "# print_closest_words(x_embedding=frag_embedding_df, x_query=tri_bond)"
   ]
  },
  {
   "cell_type": "code",
   "execution_count": 63,
   "metadata": {},
   "outputs": [
    {
     "name": "stdout",
     "output_type": "stream",
     "text": [
      "C#C [6.3061275]\n",
      "C1=NSNC1 [9.890408]\n",
      "C1=NCN=CC1 [11.603855]\n",
      "C1=CCNC=C1 [11.807503]\n",
      "C1CNSC1 [12.93584]\n"
     ]
    }
   ],
   "source": [
    "print_closest_words(x_embedding=frag_embedding_df, x_query='CN', add_vec=tri_bond)"
   ]
  },
  {
   "cell_type": "code",
   "execution_count": 64,
   "metadata": {},
   "outputs": [
    {
     "name": "stdout",
     "output_type": "stream",
     "text": [
      "C1CC2CNC(C1)N2 [4.72511]\n",
      "C1CSCCO1 [5.2164364]\n",
      "C1COCSC1 [5.8055387]\n",
      "C1CC2CC(C1)N2 [5.8621697]\n",
      "C1=COCC=N1 [5.9238305]\n"
     ]
    }
   ],
   "source": [
    "print_closest_words(x_embedding=frag_embedding_df, x_query='CN')"
   ]
  },
  {
   "cell_type": "markdown",
   "metadata": {},
   "source": [
    "##### aromaticity, 芳香性"
   ]
  },
  {
   "cell_type": "code",
   "execution_count": 65,
   "metadata": {},
   "outputs": [],
   "source": [
    "arom = get_minus_result(x_embedding=frag_embedding_df, x='C1=CC=CC=C1', y='C1CCCCC1')"
   ]
  },
  {
   "cell_type": "code",
   "execution_count": 66,
   "metadata": {},
   "outputs": [
    {
     "name": "stdout",
     "output_type": "stream",
     "text": [
      "C1=CSCCNC1 [9.075472]\n",
      "C1=NCCCSC1 [9.692141]\n",
      "C1=CCC=CC1 [9.977199]\n",
      "C1NCNSN1 [10.331807]\n",
      "C1=COC=CC1 [10.397704]\n"
     ]
    }
   ],
   "source": [
    "print_closest_words(x_embedding=frag_embedding_df, x_query='C1CCOCC1', add_vec=arom)"
   ]
  },
  {
   "cell_type": "code",
   "execution_count": null,
   "metadata": {},
   "outputs": [],
   "source": []
  }
 ],
 "metadata": {
  "kernelspec": {
   "display_name": "Python 3",
   "language": "python",
   "name": "python3"
  },
  "language_info": {
   "codemirror_mode": {
    "name": "ipython",
    "version": 3
   },
   "file_extension": ".py",
   "mimetype": "text/x-python",
   "name": "python",
   "nbconvert_exporter": "python",
   "pygments_lexer": "ipython3",
   "version": "3.6.10"
  }
 },
 "nbformat": 4,
 "nbformat_minor": 4
}
