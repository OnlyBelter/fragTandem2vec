{
 "cells": [
  {
   "cell_type": "code",
   "execution_count": 109,
   "metadata": {},
   "outputs": [],
   "source": [
    "import networkx as nx\n",
    "import matplotlib.pyplot as plt\n",
    "import os\n",
    "from rdkit import Chem\n",
    "from rdkit.Chem import Draw\n",
    "import pandas as pd"
   ]
  },
  {
   "cell_type": "code",
   "execution_count": 18,
   "metadata": {},
   "outputs": [],
   "source": [
    "def mol2network(n2n, file_dir='.', file_name='_', draw_network=False):\n",
    "    \"\"\"\n",
    "    \n",
    "    :param n2n: node to neighbors\n",
    "    :return: a network\n",
    "    \"\"\"\n",
    "    g = nx.Graph()\n",
    "    for i in n2n.keys():\n",
    "        edges = [(i, j) for j in n2n[i]]\n",
    "        g.add_edges_from(edges)\n",
    "    if draw_network:\n",
    "        draw_graph(g, file_dir, file_name)\n",
    "    return g\n",
    "\n",
    "def draw_graph(g, file_dir, file_name):\n",
    "    \"\"\"\n",
    "    draw molecular graph\n",
    "    :param g: molecular graph\n",
    "    :param file_dir: where to save figure\n",
    "    :param file_name: file name\n",
    "    :return:\n",
    "    \"\"\"\n",
    "    nx.draw(g, with_labels=True, font_weight='bold')\n",
    "    plt.savefig(os.path.join(file_dir, file_name + '.png'), dpi=300)\n",
    "    plt.close()\n",
    "    \n",
    "def mol_with_atom_index(mol):\n",
    "    atoms = mol.GetNumAtoms()\n",
    "    for idx in range(atoms):\n",
    "        mol.GetAtomWithIdx(idx).SetProp('molAtomMapNumber', str(mol.GetAtomWithIdx(idx).GetIdx()))\n",
    "    return mol"
   ]
  },
  {
   "cell_type": "code",
   "execution_count": 14,
   "metadata": {},
   "outputs": [],
   "source": [
    "def basic_test():\n",
    "#     SMILES = 'C#CCN(CC#C)C(=O)c1cc2ccccc2cc1OC(F)F'\n",
    "#     mol = Chem.MolFromSmiles(SMILES)\n",
    "    id2smiles = {1: 'C#C', 2: 'CC', 3: 'CN', 4: 'CN', 5: 'CC', 6: 'C#C', 7: 'CN',\n",
    "                 8: 'C=O', 9: 'CC', 10: 'CO', 11: 'CO', 12: 'CF', 13: 'CF',\n",
    "                 14: 'C1=CCCC=C1', 15: 'C1=CC=CC=C1', 16: 'N', 17: 'C', 18: 'C'}\n",
    "    n2n = {1: [2], 2: [1, 3], 3: [2, 16], 4: [5, 16], 5: [4, 6], 6: [5],\n",
    "           7: [16, 17], 8: [17], 9: [14, 17], 10: [11, 14], 11: [10, 18], 12: [18],\n",
    "           13: [18], 14: [9, 10, 15], 15: [14], 16: [3, 4, 7], 17: [7, 8, 9], 18: [11, 12, 13]}\n",
    "    g = mol2network(n2n)\n",
    "    # mol_path = get_mol_path(n2n, g)\n",
    "\n",
    "#     print('>>> SMILES: ', SMILES)\n",
    "    print('    n2n: ', n2n)\n",
    "    draw_graph(g, file_dir='.', file_name='test')"
   ]
  },
  {
   "cell_type": "code",
   "execution_count": 15,
   "metadata": {},
   "outputs": [
    {
     "name": "stdout",
     "output_type": "stream",
     "text": [
      "    n2n:  {1: [2], 2: [1, 3], 3: [2, 16], 4: [5, 16], 5: [4, 6], 6: [5], 7: [16, 17], 8: [17], 9: [14, 17], 10: [11, 14], 11: [10, 18], 12: [18], 13: [18], 14: [9, 10, 15], 15: [14], 16: [3, 4, 7], 17: [7, 8, 9], 18: [11, 12, 13]}\n"
     ]
    }
   ],
   "source": [
    "basic_test()"
   ]
  },
  {
   "cell_type": "code",
   "execution_count": 19,
   "metadata": {},
   "outputs": [],
   "source": [
    "counter = 1\n",
    "SMILES = 'C#CCN(CC#C)C(=O)c1cc2ccccc2cc1OC(F)F'\n",
    "mol = Chem.MolFromSmiles(SMILES)\n",
    "Draw.MolToFile(mol, os.path.join('figure', 'mol_structure_{}.png'.format(counter)))\n",
    "mol_with_inx = mol_with_atom_index(mol)\n",
    "Draw.MolToFile(mol_with_inx,\n",
    "               os.path.join('figure',  'mol_with_inx_{}.png'.format(counter)))"
   ]
  },
  {
   "cell_type": "code",
   "execution_count": 20,
   "metadata": {},
   "outputs": [],
   "source": [
    "n2n = {1: [2], 2: [1, 3], 3: [2, 16], 4: [5, 16], 5: [4, 6], 6: [5],\n",
    "       7: [16, 17], 8: [17], 9: [14, 17], 10: [11, 14], 11: [10, 18], 12: [18],\n",
    "       13: [18], 14: [9, 10, 15], 15: [14], 16: [3, 4, 7], 17: [7, 8, 9], 18: [11, 12, 13]}\n",
    "g = mol2network(n2n)"
   ]
  },
  {
   "cell_type": "code",
   "execution_count": 33,
   "metadata": {},
   "outputs": [
    {
     "data": {
      "text/plain": [
       "<bound method Mapping.items of NodeView((1, 2, 3, 16, 4, 5, 6, 7, 17, 8, 9, 14, 10, 11, 18, 12, 13, 15))>"
      ]
     },
     "execution_count": 33,
     "metadata": {},
     "output_type": "execute_result"
    }
   ],
   "source": [
    "g.nodes.items"
   ]
  },
  {
   "cell_type": "code",
   "execution_count": 265,
   "metadata": {},
   "outputs": [],
   "source": [
    "g2 = nx.contracted_nodes(g, 17, 8, self_loops=False)"
   ]
  },
  {
   "cell_type": "code",
   "execution_count": 35,
   "metadata": {},
   "outputs": [],
   "source": [
    "draw_graph(g2, file_dir='.', file_name='test_merge17_8')"
   ]
  },
  {
   "cell_type": "code",
   "execution_count": 123,
   "metadata": {},
   "outputs": [
    {
     "data": {
      "text/plain": [
       "NodeDataView({1: {}, 2: {}, 3: {}, 16: {}, 4: {}, 5: {}, 6: {}, 7: {}, 17: {'contraction': {8: {}}}, 9: {}, 14: {}, 10: {}, 11: {}, 18: {}, 12: {}, 13: {}, 15: {}})"
      ]
     },
     "execution_count": 123,
     "metadata": {},
     "output_type": "execute_result"
    }
   ],
   "source": [
    "g2.nodes(data=True)"
   ]
  },
  {
   "cell_type": "code",
   "execution_count": 267,
   "metadata": {},
   "outputs": [
    {
     "data": {
      "text/plain": [
       "{7, 9}"
      ]
     },
     "execution_count": 267,
     "metadata": {},
     "output_type": "execute_result"
    }
   ],
   "source": [
    "set(n for n in g2.neighbors(17))"
   ]
  },
  {
   "cell_type": "code",
   "execution_count": 266,
   "metadata": {},
   "outputs": [
    {
     "data": {
      "text/plain": [
       "2"
      ]
     },
     "execution_count": 266,
     "metadata": {},
     "output_type": "execute_result"
    }
   ],
   "source": [
    "g2.degree(17)"
   ]
  },
  {
   "cell_type": "code",
   "execution_count": 44,
   "metadata": {},
   "outputs": [
    {
     "data": {
      "text/plain": [
       "[1, 2, 3, 16, 4, 5, 6, 7, 17, 9, 14, 10, 11, 18, 12, 13, 15]"
      ]
     },
     "execution_count": 44,
     "metadata": {},
     "output_type": "execute_result"
    }
   ],
   "source": [
    "list(g2.nodes)"
   ]
  },
  {
   "cell_type": "code",
   "execution_count": 49,
   "metadata": {},
   "outputs": [
    {
     "data": {
      "text/plain": [
       "{'contraction': {8: {}}}"
      ]
     },
     "execution_count": 49,
     "metadata": {},
     "output_type": "execute_result"
    }
   ],
   "source": [
    "g2.nodes.get(17)"
   ]
  },
  {
   "cell_type": "code",
   "execution_count": 59,
   "metadata": {},
   "outputs": [
    {
     "data": {
      "text/plain": [
       "[2]"
      ]
     },
     "execution_count": 59,
     "metadata": {},
     "output_type": "execute_result"
    }
   ],
   "source": [
    "[i for i in nx.all_neighbors(g2, 1)]"
   ]
  },
  {
   "cell_type": "code",
   "execution_count": 61,
   "metadata": {},
   "outputs": [
    {
     "data": {
      "text/plain": [
       "False"
      ]
     },
     "execution_count": 61,
     "metadata": {},
     "output_type": "execute_result"
    }
   ],
   "source": [
    "nx.is_forest(g2)"
   ]
  },
  {
   "cell_type": "code",
   "execution_count": 63,
   "metadata": {},
   "outputs": [],
   "source": [
    "# Return oriented tree constructed from a depth-first-search from source\n",
    "# https://pelegm-networkx.readthedocs.io/en/latest/reference/algorithms.traversal.html\n",
    "g3 = nx.dfs_tree(g2)"
   ]
  },
  {
   "cell_type": "code",
   "execution_count": 64,
   "metadata": {},
   "outputs": [],
   "source": [
    "draw_graph(g3, file_dir='.', file_name='test_merge_dfs_tree')"
   ]
  },
  {
   "cell_type": "code",
   "execution_count": 65,
   "metadata": {},
   "outputs": [
    {
     "data": {
      "text/plain": [
       "True"
      ]
     },
     "execution_count": 65,
     "metadata": {},
     "output_type": "execute_result"
    }
   ],
   "source": [
    "nx.is_tree(g3)"
   ]
  },
  {
   "cell_type": "code",
   "execution_count": 67,
   "metadata": {},
   "outputs": [
    {
     "data": {
      "text/plain": [
       "<dict_keyiterator at 0x7f0667e48598>"
      ]
     },
     "execution_count": 67,
     "metadata": {},
     "output_type": "execute_result"
    }
   ],
   "source": [
    "g3.neighbors(16)"
   ]
  },
  {
   "cell_type": "code",
   "execution_count": 69,
   "metadata": {
    "collapsed": true,
    "jupyter": {
     "outputs_hidden": true
    }
   },
   "outputs": [
    {
     "data": {
      "text/plain": [
       "['__class__',\n",
       " '__contains__',\n",
       " '__delattr__',\n",
       " '__dict__',\n",
       " '__dir__',\n",
       " '__doc__',\n",
       " '__eq__',\n",
       " '__format__',\n",
       " '__ge__',\n",
       " '__getattribute__',\n",
       " '__getitem__',\n",
       " '__gt__',\n",
       " '__hash__',\n",
       " '__init__',\n",
       " '__init_subclass__',\n",
       " '__iter__',\n",
       " '__le__',\n",
       " '__len__',\n",
       " '__lt__',\n",
       " '__module__',\n",
       " '__ne__',\n",
       " '__new__',\n",
       " '__reduce__',\n",
       " '__reduce_ex__',\n",
       " '__repr__',\n",
       " '__setattr__',\n",
       " '__sizeof__',\n",
       " '__str__',\n",
       " '__subclasshook__',\n",
       " '__weakref__',\n",
       " '_adj',\n",
       " '_node',\n",
       " '_pred',\n",
       " '_succ',\n",
       " 'add_edge',\n",
       " 'add_edges_from',\n",
       " 'add_node',\n",
       " 'add_nodes_from',\n",
       " 'add_weighted_edges_from',\n",
       " 'adj',\n",
       " 'adjacency',\n",
       " 'adjlist_inner_dict_factory',\n",
       " 'adjlist_outer_dict_factory',\n",
       " 'clear',\n",
       " 'copy',\n",
       " 'degree',\n",
       " 'edge_attr_dict_factory',\n",
       " 'edge_subgraph',\n",
       " 'edges',\n",
       " 'get_edge_data',\n",
       " 'graph',\n",
       " 'graph_attr_dict_factory',\n",
       " 'has_edge',\n",
       " 'has_node',\n",
       " 'has_predecessor',\n",
       " 'has_successor',\n",
       " 'in_degree',\n",
       " 'in_edges',\n",
       " 'is_directed',\n",
       " 'is_multigraph',\n",
       " 'name',\n",
       " 'nbunch_iter',\n",
       " 'neighbors',\n",
       " 'node_attr_dict_factory',\n",
       " 'node_dict_factory',\n",
       " 'nodes',\n",
       " 'number_of_edges',\n",
       " 'number_of_nodes',\n",
       " 'order',\n",
       " 'out_degree',\n",
       " 'out_edges',\n",
       " 'pred',\n",
       " 'predecessors',\n",
       " 'remove_edge',\n",
       " 'remove_edges_from',\n",
       " 'remove_node',\n",
       " 'remove_nodes_from',\n",
       " 'reverse',\n",
       " 'size',\n",
       " 'subgraph',\n",
       " 'succ',\n",
       " 'successors',\n",
       " 'to_directed',\n",
       " 'to_directed_class',\n",
       " 'to_undirected',\n",
       " 'to_undirected_class',\n",
       " 'update']"
      ]
     },
     "execution_count": 69,
     "metadata": {},
     "output_type": "execute_result"
    }
   ],
   "source": [
    "dir(g3)"
   ]
  },
  {
   "cell_type": "code",
   "execution_count": 74,
   "metadata": {
    "collapsed": true,
    "jupyter": {
     "outputs_hidden": true
    }
   },
   "outputs": [
    {
     "data": {
      "text/plain": [
       "{1: 1,\n",
       " 2: 1,\n",
       " 3: 1,\n",
       " 16: 2,\n",
       " 4: 1,\n",
       " 5: 1,\n",
       " 6: 0,\n",
       " 7: 1,\n",
       " 17: 1,\n",
       " 9: 1,\n",
       " 14: 2,\n",
       " 10: 1,\n",
       " 11: 1,\n",
       " 18: 2,\n",
       " 12: 0,\n",
       " 13: 0,\n",
       " 15: 0}"
      ]
     },
     "execution_count": 74,
     "metadata": {},
     "output_type": "execute_result"
    }
   ],
   "source": [
    "dict(g3.out_degree)"
   ]
  },
  {
   "cell_type": "code",
   "execution_count": 77,
   "metadata": {},
   "outputs": [
    {
     "data": {
      "text/plain": [
       "NodeDataView({1: {}, 2: {}, 3: {}, 16: {}, 4: {}, 5: {}, 6: {}, 7: {}, 17: {'contraction': {8: {}}}, 9: {}, 14: {}, 10: {}, 11: {}, 18: {}, 12: {}, 13: {}, 15: {}})"
      ]
     },
     "execution_count": 77,
     "metadata": {},
     "output_type": "execute_result"
    }
   ],
   "source": [
    "g2.nodes(data=True)"
   ]
  },
  {
   "cell_type": "code",
   "execution_count": 79,
   "metadata": {},
   "outputs": [],
   "source": [
    "g4 = nx.contracted_nodes(g3, 14, 15)"
   ]
  },
  {
   "cell_type": "code",
   "execution_count": 80,
   "metadata": {},
   "outputs": [
    {
     "data": {
      "text/plain": [
       "NodeDataView({1: {}, 2: {}, 3: {}, 16: {}, 4: {}, 5: {}, 6: {}, 7: {}, 17: {}, 9: {}, 14: {'contraction': {15: {}}}, 10: {}, 11: {}, 18: {}, 12: {}, 13: {}})"
      ]
     },
     "execution_count": 80,
     "metadata": {},
     "output_type": "execute_result"
    }
   ],
   "source": [
    "g4.nodes(data=True)"
   ]
  },
  {
   "cell_type": "code",
   "execution_count": 84,
   "metadata": {},
   "outputs": [
    {
     "name": "stdout",
     "output_type": "stream",
     "text": [
      "(1, {})\n",
      "(2, {})\n",
      "(3, {})\n",
      "(16, {})\n",
      "(4, {})\n",
      "(5, {})\n",
      "(6, {})\n",
      "(7, {})\n",
      "(17, {})\n",
      "(9, {})\n",
      "(14, {'contraction': {15: {}}})\n",
      "(10, {})\n",
      "(11, {})\n",
      "(18, {})\n",
      "(12, {})\n",
      "(13, {})\n"
     ]
    }
   ],
   "source": [
    "for node in g4.nodes(data=True):\n",
    "    print(node)"
   ]
  },
  {
   "cell_type": "code",
   "execution_count": 93,
   "metadata": {},
   "outputs": [
    {
     "data": {
      "text/plain": [
       "{'contraction': {15: {}}}"
      ]
     },
     "execution_count": 93,
     "metadata": {},
     "output_type": "execute_result"
    }
   ],
   "source": [
    "g4.nodes.get(14)"
   ]
  },
  {
   "cell_type": "code",
   "execution_count": 104,
   "metadata": {},
   "outputs": [
    {
     "data": {
      "text/plain": [
       "([10, 14], [9, 14], [12, 13])"
      ]
     },
     "execution_count": 104,
     "metadata": {},
     "output_type": "execute_result"
    }
   ],
   "source": [
    "list(g4.successors(14)), list(g4.predecessors(14)), list(g4.successors(18))"
   ]
  },
  {
   "cell_type": "code",
   "execution_count": 108,
   "metadata": {},
   "outputs": [
    {
     "data": {
      "text/plain": [
       "([10, 14], [9, 10, 15])"
      ]
     },
     "execution_count": 108,
     "metadata": {},
     "output_type": "execute_result"
    }
   ],
   "source": [
    "list(g4.neighbors(14)), list(g2.neighbors(14))"
   ]
  },
  {
   "cell_type": "code",
   "execution_count": 107,
   "metadata": {},
   "outputs": [
    {
     "name": "stdout",
     "output_type": "stream",
     "text": [
      "{1: 0, 2: 1, 3: 1, 16: 1, 4: 1, 5: 1, 6: 1, 7: 1, 17: 1, 9: 1, 14: 2, 10: 1, 11: 1, 18: 1, 12: 1, 13: 1}\n"
     ]
    }
   ],
   "source": [
    "print(dict(g4.in_degree()))"
   ]
  },
  {
   "cell_type": "code",
   "execution_count": 112,
   "metadata": {
    "collapsed": true,
    "jupyter": {
     "outputs_hidden": true
    }
   },
   "outputs": [
    {
     "data": {
      "text/plain": [
       "\u001b[0;31mType:\u001b[0m        property\n",
       "\u001b[0;31mString form:\u001b[0m <property object at 0x7f0698429728>\n",
       "\u001b[0;31mDocstring:\u001b[0m  \n",
       "A DegreeView for the Graph as G.degree or G.degree().\n",
       "\n",
       "The node degree is the number of edges adjacent to the node.\n",
       "The weighted node degree is the sum of the edge weights for\n",
       "edges incident to that node.\n",
       "\n",
       "This object provides an iterator for (node, degree) as well as\n",
       "lookup for the degree for a single node.\n",
       "\n",
       "Parameters\n",
       "----------\n",
       "nbunch : single node, container, or all nodes (default= all nodes)\n",
       "    The view will only report edges incident to these nodes.\n",
       "\n",
       "weight : string or None, optional (default=None)\n",
       "   The name of an edge attribute that holds the numerical value used\n",
       "   as a weight.  If None, then each edge has weight 1.\n",
       "   The degree is the sum of the edge weights adjacent to the node.\n",
       "\n",
       "Returns\n",
       "-------\n",
       "If a single node is requested\n",
       "deg : int\n",
       "    Degree of the node\n",
       "\n",
       "OR if multiple nodes are requested\n",
       "nd_view : A DegreeView object capable of iterating (node, degree) pairs\n",
       "\n",
       "Examples\n",
       "--------\n",
       ">>> G = nx.path_graph(4)  # or DiGraph, MultiGraph, MultiDiGraph, etc\n",
       ">>> G.degree[0]  # node 0 has degree 1\n",
       "1\n",
       ">>> list(G.degree([0, 1, 2]))\n",
       "[(0, 1), (1, 2), (2, 2)]\n"
      ]
     },
     "metadata": {},
     "output_type": "display_data"
    }
   ],
   "source": [
    "g.degree?"
   ]
  },
  {
   "cell_type": "code",
   "execution_count": 111,
   "metadata": {},
   "outputs": [
    {
     "name": "stdout",
     "output_type": "stream",
     "text": [
      "{1: 1, 2: 2, 3: 2, 16: 3, 4: 2, 5: 2, 6: 1, 7: 2, 17: 3, 8: 1, 9: 2, 14: 3, 10: 2, 11: 2, 18: 3, 12: 1, 13: 1, 15: 1}\n"
     ]
    }
   ],
   "source": [
    "print(dict(g.degree))"
   ]
  },
  {
   "cell_type": "code",
   "execution_count": 115,
   "metadata": {},
   "outputs": [
    {
     "data": {
      "text/plain": [
       "[1, 6, 8, 12, 13, 15]"
      ]
     },
     "execution_count": 115,
     "metadata": {},
     "output_type": "execute_result"
    }
   ],
   "source": [
    "[k for k,v in dict(g.degree).items() if v == 1]"
   ]
  },
  {
   "cell_type": "code",
   "execution_count": 231,
   "metadata": {},
   "outputs": [
    {
     "data": {
      "text/plain": [
       "[9, 10, 15]"
      ]
     },
     "execution_count": 231,
     "metadata": {},
     "output_type": "execute_result"
    }
   ],
   "source": [
    "list(g.neighbors(14))"
   ]
  },
  {
   "cell_type": "code",
   "execution_count": 131,
   "metadata": {},
   "outputs": [],
   "source": [
    "g.nodes[1]['smiles'] = 'sds'"
   ]
  },
  {
   "cell_type": "code",
   "execution_count": 134,
   "metadata": {},
   "outputs": [
    {
     "data": {
      "text/plain": [
       "'C#C'"
      ]
     },
     "execution_count": 134,
     "metadata": {},
     "output_type": "execute_result"
    }
   ],
   "source": [
    "g.nodes[1].get('smiles', '')"
   ]
  },
  {
   "cell_type": "code",
   "execution_count": 135,
   "metadata": {},
   "outputs": [],
   "source": [
    "g.name = 'ss'"
   ]
  },
  {
   "cell_type": "code",
   "execution_count": 137,
   "metadata": {
    "collapsed": true,
    "jupyter": {
     "outputs_hidden": true
    }
   },
   "outputs": [
    {
     "data": {
      "text/plain": [
       "['__class__',\n",
       " '__contains__',\n",
       " '__delattr__',\n",
       " '__dict__',\n",
       " '__dir__',\n",
       " '__doc__',\n",
       " '__eq__',\n",
       " '__format__',\n",
       " '__ge__',\n",
       " '__getattribute__',\n",
       " '__getitem__',\n",
       " '__gt__',\n",
       " '__hash__',\n",
       " '__init__',\n",
       " '__init_subclass__',\n",
       " '__iter__',\n",
       " '__le__',\n",
       " '__len__',\n",
       " '__lt__',\n",
       " '__module__',\n",
       " '__ne__',\n",
       " '__new__',\n",
       " '__reduce__',\n",
       " '__reduce_ex__',\n",
       " '__repr__',\n",
       " '__setattr__',\n",
       " '__sizeof__',\n",
       " '__str__',\n",
       " '__subclasshook__',\n",
       " '__weakref__',\n",
       " '_adj',\n",
       " '_node',\n",
       " 'add_edge',\n",
       " 'add_edges_from',\n",
       " 'add_node',\n",
       " 'add_nodes_from',\n",
       " 'add_weighted_edges_from',\n",
       " 'adj',\n",
       " 'adjacency',\n",
       " 'adjlist_inner_dict_factory',\n",
       " 'adjlist_outer_dict_factory',\n",
       " 'clear',\n",
       " 'copy',\n",
       " 'degree',\n",
       " 'edge_attr_dict_factory',\n",
       " 'edge_subgraph',\n",
       " 'edges',\n",
       " 'get_edge_data',\n",
       " 'graph',\n",
       " 'graph_attr_dict_factory',\n",
       " 'has_edge',\n",
       " 'has_node',\n",
       " 'is_directed',\n",
       " 'is_multigraph',\n",
       " 'name',\n",
       " 'nbunch_iter',\n",
       " 'neighbors',\n",
       " 'node_attr_dict_factory',\n",
       " 'node_dict_factory',\n",
       " 'nodes',\n",
       " 'number_of_edges',\n",
       " 'number_of_nodes',\n",
       " 'order',\n",
       " 'remove_edge',\n",
       " 'remove_edges_from',\n",
       " 'remove_node',\n",
       " 'remove_nodes_from',\n",
       " 'size',\n",
       " 'subgraph',\n",
       " 'to_directed',\n",
       " 'to_directed_class',\n",
       " 'to_undirected',\n",
       " 'to_undirected_class',\n",
       " 'update']"
      ]
     },
     "execution_count": 137,
     "metadata": {},
     "output_type": "execute_result"
    }
   ],
   "source": [
    "dir(g)"
   ]
  },
  {
   "cell_type": "code",
   "execution_count": 178,
   "metadata": {
    "collapsed": true,
    "jupyter": {
     "outputs_hidden": true
    }
   },
   "outputs": [
    {
     "data": {
      "text/plain": [
       "\u001b[0;31mSignature:\u001b[0m \u001b[0mg\u001b[0m\u001b[0;34m.\u001b[0m\u001b[0mcopy\u001b[0m\u001b[0;34m(\u001b[0m\u001b[0mas_view\u001b[0m\u001b[0;34m=\u001b[0m\u001b[0;32mFalse\u001b[0m\u001b[0;34m)\u001b[0m\u001b[0;34m\u001b[0m\u001b[0;34m\u001b[0m\u001b[0m\n",
       "\u001b[0;31mDocstring:\u001b[0m\n",
       "Returns a copy of the graph.\n",
       "\n",
       "The copy method by default returns an independent shallow copy\n",
       "of the graph and attributes. That is, if an attribute is a\n",
       "container, that container is shared by the original an the copy.\n",
       "Use Python's `copy.deepcopy` for new containers.\n",
       "\n",
       "If `as_view` is True then a view is returned instead of a copy.\n",
       "\n",
       "Notes\n",
       "-----\n",
       "All copies reproduce the graph structure, but data attributes\n",
       "may be handled in different ways. There are four types of copies\n",
       "of a graph that people might want.\n",
       "\n",
       "Deepcopy -- A \"deepcopy\" copies the graph structure as well as\n",
       "all data attributes and any objects they might contain.\n",
       "The entire graph object is new so that changes in the copy\n",
       "do not affect the original object. (see Python's copy.deepcopy)\n",
       "\n",
       "Data Reference (Shallow) -- For a shallow copy the graph structure\n",
       "is copied but the edge, node and graph attribute dicts are\n",
       "references to those in the original graph. This saves\n",
       "time and memory but could cause confusion if you change an attribute\n",
       "in one graph and it changes the attribute in the other.\n",
       "NetworkX does not provide this level of shallow copy.\n",
       "\n",
       "Independent Shallow -- This copy creates new independent attribute\n",
       "dicts and then does a shallow copy of the attributes. That is, any\n",
       "attributes that are containers are shared between the new graph\n",
       "and the original. This is exactly what `dict.copy()` provides.\n",
       "You can obtain this style copy using:\n",
       "\n",
       "    >>> G = nx.path_graph(5)\n",
       "    >>> H = G.copy()\n",
       "    >>> H = G.copy(as_view=False)\n",
       "    >>> H = nx.Graph(G)\n",
       "    >>> H = G.__class__(G)\n",
       "\n",
       "Fresh Data -- For fresh data, the graph structure is copied while\n",
       "new empty data attribute dicts are created. The resulting graph\n",
       "is independent of the original and it has no edge, node or graph\n",
       "attributes. Fresh copies are not enabled. Instead use:\n",
       "\n",
       "    >>> H = G.__class__()\n",
       "    >>> H.add_nodes_from(G)\n",
       "    >>> H.add_edges_from(G.edges)\n",
       "\n",
       "View -- Inspired by dict-views, graph-views act like read-only\n",
       "versions of the original graph, providing a copy of the original\n",
       "structure without requiring any memory for copying the information.\n",
       "\n",
       "See the Python copy module for more information on shallow\n",
       "and deep copies, https://docs.python.org/2/library/copy.html.\n",
       "\n",
       "Parameters\n",
       "----------\n",
       "as_view : bool, optional (default=False)\n",
       "    If True, the returned graph-view provides a read-only view\n",
       "    of the original graph without actually copying any data.\n",
       "\n",
       "Returns\n",
       "-------\n",
       "G : Graph\n",
       "    A copy of the graph.\n",
       "\n",
       "See Also\n",
       "--------\n",
       "to_directed: return a directed copy of the graph.\n",
       "\n",
       "Examples\n",
       "--------\n",
       ">>> G = nx.path_graph(4)  # or DiGraph, MultiGraph, MultiDiGraph, etc\n",
       ">>> H = G.copy()\n",
       "\u001b[0;31mFile:\u001b[0m      ~/miniconda3/envs/molFrag2vec/lib/python3.6/site-packages/networkx/classes/graph.py\n",
       "\u001b[0;31mType:\u001b[0m      method\n"
      ]
     },
     "metadata": {},
     "output_type": "display_data"
    }
   ],
   "source": [
    "g.copy?"
   ]
  },
  {
   "cell_type": "markdown",
   "metadata": {},
   "source": [
    "### test refragment"
   ]
  },
  {
   "cell_type": "code",
   "execution_count": 288,
   "metadata": {},
   "outputs": [
    {
     "data": {
      "text/html": [
       "<div>\n",
       "<style scoped>\n",
       "    .dataframe tbody tr th:only-of-type {\n",
       "        vertical-align: middle;\n",
       "    }\n",
       "\n",
       "    .dataframe tbody tr th {\n",
       "        vertical-align: top;\n",
       "    }\n",
       "\n",
       "    .dataframe thead th {\n",
       "        text-align: right;\n",
       "    }\n",
       "</style>\n",
       "<table border=\"1\" class=\"dataframe\">\n",
       "  <thead>\n",
       "    <tr style=\"text-align: right;\">\n",
       "      <th></th>\n",
       "      <th>count</th>\n",
       "      <th>frequency</th>\n",
       "    </tr>\n",
       "    <tr>\n",
       "      <th>fragment</th>\n",
       "      <th></th>\n",
       "      <th></th>\n",
       "    </tr>\n",
       "  </thead>\n",
       "  <tbody>\n",
       "    <tr>\n",
       "      <th>CC</th>\n",
       "      <td>5338219</td>\n",
       "      <td>0.251859</td>\n",
       "    </tr>\n",
       "    <tr>\n",
       "      <th>CN</th>\n",
       "      <td>4079814</td>\n",
       "      <td>0.192487</td>\n",
       "    </tr>\n",
       "    <tr>\n",
       "      <th>C</th>\n",
       "      <td>2128532</td>\n",
       "      <td>0.100425</td>\n",
       "    </tr>\n",
       "    <tr>\n",
       "      <th>C=O</th>\n",
       "      <td>1856788</td>\n",
       "      <td>0.087604</td>\n",
       "    </tr>\n",
       "    <tr>\n",
       "      <th>CO</th>\n",
       "      <td>1551646</td>\n",
       "      <td>0.073207</td>\n",
       "    </tr>\n",
       "  </tbody>\n",
       "</table>\n",
       "</div>"
      ],
      "text/plain": [
       "            count  frequency\n",
       "fragment                    \n",
       "CC        5338219   0.251859\n",
       "CN        4079814   0.192487\n",
       "C         2128532   0.100425\n",
       "C=O       1856788   0.087604\n",
       "CO        1551646   0.073207"
      ]
     },
     "execution_count": 288,
     "metadata": {},
     "output_type": "execute_result"
    }
   ],
   "source": [
    "fragment2frequency = pd.read_csv('demo_data_refragment/step1_frag2num.csv', index_col=0)\n",
    "fragment2frequency.head()"
   ]
  },
  {
   "cell_type": "code",
   "execution_count": 213,
   "metadata": {},
   "outputs": [
    {
     "data": {
      "text/plain": [
       "count        491767.000000\n",
       "frequency         0.023202\n",
       "Name: CF, dtype: float64"
      ]
     },
     "execution_count": 213,
     "metadata": {},
     "output_type": "execute_result"
    }
   ],
   "source": [
    "fragment2frequency.loc['CF', :]"
   ]
  },
  {
   "cell_type": "code",
   "execution_count": 215,
   "metadata": {},
   "outputs": [],
   "source": [
    "def sanitize(mol):\n",
    "    try:\n",
    "        smiles = get_smiles(mol)\n",
    "        mol = get_mol(smiles)\n",
    "    except Exception as e:\n",
    "        return None\n",
    "    return mol\n",
    "\n",
    "def get_smiles(mol):\n",
    "    \"\"\"\n",
    "    mol obj -> SMILES\n",
    "    :param mol:\n",
    "    :return:\n",
    "    \"\"\"\n",
    "    return Chem.MolToSmiles(mol, kekuleSmiles=True)\n",
    "\n",
    "def get_mol(smiles):\n",
    "    \"\"\"\n",
    "    SMILES -> mol obj\n",
    "    :param smiles:\n",
    "    :return:\n",
    "    \"\"\"\n",
    "    mol = Chem.MolFromSmiles(smiles)\n",
    "    if mol is None:\n",
    "        return None\n",
    "    Chem.Kekulize(mol)\n",
    "    return mol"
   ]
  },
  {
   "cell_type": "code",
   "execution_count": 359,
   "metadata": {},
   "outputs": [],
   "source": [
    "class Refragment(object):\n",
    "    def __init__(self, g, f2f, smiles, test=False):\n",
    "        \"\"\"\n",
    "        g: moelcular graph created by networkx with SMILES and mol_inx for each node\n",
    "        f2f: fragment2frequency, a dataframe with fragment(SMILES) as index, count/frequency\n",
    "        smiles: the SMILES of the whold molecule\n",
    "        mol_inx means the index of each atom in the whole molecule, it's a unique id for each atom\n",
    "        \"\"\"\n",
    "        self.smiles = smiles\n",
    "        self.g = g\n",
    "        self.f2f = f2f\n",
    "        self.test = test\n",
    "\n",
    "    def get_node_by_degree(self, d=1):\n",
    "        \"\"\"\n",
    "        # The node degree is the number of edges adjacent to the node\n",
    "        degree equals to 1 means all leaves on the end of graph\n",
    "        :param d: degree, 1/2\n",
    "        :return: return all nodes with specific degree\n",
    "        \"\"\"\n",
    "        node_degree = dict(self.g.degree)\n",
    "        return [k for k, v in node_degree.items() if v == d]\n",
    "    \n",
    "    def get_degree_by_node(self, node_id):\n",
    "        node_degree = dict(self.g.degree)\n",
    "        return node_degree[node_id]\n",
    "\n",
    "    def get_neighbors(self, node_id):\n",
    "        neigs = list(self.g.neighbors(node_id))\n",
    "        return neigs\n",
    "\n",
    "    def check_if_merge(self, node1_id, node2_id):\n",
    "        \"\"\"\n",
    "        check if need to merge these two nodes depend on the frequency of each node\n",
    "        \"\"\"\n",
    "        mean_freq = self.get_mean_frequency()\n",
    "        if self.test:\n",
    "            print('    >check if merge: node1 {}, node2 {}'.format(node1_id, node2_id))\n",
    "        node1_freq = self.get_freq(node1_id)\n",
    "        node2_freq = self.get_freq(node2_id)\n",
    "        if self.test:\n",
    "            print('    >node1_freq: {}, node2_freq: {}'.format(node1_freq, node2_freq))\n",
    "        if (node1_freq >= mean_freq) and (node2_freq >= mean_freq):\n",
    "            return True\n",
    "        return False\n",
    "\n",
    "    def get_freq(self, node_id):\n",
    "        \"\"\"\n",
    "        get frequency by node id\n",
    "        \"\"\"\n",
    "        smiles = self.get_node_attr(node_id, 'smiles')\n",
    "        if self.test:\n",
    "            print('    >node id is: {}, smiles is: {}'.format(node_id, smiles))\n",
    "        return self.f2f.loc[smiles, 'frequency']\n",
    "\n",
    "    def get_node_attr(self, node_id, attr):\n",
    "        \"\"\"\n",
    "        get node attribute by node id\n",
    "        attr: smiles/mol_inx\n",
    "        \"\"\"\n",
    "        if self.test:\n",
    "            print('    >node id is: ', node_id)\n",
    "            print(type(self.g.nodes[node_id]), self.g.nodes(data=True))\n",
    "        return self.g.nodes[node_id].get(attr, '')\n",
    "\n",
    "    # def set_node_attr()\n",
    "\n",
    "    def get_mean_frequency(self, min_count=3):\n",
    "        \"\"\"\n",
    "        mean of the frequency for all fragments which count >= min_count\n",
    "        \"\"\"\n",
    "        mean_freq = self.f2f.loc[self.f2f['count'] >= min_count, 'frequency'].mean()\n",
    "        return mean_freq\n",
    "\n",
    "    def _merge_smiles(self, node1_id, node2_id):\n",
    "        node1_inx_cluster = self.get_node_attr(node1_id, 'mol_inx')\n",
    "        node2_inx_cluster = self.get_node_attr(node2_id, 'mol_inx')\n",
    "        if self.test:\n",
    "            print('    >The mol_inx of node {} is {}'.format(node1_id, node1_inx_cluster))\n",
    "            print('    >The mol_inx of node {} is {}'.format(node2_id, node2_inx_cluster))\n",
    "        inx_cluster = set(node1_inx_cluster) | set(node2_inx_cluster)\n",
    "        merged_smiles = self._get_smiles_by_inx(inx_cluster)\n",
    "        return {'merged_smiles': merged_smiles, 'merged_inx': inx_cluster}\n",
    "\n",
    "    def merge_two_nodes(self, left_id, right_id):\n",
    "        \"\"\"\n",
    "        remove right node to left node, and right_id will be delete;\n",
    "        merge SMILES of these two nodes;\n",
    "        add new fragment to self.f2f;\n",
    "        update count and frequency in self.f2f\n",
    "        \"\"\"\n",
    "        if self.check_if_merge(left_id, right_id):\n",
    "            raw_smiles_left = self.g.nodes[left_id]['smiles']\n",
    "            raw_smiles_right = self.g.nodes[right_id]['smiles']\n",
    "            g2 = nx.contracted_nodes(self.g, left_id, right_id, self_loops=False)\n",
    "            merged_result = self._merge_smiles(left_id, right_id)\n",
    "            merged_smiles = merged_result['merged_smiles']\n",
    "            g2.nodes[left_id]['smiles'] = merged_smiles\n",
    "            g2.nodes[left_id]['mol_inx'] = list(merged_result['merged_inx'])\n",
    "            if self.test:\n",
    "                print('    >Merged result is: {}'.format(merged_result))\n",
    "                print('    >New network: {}'.format(g2.nodes(data=True)))\n",
    "\n",
    "            if merged_smiles not in self.f2f.index:\n",
    "                self.f2f.loc[merged_smiles, 'count'] = 0\n",
    "            self.f2f.loc[merged_smiles, 'count'] += 1\n",
    "            self.f2f.loc[raw_smiles_left, 'count'] -= 1\n",
    "            self.f2f.loc[raw_smiles_right, 'count'] -= 1\n",
    "            self.f2f['frequency'] = self.f2f['count'] / self.f2f['count'].sum()\n",
    "            self.g = g2.copy()\n",
    "\n",
    "    def _get_mol(self):\n",
    "        \"\"\"\n",
    "        SMILES -> mol obj\n",
    "        :param smiles:\n",
    "        :return:\n",
    "        \"\"\"\n",
    "        mol = Chem.MolFromSmiles(self.smiles)\n",
    "        if mol is None:\n",
    "            return None\n",
    "        Chem.Kekulize(mol)\n",
    "        return mol\n",
    "\n",
    "    def _get_smiles_by_inx(self, inx_cluster):\n",
    "        \"\"\"\n",
    "        get a subset smiles in the whole molecule by inx_cluster\n",
    "        :param inx_cluster: a set of atom index in molecule, at least contains two elements\n",
    "        :return:\n",
    "        \"\"\"\n",
    "        mol = self._get_mol()\n",
    "        if self.test:\n",
    "            print('    >atom index cluster: {}'.format(inx_cluster))\n",
    "        smiles = Chem.MolFragmentToSmiles(mol, inx_cluster, kekuleSmiles=True)\n",
    "        new_mol = Chem.MolFromSmiles(smiles, sanitize=False)\n",
    "        # new_mol = copy_edit_mol(new_mol).GetMol()\n",
    "        new_mol = sanitize(new_mol)  # We assume this is not None\n",
    "        return get_smiles(new_mol)\n",
    "\n",
    "    def update(self):\n",
    "        \"\"\"\n",
    "        main part of this class\n",
    "        find all leaves (only have one neighbor) and merge with their neighbor if needed\n",
    "        \"\"\"\n",
    "        for d in range(1,3):\n",
    "            # d is 1 or 2\n",
    "            if self.test:\n",
    "                print('---------------------------------degree {}--------------------------'.format(d))\n",
    "            nodes = self.get_node_by_degree(d=d)  # a list of node id\n",
    "            for node in nodes:\n",
    "                if node in list(self.g.nodes):\n",
    "                    neighbors = self.get_neighbors(node)  # a list of node id\n",
    "                    if self.test:\n",
    "                        print()\n",
    "                        print('## Current node is: {}'.format(node))\n",
    "                        print('  >>> Neighbors of this node are : {}'.format(','.join([str(i) for i in neighbors])))\n",
    "                    for neighbor in neighbors:\n",
    "                        # neighbor may be deleted on this process, so need to check if it exists\n",
    "                        if d == 1: # degree = 1, only leaves\n",
    "                            if self.test:\n",
    "                                print('  >>> Start to check if {} and {} can be merged...'.format(neighbor, node))\n",
    "                            if (neighbor in list(self.g.nodes)) and self.check_if_merge(neighbor, node):\n",
    "                                if self.test:\n",
    "                                    print('  >>> Start to merge {} to {}...'.format(node, neighbor))\n",
    "                                self.merge_two_nodes(left_id=neighbor, right_id=node)\n",
    "                        if d == 2:\n",
    "                            if self.get_degree_by_node(neighbor)==2:  # degree = 2, only merge with the neighbor which degree is 2\n",
    "                                if self.test:\n",
    "                                    print('    >the degree of neighbor {} is {}'.format(neighbor, self.get_degree_by_node(neighbor)))\n",
    "                                    print('  >>> Start to check if {} and {} can be merged...'.format(neighbor, node))\n",
    "                                if (neighbor in list(self.g.nodes)) and self.check_if_merge(neighbor, node):\n",
    "                                    if self.test:\n",
    "                                        print('  >>> Start to merge {} to {}...'.format(neighbor, node))\n",
    "                                    self.merge_two_nodes(left_id=node, right_id=neighbor)\n",
    "\n",
    "        n2n = {n: list(self.g.neighbors(n)) for n in list(self.g.nodes())}  # node 2 neighbors, {id: [], ... }\n",
    "        id2smiles = nx.get_node_attributes(self.g, 'smiles')\n",
    "        id2mol_inx = nx.get_node_attributes(self.g, 'mol_inx')\n",
    "        return {'n2n': n2n, 'id2smiles': id2smiles, 'f2f': self.f2f, 'id2mol_inx': id2mol_inx}"
   ]
  },
  {
   "cell_type": "code",
   "execution_count": 360,
   "metadata": {},
   "outputs": [],
   "source": [
    "SMILES = 'Cc1nc2c([nH]1)c(=O)n(C)c(=O)n2CC1CC=CCC1'\n",
    "\n",
    "n2n = {\"1\": [7], \"2\": [8], \"3\": [8], \"4\": [8], \"5\": [6, 8], \"6\": [5, 9], \"7\": [1, 8], \"8\": [2, 3, 4, 5, 7], \"9\": [6]}\n",
    "\n",
    "id2smiles = {\"1\": \"CC\", \"2\": \"C=O\", \"3\": \"CN\", \"4\": \"C=O\", \"5\": \"CN\", \"6\": \"CC\", \"7\": \"C1=C[NH]C=N1\", \"8\": \"C1=CNCNC1\", \"9\": \"C1=CCCCC1\"}\n",
    "\n",
    "id2mol_inx = {\"1\": [0, 1], \"2\": [6, 7], \"3\": [8, 9], \"4\": [10, 11], \"5\": [12, 13], \"6\": [13, 14], \"7\": [1, 2, 3, 4, 5], \"8\": [6, 8, 10, 12, 3, 4], \"9\": [15, 16, 17, 18, 19, 14]}\n",
    "\n",
    "id2smile_attr = {int(k): {'smiles': v} for k,v in id2smiles.items()}\n",
    "id2mol_inx_attr = {int(k): {'mol_inx': v} for k,v in id2mol_inx.items()}\n",
    "n2n = {int(i): j for i,j in n2n.items()}\n",
    "\n",
    "g = mol2network(n2n)\n",
    "nx.set_node_attributes(g, id2smile_attr)\n",
    "nx.set_node_attributes(g, id2mol_inx_attr)"
   ]
  },
  {
   "cell_type": "code",
   "execution_count": 361,
   "metadata": {},
   "outputs": [
    {
     "data": {
      "text/plain": [
       "'CC'"
      ]
     },
     "execution_count": 361,
     "metadata": {},
     "output_type": "execute_result"
    }
   ],
   "source": [
    "g.nodes[1].get('smiles', '')"
   ]
  },
  {
   "cell_type": "code",
   "execution_count": 362,
   "metadata": {},
   "outputs": [
    {
     "name": "stdout",
     "output_type": "stream",
     "text": [
      "---------------------------------degree 1--------------------------\n",
      "\n",
      "## Current node is: 1\n",
      "  >>> Neighbors of this node are : 7\n",
      "  >>> Start to check if 7 and 1 can be merged...\n",
      "    >check if merge: node1 7, node2 1\n",
      "    >node id is:  7\n",
      "<class 'dict'> [(1, {'smiles': 'CC', 'mol_inx': [0, 1]}), (7, {'smiles': 'C1=C[NH]C=N1', 'mol_inx': [1, 2, 3, 4, 5]}), (2, {'smiles': 'C=O', 'mol_inx': [6, 7]}), (8, {'smiles': 'C1=CNCNC1', 'mol_inx': [6, 8, 10, 12, 3, 4]}), (3, {'smiles': 'CN', 'mol_inx': [8, 9]}), (4, {'smiles': 'C=O', 'mol_inx': [10, 11]}), (5, {'smiles': 'CN', 'mol_inx': [12, 13]}), (6, {'smiles': 'CC', 'mol_inx': [13, 14]}), (9, {'smiles': 'C1=CCCCC1', 'mol_inx': [15, 16, 17, 18, 19, 14]})]\n",
      "    >node id is: 7, smiles is: C1=C[NH]C=N1\n",
      "    >node id is:  1\n",
      "<class 'dict'> [(1, {'smiles': 'CC', 'mol_inx': [0, 1]}), (7, {'smiles': 'C1=C[NH]C=N1', 'mol_inx': [1, 2, 3, 4, 5]}), (2, {'smiles': 'C=O', 'mol_inx': [6, 7]}), (8, {'smiles': 'C1=CNCNC1', 'mol_inx': [6, 8, 10, 12, 3, 4]}), (3, {'smiles': 'CN', 'mol_inx': [8, 9]}), (4, {'smiles': 'C=O', 'mol_inx': [10, 11]}), (5, {'smiles': 'CN', 'mol_inx': [12, 13]}), (6, {'smiles': 'CC', 'mol_inx': [13, 14]}), (9, {'smiles': 'C1=CCCCC1', 'mol_inx': [15, 16, 17, 18, 19, 14]})]\n",
      "    >node id is: 1, smiles is: CC\n",
      "    >node1_freq: 0.0027323542629194477, node2_freq: 0.2518584448656599\n",
      "\n",
      "## Current node is: 2\n",
      "  >>> Neighbors of this node are : 8\n",
      "  >>> Start to check if 8 and 2 can be merged...\n",
      "    >check if merge: node1 8, node2 2\n",
      "    >node id is:  8\n",
      "<class 'dict'> [(1, {'smiles': 'CC', 'mol_inx': [0, 1]}), (7, {'smiles': 'C1=C[NH]C=N1', 'mol_inx': [1, 2, 3, 4, 5]}), (2, {'smiles': 'C=O', 'mol_inx': [6, 7]}), (8, {'smiles': 'C1=CNCNC1', 'mol_inx': [6, 8, 10, 12, 3, 4]}), (3, {'smiles': 'CN', 'mol_inx': [8, 9]}), (4, {'smiles': 'C=O', 'mol_inx': [10, 11]}), (5, {'smiles': 'CN', 'mol_inx': [12, 13]}), (6, {'smiles': 'CC', 'mol_inx': [13, 14]}), (9, {'smiles': 'C1=CCCCC1', 'mol_inx': [15, 16, 17, 18, 19, 14]})]\n",
      "    >node id is: 8, smiles is: C1=CNCNC1\n",
      "    >node id is:  2\n",
      "<class 'dict'> [(1, {'smiles': 'CC', 'mol_inx': [0, 1]}), (7, {'smiles': 'C1=C[NH]C=N1', 'mol_inx': [1, 2, 3, 4, 5]}), (2, {'smiles': 'C=O', 'mol_inx': [6, 7]}), (8, {'smiles': 'C1=CNCNC1', 'mol_inx': [6, 8, 10, 12, 3, 4]}), (3, {'smiles': 'CN', 'mol_inx': [8, 9]}), (4, {'smiles': 'C=O', 'mol_inx': [10, 11]}), (5, {'smiles': 'CN', 'mol_inx': [12, 13]}), (6, {'smiles': 'CC', 'mol_inx': [13, 14]}), (9, {'smiles': 'C1=CCCCC1', 'mol_inx': [15, 16, 17, 18, 19, 14]})]\n",
      "    >node id is: 2, smiles is: C=O\n",
      "    >node1_freq: 0.0007989044728129264, node2_freq: 0.08760381736023713\n",
      "\n",
      "## Current node is: 3\n",
      "  >>> Neighbors of this node are : 8\n",
      "  >>> Start to check if 8 and 3 can be merged...\n",
      "    >check if merge: node1 8, node2 3\n",
      "    >node id is:  8\n",
      "<class 'dict'> [(1, {'smiles': 'CC', 'mol_inx': [0, 1]}), (7, {'smiles': 'C1=C[NH]C=N1', 'mol_inx': [1, 2, 3, 4, 5]}), (2, {'smiles': 'C=O', 'mol_inx': [6, 7]}), (8, {'smiles': 'C1=CNCNC1', 'mol_inx': [6, 8, 10, 12, 3, 4]}), (3, {'smiles': 'CN', 'mol_inx': [8, 9]}), (4, {'smiles': 'C=O', 'mol_inx': [10, 11]}), (5, {'smiles': 'CN', 'mol_inx': [12, 13]}), (6, {'smiles': 'CC', 'mol_inx': [13, 14]}), (9, {'smiles': 'C1=CCCCC1', 'mol_inx': [15, 16, 17, 18, 19, 14]})]\n",
      "    >node id is: 8, smiles is: C1=CNCNC1\n",
      "    >node id is:  3\n",
      "<class 'dict'> [(1, {'smiles': 'CC', 'mol_inx': [0, 1]}), (7, {'smiles': 'C1=C[NH]C=N1', 'mol_inx': [1, 2, 3, 4, 5]}), (2, {'smiles': 'C=O', 'mol_inx': [6, 7]}), (8, {'smiles': 'C1=CNCNC1', 'mol_inx': [6, 8, 10, 12, 3, 4]}), (3, {'smiles': 'CN', 'mol_inx': [8, 9]}), (4, {'smiles': 'C=O', 'mol_inx': [10, 11]}), (5, {'smiles': 'CN', 'mol_inx': [12, 13]}), (6, {'smiles': 'CC', 'mol_inx': [13, 14]}), (9, {'smiles': 'C1=CCCCC1', 'mol_inx': [15, 16, 17, 18, 19, 14]})]\n",
      "    >node id is: 3, smiles is: CN\n",
      "    >node1_freq: 0.0007989044728129264, node2_freq: 0.19248643860483056\n",
      "\n",
      "## Current node is: 4\n",
      "  >>> Neighbors of this node are : 8\n",
      "  >>> Start to check if 8 and 4 can be merged...\n",
      "    >check if merge: node1 8, node2 4\n",
      "    >node id is:  8\n",
      "<class 'dict'> [(1, {'smiles': 'CC', 'mol_inx': [0, 1]}), (7, {'smiles': 'C1=C[NH]C=N1', 'mol_inx': [1, 2, 3, 4, 5]}), (2, {'smiles': 'C=O', 'mol_inx': [6, 7]}), (8, {'smiles': 'C1=CNCNC1', 'mol_inx': [6, 8, 10, 12, 3, 4]}), (3, {'smiles': 'CN', 'mol_inx': [8, 9]}), (4, {'smiles': 'C=O', 'mol_inx': [10, 11]}), (5, {'smiles': 'CN', 'mol_inx': [12, 13]}), (6, {'smiles': 'CC', 'mol_inx': [13, 14]}), (9, {'smiles': 'C1=CCCCC1', 'mol_inx': [15, 16, 17, 18, 19, 14]})]\n",
      "    >node id is: 8, smiles is: C1=CNCNC1\n",
      "    >node id is:  4\n",
      "<class 'dict'> [(1, {'smiles': 'CC', 'mol_inx': [0, 1]}), (7, {'smiles': 'C1=C[NH]C=N1', 'mol_inx': [1, 2, 3, 4, 5]}), (2, {'smiles': 'C=O', 'mol_inx': [6, 7]}), (8, {'smiles': 'C1=CNCNC1', 'mol_inx': [6, 8, 10, 12, 3, 4]}), (3, {'smiles': 'CN', 'mol_inx': [8, 9]}), (4, {'smiles': 'C=O', 'mol_inx': [10, 11]}), (5, {'smiles': 'CN', 'mol_inx': [12, 13]}), (6, {'smiles': 'CC', 'mol_inx': [13, 14]}), (9, {'smiles': 'C1=CCCCC1', 'mol_inx': [15, 16, 17, 18, 19, 14]})]\n",
      "    >node id is: 4, smiles is: C=O\n",
      "    >node1_freq: 0.0007989044728129264, node2_freq: 0.08760381736023713\n",
      "\n",
      "## Current node is: 9\n",
      "  >>> Neighbors of this node are : 6\n",
      "  >>> Start to check if 6 and 9 can be merged...\n",
      "    >check if merge: node1 6, node2 9\n",
      "    >node id is:  6\n",
      "<class 'dict'> [(1, {'smiles': 'CC', 'mol_inx': [0, 1]}), (7, {'smiles': 'C1=C[NH]C=N1', 'mol_inx': [1, 2, 3, 4, 5]}), (2, {'smiles': 'C=O', 'mol_inx': [6, 7]}), (8, {'smiles': 'C1=CNCNC1', 'mol_inx': [6, 8, 10, 12, 3, 4]}), (3, {'smiles': 'CN', 'mol_inx': [8, 9]}), (4, {'smiles': 'C=O', 'mol_inx': [10, 11]}), (5, {'smiles': 'CN', 'mol_inx': [12, 13]}), (6, {'smiles': 'CC', 'mol_inx': [13, 14]}), (9, {'smiles': 'C1=CCCCC1', 'mol_inx': [15, 16, 17, 18, 19, 14]})]\n",
      "    >node id is: 6, smiles is: CC\n",
      "    >node id is:  9\n",
      "<class 'dict'> [(1, {'smiles': 'CC', 'mol_inx': [0, 1]}), (7, {'smiles': 'C1=C[NH]C=N1', 'mol_inx': [1, 2, 3, 4, 5]}), (2, {'smiles': 'C=O', 'mol_inx': [6, 7]}), (8, {'smiles': 'C1=CNCNC1', 'mol_inx': [6, 8, 10, 12, 3, 4]}), (3, {'smiles': 'CN', 'mol_inx': [8, 9]}), (4, {'smiles': 'C=O', 'mol_inx': [10, 11]}), (5, {'smiles': 'CN', 'mol_inx': [12, 13]}), (6, {'smiles': 'CC', 'mol_inx': [13, 14]}), (9, {'smiles': 'C1=CCCCC1', 'mol_inx': [15, 16, 17, 18, 19, 14]})]\n",
      "    >node id is: 9, smiles is: C1=CCCCC1\n",
      "    >node1_freq: 0.2518584448656599, node2_freq: 0.0008537751928200979\n",
      "---------------------------------degree 2--------------------------\n",
      "\n",
      "## Current node is: 7\n",
      "  >>> Neighbors of this node are : 1,8\n",
      "\n",
      "## Current node is: 5\n",
      "  >>> Neighbors of this node are : 6,8\n",
      "the degree of neighbor 6 is 2\n",
      "  >>> Start to check if 6 and 5 can be merged...\n",
      "    >check if merge: node1 6, node2 5\n",
      "    >node id is:  6\n",
      "<class 'dict'> [(1, {'smiles': 'CC', 'mol_inx': [0, 1]}), (7, {'smiles': 'C1=C[NH]C=N1', 'mol_inx': [1, 2, 3, 4, 5]}), (2, {'smiles': 'C=O', 'mol_inx': [6, 7]}), (8, {'smiles': 'C1=CNCNC1', 'mol_inx': [6, 8, 10, 12, 3, 4]}), (3, {'smiles': 'CN', 'mol_inx': [8, 9]}), (4, {'smiles': 'C=O', 'mol_inx': [10, 11]}), (5, {'smiles': 'CN', 'mol_inx': [12, 13]}), (6, {'smiles': 'CC', 'mol_inx': [13, 14]}), (9, {'smiles': 'C1=CCCCC1', 'mol_inx': [15, 16, 17, 18, 19, 14]})]\n",
      "    >node id is: 6, smiles is: CC\n",
      "    >node id is:  5\n",
      "<class 'dict'> [(1, {'smiles': 'CC', 'mol_inx': [0, 1]}), (7, {'smiles': 'C1=C[NH]C=N1', 'mol_inx': [1, 2, 3, 4, 5]}), (2, {'smiles': 'C=O', 'mol_inx': [6, 7]}), (8, {'smiles': 'C1=CNCNC1', 'mol_inx': [6, 8, 10, 12, 3, 4]}), (3, {'smiles': 'CN', 'mol_inx': [8, 9]}), (4, {'smiles': 'C=O', 'mol_inx': [10, 11]}), (5, {'smiles': 'CN', 'mol_inx': [12, 13]}), (6, {'smiles': 'CC', 'mol_inx': [13, 14]}), (9, {'smiles': 'C1=CCCCC1', 'mol_inx': [15, 16, 17, 18, 19, 14]})]\n",
      "    >node id is: 5, smiles is: CN\n",
      "    >node1_freq: 0.2518584448656599, node2_freq: 0.19248643860483056\n",
      "  >>> Start to merge 6 to 5...\n",
      "    >check if merge: node1 5, node2 6\n",
      "    >node id is:  5\n",
      "<class 'dict'> [(1, {'smiles': 'CC', 'mol_inx': [0, 1]}), (7, {'smiles': 'C1=C[NH]C=N1', 'mol_inx': [1, 2, 3, 4, 5]}), (2, {'smiles': 'C=O', 'mol_inx': [6, 7]}), (8, {'smiles': 'C1=CNCNC1', 'mol_inx': [6, 8, 10, 12, 3, 4]}), (3, {'smiles': 'CN', 'mol_inx': [8, 9]}), (4, {'smiles': 'C=O', 'mol_inx': [10, 11]}), (5, {'smiles': 'CN', 'mol_inx': [12, 13]}), (6, {'smiles': 'CC', 'mol_inx': [13, 14]}), (9, {'smiles': 'C1=CCCCC1', 'mol_inx': [15, 16, 17, 18, 19, 14]})]\n",
      "    >node id is: 5, smiles is: CN\n",
      "    >node id is:  6\n",
      "<class 'dict'> [(1, {'smiles': 'CC', 'mol_inx': [0, 1]}), (7, {'smiles': 'C1=C[NH]C=N1', 'mol_inx': [1, 2, 3, 4, 5]}), (2, {'smiles': 'C=O', 'mol_inx': [6, 7]}), (8, {'smiles': 'C1=CNCNC1', 'mol_inx': [6, 8, 10, 12, 3, 4]}), (3, {'smiles': 'CN', 'mol_inx': [8, 9]}), (4, {'smiles': 'C=O', 'mol_inx': [10, 11]}), (5, {'smiles': 'CN', 'mol_inx': [12, 13]}), (6, {'smiles': 'CC', 'mol_inx': [13, 14]}), (9, {'smiles': 'C1=CCCCC1', 'mol_inx': [15, 16, 17, 18, 19, 14]})]\n",
      "    >node id is: 6, smiles is: CC\n",
      "    >node1_freq: 0.19248643860483056, node2_freq: 0.2518584448656599\n",
      "    >node id is:  5\n",
      "<class 'dict'> [(1, {'smiles': 'CC', 'mol_inx': [0, 1]}), (7, {'smiles': 'C1=C[NH]C=N1', 'mol_inx': [1, 2, 3, 4, 5]}), (2, {'smiles': 'C=O', 'mol_inx': [6, 7]}), (8, {'smiles': 'C1=CNCNC1', 'mol_inx': [6, 8, 10, 12, 3, 4]}), (3, {'smiles': 'CN', 'mol_inx': [8, 9]}), (4, {'smiles': 'C=O', 'mol_inx': [10, 11]}), (5, {'smiles': 'CN', 'mol_inx': [12, 13]}), (6, {'smiles': 'CC', 'mol_inx': [13, 14]}), (9, {'smiles': 'C1=CCCCC1', 'mol_inx': [15, 16, 17, 18, 19, 14]})]\n",
      "    >node id is:  6\n",
      "<class 'dict'> [(1, {'smiles': 'CC', 'mol_inx': [0, 1]}), (7, {'smiles': 'C1=C[NH]C=N1', 'mol_inx': [1, 2, 3, 4, 5]}), (2, {'smiles': 'C=O', 'mol_inx': [6, 7]}), (8, {'smiles': 'C1=CNCNC1', 'mol_inx': [6, 8, 10, 12, 3, 4]}), (3, {'smiles': 'CN', 'mol_inx': [8, 9]}), (4, {'smiles': 'C=O', 'mol_inx': [10, 11]}), (5, {'smiles': 'CN', 'mol_inx': [12, 13]}), (6, {'smiles': 'CC', 'mol_inx': [13, 14]}), (9, {'smiles': 'C1=CCCCC1', 'mol_inx': [15, 16, 17, 18, 19, 14]})]\n",
      "    >The mol_inx of node 5 is [12, 13]\n",
      "    >The mol_inx of node 6 is [13, 14]\n",
      "    >atom index cluster: {12, 13, 14}\n",
      "    >Merged result is: {'merged_smiles': 'CCN', 'merged_inx': {12, 13, 14}}\n",
      "    >New network: [(1, {'smiles': 'CC', 'mol_inx': [0, 1]}), (7, {'smiles': 'C1=C[NH]C=N1', 'mol_inx': [1, 2, 3, 4, 5]}), (2, {'smiles': 'C=O', 'mol_inx': [6, 7]}), (8, {'smiles': 'C1=CNCNC1', 'mol_inx': [6, 8, 10, 12, 3, 4]}), (3, {'smiles': 'CN', 'mol_inx': [8, 9]}), (4, {'smiles': 'C=O', 'mol_inx': [10, 11]}), (5, {'smiles': 'CCN', 'mol_inx': [12, 13, 14], 'contraction': {6: {'smiles': 'CC', 'mol_inx': [13, 14]}}}), (9, {'smiles': 'C1=CCCCC1', 'mol_inx': [15, 16, 17, 18, 19, 14]})]\n"
     ]
    },
    {
     "data": {
      "text/plain": [
       "{'n2n': {1: [7],\n",
       "  7: [1, 8],\n",
       "  2: [8],\n",
       "  8: [7, 2, 3, 4, 5],\n",
       "  3: [8],\n",
       "  4: [8],\n",
       "  5: [8, 9],\n",
       "  9: [5]},\n",
       " 'id2smiles': {1: 'CC',\n",
       "  7: 'C1=C[NH]C=N1',\n",
       "  2: 'C=O',\n",
       "  8: 'C1=CNCNC1',\n",
       "  3: 'CN',\n",
       "  4: 'C=O',\n",
       "  5: 'CCN',\n",
       "  9: 'C1=CCCCC1'},\n",
       " 'f2f':                         count     frequency\n",
       " fragment                                   \n",
       " CC                  5338208.0  2.518584e-01\n",
       " CN                  4079802.0  1.924864e-01\n",
       " C                   2128530.0  1.004247e-01\n",
       " C=O                 1856787.0  8.760382e-02\n",
       " CO                  1551644.0  7.320707e-02\n",
       " ...                       ...           ...\n",
       " C1C2CC3CC(CC1O3)N2        1.0  4.718033e-08\n",
       " FCF                       1.0  4.718033e-08\n",
       " CCN                      11.0  5.189836e-07\n",
       " NC=O                      1.0  4.718033e-08\n",
       " COC                       1.0  4.718033e-08\n",
       " \n",
       " [537 rows x 2 columns],\n",
       " 'id2mol_inx': {1: [0, 1],\n",
       "  7: [1, 2, 3, 4, 5],\n",
       "  2: [6, 7],\n",
       "  8: [6, 8, 10, 12, 3, 4],\n",
       "  3: [8, 9],\n",
       "  4: [10, 11],\n",
       "  5: [12, 13, 14],\n",
       "  9: [15, 16, 17, 18, 19, 14]}}"
      ]
     },
     "execution_count": 362,
     "metadata": {},
     "output_type": "execute_result"
    }
   ],
   "source": [
    "refragment = Refragment(g=g, f2f=fragment2frequency, smiles=SMILES, test=True)\n",
    "refragment_result = refragment.update()\n",
    "refragment_result"
   ]
  },
  {
   "cell_type": "code",
   "execution_count": 303,
   "metadata": {},
   "outputs": [
    {
     "data": {
      "text/plain": [
       "count        57913.000000\n",
       "frequency        0.002732\n",
       "Name: C1=C[NH]C=N1, dtype: float64"
      ]
     },
     "execution_count": 303,
     "metadata": {},
     "output_type": "execute_result"
    }
   ],
   "source": [
    "fragment2frequency.loc['C1=C[NH]C=N1', :]"
   ]
  },
  {
   "cell_type": "code",
   "execution_count": 310,
   "metadata": {},
   "outputs": [
    {
     "data": {
      "text/plain": [
       "count        5.338217e+06\n",
       "frequency    2.518587e-01\n",
       "Name: CC, dtype: float64"
      ]
     },
     "execution_count": 310,
     "metadata": {},
     "output_type": "execute_result"
    }
   ],
   "source": [
    "fragment2frequency.loc['CC', :]"
   ]
  },
  {
   "cell_type": "code",
   "execution_count": 270,
   "metadata": {},
   "outputs": [
    {
     "data": {
      "text/plain": [
       "NodeDataView({1: {'smiles': 'C#C', 'mol_inx': [0, 1]}, 3: {'smiles': 'CCN', 'mol_inx': [1, 2, 3], 'contraction': {2: {'smiles': 'CC', 'mol_inx': [1, 2]}}}, 16: {'smiles': 'N', 'mol_inx': [3]}, 5: {'smiles': 'CCN', 'mol_inx': [3, 4, 5], 'contraction': {4: {'smiles': 'CN', 'mol_inx': [3, 4]}}}, 6: {'smiles': 'C#C', 'mol_inx': [5, 6]}, 17: {'smiles': 'NC=O', 'mol_inx': [8, 3, 7], 'contraction': {8: {'smiles': 'C=O', 'mol_inx': [7, 8]}, 7: {'smiles': 'CN', 'mol_inx': [3, 7]}}}, 9: {'smiles': 'CC', 'mol_inx': [7, 9]}, 14: {'smiles': 'C1=CCCC=C1', 'mol_inx': [9, 18, 17, 16, 11, 10]}, 11: {'smiles': 'COC', 'mol_inx': [18, 19, 20], 'contraction': {10: {'smiles': 'CO', 'mol_inx': [18, 19]}}}, 18: {'smiles': 'FCF', 'mol_inx': [20, 21, 22], 'contraction': {12: {'smiles': 'CF', 'mol_inx': [20, 21]}, 13: {'smiles': 'CF', 'mol_inx': [20, 22]}}}, 15: {'smiles': 'C1=CC=CC=C1', 'mol_inx': [12, 13, 14, 15, 16, 11]}})"
      ]
     },
     "execution_count": 270,
     "metadata": {},
     "output_type": "execute_result"
    }
   ],
   "source": [
    "g_new.nodes(data=True)   # merge didn't successful and also need to update mol_inx in merged node"
   ]
  },
  {
   "cell_type": "code",
   "execution_count": 282,
   "metadata": {},
   "outputs": [
    {
     "data": {
      "text/plain": [
       "{1: 'C#C',\n",
       " 3: 'CCN',\n",
       " 16: 'N',\n",
       " 5: 'CCN',\n",
       " 6: 'C#C',\n",
       " 17: 'NC=O',\n",
       " 9: 'CC',\n",
       " 14: 'C1=CCCC=C1',\n",
       " 11: 'COC',\n",
       " 18: 'FCF',\n",
       " 15: 'C1=CC=CC=C1'}"
      ]
     },
     "execution_count": 282,
     "metadata": {},
     "output_type": "execute_result"
    }
   ],
   "source": [
    "nx.get_node_attributes(g_new, 'smiles')"
   ]
  },
  {
   "cell_type": "code",
   "execution_count": 276,
   "metadata": {},
   "outputs": [
    {
     "data": {
      "text/plain": [
       "[1, 3, 16, 5, 6, 17, 9, 14, 11, 18, 15]"
      ]
     },
     "execution_count": 276,
     "metadata": {},
     "output_type": "execute_result"
    }
   ],
   "source": [
    "list(g_new.nodes())"
   ]
  },
  {
   "cell_type": "code",
   "execution_count": 278,
   "metadata": {},
   "outputs": [
    {
     "data": {
      "text/plain": [
       "{1: [3],\n",
       " 3: [1, 16],\n",
       " 16: [3, 5, 17],\n",
       " 5: [16, 6],\n",
       " 6: [5],\n",
       " 17: [16, 9],\n",
       " 9: [17, 14],\n",
       " 14: [9, 15, 11],\n",
       " 11: [14, 18],\n",
       " 18: [11],\n",
       " 15: [14]}"
      ]
     },
     "execution_count": 278,
     "metadata": {},
     "output_type": "execute_result"
    }
   ],
   "source": [
    "n2n_new = {n: list(g_new.neighbors(n)) for n in list(g_new.nodes())}\n",
    "n2n_new"
   ]
  },
  {
   "cell_type": "code",
   "execution_count": 256,
   "metadata": {},
   "outputs": [
    {
     "data": {
      "text/plain": [
       "4"
      ]
     },
     "execution_count": 256,
     "metadata": {},
     "output_type": "execute_result"
    }
   ],
   "source": [
    "dict(g_new.degree)[17]"
   ]
  },
  {
   "cell_type": "code",
   "execution_count": 254,
   "metadata": {},
   "outputs": [
    {
     "data": {
      "text/plain": [
       "{7, 9, 17}"
      ]
     },
     "execution_count": 254,
     "metadata": {},
     "output_type": "execute_result"
    }
   ],
   "source": [
    "set(g_new.neighbors(17))"
   ]
  },
  {
   "cell_type": "code",
   "execution_count": 302,
   "metadata": {},
   "outputs": [],
   "source": [
    "draw_graph(g, './figure/', 'refragment_debug.png')"
   ]
  },
  {
   "cell_type": "code",
   "execution_count": 203,
   "metadata": {},
   "outputs": [
    {
     "data": {
      "text/html": [
       "<div>\n",
       "<style scoped>\n",
       "    .dataframe tbody tr th:only-of-type {\n",
       "        vertical-align: middle;\n",
       "    }\n",
       "\n",
       "    .dataframe tbody tr th {\n",
       "        vertical-align: top;\n",
       "    }\n",
       "\n",
       "    .dataframe thead th {\n",
       "        text-align: right;\n",
       "    }\n",
       "</style>\n",
       "<table border=\"1\" class=\"dataframe\">\n",
       "  <thead>\n",
       "    <tr style=\"text-align: right;\">\n",
       "      <th></th>\n",
       "      <th>count</th>\n",
       "      <th>frequency</th>\n",
       "    </tr>\n",
       "    <tr>\n",
       "      <th>fragment</th>\n",
       "      <th></th>\n",
       "      <th></th>\n",
       "    </tr>\n",
       "  </thead>\n",
       "  <tbody>\n",
       "    <tr>\n",
       "      <th>CC</th>\n",
       "      <td>5338219.0</td>\n",
       "      <td>0.251858</td>\n",
       "    </tr>\n",
       "    <tr>\n",
       "      <th>CN</th>\n",
       "      <td>4079814.0</td>\n",
       "      <td>0.192487</td>\n",
       "    </tr>\n",
       "    <tr>\n",
       "      <th>C</th>\n",
       "      <td>2128532.0</td>\n",
       "      <td>0.100425</td>\n",
       "    </tr>\n",
       "    <tr>\n",
       "      <th>C=O</th>\n",
       "      <td>1856798.0</td>\n",
       "      <td>0.087604</td>\n",
       "    </tr>\n",
       "    <tr>\n",
       "      <th>CO</th>\n",
       "      <td>1551646.0</td>\n",
       "      <td>0.073207</td>\n",
       "    </tr>\n",
       "  </tbody>\n",
       "</table>\n",
       "</div>"
      ],
      "text/plain": [
       "              count  frequency\n",
       "fragment                      \n",
       "CC        5338219.0   0.251858\n",
       "CN        4079814.0   0.192487\n",
       "C         2128532.0   0.100425\n",
       "C=O       1856798.0   0.087604\n",
       "CO        1551646.0   0.073207"
      ]
     },
     "execution_count": 203,
     "metadata": {},
     "output_type": "execute_result"
    }
   ],
   "source": [
    "f2f_new.head()"
   ]
  },
  {
   "cell_type": "code",
   "execution_count": 209,
   "metadata": {},
   "outputs": [
    {
     "data": {
      "text/plain": [
       "count        29003.000000\n",
       "frequency        0.001368\n",
       "Name: C1=CCCC=C1, dtype: float64"
      ]
     },
     "execution_count": 209,
     "metadata": {},
     "output_type": "execute_result"
    }
   ],
   "source": [
    "f2f_new.loc['C1=CCCC=C1',:]"
   ]
  },
  {
   "cell_type": "code",
   "execution_count": 222,
   "metadata": {},
   "outputs": [
    {
     "data": {
      "text/plain": [
       "count        1.000000e+00\n",
       "frequency    4.718030e-08\n",
       "Name: FCF, dtype: float64"
      ]
     },
     "execution_count": 222,
     "metadata": {},
     "output_type": "execute_result"
    }
   ],
   "source": [
    "f2f_new.loc['FCF',:]"
   ]
  },
  {
   "cell_type": "code",
   "execution_count": 246,
   "metadata": {},
   "outputs": [
    {
     "data": {
      "text/plain": [
       "count        1.856788e+06\n",
       "frequency    8.760389e-02\n",
       "Name: C=O, dtype: float64"
      ]
     },
     "execution_count": 246,
     "metadata": {},
     "output_type": "execute_result"
    }
   ],
   "source": [
    "fragment2frequency.loc['C=O',:]"
   ]
  },
  {
   "cell_type": "code",
   "execution_count": 229,
   "metadata": {},
   "outputs": [
    {
     "data": {
      "text/plain": [
       "True"
      ]
     },
     "execution_count": 229,
     "metadata": {},
     "output_type": "execute_result"
    }
   ],
   "source": [
    "17 in list(g_new.nodes)"
   ]
  },
  {
   "cell_type": "code",
   "execution_count": 291,
   "metadata": {},
   "outputs": [
    {
     "data": {
      "text/plain": [
       "'sd'"
      ]
     },
     "execution_count": 291,
     "metadata": {},
     "output_type": "execute_result"
    }
   ],
   "source": [
    "g.name = 'sd'\n",
    "g.name"
   ]
  },
  {
   "cell_type": "code",
   "execution_count": 297,
   "metadata": {},
   "outputs": [
    {
     "data": {
      "text/plain": [
       "count        5.338204e+06\n",
       "frequency    2.518586e-01\n",
       "Name: CC, dtype: float64"
      ]
     },
     "execution_count": 297,
     "metadata": {},
     "output_type": "execute_result"
    }
   ],
   "source": [
    "f2f_new.loc['CC']"
   ]
  },
  {
   "cell_type": "code",
   "execution_count": null,
   "metadata": {},
   "outputs": [],
   "source": []
  }
 ],
 "metadata": {
  "kernelspec": {
   "display_name": "Python 3",
   "language": "python",
   "name": "python3"
  },
  "language_info": {
   "codemirror_mode": {
    "name": "ipython",
    "version": 3
   },
   "file_extension": ".py",
   "mimetype": "text/x-python",
   "name": "python",
   "nbconvert_exporter": "python",
   "pygments_lexer": "ipython3",
   "version": "3.6.10"
  }
 },
 "nbformat": 4,
 "nbformat_minor": 4
}
