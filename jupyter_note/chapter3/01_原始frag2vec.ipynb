{
 "cells": [
  {
   "cell_type": "markdown",
   "metadata": {},
   "source": [
    "#### 原始的fragment2vec\n",
    "- 选择parallel，best model\n",
    "- 查看碎片之间的相似性\n",
    "- 查看双键、芳香性等抽象度更高的结构信息"
   ]
  },
  {
   "cell_type": "code",
   "execution_count": 2,
   "metadata": {},
   "outputs": [],
   "source": [
    "# Helper libraries\n",
    "import numpy as np\n",
    "import pandas as pd\n",
    "import matplotlib.pyplot as plt\n",
    "import time\n",
    "from sklearn.metrics import pairwise_distances\n",
    "\n",
    "from rdkit import Chem\n",
    "from rdkit.Chem import Draw\n",
    "from rdkit.Chem.Draw import IPythonConsole\n",
    "IPythonConsole.ipython_useSVG = True"
   ]
  },
  {
   "cell_type": "code",
   "execution_count": 3,
   "metadata": {},
   "outputs": [],
   "source": [
    "def cal_distance(x, y, metric='euclidean'):\n",
    "    if type(x) == pd.core.series.Series:\n",
    "        x = x.values.reshape(1, -1)\n",
    "    if type(y) == pd.core.series.Series:\n",
    "        y = y.values.reshape(1, -1)\n",
    "    return pairwise_distances(x, y, metric=metric)"
   ]
  },
  {
   "cell_type": "code",
   "execution_count": 4,
   "metadata": {},
   "outputs": [],
   "source": [
    "def print_closest_words(x_embedding, x_query, n=5, add_vec=None):\n",
    "    x = x_embedding.loc[x_query].values.reshape(1, -1).copy()\n",
    "    # print('x is: {}'.format(x))\n",
    "    if add_vec is not None:\n",
    "        x += add_vec\n",
    "        # print('x + add_vec is: {}'.format(x))\n",
    "    dists = cal_distance(x=x_embedding.values, y=x)     # compute distances to all words\n",
    "    lst = sorted(enumerate(dists), key=lambda x: x[1]) # sort by distance\n",
    "    # print(lst[:100])\n",
    "    all_smiles = []\n",
    "    all_dis = [] \n",
    "    if add_vec is not None:\n",
    "        for idx, difference in lst[0:n]:\n",
    "            _smiles = x_embedding.iloc[idx,:].name\n",
    "            all_smiles.append(_smiles)\n",
    "            all_dis.append(difference[0])\n",
    "            # print(_smiles, difference)\n",
    "    else:\n",
    "        for idx, difference in lst[1:n+1]:   # take the top n\n",
    "            _smiles = x_embedding.iloc[idx,:].name\n",
    "            all_smiles.append(_smiles)\n",
    "            all_dis.append(difference[0])\n",
    "            # print(_smiles, difference)\n",
    "    return {'smiles': all_smiles, 'dis': all_dis}"
   ]
  },
  {
   "cell_type": "code",
   "execution_count": 5,
   "metadata": {},
   "outputs": [],
   "source": [
    "def get_minus_result(x_embedding, x, y):\n",
    "    x = x_embedding.loc[x].values.reshape(1, -1)\n",
    "    y = x_embedding.loc[y].values.reshape(1, -1)\n",
    "    return x-y"
   ]
  },
  {
   "cell_type": "code",
   "execution_count": 6,
   "metadata": {},
   "outputs": [],
   "source": [
    "def draw_mol_by_smiles(smiles):\n",
    "    mol = Chem.MolFromSmiles(smiles)\n",
    "    size = (200, 200)\n",
    "    return Draw.MolToImage(mol, size=size)"
   ]
  },
  {
   "cell_type": "code",
   "execution_count": 7,
   "metadata": {},
   "outputs": [],
   "source": [
    "def draw_multiple_mol(smiles_list, mols_per_row=4, file_path=None, legends=None):\n",
    "    mols = []\n",
    "    for i in smiles_list:\n",
    "        mols.append(Chem.MolFromSmiles(i))\n",
    "    mols_per_row = min(len(smiles_list), mols_per_row)\n",
    "    if legends is None:\n",
    "        img=Draw.MolsToGridImage(mols, molsPerRow=mols_per_row, subImgSize=(220, 120), useSVG=True)\n",
    "    else:\n",
    "        img=Draw.MolsToGridImage(mols, molsPerRow=mols_per_row, subImgSize=(220, 120), useSVG=True, legends=legends)\n",
    "    if file_path:\n",
    "        with open(file_path, 'w') as f_handle:\n",
    "            f_handle.write(img.data)\n",
    "    return img"
   ]
  },
  {
   "cell_type": "code",
   "execution_count": 8,
   "metadata": {},
   "outputs": [
    {
     "data": {
      "text/html": [
       "<div>\n",
       "<style scoped>\n",
       "    .dataframe tbody tr th:only-of-type {\n",
       "        vertical-align: middle;\n",
       "    }\n",
       "\n",
       "    .dataframe tbody tr th {\n",
       "        vertical-align: top;\n",
       "    }\n",
       "\n",
       "    .dataframe thead th {\n",
       "        text-align: right;\n",
       "    }\n",
       "</style>\n",
       "<table border=\"1\" class=\"dataframe\">\n",
       "  <thead>\n",
       "    <tr style=\"text-align: right;\">\n",
       "      <th></th>\n",
       "      <th>0</th>\n",
       "      <th>1</th>\n",
       "      <th>2</th>\n",
       "      <th>3</th>\n",
       "      <th>4</th>\n",
       "      <th>5</th>\n",
       "      <th>6</th>\n",
       "      <th>7</th>\n",
       "      <th>8</th>\n",
       "      <th>9</th>\n",
       "      <th>...</th>\n",
       "      <th>90</th>\n",
       "      <th>91</th>\n",
       "      <th>92</th>\n",
       "      <th>93</th>\n",
       "      <th>94</th>\n",
       "      <th>95</th>\n",
       "      <th>96</th>\n",
       "      <th>97</th>\n",
       "      <th>98</th>\n",
       "      <th>99</th>\n",
       "    </tr>\n",
       "    <tr>\n",
       "      <th>fragment</th>\n",
       "      <th></th>\n",
       "      <th></th>\n",
       "      <th></th>\n",
       "      <th></th>\n",
       "      <th></th>\n",
       "      <th></th>\n",
       "      <th></th>\n",
       "      <th></th>\n",
       "      <th></th>\n",
       "      <th></th>\n",
       "      <th></th>\n",
       "      <th></th>\n",
       "      <th></th>\n",
       "      <th></th>\n",
       "      <th></th>\n",
       "      <th></th>\n",
       "      <th></th>\n",
       "      <th></th>\n",
       "      <th></th>\n",
       "      <th></th>\n",
       "      <th></th>\n",
       "    </tr>\n",
       "  </thead>\n",
       "  <tbody>\n",
       "    <tr>\n",
       "      <th>CC</th>\n",
       "      <td>0.102366</td>\n",
       "      <td>0.236778</td>\n",
       "      <td>-0.212418</td>\n",
       "      <td>0.097849</td>\n",
       "      <td>0.353949</td>\n",
       "      <td>0.066136</td>\n",
       "      <td>0.251520</td>\n",
       "      <td>0.141767</td>\n",
       "      <td>-0.135168</td>\n",
       "      <td>0.230127</td>\n",
       "      <td>...</td>\n",
       "      <td>0.707791</td>\n",
       "      <td>-0.000694</td>\n",
       "      <td>-0.055997</td>\n",
       "      <td>0.399240</td>\n",
       "      <td>-0.149455</td>\n",
       "      <td>0.417486</td>\n",
       "      <td>0.369599</td>\n",
       "      <td>-0.189464</td>\n",
       "      <td>-0.133221</td>\n",
       "      <td>0.059110</td>\n",
       "    </tr>\n",
       "    <tr>\n",
       "      <th>CN</th>\n",
       "      <td>0.135850</td>\n",
       "      <td>0.226165</td>\n",
       "      <td>-0.434924</td>\n",
       "      <td>0.303119</td>\n",
       "      <td>-0.014223</td>\n",
       "      <td>0.132242</td>\n",
       "      <td>0.368385</td>\n",
       "      <td>0.068198</td>\n",
       "      <td>-0.059371</td>\n",
       "      <td>0.287510</td>\n",
       "      <td>...</td>\n",
       "      <td>0.617289</td>\n",
       "      <td>-0.113810</td>\n",
       "      <td>0.043899</td>\n",
       "      <td>0.385367</td>\n",
       "      <td>0.093859</td>\n",
       "      <td>0.156435</td>\n",
       "      <td>0.381115</td>\n",
       "      <td>-0.142981</td>\n",
       "      <td>0.027194</td>\n",
       "      <td>-0.063204</td>\n",
       "    </tr>\n",
       "  </tbody>\n",
       "</table>\n",
       "<p>2 rows × 100 columns</p>\n",
       "</div>"
      ],
      "text/plain": [
       "                 0         1         2         3         4         5  \\\n",
       "fragment                                                               \n",
       "CC        0.102366  0.236778 -0.212418  0.097849  0.353949  0.066136   \n",
       "CN        0.135850  0.226165 -0.434924  0.303119 -0.014223  0.132242   \n",
       "\n",
       "                 6         7         8         9  ...        90        91  \\\n",
       "fragment                                          ...                       \n",
       "CC        0.251520  0.141767 -0.135168  0.230127  ...  0.707791 -0.000694   \n",
       "CN        0.368385  0.068198 -0.059371  0.287510  ...  0.617289 -0.113810   \n",
       "\n",
       "                92        93        94        95        96        97  \\\n",
       "fragment                                                               \n",
       "CC       -0.055997  0.399240 -0.149455  0.417486  0.369599 -0.189464   \n",
       "CN        0.043899  0.385367  0.093859  0.156435  0.381115 -0.142981   \n",
       "\n",
       "                98        99  \n",
       "fragment                      \n",
       "CC       -0.133221  0.059110  \n",
       "CN        0.027194 -0.063204  \n",
       "\n",
       "[2 rows x 100 columns]"
      ]
     },
     "execution_count": 8,
     "metadata": {},
     "output_type": "execute_result"
    }
   ],
   "source": [
    "frag2vec = pd.read_csv('./model_parallel/frag2vec_ws_4_minn_1_maxn_2.csv', index_col=0)\n",
    "frag2vec.head(2)"
   ]
  },
  {
   "cell_type": "code",
   "execution_count": 3,
   "metadata": {},
   "outputs": [
    {
     "data": {
      "text/plain": [
       "(505, 100)"
      ]
     },
     "execution_count": 3,
     "metadata": {},
     "output_type": "execute_result"
    }
   ],
   "source": [
    "frag2vec.shape"
   ]
  },
  {
   "cell_type": "code",
   "execution_count": 54,
   "metadata": {},
   "outputs": [
    {
     "data": {
      "text/plain": [
       "['C1=CCNN=C1', 'C1=COCO1', 'C1=CCC1', 'C1=CN=N[SH]=C1', 'OBr']"
      ]
     },
     "execution_count": 54,
     "metadata": {},
     "output_type": "execute_result"
    }
   ],
   "source": [
    "# demo_frags = np.random.choice(frag2vec.index.to_list(), 5, replace=False)\n",
    "demo_frags = ['C1=CCNN=C1', 'C1=COCO1', 'C1=CCC1', 'C1=CN=N[SH]=C1', 'OBr']\n",
    "demo_frags"
   ]
  },
  {
   "cell_type": "code",
   "execution_count": 55,
   "metadata": {},
   "outputs": [],
   "source": [
    "frag2nn = {}\n",
    "for frag in demo_frags:\n",
    "    frag2nn[frag] = print_closest_words(x_embedding=frag2vec, x_query=frag, n=7)"
   ]
  },
  {
   "cell_type": "code",
   "execution_count": 56,
   "metadata": {},
   "outputs": [
    {
     "data": {
      "text/plain": [
       "{'smiles': ['C1=COCCO1',\n",
       "  'C1=COCCCO1',\n",
       "  'C1=CO1',\n",
       "  'C1=COCOC1',\n",
       "  'C1=COCCOC1',\n",
       "  'C1=CCOCOC1',\n",
       "  'C1=NCCCO1'],\n",
       " 'dis': [1.3378840407327308,\n",
       "  1.9484125075791836,\n",
       "  2.2607932819501433,\n",
       "  2.4655408884687557,\n",
       "  2.5521667090063422,\n",
       "  2.586532753857119,\n",
       "  2.670682410744231]}"
      ]
     },
     "execution_count": 56,
     "metadata": {},
     "output_type": "execute_result"
    }
   ],
   "source": [
    "nn1 = frag2nn['C1=COCO1']\n",
    "nn1"
   ]
  },
  {
   "cell_type": "code",
   "execution_count": 57,
   "metadata": {},
   "outputs": [],
   "source": [
    "for k, frag in enumerate(demo_frags):\n",
    "    nn = frag2nn[frag]\n",
    "    draw_multiple_mol(smiles_list=[frag] + nn['smiles'],  \n",
    "                   legends=[frag] + [nn['smiles'][i] + '(' + str('{:.2f}'.format(nn['dis'][i])) + ')' for i in range(7)],\n",
    "                   file_path='./images/original_frag_nn_{}.svg'.format(k))"
   ]
  },
  {
   "cell_type": "markdown",
   "metadata": {},
   "source": [
    "#### test double bond"
   ]
  },
  {
   "cell_type": "code",
   "execution_count": 42,
   "metadata": {},
   "outputs": [],
   "source": [
    "double_bond1 = get_minus_result(x_embedding=frag2vec, x='C=N', y='CN')\n",
    "# double_bond"
   ]
  },
  {
   "cell_type": "code",
   "execution_count": 43,
   "metadata": {},
   "outputs": [],
   "source": [
    "double_bond2 = get_minus_result(x_embedding=frag2vec, x='C=C', y='CC')"
   ]
  },
  {
   "cell_type": "code",
   "execution_count": 44,
   "metadata": {},
   "outputs": [],
   "source": [
    "double_bond3 = get_minus_result(x_embedding=frag2vec, x='C1CC1', y='C1=CC1')"
   ]
  },
  {
   "cell_type": "code",
   "execution_count": 45,
   "metadata": {
    "collapsed": true,
    "jupyter": {
     "outputs_hidden": true
    }
   },
   "outputs": [
    {
     "data": {
      "text/plain": [
       "array([[-0.15338857, -0.69446378, -0.11758295,  0.10127928, -0.28230951,\n",
       "         0.35719175, -0.25445741,  0.15018814,  0.04232586, -0.07113249,\n",
       "         0.17409453,  0.21518471,  0.18697108,  0.38729877, -0.55214642,\n",
       "        -0.27350847, -0.08156174, -0.14223799, -0.76886205,  0.3164752 ,\n",
       "         0.09915667, -0.52885189,  0.11038432,  0.09531353,  0.12560121,\n",
       "        -0.22811896,  0.42231693, -0.38499789,  0.02158625,  0.82479176,\n",
       "        -0.32096885,  0.7461179 ,  0.19736769,  0.00275624, -0.68191759,\n",
       "         0.07402038, -0.26060044, -0.1914505 , -0.09077727,  0.34305247,\n",
       "         0.03109213, -0.22195799, -0.17001751, -0.40804091,  0.71335634,\n",
       "        -0.00529603, -0.36297107,  0.49758943,  0.02510355,  0.79819195,\n",
       "         0.01410074,  0.15133423,  0.13739951, -0.56637301,  0.23606619,\n",
       "        -0.64870068,  0.38990146, -0.12237843,  0.13921537,  0.18282258,\n",
       "        -0.08468334, -0.37729357, -0.13456128, -0.34152181,  0.22029255,\n",
       "        -0.03813214, -0.51485686, -0.12119216, -0.08637865,  0.2033991 ,\n",
       "        -0.19022658,  0.21060672, -0.2587097 , -0.57667367, -0.07222424,\n",
       "        -0.5447189 ,  0.31789497, -0.08161051,  0.1294878 , -0.03887185,\n",
       "        -0.12630802,  0.14659115,  0.48446003, -0.09030797, -0.53936051,\n",
       "         0.91847613, -0.41229374, -0.26707475,  0.5530082 ,  0.0608134 ,\n",
       "        -0.00991023,  0.40380818, -0.34720072, -0.64959356,  0.62125837,\n",
       "        -0.22084127,  0.02807719, -0.91116399, -0.35553414, -0.58316438]])"
      ]
     },
     "execution_count": 45,
     "metadata": {},
     "output_type": "execute_result"
    }
   ],
   "source": [
    "double_bond_mean = (double_bond1 + double_bond2 + double_bond3) / 3\n",
    "double_bond_mean"
   ]
  },
  {
   "cell_type": "code",
   "execution_count": 48,
   "metadata": {},
   "outputs": [],
   "source": [
    "single_bond_frag = ['CO', 'CS', 'OS', 'C1CC1']\n",
    "single_bond2nn = {}\n",
    "for frag in single_bond_frag:\n",
    "    single_bond2nn[frag] = print_closest_words(x_embedding=frag2vec, x_query=frag, n=5, add_vec=double_bond_mean)"
   ]
  },
  {
   "cell_type": "code",
   "execution_count": 49,
   "metadata": {},
   "outputs": [
    {
     "name": "stdout",
     "output_type": "stream",
     "text": [
      ">> CO <<\n",
      "{'smiles': ['CO', 'C1=CC=COC=C1', 'C1=COCC=N1', 'C1CCOCOC1', 'C1=CCCOC=C1'], 'dis': [3.7123331725173134, 4.346668802304423, 4.383921311850287, 4.437078998600673, 4.441982816756549]}\n",
      ">> CS <<\n",
      "{'smiles': ['CS', 'C=S', 'O=S', 'NS', 'N'], 'dis': [3.712333172517321, 4.7514898821537175, 6.283862917529502, 6.401635232012894, 6.487376394400499]}\n",
      ">> OS <<\n",
      "{'smiles': ['OS', 'O=S', 'NS', 'C=S', 'CS'], 'dis': [3.7123331725173196, 6.859237366825346, 7.50933157715918, 7.798521819459647, 8.630502871268495]}\n",
      ">> C1CC1 <<\n",
      "{'smiles': ['C1CC1', 'C1=CCC=NC=C1', 'C1=CC=CC=C1', 'C1CCCC1', 'C1CCCCCC1'], 'dis': [3.712333172517313, 4.337495471436628, 4.468599835862893, 4.471456104532888, 4.557169417506268]}\n"
     ]
    }
   ],
   "source": [
    "for frag in single_bond_frag:\n",
    "    print('>> {} <<'.format(frag))\n",
    "    print(single_bond2nn[frag])"
   ]
  },
  {
   "cell_type": "code",
   "execution_count": 19,
   "metadata": {},
   "outputs": [
    {
     "data": {
      "text/plain": [
       "{'smiles': ['CC', 'C1=COC=C1', 'C1COCCO1', 'C1CCOC1', 'C1=CCC=NC=C1'],\n",
       " 'dis': [2.0746646357384684,\n",
       "  2.5587250731641857,\n",
       "  2.558931641309026,\n",
       "  2.5946924444424466,\n",
       "  2.5966570193977443]}"
      ]
     },
     "execution_count": 19,
     "metadata": {},
     "output_type": "execute_result"
    }
   ],
   "source": [
    "print_closest_words(x_embedding=frag2vec, x_query='CN')"
   ]
  },
  {
   "cell_type": "markdown",
   "metadata": {},
   "source": [
    "#### test triple bond"
   ]
  },
  {
   "cell_type": "code",
   "execution_count": 65,
   "metadata": {},
   "outputs": [],
   "source": [
    "tri_bond = get_minus_result(x_embedding=frag2vec, x='C#C', y='CC')"
   ]
  },
  {
   "cell_type": "code",
   "execution_count": 83,
   "metadata": {},
   "outputs": [
    {
     "data": {
      "text/plain": [
       "{'smiles': ['C#C', 'C1=CON=C1', 'C#N', 'CN', 'C1COC1'],\n",
       " 'dis': [2.0746646357384675,\n",
       "  3.851598374765036,\n",
       "  4.171327245422764,\n",
       "  4.2089828415025385,\n",
       "  4.2588016118418235]}"
      ]
     },
     "execution_count": 83,
     "metadata": {},
     "output_type": "execute_result"
    }
   ],
   "source": [
    "cn_add_tri_bond_nn = print_closest_words(x_embedding=frag2vec, x_query='CN', add_vec=tri_bond)\n",
    "cn_add_tri_bond_nn"
   ]
  },
  {
   "cell_type": "code",
   "execution_count": 84,
   "metadata": {},
   "outputs": [
    {
     "data": {
      "text/plain": [
       "{'smiles': ['CC', 'C1=COC=C1', 'C1COCCO1', 'C1CCOC1', 'C1=CCC=NC=C1'],\n",
       " 'dis': [2.0746646357384684,\n",
       "  2.5587250731641857,\n",
       "  2.558931641309026,\n",
       "  2.5946924444424466,\n",
       "  2.5966570193977443]}"
      ]
     },
     "execution_count": 84,
     "metadata": {},
     "output_type": "execute_result"
    }
   ],
   "source": [
    "print_closest_words(x_embedding=frag2vec, x_query='CN')"
   ]
  },
  {
   "cell_type": "markdown",
   "metadata": {},
   "source": [
    "#### test aromaticity（芳香性）"
   ]
  },
  {
   "cell_type": "code",
   "execution_count": 85,
   "metadata": {},
   "outputs": [],
   "source": [
    "arom = get_minus_result(x_embedding=frag2vec, x='C1=CC=CC=C1', y='C1CCCCC1')"
   ]
  },
  {
   "cell_type": "code",
   "execution_count": 87,
   "metadata": {},
   "outputs": [
    {
     "data": {
      "text/plain": [
       "{'smiles': ['C1CCCCC1', 'C1CCCCCC1', 'C1CCOCC1', 'C1=CCCC=CC1', 'C1CCCOCC1'],\n",
       " 'dis': [1.5055548090861803,\n",
       "  1.7683505233222776,\n",
       "  2.0486014449126917,\n",
       "  2.1874284871082814,\n",
       "  2.189285527644637]}"
      ]
     },
     "execution_count": 87,
     "metadata": {},
     "output_type": "execute_result"
    }
   ],
   "source": [
    "print_closest_words(x_embedding=frag2vec, x_query='C1CCCC1')"
   ]
  },
  {
   "cell_type": "code",
   "execution_count": 86,
   "metadata": {},
   "outputs": [
    {
     "data": {
      "text/plain": [
       "{'smiles': ['C1=CC=CC=C1',\n",
       "  'C1=CC=COC=C1',\n",
       "  'C1=CC=CNC=C1',\n",
       "  'C1=CCC=NC=C1',\n",
       "  'C1=CC=NC=C1'],\n",
       " 'dis': [1.5055548090861814,\n",
       "  2.4786185001017365,\n",
       "  2.502898718438676,\n",
       "  2.5621038970574874,\n",
       "  2.6199867159118995]}"
      ]
     },
     "execution_count": 86,
     "metadata": {},
     "output_type": "execute_result"
    }
   ],
   "source": [
    "print_closest_words(x_embedding=frag2vec, x_query='C1CCCC1', add_vec=arom)"
   ]
  },
  {
   "cell_type": "code",
   "execution_count": 93,
   "metadata": {},
   "outputs": [
    {
     "data": {
      "text/plain": [
       "{'smiles': ['C1CCNCC1', 'C1COCCN1', 'C1CNCCN1', 'C1CCNCNC1', 'C1CCOCNC1'],\n",
       " 'dis': [1.6443838646540268,\n",
       "  2.170819843259323,\n",
       "  2.2132769893673925,\n",
       "  2.2540547833444777,\n",
       "  2.2761720717561515]}"
      ]
     },
     "execution_count": 93,
     "metadata": {},
     "output_type": "execute_result"
    }
   ],
   "source": [
    "print_closest_words(x_embedding=frag2vec, x_query='C1CCNC1')"
   ]
  },
  {
   "cell_type": "code",
   "execution_count": 92,
   "metadata": {},
   "outputs": [
    {
     "data": {
      "text/plain": [
       "{'smiles': ['C1=CC=CC=C1',\n",
       "  'C1CCNC1',\n",
       "  'C1=CC=CNC=C1',\n",
       "  'C1=CNC=CNC1',\n",
       "  'C1=CC=COC=C1'],\n",
       " 'dis': [2.7806917290748765,\n",
       "  3.0839756828459097,\n",
       "  3.110060697950161,\n",
       "  3.3052409571906343,\n",
       "  3.3485461076081036]}"
      ]
     },
     "execution_count": 92,
     "metadata": {},
     "output_type": "execute_result"
    }
   ],
   "source": [
    "print_closest_words(x_embedding=frag2vec, x_query='C1CCNC1', add_vec=arom)"
   ]
  },
  {
   "cell_type": "markdown",
   "metadata": {},
   "source": [
    "#### test N atom"
   ]
  },
  {
   "cell_type": "code",
   "execution_count": 88,
   "metadata": {},
   "outputs": [],
   "source": [
    "n = get_minus_result(x_embedding=frag2vec, x='C1CNC1', y='C1CC1')"
   ]
  },
  {
   "cell_type": "code",
   "execution_count": 90,
   "metadata": {},
   "outputs": [
    {
     "data": {
      "text/plain": [
       "{'smiles': ['C1CCCCC1', 'C1CCCCCC1', 'C1CCOCC1', 'C1=CCCC=CC1', 'C1CCCOCC1'],\n",
       " 'dis': [1.5055548090861803,\n",
       "  1.7683505233222776,\n",
       "  2.0486014449126917,\n",
       "  2.1874284871082814,\n",
       "  2.189285527644637]}"
      ]
     },
     "execution_count": 90,
     "metadata": {},
     "output_type": "execute_result"
    }
   ],
   "source": [
    "print_closest_words(x_embedding=frag2vec, x_query='C1CCCC1')"
   ]
  },
  {
   "cell_type": "code",
   "execution_count": 91,
   "metadata": {},
   "outputs": [
    {
     "data": {
      "text/plain": [
       "{'smiles': ['C1CNC1', 'C1CNCCOC1', 'C1CCNCC1', 'C1CCOCC1', 'C1CC2CC1CN2'],\n",
       " 'dis': [2.2564268258018467,\n",
       "  3.8010950538268298,\n",
       "  3.861273343279964,\n",
       "  3.9531810164869623,\n",
       "  3.9651659706769586]}"
      ]
     },
     "execution_count": 91,
     "metadata": {},
     "output_type": "execute_result"
    }
   ],
   "source": [
    "print_closest_words(x_embedding=frag2vec, x_query='C1CCCC1', add_vec=n)"
   ]
  },
  {
   "cell_type": "code",
   "execution_count": null,
   "metadata": {},
   "outputs": [],
   "source": []
  }
 ],
 "metadata": {
  "kernelspec": {
   "display_name": "Python 3",
   "language": "python",
   "name": "python3"
  },
  "language_info": {
   "codemirror_mode": {
    "name": "ipython",
    "version": 3
   },
   "file_extension": ".py",
   "mimetype": "text/x-python",
   "name": "python",
   "nbconvert_exporter": "python",
   "pygments_lexer": "ipython3",
   "version": "3.6.10"
  }
 },
 "nbformat": 4,
 "nbformat_minor": 4
}
