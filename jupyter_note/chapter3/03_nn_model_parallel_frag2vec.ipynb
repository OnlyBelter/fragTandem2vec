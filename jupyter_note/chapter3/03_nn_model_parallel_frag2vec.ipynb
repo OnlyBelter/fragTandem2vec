{
 "cells": [
  {
   "cell_type": "code",
   "execution_count": 41,
   "metadata": {},
   "outputs": [],
   "source": [
    "from __future__ import absolute_import, division, print_function, unicode_literals\n",
    "\n",
    "# TensorFlow and tf.keras\n",
    "import tensorflow as tf\n",
    "from tensorflow import keras\n",
    "\n",
    "# Helper libraries\n",
    "import numpy as np\n",
    "import pandas as pd\n",
    "import matplotlib.pyplot as plt\n",
    "import matplotlib.colors as colors\n",
    "import seaborn as sns\n",
    "\n",
    "import time\n",
    "from sklearn.metrics import pairwise_distances\n",
    "from sklearn.manifold import TSNE\n",
    "\n",
    "from rdkit import Chem\n",
    "from rdkit.Chem import Draw\n",
    "from rdkit.Chem.Draw import IPythonConsole\n",
    "IPythonConsole.ipython_useSVG = True"
   ]
  },
  {
   "cell_type": "code",
   "execution_count": 2,
   "metadata": {},
   "outputs": [],
   "source": [
    "def read_xy(x_fp, y_fp):\n",
    "    x = pd.read_csv(x_fp, header=None, index_col=0)\n",
    "    y = pd.read_csv(y_fp, index_col=0)\n",
    "    return {'x': x, 'y': y}"
   ]
  },
  {
   "cell_type": "code",
   "execution_count": 3,
   "metadata": {},
   "outputs": [],
   "source": [
    "def count_y_class(y_df):\n",
    "    y_class = y_df.apply(lambda x: ''.join([str(i) for i in x]), axis=1).to_frame(name='class')\n",
    "    # y_class.head(2)\n",
    "    \n",
    "    y_class2num = y_class['class'].value_counts().to_frame(name='num')\n",
    "    y_class2num['n_error'] = 0\n",
    "    return y_class2num"
   ]
  },
  {
   "cell_type": "code",
   "execution_count": 4,
   "metadata": {},
   "outputs": [],
   "source": [
    "def predict_y(x, model):\n",
    "    y_pred_raw = model.predict(x)\n",
    "    y_pred_bool = tf.math.sigmoid(y_pred_raw)\n",
    "    y_pred_bool = y_pred_bool.numpy()\n",
    "    y_pred_bool[y_pred_bool >= 0.5] = 1\n",
    "    y_pred_bool[y_pred_bool < 0.5] = 0\n",
    "    return y_pred_bool"
   ]
  },
  {
   "cell_type": "code",
   "execution_count": 5,
   "metadata": {},
   "outputs": [],
   "source": [
    "def predict_y_reg(x, model):\n",
    "    y_pred_raw = model.predict(x)\n",
    "    y_pred_int = np.rint(y_pred_raw)\n",
    "    return y_pred_int.astype(np.int)"
   ]
  },
  {
   "cell_type": "code",
   "execution_count": 6,
   "metadata": {},
   "outputs": [],
   "source": [
    "def count_pred_error_in_class(y, y_pred):\n",
    "    pred_comp_bool = np.all(y == y_pred, axis=1)\n",
    "    y_pred_error = y_pred[~pred_comp_bool]\n",
    "    y_class = y.apply(lambda x: ''.join([str(i) for i in x]), axis=1).to_frame(name='class')\n",
    "    y_pred_error_count_by_class = y_class.loc[y_class.index.isin(y_pred_error.index), 'class'].value_counts().to_frame(name='n_error')\n",
    "    \n",
    "    y_class2num = y_class['class'].value_counts().to_frame(name='num')\n",
    "    y_class2num['n_error'] = 0\n",
    "    y_class2num.loc[y_pred_error_count_by_class.index, 'n_error'] = y_pred_error_count_by_class.n_error\n",
    "    return y_class2num"
   ]
  },
  {
   "cell_type": "code",
   "execution_count": 7,
   "metadata": {},
   "outputs": [],
   "source": [
    "def cal_distance(x, y, metric='euclidean'):\n",
    "    if type(x) == pd.core.series.Series:\n",
    "        x = x.values.reshape(1, -1)\n",
    "    if type(y) == pd.core.series.Series:\n",
    "        y = y.values.reshape(1, -1)\n",
    "    return pairwise_distances(x, y, metric=metric)"
   ]
  },
  {
   "cell_type": "code",
   "execution_count": 8,
   "metadata": {},
   "outputs": [],
   "source": [
    "def print_closest_words(x_embedding, x_query, n=5, add_vec=None):\n",
    "    x = x_embedding.loc[x_query].values.reshape(1, -1).copy()\n",
    "    # print('x is: {}'.format(x))\n",
    "    if add_vec is not None:\n",
    "        x += add_vec\n",
    "        # print('x + add_vec is: {}'.format(x))\n",
    "    dists = cal_distance(x=x_embedding.values, y=x)     # compute distances to all words\n",
    "    lst = sorted(enumerate(dists), key=lambda x: x[1]) # sort by distance\n",
    "    # print(lst[:100])\n",
    "    all_smiles = []\n",
    "    all_dis = [] \n",
    "    if add_vec is not None:\n",
    "        for idx, difference in lst[0:n]:\n",
    "            _smiles = x_embedding.iloc[idx,:].name\n",
    "            all_smiles.append(_smiles)\n",
    "            all_dis.append(difference[0])\n",
    "            # print(_smiles, difference)\n",
    "    else:\n",
    "        for idx, difference in lst[1:n+1]:   # take the top n\n",
    "            _smiles = x_embedding.iloc[idx,:].name\n",
    "            all_smiles.append(_smiles)\n",
    "            all_dis.append(difference[0])\n",
    "            # print(_smiles, difference)\n",
    "    return {'smiles': all_smiles, 'dis': all_dis}"
   ]
  },
  {
   "cell_type": "code",
   "execution_count": 9,
   "metadata": {},
   "outputs": [],
   "source": [
    "def get_minus_result(x_embedding, x, y):\n",
    "    x = x_embedding.loc[x].values.reshape(1, -1)\n",
    "    y = x_embedding.loc[y].values.reshape(1, -1)\n",
    "    return x-y"
   ]
  },
  {
   "cell_type": "code",
   "execution_count": 10,
   "metadata": {},
   "outputs": [],
   "source": [
    "def draw_mol_by_smiles(smiles):\n",
    "    mol = Chem.MolFromSmiles(smiles)\n",
    "    size = (200, 200)\n",
    "    return Draw.MolToImage(mol, size=size)"
   ]
  },
  {
   "cell_type": "code",
   "execution_count": 11,
   "metadata": {},
   "outputs": [],
   "source": [
    "def draw_multiple_mol(smiles_list, mols_per_row=4, file_path=None, legends=None):\n",
    "    mols = []\n",
    "    for i in smiles_list:\n",
    "        mols.append(Chem.MolFromSmiles(i))\n",
    "    mols_per_row = min(len(smiles_list), mols_per_row)\n",
    "    if legends is None:\n",
    "        img=Draw.MolsToGridImage(mols, molsPerRow=mols_per_row, subImgSize=(220, 120), useSVG=True)\n",
    "    else:\n",
    "        img=Draw.MolsToGridImage(mols, molsPerRow=mols_per_row, subImgSize=(220, 120), useSVG=True, legends=legends)\n",
    "    if file_path:\n",
    "        with open(file_path, 'w') as f_handle:\n",
    "            f_handle.write(img.data)\n",
    "    return img"
   ]
  },
  {
   "cell_type": "code",
   "execution_count": 39,
   "metadata": {},
   "outputs": [],
   "source": [
    "def show_each_md(x_reduced, frag_info, file_path=''):\n",
    "    \"\"\"\n",
    "    reduced_x: 2 dimensions x with fragment as index, a dataframe\n",
    "    frag_info: the number of each MD with fragemnt as index, a dataframe\n",
    "    \"\"\"\n",
    "    # model = model_name\n",
    "    fig, ax = plt.subplots(2, 4, figsize=(24, 12))\n",
    "    ax = ax.flatten()\n",
    "    # print(x_reduced.head(2))\n",
    "    # print(frag_info.head(2))\n",
    "    intersect_index = set(x_reduced.index.to_list()) & set(frag_info.index.to_list())\n",
    "    x_reduced = x_reduced.loc[intersect_index, :].copy()  # alignment\n",
    "    frag_info = frag_info.loc[intersect_index, :].copy()\n",
    "    # reduced_x = reduced_x.loc[frag_info.index, :].copy()\n",
    "    # parallel_frag_info = parallel_frag_info.loc[:, selected_md].copy()\n",
    "    for i,md in enumerate(frag_info.columns.to_list()):\n",
    "        # current_labels = parallel_frag_info.iloc[:, i]\n",
    "        current_labels = frag_info.iloc[:, i]\n",
    "        unique_labels = sorted(current_labels.unique())\n",
    "        n_labels = len(unique_labels)\n",
    "        # print(n_labels)\n",
    "        cc = sns.color_palette('Blues', n_labels)\n",
    "        for j,label in enumerate(unique_labels):\n",
    "            current_nodes = (current_labels == label)\n",
    "            ax[i].scatter(x_reduced.loc[current_nodes, 0], x_reduced.loc[current_nodes, 1],\n",
    "                          c=colors.rgb2hex(cc[j]), vmin=0, vmax=10, s=10, label=str(label))\n",
    "        ax[i].set_title(md, fontsize=12)\n",
    "        ax[i].legend()\n",
    "    plt.tight_layout()\n",
    "    plt.savefig(file_path, bbox_inches='tight', transparent=True)\n",
    "    plt.close()"
   ]
  },
  {
   "cell_type": "code",
   "execution_count": 40,
   "metadata": {},
   "outputs": [],
   "source": [
    "def reduce_by_tsne(x):\n",
    "    t0 = time.time()\n",
    "    tsne = TSNE(n_components=2, n_jobs=4, learning_rate=200, early_exaggeration=20, n_iter=2000, random_state=42, init='pca', verbose=1)\n",
    "    X_reduced_tsne = tsne.fit_transform(x)\n",
    "    # X_reduced_tsne = tsne.fit(x)\n",
    "    print(X_reduced_tsne.shape)\n",
    "    # np.save('X_reduced_tsne_pca_first', X_reduced_tsne2)\n",
    "    t1 = time.time()\n",
    "    print(\"t-SNE took {:.1f}s.\".format(t1 - t0))\n",
    "    return X_reduced_tsne"
   ]
  },
  {
   "cell_type": "code",
   "execution_count": 13,
   "metadata": {},
   "outputs": [],
   "source": [
    "model = keras.models.load_model('../../big-data/moses_dataset/nn/parallel/model_reg.h5')"
   ]
  },
  {
   "cell_type": "code",
   "execution_count": 14,
   "metadata": {},
   "outputs": [],
   "source": [
    "xy_train = read_xy(x_fp='../../big-data/moses_dataset/nn/parallel/x_training_set_mol2vec.csv', \n",
    "                   y_fp='../../big-data/moses_dataset/nn/parallel/y_train_regression.csv')\n",
    "x_train = xy_train['x']\n",
    "y_train = xy_train['y']"
   ]
  },
  {
   "cell_type": "code",
   "execution_count": 15,
   "metadata": {},
   "outputs": [
    {
     "data": {
      "text/html": [
       "<div>\n",
       "<style scoped>\n",
       "    .dataframe tbody tr th:only-of-type {\n",
       "        vertical-align: middle;\n",
       "    }\n",
       "\n",
       "    .dataframe tbody tr th {\n",
       "        vertical-align: top;\n",
       "    }\n",
       "\n",
       "    .dataframe thead th {\n",
       "        text-align: right;\n",
       "    }\n",
       "</style>\n",
       "<table border=\"1\" class=\"dataframe\">\n",
       "  <thead>\n",
       "    <tr style=\"text-align: right;\">\n",
       "      <th></th>\n",
       "      <th>1</th>\n",
       "      <th>2</th>\n",
       "      <th>3</th>\n",
       "      <th>4</th>\n",
       "      <th>5</th>\n",
       "      <th>6</th>\n",
       "      <th>7</th>\n",
       "      <th>8</th>\n",
       "      <th>9</th>\n",
       "      <th>10</th>\n",
       "      <th>...</th>\n",
       "      <th>91</th>\n",
       "      <th>92</th>\n",
       "      <th>93</th>\n",
       "      <th>94</th>\n",
       "      <th>95</th>\n",
       "      <th>96</th>\n",
       "      <th>97</th>\n",
       "      <th>98</th>\n",
       "      <th>99</th>\n",
       "      <th>100</th>\n",
       "    </tr>\n",
       "    <tr>\n",
       "      <th>0</th>\n",
       "      <th></th>\n",
       "      <th></th>\n",
       "      <th></th>\n",
       "      <th></th>\n",
       "      <th></th>\n",
       "      <th></th>\n",
       "      <th></th>\n",
       "      <th></th>\n",
       "      <th></th>\n",
       "      <th></th>\n",
       "      <th></th>\n",
       "      <th></th>\n",
       "      <th></th>\n",
       "      <th></th>\n",
       "      <th></th>\n",
       "      <th></th>\n",
       "      <th></th>\n",
       "      <th></th>\n",
       "      <th></th>\n",
       "      <th></th>\n",
       "      <th></th>\n",
       "    </tr>\n",
       "  </thead>\n",
       "  <tbody>\n",
       "    <tr>\n",
       "      <th>id6</th>\n",
       "      <td>0.230</td>\n",
       "      <td>4.271</td>\n",
       "      <td>-1.860</td>\n",
       "      <td>3.139</td>\n",
       "      <td>2.185</td>\n",
       "      <td>2.498</td>\n",
       "      <td>2.318</td>\n",
       "      <td>1.343</td>\n",
       "      <td>-0.212</td>\n",
       "      <td>1.851</td>\n",
       "      <td>...</td>\n",
       "      <td>7.804</td>\n",
       "      <td>1.818</td>\n",
       "      <td>0.267</td>\n",
       "      <td>3.757</td>\n",
       "      <td>-0.121</td>\n",
       "      <td>3.140</td>\n",
       "      <td>1.682</td>\n",
       "      <td>-2.240</td>\n",
       "      <td>-0.015</td>\n",
       "      <td>-1.227</td>\n",
       "    </tr>\n",
       "    <tr>\n",
       "      <th>id8</th>\n",
       "      <td>0.256</td>\n",
       "      <td>8.870</td>\n",
       "      <td>0.412</td>\n",
       "      <td>2.352</td>\n",
       "      <td>3.176</td>\n",
       "      <td>6.292</td>\n",
       "      <td>0.904</td>\n",
       "      <td>1.206</td>\n",
       "      <td>-0.017</td>\n",
       "      <td>-0.431</td>\n",
       "      <td>...</td>\n",
       "      <td>9.534</td>\n",
       "      <td>2.898</td>\n",
       "      <td>2.562</td>\n",
       "      <td>2.606</td>\n",
       "      <td>0.781</td>\n",
       "      <td>3.915</td>\n",
       "      <td>-3.332</td>\n",
       "      <td>-2.733</td>\n",
       "      <td>1.892</td>\n",
       "      <td>-2.017</td>\n",
       "    </tr>\n",
       "  </tbody>\n",
       "</table>\n",
       "<p>2 rows × 100 columns</p>\n",
       "</div>"
      ],
      "text/plain": [
       "       1      2      3      4      5      6      7      8      9      10   \\\n",
       "0                                                                           \n",
       "id6  0.230  4.271 -1.860  3.139  2.185  2.498  2.318  1.343 -0.212  1.851   \n",
       "id8  0.256  8.870  0.412  2.352  3.176  6.292  0.904  1.206 -0.017 -0.431   \n",
       "\n",
       "     ...    91     92     93     94     95     96     97     98     99     100  \n",
       "0    ...                                                                        \n",
       "id6  ...  7.804  1.818  0.267  3.757 -0.121  3.140  1.682 -2.240 -0.015 -1.227  \n",
       "id8  ...  9.534  2.898  2.562  2.606  0.781  3.915 -3.332 -2.733  1.892 -2.017  \n",
       "\n",
       "[2 rows x 100 columns]"
      ]
     },
     "execution_count": 15,
     "metadata": {},
     "output_type": "execute_result"
    }
   ],
   "source": [
    "x_train.head(2)"
   ]
  },
  {
   "cell_type": "code",
   "execution_count": 16,
   "metadata": {},
   "outputs": [
    {
     "data": {
      "text/html": [
       "<div>\n",
       "<style scoped>\n",
       "    .dataframe tbody tr th:only-of-type {\n",
       "        vertical-align: middle;\n",
       "    }\n",
       "\n",
       "    .dataframe tbody tr th {\n",
       "        vertical-align: top;\n",
       "    }\n",
       "\n",
       "    .dataframe thead th {\n",
       "        text-align: right;\n",
       "    }\n",
       "</style>\n",
       "<table border=\"1\" class=\"dataframe\">\n",
       "  <thead>\n",
       "    <tr style=\"text-align: right;\">\n",
       "      <th></th>\n",
       "      <th>nN</th>\n",
       "      <th>nS</th>\n",
       "      <th>nO</th>\n",
       "      <th>nX</th>\n",
       "      <th>nBondsD</th>\n",
       "      <th>nBondsT</th>\n",
       "      <th>naRing</th>\n",
       "      <th>nARing</th>\n",
       "    </tr>\n",
       "    <tr>\n",
       "      <th>0</th>\n",
       "      <th></th>\n",
       "      <th></th>\n",
       "      <th></th>\n",
       "      <th></th>\n",
       "      <th></th>\n",
       "      <th></th>\n",
       "      <th></th>\n",
       "      <th></th>\n",
       "    </tr>\n",
       "  </thead>\n",
       "  <tbody>\n",
       "    <tr>\n",
       "      <th>id6</th>\n",
       "      <td>1</td>\n",
       "      <td>0</td>\n",
       "      <td>4</td>\n",
       "      <td>1</td>\n",
       "      <td>1</td>\n",
       "      <td>0</td>\n",
       "      <td>1</td>\n",
       "      <td>1</td>\n",
       "    </tr>\n",
       "    <tr>\n",
       "      <th>id8</th>\n",
       "      <td>0</td>\n",
       "      <td>0</td>\n",
       "      <td>5</td>\n",
       "      <td>0</td>\n",
       "      <td>1</td>\n",
       "      <td>0</td>\n",
       "      <td>2</td>\n",
       "      <td>0</td>\n",
       "    </tr>\n",
       "  </tbody>\n",
       "</table>\n",
       "</div>"
      ],
      "text/plain": [
       "     nN  nS  nO  nX  nBondsD  nBondsT  naRing  nARing\n",
       "0                                                    \n",
       "id6   1   0   4   1        1        0       1       1\n",
       "id8   0   0   5   0        1        0       2       0"
      ]
     },
     "execution_count": 16,
     "metadata": {},
     "output_type": "execute_result"
    }
   ],
   "source": [
    "y_train.head(2)"
   ]
  },
  {
   "cell_type": "code",
   "execution_count": 17,
   "metadata": {},
   "outputs": [],
   "source": [
    "y_train_bool = y_train.copy()\n",
    "y_train_bool[y_train >= 1] = 1"
   ]
  },
  {
   "cell_type": "code",
   "execution_count": 18,
   "metadata": {},
   "outputs": [
    {
     "name": "stdout",
     "output_type": "stream",
     "text": [
      "(98, 2)\n"
     ]
    },
    {
     "data": {
      "text/html": [
       "<div>\n",
       "<style scoped>\n",
       "    .dataframe tbody tr th:only-of-type {\n",
       "        vertical-align: middle;\n",
       "    }\n",
       "\n",
       "    .dataframe tbody tr th {\n",
       "        vertical-align: top;\n",
       "    }\n",
       "\n",
       "    .dataframe thead th {\n",
       "        text-align: right;\n",
       "    }\n",
       "</style>\n",
       "<table border=\"1\" class=\"dataframe\">\n",
       "  <thead>\n",
       "    <tr style=\"text-align: right;\">\n",
       "      <th></th>\n",
       "      <th>num</th>\n",
       "      <th>n_error</th>\n",
       "    </tr>\n",
       "  </thead>\n",
       "  <tbody>\n",
       "    <tr>\n",
       "      <th>11101111</th>\n",
       "      <td>4500</td>\n",
       "      <td>0</td>\n",
       "    </tr>\n",
       "    <tr>\n",
       "      <th>10100011</th>\n",
       "      <td>4500</td>\n",
       "      <td>0</td>\n",
       "    </tr>\n",
       "  </tbody>\n",
       "</table>\n",
       "</div>"
      ],
      "text/plain": [
       "           num  n_error\n",
       "11101111  4500        0\n",
       "10100011  4500        0"
      ]
     },
     "execution_count": 18,
     "metadata": {},
     "output_type": "execute_result"
    }
   ],
   "source": [
    "y_train_class2num = count_y_class(y_df=y_train_bool)\n",
    "print(y_train_class2num.shape)\n",
    "y_train_class2num.head(2)"
   ]
  },
  {
   "cell_type": "code",
   "execution_count": 19,
   "metadata": {},
   "outputs": [
    {
     "data": {
      "text/html": [
       "<div>\n",
       "<style scoped>\n",
       "    .dataframe tbody tr th:only-of-type {\n",
       "        vertical-align: middle;\n",
       "    }\n",
       "\n",
       "    .dataframe tbody tr th {\n",
       "        vertical-align: top;\n",
       "    }\n",
       "\n",
       "    .dataframe thead th {\n",
       "        text-align: right;\n",
       "    }\n",
       "</style>\n",
       "<table border=\"1\" class=\"dataframe\">\n",
       "  <thead>\n",
       "    <tr style=\"text-align: right;\">\n",
       "      <th></th>\n",
       "      <th>nN</th>\n",
       "      <th>nS</th>\n",
       "      <th>nO</th>\n",
       "      <th>nX</th>\n",
       "      <th>nBondsD</th>\n",
       "      <th>nBondsT</th>\n",
       "      <th>naRing</th>\n",
       "      <th>nARing</th>\n",
       "    </tr>\n",
       "    <tr>\n",
       "      <th>0</th>\n",
       "      <th></th>\n",
       "      <th></th>\n",
       "      <th></th>\n",
       "      <th></th>\n",
       "      <th></th>\n",
       "      <th></th>\n",
       "      <th></th>\n",
       "      <th></th>\n",
       "    </tr>\n",
       "  </thead>\n",
       "  <tbody>\n",
       "    <tr>\n",
       "      <th>id6</th>\n",
       "      <td>1</td>\n",
       "      <td>0</td>\n",
       "      <td>4</td>\n",
       "      <td>1</td>\n",
       "      <td>1</td>\n",
       "      <td>0</td>\n",
       "      <td>1</td>\n",
       "      <td>1</td>\n",
       "    </tr>\n",
       "    <tr>\n",
       "      <th>id8</th>\n",
       "      <td>0</td>\n",
       "      <td>0</td>\n",
       "      <td>6</td>\n",
       "      <td>0</td>\n",
       "      <td>1</td>\n",
       "      <td>0</td>\n",
       "      <td>2</td>\n",
       "      <td>0</td>\n",
       "    </tr>\n",
       "  </tbody>\n",
       "</table>\n",
       "</div>"
      ],
      "text/plain": [
       "     nN  nS  nO  nX  nBondsD  nBondsT  naRing  nARing\n",
       "0                                                    \n",
       "id6   1   0   4   1        1        0       1       1\n",
       "id8   0   0   6   0        1        0       2       0"
      ]
     },
     "execution_count": 19,
     "metadata": {},
     "output_type": "execute_result"
    }
   ],
   "source": [
    "y_train_pred_int = predict_y_reg(model=model, x=x_train)\n",
    "y_train_pred = pd.DataFrame(data=y_train_pred_int, index=y_train.index, columns=y_train.columns)\n",
    "y_train_pred.head(2)"
   ]
  },
  {
   "cell_type": "code",
   "execution_count": 20,
   "metadata": {},
   "outputs": [
    {
     "data": {
      "text/html": [
       "<div>\n",
       "<style scoped>\n",
       "    .dataframe tbody tr th:only-of-type {\n",
       "        vertical-align: middle;\n",
       "    }\n",
       "\n",
       "    .dataframe tbody tr th {\n",
       "        vertical-align: top;\n",
       "    }\n",
       "\n",
       "    .dataframe thead th {\n",
       "        text-align: right;\n",
       "    }\n",
       "</style>\n",
       "<table border=\"1\" class=\"dataframe\">\n",
       "  <thead>\n",
       "    <tr style=\"text-align: right;\">\n",
       "      <th></th>\n",
       "      <th>num</th>\n",
       "      <th>n_error</th>\n",
       "    </tr>\n",
       "  </thead>\n",
       "  <tbody>\n",
       "    <tr>\n",
       "      <th>11101111</th>\n",
       "      <td>4500</td>\n",
       "      <td>44</td>\n",
       "    </tr>\n",
       "    <tr>\n",
       "      <th>10100011</th>\n",
       "      <td>4500</td>\n",
       "      <td>215</td>\n",
       "    </tr>\n",
       "  </tbody>\n",
       "</table>\n",
       "</div>"
      ],
      "text/plain": [
       "           num  n_error\n",
       "11101111  4500       44\n",
       "10100011  4500      215"
      ]
     },
     "execution_count": 20,
     "metadata": {},
     "output_type": "execute_result"
    }
   ],
   "source": [
    "y_train_pred_bool = y_train_pred.copy()\n",
    "y_train_pred_bool[y_train_pred >= 1] = 1\n",
    "y_train_class2num2 = count_pred_error_in_class(y=y_train_bool, y_pred=y_train_pred_bool)\n",
    "y_train_class2num2.head(2)"
   ]
  },
  {
   "cell_type": "code",
   "execution_count": 21,
   "metadata": {},
   "outputs": [
    {
     "data": {
      "text/plain": [
       "num        155970\n",
       "n_error      5527\n",
       "dtype: int64"
      ]
     },
     "execution_count": 21,
     "metadata": {},
     "output_type": "execute_result"
    }
   ],
   "source": [
    "y_train_class2num2.sum()"
   ]
  },
  {
   "cell_type": "code",
   "execution_count": 22,
   "metadata": {},
   "outputs": [
    {
     "data": {
      "text/plain": [
       "0.9645636981470795"
      ]
     },
     "execution_count": 22,
     "metadata": {},
     "output_type": "execute_result"
    }
   ],
   "source": [
    "1-5527/155970"
   ]
  },
  {
   "cell_type": "markdown",
   "metadata": {},
   "source": [
    "### test"
   ]
  },
  {
   "cell_type": "code",
   "execution_count": 23,
   "metadata": {},
   "outputs": [],
   "source": [
    "xy_test = read_xy(x_fp='../../big-data/moses_dataset/nn/parallel/x_test_set_mol2vec.csv', \n",
    "                                     y_fp='../../big-data/moses_dataset/nn/parallel/y_test_regression.csv')\n",
    "x_test = xy_test['x']\n",
    "y_test = xy_test['y']"
   ]
  },
  {
   "cell_type": "code",
   "execution_count": 24,
   "metadata": {},
   "outputs": [
    {
     "data": {
      "text/html": [
       "<div>\n",
       "<style scoped>\n",
       "    .dataframe tbody tr th:only-of-type {\n",
       "        vertical-align: middle;\n",
       "    }\n",
       "\n",
       "    .dataframe tbody tr th {\n",
       "        vertical-align: top;\n",
       "    }\n",
       "\n",
       "    .dataframe thead th {\n",
       "        text-align: right;\n",
       "    }\n",
       "</style>\n",
       "<table border=\"1\" class=\"dataframe\">\n",
       "  <thead>\n",
       "    <tr style=\"text-align: right;\">\n",
       "      <th></th>\n",
       "      <th>1</th>\n",
       "      <th>2</th>\n",
       "      <th>3</th>\n",
       "      <th>4</th>\n",
       "      <th>5</th>\n",
       "      <th>6</th>\n",
       "      <th>7</th>\n",
       "      <th>8</th>\n",
       "      <th>9</th>\n",
       "      <th>10</th>\n",
       "      <th>...</th>\n",
       "      <th>91</th>\n",
       "      <th>92</th>\n",
       "      <th>93</th>\n",
       "      <th>94</th>\n",
       "      <th>95</th>\n",
       "      <th>96</th>\n",
       "      <th>97</th>\n",
       "      <th>98</th>\n",
       "      <th>99</th>\n",
       "      <th>100</th>\n",
       "    </tr>\n",
       "    <tr>\n",
       "      <th>0</th>\n",
       "      <th></th>\n",
       "      <th></th>\n",
       "      <th></th>\n",
       "      <th></th>\n",
       "      <th></th>\n",
       "      <th></th>\n",
       "      <th></th>\n",
       "      <th></th>\n",
       "      <th></th>\n",
       "      <th></th>\n",
       "      <th></th>\n",
       "      <th></th>\n",
       "      <th></th>\n",
       "      <th></th>\n",
       "      <th></th>\n",
       "      <th></th>\n",
       "      <th></th>\n",
       "      <th></th>\n",
       "      <th></th>\n",
       "      <th></th>\n",
       "      <th></th>\n",
       "    </tr>\n",
       "  </thead>\n",
       "  <tbody>\n",
       "    <tr>\n",
       "      <th>id27</th>\n",
       "      <td>0.794</td>\n",
       "      <td>7.313</td>\n",
       "      <td>-1.258</td>\n",
       "      <td>2.849</td>\n",
       "      <td>2.937</td>\n",
       "      <td>3.976</td>\n",
       "      <td>1.416</td>\n",
       "      <td>1.870</td>\n",
       "      <td>0.279</td>\n",
       "      <td>1.028</td>\n",
       "      <td>...</td>\n",
       "      <td>10.392</td>\n",
       "      <td>2.231</td>\n",
       "      <td>1.297</td>\n",
       "      <td>3.920</td>\n",
       "      <td>-0.440</td>\n",
       "      <td>4.393</td>\n",
       "      <td>0.002</td>\n",
       "      <td>-3.069</td>\n",
       "      <td>0.695</td>\n",
       "      <td>-1.967</td>\n",
       "    </tr>\n",
       "    <tr>\n",
       "      <th>id39</th>\n",
       "      <td>1.467</td>\n",
       "      <td>3.095</td>\n",
       "      <td>-2.830</td>\n",
       "      <td>2.447</td>\n",
       "      <td>2.140</td>\n",
       "      <td>1.325</td>\n",
       "      <td>2.328</td>\n",
       "      <td>1.323</td>\n",
       "      <td>-0.670</td>\n",
       "      <td>2.027</td>\n",
       "      <td>...</td>\n",
       "      <td>7.120</td>\n",
       "      <td>1.221</td>\n",
       "      <td>0.689</td>\n",
       "      <td>4.305</td>\n",
       "      <td>-0.615</td>\n",
       "      <td>4.696</td>\n",
       "      <td>2.862</td>\n",
       "      <td>-1.267</td>\n",
       "      <td>-0.731</td>\n",
       "      <td>-1.225</td>\n",
       "    </tr>\n",
       "  </tbody>\n",
       "</table>\n",
       "<p>2 rows × 100 columns</p>\n",
       "</div>"
      ],
      "text/plain": [
       "        1      2      3      4      5      6      7      8      9      10   \\\n",
       "0                                                                            \n",
       "id27  0.794  7.313 -1.258  2.849  2.937  3.976  1.416  1.870  0.279  1.028   \n",
       "id39  1.467  3.095 -2.830  2.447  2.140  1.325  2.328  1.323 -0.670  2.027   \n",
       "\n",
       "      ...     91     92     93     94     95     96     97     98     99   \\\n",
       "0     ...                                                                   \n",
       "id27  ...  10.392  2.231  1.297  3.920 -0.440  4.393  0.002 -3.069  0.695   \n",
       "id39  ...   7.120  1.221  0.689  4.305 -0.615  4.696  2.862 -1.267 -0.731   \n",
       "\n",
       "        100  \n",
       "0            \n",
       "id27 -1.967  \n",
       "id39 -1.225  \n",
       "\n",
       "[2 rows x 100 columns]"
      ]
     },
     "execution_count": 24,
     "metadata": {},
     "output_type": "execute_result"
    }
   ],
   "source": [
    "x_test.head(2)"
   ]
  },
  {
   "cell_type": "code",
   "execution_count": 25,
   "metadata": {},
   "outputs": [
    {
     "data": {
      "text/html": [
       "<div>\n",
       "<style scoped>\n",
       "    .dataframe tbody tr th:only-of-type {\n",
       "        vertical-align: middle;\n",
       "    }\n",
       "\n",
       "    .dataframe tbody tr th {\n",
       "        vertical-align: top;\n",
       "    }\n",
       "\n",
       "    .dataframe thead th {\n",
       "        text-align: right;\n",
       "    }\n",
       "</style>\n",
       "<table border=\"1\" class=\"dataframe\">\n",
       "  <thead>\n",
       "    <tr style=\"text-align: right;\">\n",
       "      <th></th>\n",
       "      <th>nN</th>\n",
       "      <th>nS</th>\n",
       "      <th>nO</th>\n",
       "      <th>nX</th>\n",
       "      <th>nBondsD</th>\n",
       "      <th>nBondsT</th>\n",
       "      <th>naRing</th>\n",
       "      <th>nARing</th>\n",
       "    </tr>\n",
       "    <tr>\n",
       "      <th>0</th>\n",
       "      <th></th>\n",
       "      <th></th>\n",
       "      <th></th>\n",
       "      <th></th>\n",
       "      <th></th>\n",
       "      <th></th>\n",
       "      <th></th>\n",
       "      <th></th>\n",
       "    </tr>\n",
       "  </thead>\n",
       "  <tbody>\n",
       "    <tr>\n",
       "      <th>id27</th>\n",
       "      <td>0</td>\n",
       "      <td>0</td>\n",
       "      <td>4</td>\n",
       "      <td>0</td>\n",
       "      <td>2</td>\n",
       "      <td>0</td>\n",
       "      <td>2</td>\n",
       "      <td>0</td>\n",
       "    </tr>\n",
       "    <tr>\n",
       "      <th>id39</th>\n",
       "      <td>2</td>\n",
       "      <td>0</td>\n",
       "      <td>2</td>\n",
       "      <td>0</td>\n",
       "      <td>2</td>\n",
       "      <td>1</td>\n",
       "      <td>2</td>\n",
       "      <td>1</td>\n",
       "    </tr>\n",
       "  </tbody>\n",
       "</table>\n",
       "</div>"
      ],
      "text/plain": [
       "      nN  nS  nO  nX  nBondsD  nBondsT  naRing  nARing\n",
       "0                                                     \n",
       "id27   0   0   4   0        2        0       2       0\n",
       "id39   2   0   2   0        2        1       2       1"
      ]
     },
     "execution_count": 25,
     "metadata": {},
     "output_type": "execute_result"
    }
   ],
   "source": [
    "y_test.head(2)"
   ]
  },
  {
   "cell_type": "code",
   "execution_count": 26,
   "metadata": {},
   "outputs": [
    {
     "data": {
      "text/html": [
       "<div>\n",
       "<style scoped>\n",
       "    .dataframe tbody tr th:only-of-type {\n",
       "        vertical-align: middle;\n",
       "    }\n",
       "\n",
       "    .dataframe tbody tr th {\n",
       "        vertical-align: top;\n",
       "    }\n",
       "\n",
       "    .dataframe thead th {\n",
       "        text-align: right;\n",
       "    }\n",
       "</style>\n",
       "<table border=\"1\" class=\"dataframe\">\n",
       "  <thead>\n",
       "    <tr style=\"text-align: right;\">\n",
       "      <th></th>\n",
       "      <th>nN</th>\n",
       "      <th>nS</th>\n",
       "      <th>nO</th>\n",
       "      <th>nX</th>\n",
       "      <th>nBondsD</th>\n",
       "      <th>nBondsT</th>\n",
       "      <th>naRing</th>\n",
       "      <th>nARing</th>\n",
       "    </tr>\n",
       "    <tr>\n",
       "      <th>0</th>\n",
       "      <th></th>\n",
       "      <th></th>\n",
       "      <th></th>\n",
       "      <th></th>\n",
       "      <th></th>\n",
       "      <th></th>\n",
       "      <th></th>\n",
       "      <th></th>\n",
       "    </tr>\n",
       "  </thead>\n",
       "  <tbody>\n",
       "    <tr>\n",
       "      <th>id27</th>\n",
       "      <td>0</td>\n",
       "      <td>0</td>\n",
       "      <td>5</td>\n",
       "      <td>0</td>\n",
       "      <td>2</td>\n",
       "      <td>0</td>\n",
       "      <td>2</td>\n",
       "      <td>0</td>\n",
       "    </tr>\n",
       "    <tr>\n",
       "      <th>id39</th>\n",
       "      <td>2</td>\n",
       "      <td>0</td>\n",
       "      <td>2</td>\n",
       "      <td>0</td>\n",
       "      <td>1</td>\n",
       "      <td>1</td>\n",
       "      <td>2</td>\n",
       "      <td>1</td>\n",
       "    </tr>\n",
       "  </tbody>\n",
       "</table>\n",
       "</div>"
      ],
      "text/plain": [
       "      nN  nS  nO  nX  nBondsD  nBondsT  naRing  nARing\n",
       "0                                                     \n",
       "id27   0   0   5   0        2        0       2       0\n",
       "id39   2   0   2   0        1        1       2       1"
      ]
     },
     "execution_count": 26,
     "metadata": {},
     "output_type": "execute_result"
    }
   ],
   "source": [
    "y_test_pred = predict_y_reg(x=x_test, model=model)\n",
    "y_test_pred = pd.DataFrame(data=y_test_pred, index=y_test.index, columns=y_test.columns)\n",
    "y_test_pred.head(2)"
   ]
  },
  {
   "cell_type": "code",
   "execution_count": 27,
   "metadata": {},
   "outputs": [
    {
     "data": {
      "text/html": [
       "<div>\n",
       "<style scoped>\n",
       "    .dataframe tbody tr th:only-of-type {\n",
       "        vertical-align: middle;\n",
       "    }\n",
       "\n",
       "    .dataframe tbody tr th {\n",
       "        vertical-align: top;\n",
       "    }\n",
       "\n",
       "    .dataframe thead th {\n",
       "        text-align: right;\n",
       "    }\n",
       "</style>\n",
       "<table border=\"1\" class=\"dataframe\">\n",
       "  <thead>\n",
       "    <tr style=\"text-align: right;\">\n",
       "      <th></th>\n",
       "      <th>nN</th>\n",
       "      <th>nS</th>\n",
       "      <th>nO</th>\n",
       "      <th>nX</th>\n",
       "      <th>nBondsD</th>\n",
       "      <th>nBondsT</th>\n",
       "      <th>naRing</th>\n",
       "      <th>nARing</th>\n",
       "    </tr>\n",
       "    <tr>\n",
       "      <th>0</th>\n",
       "      <th></th>\n",
       "      <th></th>\n",
       "      <th></th>\n",
       "      <th></th>\n",
       "      <th></th>\n",
       "      <th></th>\n",
       "      <th></th>\n",
       "      <th></th>\n",
       "    </tr>\n",
       "  </thead>\n",
       "  <tbody>\n",
       "    <tr>\n",
       "      <th>id27</th>\n",
       "      <td>0</td>\n",
       "      <td>0</td>\n",
       "      <td>5</td>\n",
       "      <td>0</td>\n",
       "      <td>2</td>\n",
       "      <td>0</td>\n",
       "      <td>2</td>\n",
       "      <td>0</td>\n",
       "    </tr>\n",
       "    <tr>\n",
       "      <th>id39</th>\n",
       "      <td>2</td>\n",
       "      <td>0</td>\n",
       "      <td>2</td>\n",
       "      <td>0</td>\n",
       "      <td>1</td>\n",
       "      <td>1</td>\n",
       "      <td>2</td>\n",
       "      <td>1</td>\n",
       "    </tr>\n",
       "  </tbody>\n",
       "</table>\n",
       "</div>"
      ],
      "text/plain": [
       "      nN  nS  nO  nX  nBondsD  nBondsT  naRing  nARing\n",
       "0                                                     \n",
       "id27   0   0   5   0        2        0       2       0\n",
       "id39   2   0   2   0        1        1       2       1"
      ]
     },
     "execution_count": 27,
     "metadata": {},
     "output_type": "execute_result"
    }
   ],
   "source": [
    "y_test_pred.head(2)"
   ]
  },
  {
   "cell_type": "code",
   "execution_count": 28,
   "metadata": {},
   "outputs": [
    {
     "data": {
      "text/html": [
       "<div>\n",
       "<style scoped>\n",
       "    .dataframe tbody tr th:only-of-type {\n",
       "        vertical-align: middle;\n",
       "    }\n",
       "\n",
       "    .dataframe tbody tr th {\n",
       "        vertical-align: top;\n",
       "    }\n",
       "\n",
       "    .dataframe thead th {\n",
       "        text-align: right;\n",
       "    }\n",
       "</style>\n",
       "<table border=\"1\" class=\"dataframe\">\n",
       "  <thead>\n",
       "    <tr style=\"text-align: right;\">\n",
       "      <th></th>\n",
       "      <th>num</th>\n",
       "      <th>n_error</th>\n",
       "    </tr>\n",
       "  </thead>\n",
       "  <tbody>\n",
       "    <tr>\n",
       "      <th>10101010</th>\n",
       "      <td>5000</td>\n",
       "      <td>1412</td>\n",
       "    </tr>\n",
       "    <tr>\n",
       "      <th>11101010</th>\n",
       "      <td>5000</td>\n",
       "      <td>177</td>\n",
       "    </tr>\n",
       "    <tr>\n",
       "      <th>10111111</th>\n",
       "      <td>5000</td>\n",
       "      <td>264</td>\n",
       "    </tr>\n",
       "    <tr>\n",
       "      <th>10101111</th>\n",
       "      <td>5000</td>\n",
       "      <td>295</td>\n",
       "    </tr>\n",
       "    <tr>\n",
       "      <th>11000011</th>\n",
       "      <td>3826</td>\n",
       "      <td>17</td>\n",
       "    </tr>\n",
       "  </tbody>\n",
       "</table>\n",
       "</div>"
      ],
      "text/plain": [
       "           num  n_error\n",
       "10101010  5000     1412\n",
       "11101010  5000      177\n",
       "10111111  5000      264\n",
       "10101111  5000      295\n",
       "11000011  3826       17"
      ]
     },
     "execution_count": 28,
     "metadata": {},
     "output_type": "execute_result"
    }
   ],
   "source": [
    "y_test_bool = y_test.copy()\n",
    "y_test_pred_bool = y_test_pred.copy()\n",
    "y_test_bool[y_test >= 1] = 1\n",
    "y_test_pred_bool[y_test_pred >= 1] = 1\n",
    "y_test_class2num = count_pred_error_in_class(y=y_test_bool, y_pred=y_test_pred_bool)\n",
    "y_test_class2num.head(5)"
   ]
  },
  {
   "cell_type": "code",
   "execution_count": 29,
   "metadata": {},
   "outputs": [
    {
     "data": {
      "text/plain": [
       "num        48207\n",
       "n_error     2978\n",
       "dtype: int64"
      ]
     },
     "execution_count": 29,
     "metadata": {},
     "output_type": "execute_result"
    }
   ],
   "source": [
    "y_test_class2num.sum()"
   ]
  },
  {
   "cell_type": "code",
   "execution_count": 30,
   "metadata": {},
   "outputs": [
    {
     "data": {
      "text/plain": [
       "(0.16223784927500157, 0.14143174227809238, 0.06177526085423279)"
      ]
     },
     "execution_count": 30,
     "metadata": {},
     "output_type": "execute_result"
    }
   ],
   "source": [
    "7821 / 48207, 6818 / 48207, 2978/48207"
   ]
  },
  {
   "cell_type": "code",
   "execution_count": 31,
   "metadata": {},
   "outputs": [],
   "source": [
    "y_test_class2num['class_in_train'] = 0\n",
    "y_test_class2num.loc[y_test_class2num.index.isin(y_train_class2num2.index), 'class_in_train'] = 1"
   ]
  },
  {
   "cell_type": "code",
   "execution_count": 32,
   "metadata": {},
   "outputs": [],
   "source": [
    "y_test_class2num['accuray_in_each_class'] = 1 - y_test_class2num['n_error'] / y_test_class2num['num']"
   ]
  },
  {
   "cell_type": "code",
   "execution_count": 33,
   "metadata": {},
   "outputs": [
    {
     "data": {
      "text/html": [
       "<div>\n",
       "<style scoped>\n",
       "    .dataframe tbody tr th:only-of-type {\n",
       "        vertical-align: middle;\n",
       "    }\n",
       "\n",
       "    .dataframe tbody tr th {\n",
       "        vertical-align: top;\n",
       "    }\n",
       "\n",
       "    .dataframe thead th {\n",
       "        text-align: right;\n",
       "    }\n",
       "</style>\n",
       "<table border=\"1\" class=\"dataframe\">\n",
       "  <thead>\n",
       "    <tr style=\"text-align: right;\">\n",
       "      <th></th>\n",
       "      <th>num</th>\n",
       "      <th>n_error</th>\n",
       "      <th>class_in_train</th>\n",
       "      <th>accuray_in_each_class</th>\n",
       "    </tr>\n",
       "  </thead>\n",
       "  <tbody>\n",
       "    <tr>\n",
       "      <th>10101010</th>\n",
       "      <td>5000</td>\n",
       "      <td>1412</td>\n",
       "      <td>0</td>\n",
       "      <td>0.717600</td>\n",
       "    </tr>\n",
       "    <tr>\n",
       "      <th>11101010</th>\n",
       "      <td>5000</td>\n",
       "      <td>177</td>\n",
       "      <td>0</td>\n",
       "      <td>0.964600</td>\n",
       "    </tr>\n",
       "    <tr>\n",
       "      <th>10111111</th>\n",
       "      <td>5000</td>\n",
       "      <td>264</td>\n",
       "      <td>0</td>\n",
       "      <td>0.947200</td>\n",
       "    </tr>\n",
       "    <tr>\n",
       "      <th>10101111</th>\n",
       "      <td>5000</td>\n",
       "      <td>295</td>\n",
       "      <td>0</td>\n",
       "      <td>0.941000</td>\n",
       "    </tr>\n",
       "    <tr>\n",
       "      <th>11000011</th>\n",
       "      <td>3826</td>\n",
       "      <td>17</td>\n",
       "      <td>0</td>\n",
       "      <td>0.995557</td>\n",
       "    </tr>\n",
       "  </tbody>\n",
       "</table>\n",
       "</div>"
      ],
      "text/plain": [
       "           num  n_error  class_in_train  accuray_in_each_class\n",
       "10101010  5000     1412               0               0.717600\n",
       "11101010  5000      177               0               0.964600\n",
       "10111111  5000      264               0               0.947200\n",
       "10101111  5000      295               0               0.941000\n",
       "11000011  3826       17               0               0.995557"
      ]
     },
     "execution_count": 33,
     "metadata": {},
     "output_type": "execute_result"
    }
   ],
   "source": [
    "y_test_class2num.head()"
   ]
  },
  {
   "cell_type": "code",
   "execution_count": 34,
   "metadata": {},
   "outputs": [],
   "source": [
    "y_test_class2num.to_csv('y_test_class2num_reg_model_parallel.csv')"
   ]
  },
  {
   "cell_type": "markdown",
   "metadata": {},
   "source": [
    "### embedding vector"
   ]
  },
  {
   "cell_type": "code",
   "execution_count": 35,
   "metadata": {},
   "outputs": [
    {
     "name": "stdout",
     "output_type": "stream",
     "text": [
      "WARNING:tensorflow:No training configuration found in save file: the model was *not* compiled. Compile it manually.\n"
     ]
    },
    {
     "data": {
      "text/plain": [
       "<tensorflow.python.keras.engine.sequential.Sequential at 0x7fc7ac44f4a8>"
      ]
     },
     "execution_count": 35,
     "metadata": {},
     "output_type": "execute_result"
    }
   ],
   "source": [
    "m_part1 = keras.models.load_model('../../big-data/moses_dataset/nn/parallel/m_part1_reg.h5')\n",
    "m_part1"
   ]
  },
  {
   "cell_type": "code",
   "execution_count": 36,
   "metadata": {},
   "outputs": [
    {
     "data": {
      "text/plain": [
       "(48207, 100)"
      ]
     },
     "execution_count": 36,
     "metadata": {},
     "output_type": "execute_result"
    }
   ],
   "source": [
    "# x_train_test = x_train.append(x_test)\n",
    "# x_train_test.shape\n",
    "x_test.shape"
   ]
  },
  {
   "cell_type": "code",
   "execution_count": 37,
   "metadata": {},
   "outputs": [
    {
     "data": {
      "text/plain": [
       "numpy.ndarray"
      ]
     },
     "execution_count": 37,
     "metadata": {},
     "output_type": "execute_result"
    }
   ],
   "source": [
    "x_test_embedding = m_part1.predict(x_test)\n",
    "type(x_test_embedding)"
   ]
  },
  {
   "cell_type": "code",
   "execution_count": 38,
   "metadata": {},
   "outputs": [
    {
     "data": {
      "text/html": [
       "<div>\n",
       "<style scoped>\n",
       "    .dataframe tbody tr th:only-of-type {\n",
       "        vertical-align: middle;\n",
       "    }\n",
       "\n",
       "    .dataframe tbody tr th {\n",
       "        vertical-align: top;\n",
       "    }\n",
       "\n",
       "    .dataframe thead th {\n",
       "        text-align: right;\n",
       "    }\n",
       "</style>\n",
       "<table border=\"1\" class=\"dataframe\">\n",
       "  <thead>\n",
       "    <tr style=\"text-align: right;\">\n",
       "      <th></th>\n",
       "      <th>0</th>\n",
       "      <th>1</th>\n",
       "      <th>2</th>\n",
       "      <th>3</th>\n",
       "      <th>4</th>\n",
       "      <th>5</th>\n",
       "      <th>6</th>\n",
       "      <th>7</th>\n",
       "      <th>8</th>\n",
       "      <th>9</th>\n",
       "      <th>...</th>\n",
       "      <th>20</th>\n",
       "      <th>21</th>\n",
       "      <th>22</th>\n",
       "      <th>23</th>\n",
       "      <th>24</th>\n",
       "      <th>25</th>\n",
       "      <th>26</th>\n",
       "      <th>27</th>\n",
       "      <th>28</th>\n",
       "      <th>29</th>\n",
       "    </tr>\n",
       "    <tr>\n",
       "      <th>0</th>\n",
       "      <th></th>\n",
       "      <th></th>\n",
       "      <th></th>\n",
       "      <th></th>\n",
       "      <th></th>\n",
       "      <th></th>\n",
       "      <th></th>\n",
       "      <th></th>\n",
       "      <th></th>\n",
       "      <th></th>\n",
       "      <th></th>\n",
       "      <th></th>\n",
       "      <th></th>\n",
       "      <th></th>\n",
       "      <th></th>\n",
       "      <th></th>\n",
       "      <th></th>\n",
       "      <th></th>\n",
       "      <th></th>\n",
       "      <th></th>\n",
       "      <th></th>\n",
       "    </tr>\n",
       "  </thead>\n",
       "  <tbody>\n",
       "    <tr>\n",
       "      <th>id27</th>\n",
       "      <td>-1.750638</td>\n",
       "      <td>6.183736</td>\n",
       "      <td>-1.745564</td>\n",
       "      <td>0.966380</td>\n",
       "      <td>4.862798</td>\n",
       "      <td>-1.288332</td>\n",
       "      <td>1.058993</td>\n",
       "      <td>-1.568880</td>\n",
       "      <td>-0.977151</td>\n",
       "      <td>-1.757010</td>\n",
       "      <td>...</td>\n",
       "      <td>-1.156650</td>\n",
       "      <td>0.492420</td>\n",
       "      <td>2.326666</td>\n",
       "      <td>-1.268212</td>\n",
       "      <td>-1.758076</td>\n",
       "      <td>-1.410640</td>\n",
       "      <td>0.477689</td>\n",
       "      <td>-1.251694</td>\n",
       "      <td>9.220509</td>\n",
       "      <td>-1.699940</td>\n",
       "    </tr>\n",
       "    <tr>\n",
       "      <th>id39</th>\n",
       "      <td>0.934497</td>\n",
       "      <td>4.012554</td>\n",
       "      <td>-1.757697</td>\n",
       "      <td>1.656628</td>\n",
       "      <td>0.929729</td>\n",
       "      <td>-0.719724</td>\n",
       "      <td>-1.235421</td>\n",
       "      <td>-1.726944</td>\n",
       "      <td>-0.736592</td>\n",
       "      <td>-1.758037</td>\n",
       "      <td>...</td>\n",
       "      <td>-0.635071</td>\n",
       "      <td>4.146644</td>\n",
       "      <td>2.500072</td>\n",
       "      <td>-0.722488</td>\n",
       "      <td>-1.647596</td>\n",
       "      <td>-1.593054</td>\n",
       "      <td>-0.208207</td>\n",
       "      <td>-1.661613</td>\n",
       "      <td>2.194536</td>\n",
       "      <td>3.574096</td>\n",
       "    </tr>\n",
       "  </tbody>\n",
       "</table>\n",
       "<p>2 rows × 30 columns</p>\n",
       "</div>"
      ],
      "text/plain": [
       "            0         1         2         3         4         5         6   \\\n",
       "0                                                                            \n",
       "id27 -1.750638  6.183736 -1.745564  0.966380  4.862798 -1.288332  1.058993   \n",
       "id39  0.934497  4.012554 -1.757697  1.656628  0.929729 -0.719724 -1.235421   \n",
       "\n",
       "            7         8         9   ...        20        21        22  \\\n",
       "0                                   ...                                 \n",
       "id27 -1.568880 -0.977151 -1.757010  ... -1.156650  0.492420  2.326666   \n",
       "id39 -1.726944 -0.736592 -1.758037  ... -0.635071  4.146644  2.500072   \n",
       "\n",
       "            23        24        25        26        27        28        29  \n",
       "0                                                                           \n",
       "id27 -1.268212 -1.758076 -1.410640  0.477689 -1.251694  9.220509 -1.699940  \n",
       "id39 -0.722488 -1.647596 -1.593054 -0.208207 -1.661613  2.194536  3.574096  \n",
       "\n",
       "[2 rows x 30 columns]"
      ]
     },
     "execution_count": 38,
     "metadata": {},
     "output_type": "execute_result"
    }
   ],
   "source": [
    "x_test_embedding = pd.DataFrame(data=x_test_embedding, index=x_test.index)\n",
    "x_test_embedding.head(2)"
   ]
  },
  {
   "cell_type": "markdown",
   "metadata": {},
   "source": [
    "#### show mol vector by raw fragment vector"
   ]
  },
  {
   "cell_type": "code",
   "execution_count": 42,
   "metadata": {},
   "outputs": [
    {
     "name": "stdout",
     "output_type": "stream",
     "text": [
      "[t-SNE] Computing 91 nearest neighbors...\n",
      "[t-SNE] Indexed 48207 samples in 0.739s...\n",
      "[t-SNE] Computed neighbors for 48207 samples in 85.626s...\n",
      "[t-SNE] Computed conditional probabilities for sample 1000 / 48207\n",
      "[t-SNE] Computed conditional probabilities for sample 2000 / 48207\n",
      "[t-SNE] Computed conditional probabilities for sample 3000 / 48207\n",
      "[t-SNE] Computed conditional probabilities for sample 4000 / 48207\n",
      "[t-SNE] Computed conditional probabilities for sample 5000 / 48207\n",
      "[t-SNE] Computed conditional probabilities for sample 6000 / 48207\n",
      "[t-SNE] Computed conditional probabilities for sample 7000 / 48207\n",
      "[t-SNE] Computed conditional probabilities for sample 8000 / 48207\n",
      "[t-SNE] Computed conditional probabilities for sample 9000 / 48207\n",
      "[t-SNE] Computed conditional probabilities for sample 10000 / 48207\n",
      "[t-SNE] Computed conditional probabilities for sample 11000 / 48207\n",
      "[t-SNE] Computed conditional probabilities for sample 12000 / 48207\n",
      "[t-SNE] Computed conditional probabilities for sample 13000 / 48207\n",
      "[t-SNE] Computed conditional probabilities for sample 14000 / 48207\n",
      "[t-SNE] Computed conditional probabilities for sample 15000 / 48207\n",
      "[t-SNE] Computed conditional probabilities for sample 16000 / 48207\n",
      "[t-SNE] Computed conditional probabilities for sample 17000 / 48207\n",
      "[t-SNE] Computed conditional probabilities for sample 18000 / 48207\n",
      "[t-SNE] Computed conditional probabilities for sample 19000 / 48207\n",
      "[t-SNE] Computed conditional probabilities for sample 20000 / 48207\n",
      "[t-SNE] Computed conditional probabilities for sample 21000 / 48207\n",
      "[t-SNE] Computed conditional probabilities for sample 22000 / 48207\n",
      "[t-SNE] Computed conditional probabilities for sample 23000 / 48207\n",
      "[t-SNE] Computed conditional probabilities for sample 24000 / 48207\n",
      "[t-SNE] Computed conditional probabilities for sample 25000 / 48207\n",
      "[t-SNE] Computed conditional probabilities for sample 26000 / 48207\n",
      "[t-SNE] Computed conditional probabilities for sample 27000 / 48207\n",
      "[t-SNE] Computed conditional probabilities for sample 28000 / 48207\n",
      "[t-SNE] Computed conditional probabilities for sample 29000 / 48207\n",
      "[t-SNE] Computed conditional probabilities for sample 30000 / 48207\n",
      "[t-SNE] Computed conditional probabilities for sample 31000 / 48207\n",
      "[t-SNE] Computed conditional probabilities for sample 32000 / 48207\n",
      "[t-SNE] Computed conditional probabilities for sample 33000 / 48207\n",
      "[t-SNE] Computed conditional probabilities for sample 34000 / 48207\n",
      "[t-SNE] Computed conditional probabilities for sample 35000 / 48207\n",
      "[t-SNE] Computed conditional probabilities for sample 36000 / 48207\n",
      "[t-SNE] Computed conditional probabilities for sample 37000 / 48207\n",
      "[t-SNE] Computed conditional probabilities for sample 38000 / 48207\n",
      "[t-SNE] Computed conditional probabilities for sample 39000 / 48207\n",
      "[t-SNE] Computed conditional probabilities for sample 40000 / 48207\n",
      "[t-SNE] Computed conditional probabilities for sample 41000 / 48207\n",
      "[t-SNE] Computed conditional probabilities for sample 42000 / 48207\n",
      "[t-SNE] Computed conditional probabilities for sample 43000 / 48207\n",
      "[t-SNE] Computed conditional probabilities for sample 44000 / 48207\n",
      "[t-SNE] Computed conditional probabilities for sample 45000 / 48207\n",
      "[t-SNE] Computed conditional probabilities for sample 46000 / 48207\n",
      "[t-SNE] Computed conditional probabilities for sample 47000 / 48207\n",
      "[t-SNE] Computed conditional probabilities for sample 48000 / 48207\n",
      "[t-SNE] Computed conditional probabilities for sample 48207 / 48207\n",
      "[t-SNE] Mean sigma: 0.000000\n",
      "[t-SNE] KL divergence after 250 iterations with early exaggeration: 175.221191\n",
      "[t-SNE] KL divergence after 2000 iterations: 2.054938\n",
      "(48207, 2)\n",
      "t-SNE took 1006.3s.\n"
     ]
    }
   ],
   "source": [
    "x_test_reduced_raw = reduce_by_tsne(x=x_test)"
   ]
  },
  {
   "cell_type": "code",
   "execution_count": 45,
   "metadata": {},
   "outputs": [
    {
     "data": {
      "text/html": [
       "<div>\n",
       "<style scoped>\n",
       "    .dataframe tbody tr th:only-of-type {\n",
       "        vertical-align: middle;\n",
       "    }\n",
       "\n",
       "    .dataframe tbody tr th {\n",
       "        vertical-align: top;\n",
       "    }\n",
       "\n",
       "    .dataframe thead th {\n",
       "        text-align: right;\n",
       "    }\n",
       "</style>\n",
       "<table border=\"1\" class=\"dataframe\">\n",
       "  <thead>\n",
       "    <tr style=\"text-align: right;\">\n",
       "      <th></th>\n",
       "      <th>0</th>\n",
       "      <th>1</th>\n",
       "    </tr>\n",
       "    <tr>\n",
       "      <th>0</th>\n",
       "      <th></th>\n",
       "      <th></th>\n",
       "    </tr>\n",
       "  </thead>\n",
       "  <tbody>\n",
       "    <tr>\n",
       "      <th>id27</th>\n",
       "      <td>-116.881920</td>\n",
       "      <td>-36.252781</td>\n",
       "    </tr>\n",
       "    <tr>\n",
       "      <th>id39</th>\n",
       "      <td>-5.743494</td>\n",
       "      <td>-45.813259</td>\n",
       "    </tr>\n",
       "  </tbody>\n",
       "</table>\n",
       "</div>"
      ],
      "text/plain": [
       "               0          1\n",
       "0                          \n",
       "id27 -116.881920 -36.252781\n",
       "id39   -5.743494 -45.813259"
      ]
     },
     "execution_count": 45,
     "metadata": {},
     "output_type": "execute_result"
    }
   ],
   "source": [
    "x_test_reduced_raw_df = pd.DataFrame(data=x_test_reduced_raw, index=x_test.index)\n",
    "x_test_reduced_raw_df.head(2)"
   ]
  },
  {
   "cell_type": "code",
   "execution_count": 46,
   "metadata": {},
   "outputs": [],
   "source": [
    "show_each_md(x_reduced=x_test_reduced_raw_df, frag_info=y_test, file_path='./images/x_test_t-sne_raw_frag2vec.png')"
   ]
  },
  {
   "cell_type": "code",
   "execution_count": 47,
   "metadata": {},
   "outputs": [
    {
     "name": "stdout",
     "output_type": "stream",
     "text": [
      "[t-SNE] Computing 91 nearest neighbors...\n",
      "[t-SNE] Indexed 48207 samples in 0.259s...\n",
      "[t-SNE] Computed neighbors for 48207 samples in 36.777s...\n",
      "[t-SNE] Computed conditional probabilities for sample 1000 / 48207\n",
      "[t-SNE] Computed conditional probabilities for sample 2000 / 48207\n",
      "[t-SNE] Computed conditional probabilities for sample 3000 / 48207\n",
      "[t-SNE] Computed conditional probabilities for sample 4000 / 48207\n",
      "[t-SNE] Computed conditional probabilities for sample 5000 / 48207\n",
      "[t-SNE] Computed conditional probabilities for sample 6000 / 48207\n",
      "[t-SNE] Computed conditional probabilities for sample 7000 / 48207\n",
      "[t-SNE] Computed conditional probabilities for sample 8000 / 48207\n",
      "[t-SNE] Computed conditional probabilities for sample 9000 / 48207\n",
      "[t-SNE] Computed conditional probabilities for sample 10000 / 48207\n",
      "[t-SNE] Computed conditional probabilities for sample 11000 / 48207\n",
      "[t-SNE] Computed conditional probabilities for sample 12000 / 48207\n",
      "[t-SNE] Computed conditional probabilities for sample 13000 / 48207\n",
      "[t-SNE] Computed conditional probabilities for sample 14000 / 48207\n",
      "[t-SNE] Computed conditional probabilities for sample 15000 / 48207\n",
      "[t-SNE] Computed conditional probabilities for sample 16000 / 48207\n",
      "[t-SNE] Computed conditional probabilities for sample 17000 / 48207\n",
      "[t-SNE] Computed conditional probabilities for sample 18000 / 48207\n",
      "[t-SNE] Computed conditional probabilities for sample 19000 / 48207\n",
      "[t-SNE] Computed conditional probabilities for sample 20000 / 48207\n",
      "[t-SNE] Computed conditional probabilities for sample 21000 / 48207\n",
      "[t-SNE] Computed conditional probabilities for sample 22000 / 48207\n",
      "[t-SNE] Computed conditional probabilities for sample 23000 / 48207\n",
      "[t-SNE] Computed conditional probabilities for sample 24000 / 48207\n",
      "[t-SNE] Computed conditional probabilities for sample 25000 / 48207\n",
      "[t-SNE] Computed conditional probabilities for sample 26000 / 48207\n",
      "[t-SNE] Computed conditional probabilities for sample 27000 / 48207\n",
      "[t-SNE] Computed conditional probabilities for sample 28000 / 48207\n",
      "[t-SNE] Computed conditional probabilities for sample 29000 / 48207\n",
      "[t-SNE] Computed conditional probabilities for sample 30000 / 48207\n",
      "[t-SNE] Computed conditional probabilities for sample 31000 / 48207\n",
      "[t-SNE] Computed conditional probabilities for sample 32000 / 48207\n",
      "[t-SNE] Computed conditional probabilities for sample 33000 / 48207\n",
      "[t-SNE] Computed conditional probabilities for sample 34000 / 48207\n",
      "[t-SNE] Computed conditional probabilities for sample 35000 / 48207\n",
      "[t-SNE] Computed conditional probabilities for sample 36000 / 48207\n",
      "[t-SNE] Computed conditional probabilities for sample 37000 / 48207\n",
      "[t-SNE] Computed conditional probabilities for sample 38000 / 48207\n",
      "[t-SNE] Computed conditional probabilities for sample 39000 / 48207\n",
      "[t-SNE] Computed conditional probabilities for sample 40000 / 48207\n",
      "[t-SNE] Computed conditional probabilities for sample 41000 / 48207\n",
      "[t-SNE] Computed conditional probabilities for sample 42000 / 48207\n",
      "[t-SNE] Computed conditional probabilities for sample 43000 / 48207\n",
      "[t-SNE] Computed conditional probabilities for sample 44000 / 48207\n",
      "[t-SNE] Computed conditional probabilities for sample 45000 / 48207\n",
      "[t-SNE] Computed conditional probabilities for sample 46000 / 48207\n",
      "[t-SNE] Computed conditional probabilities for sample 47000 / 48207\n",
      "[t-SNE] Computed conditional probabilities for sample 48000 / 48207\n",
      "[t-SNE] Computed conditional probabilities for sample 48207 / 48207\n",
      "[t-SNE] Mean sigma: 0.000000\n",
      "[t-SNE] KL divergence after 250 iterations with early exaggeration: 166.697205\n",
      "[t-SNE] KL divergence after 2000 iterations: 1.382684\n",
      "(48207, 2)\n",
      "t-SNE took 826.9s.\n"
     ]
    }
   ],
   "source": [
    "x_test_reduced_after_trained = reduce_by_tsne(x_test_embedding)"
   ]
  },
  {
   "cell_type": "code",
   "execution_count": 48,
   "metadata": {},
   "outputs": [
    {
     "data": {
      "text/html": [
       "<div>\n",
       "<style scoped>\n",
       "    .dataframe tbody tr th:only-of-type {\n",
       "        vertical-align: middle;\n",
       "    }\n",
       "\n",
       "    .dataframe tbody tr th {\n",
       "        vertical-align: top;\n",
       "    }\n",
       "\n",
       "    .dataframe thead th {\n",
       "        text-align: right;\n",
       "    }\n",
       "</style>\n",
       "<table border=\"1\" class=\"dataframe\">\n",
       "  <thead>\n",
       "    <tr style=\"text-align: right;\">\n",
       "      <th></th>\n",
       "      <th>0</th>\n",
       "      <th>1</th>\n",
       "    </tr>\n",
       "    <tr>\n",
       "      <th>0</th>\n",
       "      <th></th>\n",
       "      <th></th>\n",
       "    </tr>\n",
       "  </thead>\n",
       "  <tbody>\n",
       "    <tr>\n",
       "      <th>id27</th>\n",
       "      <td>-15.629355</td>\n",
       "      <td>47.694611</td>\n",
       "    </tr>\n",
       "    <tr>\n",
       "      <th>id39</th>\n",
       "      <td>1.918200</td>\n",
       "      <td>-51.893841</td>\n",
       "    </tr>\n",
       "  </tbody>\n",
       "</table>\n",
       "</div>"
      ],
      "text/plain": [
       "              0          1\n",
       "0                         \n",
       "id27 -15.629355  47.694611\n",
       "id39   1.918200 -51.893841"
      ]
     },
     "execution_count": 48,
     "metadata": {},
     "output_type": "execute_result"
    }
   ],
   "source": [
    "x_test_reduced_after_trained_df = pd.DataFrame(data=x_test_reduced_after_trained, index=x_test_embedding.index)\n",
    "x_test_reduced_after_trained_df.head(2)"
   ]
  },
  {
   "cell_type": "code",
   "execution_count": 49,
   "metadata": {},
   "outputs": [],
   "source": [
    "show_each_md(x_reduced=x_test_reduced_after_trained_df, frag_info=y_test, \n",
    "                                  file_path='./images/x_test_t-sne_after_trained_frag2vec.png')"
   ]
  },
  {
   "cell_type": "code",
   "execution_count": 50,
   "metadata": {},
   "outputs": [
    {
     "data": {
      "text/plain": [
       "(204177, 100)"
      ]
     },
     "execution_count": 50,
     "metadata": {},
     "output_type": "execute_result"
    }
   ],
   "source": [
    "x_train_test = x_train.append(x_test)\n",
    "x_train_test.shape"
   ]
  },
  {
   "cell_type": "code",
   "execution_count": 51,
   "metadata": {},
   "outputs": [
    {
     "data": {
      "text/plain": [
       "(204177, 30)"
      ]
     },
     "execution_count": 51,
     "metadata": {},
     "output_type": "execute_result"
    }
   ],
   "source": [
    "x_train_test_embedding = m_part1.predict(x_train_test)\n",
    "x_train_test_embedding.shape"
   ]
  },
  {
   "cell_type": "code",
   "execution_count": 53,
   "metadata": {},
   "outputs": [],
   "source": [
    "x_train_test_embedding_df = pd.DataFrame(data=x_train_test_embedding, index=x_train_test.index)\n",
    "x_train_test_embedding_df.to_csv('all_x_after_trained_parallel_model.csv')"
   ]
  },
  {
   "cell_type": "code",
   "execution_count": null,
   "metadata": {},
   "outputs": [],
   "source": []
  }
 ],
 "metadata": {
  "kernelspec": {
   "display_name": "Python 3",
   "language": "python",
   "name": "python3"
  },
  "language_info": {
   "codemirror_mode": {
    "name": "ipython",
    "version": 3
   },
   "file_extension": ".py",
   "mimetype": "text/x-python",
   "name": "python",
   "nbconvert_exporter": "python",
   "pygments_lexer": "ipython3",
   "version": "3.6.10"
  }
 },
 "nbformat": 4,
 "nbformat_minor": 4
}
