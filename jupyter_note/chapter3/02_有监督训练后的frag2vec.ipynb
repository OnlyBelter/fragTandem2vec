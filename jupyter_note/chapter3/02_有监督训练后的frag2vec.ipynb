{
 "cells": [
  {
   "cell_type": "markdown",
   "metadata": {},
   "source": [
    "#### 原始的fragment2vec\n",
    "- 选择parallel，best model\n",
    "- 查看碎片之间的相似性\n",
    "- 查看双键、芳香性等抽象度更高的结构信息"
   ]
  },
  {
   "cell_type": "code",
   "execution_count": 2,
   "metadata": {},
   "outputs": [],
   "source": [
    "# Helper libraries\n",
    "import numpy as np\n",
    "import pandas as pd\n",
    "import matplotlib.pyplot as plt\n",
    "\n",
    "import matplotlib as mpl\n",
    "# import matplotlib.pyplot as plt\n",
    "import matplotlib.colors as colors\n",
    "import seaborn as sns\n",
    "\n",
    "import time\n",
    "from sklearn.manifold import TSNE\n",
    "from sklearn.metrics import pairwise_distances\n",
    "\n",
    "from rdkit import Chem\n",
    "from rdkit.Chem import Draw\n",
    "from rdkit.Chem.Draw import IPythonConsole\n",
    "IPythonConsole.ipython_useSVG = True"
   ]
  },
  {
   "cell_type": "code",
   "execution_count": 3,
   "metadata": {},
   "outputs": [],
   "source": [
    "def cal_distance(x, y, metric='euclidean'):\n",
    "    if type(x) == pd.core.series.Series:\n",
    "        x = x.values.reshape(1, -1)\n",
    "    if type(y) == pd.core.series.Series:\n",
    "        y = y.values.reshape(1, -1)\n",
    "    return pairwise_distances(x, y, metric=metric)"
   ]
  },
  {
   "cell_type": "code",
   "execution_count": 4,
   "metadata": {},
   "outputs": [],
   "source": [
    "def print_closest_words(x_embedding, x_query, n=5, add_vec=None):\n",
    "    x = x_embedding.loc[x_query].values.reshape(1, -1).copy()\n",
    "    # print('x is: {}'.format(x))\n",
    "    if add_vec is not None:\n",
    "        x += add_vec\n",
    "        # print('x + add_vec is: {}'.format(x))\n",
    "    dists = cal_distance(x=x_embedding.values, y=x)     # compute distances to all words\n",
    "    lst = sorted(enumerate(dists), key=lambda x: x[1]) # sort by distance\n",
    "    # print(lst[:100])\n",
    "    all_smiles = []\n",
    "    all_dis = [] \n",
    "    if add_vec is not None:\n",
    "        for idx, difference in lst[0:n]:\n",
    "            _smiles = x_embedding.iloc[idx,:].name\n",
    "            all_smiles.append(_smiles)\n",
    "            all_dis.append(difference[0])\n",
    "            # print(_smiles, difference)\n",
    "    else:\n",
    "        for idx, difference in lst[1:n+1]:   # take the top n\n",
    "            _smiles = x_embedding.iloc[idx,:].name\n",
    "            all_smiles.append(_smiles)\n",
    "            all_dis.append(difference[0])\n",
    "            # print(_smiles, difference)\n",
    "    return {'smiles': all_smiles, 'dis': all_dis}"
   ]
  },
  {
   "cell_type": "code",
   "execution_count": 5,
   "metadata": {},
   "outputs": [],
   "source": [
    "def get_minus_result(x_embedding, x, y):\n",
    "    x = x_embedding.loc[x].values.reshape(1, -1)\n",
    "    y = x_embedding.loc[y].values.reshape(1, -1)\n",
    "    return x-y"
   ]
  },
  {
   "cell_type": "code",
   "execution_count": 6,
   "metadata": {},
   "outputs": [],
   "source": [
    "def draw_mol_by_smiles(smiles):\n",
    "    mol = Chem.MolFromSmiles(smiles)\n",
    "    size = (200, 200)\n",
    "    return Draw.MolToImage(mol, size=size)"
   ]
  },
  {
   "cell_type": "code",
   "execution_count": 7,
   "metadata": {},
   "outputs": [],
   "source": [
    "def draw_multiple_mol(smiles_list, mols_per_row=4, file_path=None, legends=None):\n",
    "    mols = []\n",
    "    for i in smiles_list:\n",
    "        mols.append(Chem.MolFromSmiles(i))\n",
    "    mols_per_row = min(len(smiles_list), mols_per_row)\n",
    "    if legends is None:\n",
    "        img=Draw.MolsToGridImage(mols, molsPerRow=mols_per_row, subImgSize=(220, 120), useSVG=True)\n",
    "    else:\n",
    "        img=Draw.MolsToGridImage(mols, molsPerRow=mols_per_row, subImgSize=(220, 120), useSVG=True, legends=legends)\n",
    "    if file_path:\n",
    "        with open(file_path, 'w') as f_handle:\n",
    "            f_handle.write(img.data)\n",
    "    return img"
   ]
  },
  {
   "cell_type": "code",
   "execution_count": 8,
   "metadata": {},
   "outputs": [],
   "source": [
    "def show_each_md(x_reduced, frag_info, file_path=''):\n",
    "    \"\"\"\n",
    "    reduced_x: 2 dimensions x with fragment as index, a dataframe\n",
    "    frag_info: the number of each MD with fragemnt as index, a dataframe\n",
    "    \"\"\"\n",
    "    # model = model_name\n",
    "    fig, ax = plt.subplots(2, 4, figsize=(24, 12))\n",
    "    ax = ax.flatten()\n",
    "    # print(x_reduced.head(2))\n",
    "    # print(frag_info.head(2))\n",
    "    intersect_index = set(x_reduced.index.to_list()) & set(frag_info.index.to_list())\n",
    "    x_reduced = x_reduced.loc[intersect_index, :].copy()  # alignment\n",
    "    frag_info = frag_info.loc[intersect_index, :].copy()\n",
    "    # reduced_x = reduced_x.loc[frag_info.index, :].copy()\n",
    "    # parallel_frag_info = parallel_frag_info.loc[:, selected_md].copy()\n",
    "    for i,md in enumerate(frag_info.columns.to_list()):\n",
    "        # current_labels = parallel_frag_info.iloc[:, i]\n",
    "        current_labels = frag_info.iloc[:, i]\n",
    "        unique_labels = sorted(current_labels.unique())\n",
    "        n_labels = len(unique_labels)\n",
    "        # print(n_labels)\n",
    "        cc = sns.color_palette('Blues', n_labels)\n",
    "        for j,label in enumerate(unique_labels):\n",
    "            current_nodes = (current_labels == label)\n",
    "            ax[i].scatter(x_reduced.loc[current_nodes, 0], x_reduced.loc[current_nodes, 1],\n",
    "                          c=colors.rgb2hex(cc[j]), vmin=0, vmax=10, s=10, label=str(label))\n",
    "        ax[i].set_title(md, fontsize=12)\n",
    "        ax[i].legend()\n",
    "    plt.tight_layout()\n",
    "    plt.savefig(file_path, bbox_inches='tight', transparent=True)\n",
    "    plt.close()"
   ]
  },
  {
   "cell_type": "code",
   "execution_count": 9,
   "metadata": {},
   "outputs": [],
   "source": [
    "def reduce_by_tsne(x):\n",
    "    t0 = time.time()\n",
    "    tsne = TSNE(n_components=2, n_jobs=4, learning_rate=200, early_exaggeration=20, n_iter=2000, random_state=42, init='pca', verbose=1)\n",
    "    X_reduced_tsne = tsne.fit_transform(x)\n",
    "    # X_reduced_tsne = tsne.fit(x)\n",
    "    print(X_reduced_tsne.shape)\n",
    "    # np.save('X_reduced_tsne_pca_first', X_reduced_tsne2)\n",
    "    t1 = time.time()\n",
    "    print(\"t-SNE took {:.1f}s.\".format(t1 - t0))\n",
    "    return X_reduced_tsne"
   ]
  },
  {
   "cell_type": "code",
   "execution_count": 10,
   "metadata": {},
   "outputs": [
    {
     "data": {
      "text/html": [
       "<div>\n",
       "<style scoped>\n",
       "    .dataframe tbody tr th:only-of-type {\n",
       "        vertical-align: middle;\n",
       "    }\n",
       "\n",
       "    .dataframe tbody tr th {\n",
       "        vertical-align: top;\n",
       "    }\n",
       "\n",
       "    .dataframe thead th {\n",
       "        text-align: right;\n",
       "    }\n",
       "</style>\n",
       "<table border=\"1\" class=\"dataframe\">\n",
       "  <thead>\n",
       "    <tr style=\"text-align: right;\">\n",
       "      <th></th>\n",
       "      <th>0</th>\n",
       "      <th>1</th>\n",
       "      <th>2</th>\n",
       "      <th>3</th>\n",
       "      <th>4</th>\n",
       "      <th>5</th>\n",
       "      <th>6</th>\n",
       "      <th>7</th>\n",
       "      <th>8</th>\n",
       "      <th>9</th>\n",
       "      <th>...</th>\n",
       "      <th>20</th>\n",
       "      <th>21</th>\n",
       "      <th>22</th>\n",
       "      <th>23</th>\n",
       "      <th>24</th>\n",
       "      <th>25</th>\n",
       "      <th>26</th>\n",
       "      <th>27</th>\n",
       "      <th>28</th>\n",
       "      <th>29</th>\n",
       "    </tr>\n",
       "    <tr>\n",
       "      <th>fragment</th>\n",
       "      <th></th>\n",
       "      <th></th>\n",
       "      <th></th>\n",
       "      <th></th>\n",
       "      <th></th>\n",
       "      <th></th>\n",
       "      <th></th>\n",
       "      <th></th>\n",
       "      <th></th>\n",
       "      <th></th>\n",
       "      <th></th>\n",
       "      <th></th>\n",
       "      <th></th>\n",
       "      <th></th>\n",
       "      <th></th>\n",
       "      <th></th>\n",
       "      <th></th>\n",
       "      <th></th>\n",
       "      <th></th>\n",
       "      <th></th>\n",
       "      <th></th>\n",
       "    </tr>\n",
       "  </thead>\n",
       "  <tbody>\n",
       "    <tr>\n",
       "      <th>CC</th>\n",
       "      <td>-0.558245</td>\n",
       "      <td>-1.438177</td>\n",
       "      <td>0.099167</td>\n",
       "      <td>-1.690964</td>\n",
       "      <td>0.609527</td>\n",
       "      <td>0.275151</td>\n",
       "      <td>-0.131262</td>\n",
       "      <td>-1.386071</td>\n",
       "      <td>-1.124998</td>\n",
       "      <td>-0.883890</td>\n",
       "      <td>...</td>\n",
       "      <td>0.888008</td>\n",
       "      <td>-1.322027</td>\n",
       "      <td>1.935024</td>\n",
       "      <td>2.144108</td>\n",
       "      <td>-0.883948</td>\n",
       "      <td>0.212668</td>\n",
       "      <td>0.572107</td>\n",
       "      <td>0.954083</td>\n",
       "      <td>-0.496624</td>\n",
       "      <td>-1.354179</td>\n",
       "    </tr>\n",
       "    <tr>\n",
       "      <th>CN</th>\n",
       "      <td>-0.458151</td>\n",
       "      <td>-1.483617</td>\n",
       "      <td>0.175892</td>\n",
       "      <td>-1.543361</td>\n",
       "      <td>0.740270</td>\n",
       "      <td>-0.030037</td>\n",
       "      <td>0.702270</td>\n",
       "      <td>-1.455249</td>\n",
       "      <td>-1.184582</td>\n",
       "      <td>-1.250804</td>\n",
       "      <td>...</td>\n",
       "      <td>0.650653</td>\n",
       "      <td>-1.315698</td>\n",
       "      <td>1.569044</td>\n",
       "      <td>3.021253</td>\n",
       "      <td>0.223890</td>\n",
       "      <td>0.342611</td>\n",
       "      <td>0.793450</td>\n",
       "      <td>0.123334</td>\n",
       "      <td>-1.163844</td>\n",
       "      <td>-1.464272</td>\n",
       "    </tr>\n",
       "  </tbody>\n",
       "</table>\n",
       "<p>2 rows × 30 columns</p>\n",
       "</div>"
      ],
      "text/plain": [
       "                 0         1         2         3         4         5  \\\n",
       "fragment                                                               \n",
       "CC       -0.558245 -1.438177  0.099167 -1.690964  0.609527  0.275151   \n",
       "CN       -0.458151 -1.483617  0.175892 -1.543361  0.740270 -0.030037   \n",
       "\n",
       "                 6         7         8         9  ...        20        21  \\\n",
       "fragment                                          ...                       \n",
       "CC       -0.131262 -1.386071 -1.124998 -0.883890  ...  0.888008 -1.322027   \n",
       "CN        0.702270 -1.455249 -1.184582 -1.250804  ...  0.650653 -1.315698   \n",
       "\n",
       "                22        23        24        25        26        27  \\\n",
       "fragment                                                               \n",
       "CC        1.935024  2.144108 -0.883948  0.212668  0.572107  0.954083   \n",
       "CN        1.569044  3.021253  0.223890  0.342611  0.793450  0.123334   \n",
       "\n",
       "                28        29  \n",
       "fragment                      \n",
       "CC       -0.496624 -1.354179  \n",
       "CN       -1.163844 -1.464272  \n",
       "\n",
       "[2 rows x 30 columns]"
      ]
     },
     "execution_count": 10,
     "metadata": {},
     "output_type": "execute_result"
    }
   ],
   "source": [
    "frag2vec = pd.read_csv('./model_parallel/nn_trained_frag_embedding_reg.csv', index_col=0)\n",
    "frag2vec.head(2)"
   ]
  },
  {
   "cell_type": "code",
   "execution_count": 11,
   "metadata": {},
   "outputs": [
    {
     "data": {
      "text/plain": [
       "(505, 30)"
      ]
     },
     "execution_count": 11,
     "metadata": {},
     "output_type": "execute_result"
    }
   ],
   "source": [
    "frag2vec.shape"
   ]
  },
  {
   "cell_type": "code",
   "execution_count": 12,
   "metadata": {},
   "outputs": [
    {
     "data": {
      "text/plain": [
       "['C1=CCNN=C1', 'C1=COCO1', 'C1=CCC1', 'C1=CN=N[SH]=C1', 'OBr']"
      ]
     },
     "execution_count": 12,
     "metadata": {},
     "output_type": "execute_result"
    }
   ],
   "source": [
    "# demo_frags = np.random.choice(frag2vec.index.to_list(), 5, replace=False)\n",
    "demo_frags = ['C1=CCNN=C1', 'C1=COCO1', 'C1=CCC1', 'C1=CN=N[SH]=C1', 'OBr']\n",
    "demo_frags"
   ]
  },
  {
   "cell_type": "code",
   "execution_count": 13,
   "metadata": {},
   "outputs": [],
   "source": [
    "frag2nn = {}\n",
    "for frag in demo_frags:\n",
    "    frag2nn[frag] = print_closest_words(x_embedding=frag2vec, x_query=frag, n=7)"
   ]
  },
  {
   "cell_type": "code",
   "execution_count": 14,
   "metadata": {},
   "outputs": [
    {
     "data": {
      "text/plain": [
       "{'smiles': ['C1=COCCO1',\n",
       "  'C1=COCCCO1',\n",
       "  'C1COCCO1',\n",
       "  'C1=COCCOC1',\n",
       "  'C1=CCOCOC1',\n",
       "  'C1=COCOC1',\n",
       "  'C1=NCCCO1'],\n",
       " 'dis': [1.2642679190190445,\n",
       "  2.2014491766004634,\n",
       "  4.763376989660993,\n",
       "  4.898847203456766,\n",
       "  4.918049307447968,\n",
       "  5.376133423346084,\n",
       "  5.73322301711678]}"
      ]
     },
     "execution_count": 14,
     "metadata": {},
     "output_type": "execute_result"
    }
   ],
   "source": [
    "nn1 = frag2nn['C1=COCO1']\n",
    "nn1"
   ]
  },
  {
   "cell_type": "code",
   "execution_count": 15,
   "metadata": {},
   "outputs": [],
   "source": [
    "for k, frag in enumerate(demo_frags):\n",
    "    nn = frag2nn[frag]\n",
    "    draw_multiple_mol(smiles_list=[frag] + nn['smiles'],  \n",
    "                   legends=[frag] + [nn['smiles'][i] + '(' + str('{:.2f}'.format(nn['dis'][i])) + ')' for i in range(7)],\n",
    "                   file_path='./images/nn_trained_frag_nn_{}.svg'.format(k))"
   ]
  },
  {
   "cell_type": "markdown",
   "metadata": {},
   "source": [
    "#### test double bond"
   ]
  },
  {
   "cell_type": "code",
   "execution_count": 16,
   "metadata": {},
   "outputs": [],
   "source": [
    "double_bond = get_minus_result(x_embedding=frag2vec, x='C=O', y='CO')\n",
    "# double_bond"
   ]
  },
  {
   "cell_type": "code",
   "execution_count": 21,
   "metadata": {},
   "outputs": [],
   "source": [
    "single_bond_frag = ['CC', 'CN', 'CS', 'OS', 'C1CC1']\n",
    "single_bond2nn = {}\n",
    "for frag in single_bond_frag:\n",
    "    single_bond2nn[frag] = print_closest_words(x_embedding=frag2vec, x_query=frag, n=30, add_vec=double_bond)"
   ]
  },
  {
   "cell_type": "code",
   "execution_count": 22,
   "metadata": {},
   "outputs": [
    {
     "data": {
      "text/plain": [
       "({'smiles': ['C=O',\n",
       "   'C=C',\n",
       "   'CC',\n",
       "   'CF',\n",
       "   'C1=CC=CCC=C1',\n",
       "   'C',\n",
       "   'CCl',\n",
       "   'C1=CCCC=C1',\n",
       "   'C1=CCC=C1',\n",
       "   'C1=CC=NC=C1',\n",
       "   'CBr',\n",
       "   'C1=CC=C1',\n",
       "   'C1=CC=CNC=C1',\n",
       "   'C1=CCC=NC=C1',\n",
       "   'CN',\n",
       "   'C1=CC=CC=C1',\n",
       "   'C1=CCC=CC1',\n",
       "   'C1=CCCCC=C1',\n",
       "   'C1=CCCC=CC1',\n",
       "   'C=S',\n",
       "   'C1=CC=COC=C1',\n",
       "   'C1=CC1',\n",
       "   'C1=CCCN=C1',\n",
       "   'C1=C[NH]C=C1',\n",
       "   'C1=C[NH]C=N1',\n",
       "   'C1=CCN=CC1',\n",
       "   'C1=NNCC1',\n",
       "   'C1=CCNC=CC1',\n",
       "   'C1=COC=N1',\n",
       "   'C1=CCN=CCC1'],\n",
       "  'dis': [3.57137566424523,\n",
       "   6.220684831141861,\n",
       "   6.26249704311534,\n",
       "   6.711392594008851,\n",
       "   6.847984568722096,\n",
       "   6.982327768157297,\n",
       "   6.986846595619156,\n",
       "   7.011879537135928,\n",
       "   7.091662065640401,\n",
       "   7.113743809062068,\n",
       "   7.153563090361346,\n",
       "   7.166521501445992,\n",
       "   7.2064864075287565,\n",
       "   7.367195888322388,\n",
       "   7.4314584701755875,\n",
       "   7.437951262367652,\n",
       "   7.465787718889929,\n",
       "   7.47776210725565,\n",
       "   7.508753328144614,\n",
       "   7.527834669363375,\n",
       "   7.573492726328283,\n",
       "   7.6728481591599795,\n",
       "   7.683574250698818,\n",
       "   7.7085498194171045,\n",
       "   7.714174248479766,\n",
       "   7.724839197562355,\n",
       "   7.832386169917521,\n",
       "   7.838724375485982,\n",
       "   7.854305410225798,\n",
       "   7.879473909621251]},\n",
       " {'smiles': ['C=O',\n",
       "   'C=C',\n",
       "   'CC',\n",
       "   'CN',\n",
       "   'C1=CC=NC=C1',\n",
       "   'C1=CC=CNC=C1',\n",
       "   'CF',\n",
       "   'C',\n",
       "   'CCl',\n",
       "   'C1=CC=CCC=C1',\n",
       "   'C1=CCC=NC=C1',\n",
       "   'CBr',\n",
       "   'C1=C[NH]C=N1',\n",
       "   'C1=CCN=CC1',\n",
       "   'C1=CNCCC=N1',\n",
       "   'C1=CCCN=C1',\n",
       "   'C1=CCC=C1',\n",
       "   'C1=CN=CCC=N1',\n",
       "   'C1=CCCC=C1',\n",
       "   'C1=NCCN1',\n",
       "   'C1=CCN=CCC1',\n",
       "   'C1=CC=C1',\n",
       "   'C1=NNCC1',\n",
       "   'C1=CCNC=CC1',\n",
       "   'C1=CNCN=C1',\n",
       "   'C1=CCCNC=C1',\n",
       "   'C1=COC=N1',\n",
       "   'C1=CNC=CN1',\n",
       "   'C1=CNCCN=C1',\n",
       "   'C1=C[NH]C=C1'],\n",
       "  'dis': [4.368489158483479,\n",
       "   5.881544775989433,\n",
       "   6.253310048210345,\n",
       "   6.262497043115342,\n",
       "   6.864020050632613,\n",
       "   6.883900867685096,\n",
       "   6.917007882730349,\n",
       "   6.966982132303349,\n",
       "   7.120943085729936,\n",
       "   7.17075451924893,\n",
       "   7.194227879321036,\n",
       "   7.274004492960937,\n",
       "   7.322154992666263,\n",
       "   7.331143081669624,\n",
       "   7.427787916658768,\n",
       "   7.455409372511407,\n",
       "   7.485903021215273,\n",
       "   7.494531148704202,\n",
       "   7.503326383743461,\n",
       "   7.538372767930341,\n",
       "   7.5396048400654525,\n",
       "   7.54268266747216,\n",
       "   7.556217759726544,\n",
       "   7.558308865224352,\n",
       "   7.570062818239974,\n",
       "   7.594388574479931,\n",
       "   7.5948935944826514,\n",
       "   7.616047013811737,\n",
       "   7.645810122538367,\n",
       "   7.703338660589102]},\n",
       " {'smiles': ['C=O',\n",
       "   'C=S',\n",
       "   'CC',\n",
       "   'CS',\n",
       "   'C',\n",
       "   'C=C',\n",
       "   'CF',\n",
       "   'C1=CC=CCC=C1',\n",
       "   'C1=CCCC=C1',\n",
       "   'CCl',\n",
       "   'C1=CC=NC=C1',\n",
       "   'C1=CC=C1',\n",
       "   'C1=CCC=C1',\n",
       "   'C1=CC=CNC=C1',\n",
       "   'O=S',\n",
       "   'CBr',\n",
       "   'CN',\n",
       "   'C1=CCC=CC1',\n",
       "   'C1=CCC=NC=C1',\n",
       "   'C1=CC=CC=C1',\n",
       "   'C1=CC1',\n",
       "   'C1=CC=COC=C1',\n",
       "   'C1=COC=N1',\n",
       "   'C1=CCNC=C1',\n",
       "   'C1=CCCCC=C1',\n",
       "   'C1=CCCC=CC1',\n",
       "   'C1=CSC=C1',\n",
       "   'C1=CSC=CC1',\n",
       "   'CO',\n",
       "   'C1=CCSC=C1'],\n",
       "  'dis': [4.620402986739358,\n",
       "   5.671829338474722,\n",
       "   5.991186776541636,\n",
       "   6.262497043115342,\n",
       "   6.2838263794547595,\n",
       "   6.5679459451347055,\n",
       "   6.595282991205089,\n",
       "   6.631971714640637,\n",
       "   6.665712078288265,\n",
       "   6.682199352172611,\n",
       "   6.745347343000041,\n",
       "   6.779803960287036,\n",
       "   6.900509069763055,\n",
       "   6.905296616053055,\n",
       "   6.910688171987826,\n",
       "   7.0184852599567185,\n",
       "   7.075472106103636,\n",
       "   7.223388079665511,\n",
       "   7.225095917507425,\n",
       "   7.240486873551481,\n",
       "   7.2666516100701175,\n",
       "   7.289384997481577,\n",
       "   7.363299010346139,\n",
       "   7.406896613065536,\n",
       "   7.410751502021682,\n",
       "   7.414397939776677,\n",
       "   7.415044080276466,\n",
       "   7.477069131045774,\n",
       "   7.481653858867126,\n",
       "   7.484954226541037]},\n",
       " {'smiles': ['OS',\n",
       "   'C1=CSCCC1',\n",
       "   'C1=CSCCCC1',\n",
       "   'C1=CSCO1',\n",
       "   'C1=CNSCC1',\n",
       "   'C1=NSCO1',\n",
       "   'C1=CNSC1',\n",
       "   'OBr',\n",
       "   'C1=CCSCC1',\n",
       "   'C1COSCSO1',\n",
       "   'C1=CNSC=C1',\n",
       "   'C1=CSC=CO1',\n",
       "   'C1=CCSC1',\n",
       "   'C1=CNCCSC1',\n",
       "   'C1CSCCO1',\n",
       "   'C1=CSCCNC1',\n",
       "   'C1=CSCNC1',\n",
       "   'C1=CSCCCN1',\n",
       "   'C1=CNCSC1',\n",
       "   'C1CSCO1',\n",
       "   'C1=CCSNC1',\n",
       "   'C1=CSNCC1',\n",
       "   'C1=CCSC=C1',\n",
       "   'C1=CSCCCS1',\n",
       "   'C1=CSCCN1',\n",
       "   'C1=CNSNC1',\n",
       "   'C1=COCSN1',\n",
       "   'C1=CSC=CC1',\n",
       "   'C1=CSC=CNC1',\n",
       "   'C1=CSCC=NC1'],\n",
       "  'dis': [6.262497043115342,\n",
       "   8.417071350458937,\n",
       "   8.464477290349604,\n",
       "   8.481741662773006,\n",
       "   8.482651046918582,\n",
       "   8.614688426959662,\n",
       "   8.709799380339483,\n",
       "   8.745313187148625,\n",
       "   8.783135660016308,\n",
       "   8.819900521188599,\n",
       "   8.836754956123634,\n",
       "   8.843151372193073,\n",
       "   8.893639614579476,\n",
       "   8.95033863385967,\n",
       "   8.95385733800193,\n",
       "   9.041903338701761,\n",
       "   9.128245744337669,\n",
       "   9.14825998923881,\n",
       "   9.184008531786143,\n",
       "   9.198918117730127,\n",
       "   9.348763980781385,\n",
       "   9.351059082430599,\n",
       "   9.370421799809522,\n",
       "   9.383796913117088,\n",
       "   9.392739924125411,\n",
       "   9.451046394894712,\n",
       "   9.453702960181486,\n",
       "   9.480482882774686,\n",
       "   9.506272960628596,\n",
       "   9.55075226856378]},\n",
       " {'smiles': ['C1CC1',\n",
       "   'C1CCCCC1',\n",
       "   'C1=CCCCCC1',\n",
       "   'C1CCCNCC1',\n",
       "   'C1CCC1',\n",
       "   'C1CCCCCC1',\n",
       "   'C1=CCCC1',\n",
       "   'C1=CCCCC1',\n",
       "   'C1CCCC1',\n",
       "   'C1=CCCC=CC1',\n",
       "   'C1=CCCCC=C1',\n",
       "   'C=O',\n",
       "   'C1CCNC1',\n",
       "   'C1CCNCC1',\n",
       "   'C1=CCCNCC1',\n",
       "   'C1=CCC=CC1',\n",
       "   'C1CNNC1',\n",
       "   'C1=CCNC=CC1',\n",
       "   'C1=NCCCCC1',\n",
       "   'C1=CNCCCC1',\n",
       "   'C1=CCCNC=C1',\n",
       "   'C1NCN1',\n",
       "   'C1=CC2CCCCC(CC1)C2',\n",
       "   'C1=NCCCC1',\n",
       "   'C1=CCC2CCC(C1)N2',\n",
       "   'C1=CCN=CCC1',\n",
       "   'C1=CC2CCCC(C1)N2',\n",
       "   'C1=CC=CCC=C1',\n",
       "   'C1=CC2C=CC1CC2',\n",
       "   'C1=CC2C=CC1N2'],\n",
       "  'dis': [6.26249704311534,\n",
       "   7.444596266454342,\n",
       "   7.552632569772199,\n",
       "   7.5989776165987255,\n",
       "   7.612681335895873,\n",
       "   7.642255531258714,\n",
       "   7.680755749984491,\n",
       "   7.68166300183979,\n",
       "   7.873178004419607,\n",
       "   7.974422077296844,\n",
       "   8.025490659344522,\n",
       "   8.075840695091289,\n",
       "   8.085357177042507,\n",
       "   8.155119738488304,\n",
       "   8.197489077868141,\n",
       "   8.199422834036184,\n",
       "   8.432774183079884,\n",
       "   8.436681532444107,\n",
       "   8.459204032842345,\n",
       "   8.485473698002467,\n",
       "   8.494102314564275,\n",
       "   8.64541821724878,\n",
       "   8.659762627621333,\n",
       "   8.669353270131332,\n",
       "   8.691411401756552,\n",
       "   8.705635806561073,\n",
       "   8.706183609801478,\n",
       "   8.727160441533231,\n",
       "   8.763274176701529,\n",
       "   8.763628747226807]})"
      ]
     },
     "execution_count": 22,
     "metadata": {},
     "output_type": "execute_result"
    }
   ],
   "source": [
    "single_bond2nn['CC'], single_bond2nn['CN'], single_bond2nn['CS'], single_bond2nn['OS'], single_bond2nn['C1CC1']"
   ]
  },
  {
   "cell_type": "markdown",
   "metadata": {},
   "source": [
    "#### test triple bond"
   ]
  },
  {
   "cell_type": "code",
   "execution_count": 17,
   "metadata": {},
   "outputs": [],
   "source": [
    "tri_bond = get_minus_result(x_embedding=frag2vec, x='C#C', y='CC')"
   ]
  },
  {
   "cell_type": "code",
   "execution_count": 18,
   "metadata": {},
   "outputs": [
    {
     "data": {
      "text/plain": [
       "{'smiles': ['C#C', 'C#N', 'C', 'CC', 'CCl'],\n",
       " 'dis': [2.8189291515517114,\n",
       "  4.306643205063667,\n",
       "  6.323543662681316,\n",
       "  6.362918657382666,\n",
       "  6.668080634743713]}"
      ]
     },
     "execution_count": 18,
     "metadata": {},
     "output_type": "execute_result"
    }
   ],
   "source": [
    "cn_add_tri_bond_nn = print_closest_words(x_embedding=frag2vec, x_query='CN', add_vec=tri_bond)\n",
    "cn_add_tri_bond_nn"
   ]
  },
  {
   "cell_type": "code",
   "execution_count": 19,
   "metadata": {},
   "outputs": [
    {
     "data": {
      "text/plain": [
       "{'smiles': ['CC', 'C', 'CO', 'C1=CC=CNC=C1', 'CBr'],\n",
       " 'dis': [2.8189291515517154,\n",
       "  3.1315868412713135,\n",
       "  4.368489158483478,\n",
       "  4.480302818442642,\n",
       "  4.486963058649091]}"
      ]
     },
     "execution_count": 19,
     "metadata": {},
     "output_type": "execute_result"
    }
   ],
   "source": [
    "print_closest_words(x_embedding=frag2vec, x_query='CN')"
   ]
  },
  {
   "cell_type": "markdown",
   "metadata": {},
   "source": [
    "#### test aromaticity（芳香性）"
   ]
  },
  {
   "cell_type": "code",
   "execution_count": 20,
   "metadata": {},
   "outputs": [],
   "source": [
    "arom = get_minus_result(x_embedding=frag2vec, x='C1=CC=CC=C1', y='C1CCCCC1')"
   ]
  },
  {
   "cell_type": "code",
   "execution_count": 21,
   "metadata": {},
   "outputs": [
    {
     "data": {
      "text/plain": [
       "{'smiles': ['C1CCCCC1', 'C1CCCCCC1', 'C1CCNCC1', 'C1=CCCNCC1', 'C1CCNC1'],\n",
       " 'dis': [1.7803063772397651,\n",
       "  2.185304887287405,\n",
       "  2.6639290523041876,\n",
       "  2.9731237331166986,\n",
       "  3.0038468507528755]}"
      ]
     },
     "execution_count": 21,
     "metadata": {},
     "output_type": "execute_result"
    }
   ],
   "source": [
    "print_closest_words(x_embedding=frag2vec, x_query='C1CCCC1')"
   ]
  },
  {
   "cell_type": "code",
   "execution_count": 22,
   "metadata": {},
   "outputs": [
    {
     "data": {
      "text/plain": [
       "{'smiles': ['C1=CC=CC=C1',\n",
       "  'C1=CC=CNC=C1',\n",
       "  'C1=CC=CCC=C1',\n",
       "  'C1=CCC=C1',\n",
       "  'C1=CC=C1'],\n",
       " 'dis': [1.7803063772397532,\n",
       "  2.332125511660255,\n",
       "  2.379351602688789,\n",
       "  2.542296673378105,\n",
       "  2.644370635495892]}"
      ]
     },
     "execution_count": 22,
     "metadata": {},
     "output_type": "execute_result"
    }
   ],
   "source": [
    "print_closest_words(x_embedding=frag2vec, x_query='C1CCCC1', add_vec=arom)"
   ]
  },
  {
   "cell_type": "code",
   "execution_count": 23,
   "metadata": {},
   "outputs": [
    {
     "data": {
      "text/plain": [
       "{'smiles': ['C1CCNCC1', 'C1CCCNCC1', 'C1CCCC1', 'C1CNC1', 'C1CC1'],\n",
       " 'dis': [1.5067800684004364,\n",
       "  2.917402829613875,\n",
       "  3.0038468507528706,\n",
       "  3.111474152976513,\n",
       "  3.30667100767897]}"
      ]
     },
     "execution_count": 23,
     "metadata": {},
     "output_type": "execute_result"
    }
   ],
   "source": [
    "print_closest_words(x_embedding=frag2vec, x_query='C1CCNC1')"
   ]
  },
  {
   "cell_type": "code",
   "execution_count": 24,
   "metadata": {},
   "outputs": [
    {
     "data": {
      "text/plain": [
       "{'smiles': ['C1=CC=CNC=C1',\n",
       "  'C1=CC=NC=C1',\n",
       "  'C1=CC=CC=C1',\n",
       "  'C1=CCC=NC=C1',\n",
       "  'C1=CC=CCC=C1'],\n",
       " 'dis': [3.02818957860175,\n",
       "  3.3719614130850677,\n",
       "  3.4594979504910883,\n",
       "  3.921795515515275,\n",
       "  3.9824740691580347]}"
      ]
     },
     "execution_count": 24,
     "metadata": {},
     "output_type": "execute_result"
    }
   ],
   "source": [
    "print_closest_words(x_embedding=frag2vec, x_query='C1CCNC1', add_vec=arom)"
   ]
  },
  {
   "cell_type": "markdown",
   "metadata": {},
   "source": [
    "#### test N atom"
   ]
  },
  {
   "cell_type": "code",
   "execution_count": 25,
   "metadata": {},
   "outputs": [],
   "source": [
    "n = get_minus_result(x_embedding=frag2vec, x='C1CNC1', y='C1CC1')"
   ]
  },
  {
   "cell_type": "code",
   "execution_count": 26,
   "metadata": {},
   "outputs": [
    {
     "data": {
      "text/plain": [
       "{'smiles': ['C1CCCCC1', 'C1CCCCCC1', 'C1CCNCC1', 'C1=CCCNCC1', 'C1CCNC1'],\n",
       " 'dis': [1.7803063772397651,\n",
       "  2.185304887287405,\n",
       "  2.6639290523041876,\n",
       "  2.9731237331166986,\n",
       "  3.0038468507528755]}"
      ]
     },
     "execution_count": 26,
     "metadata": {},
     "output_type": "execute_result"
    }
   ],
   "source": [
    "print_closest_words(x_embedding=frag2vec, x_query='C1CCCC1')"
   ]
  },
  {
   "cell_type": "code",
   "execution_count": 27,
   "metadata": {},
   "outputs": [
    {
     "data": {
      "text/plain": [
       "{'smiles': ['C1CNC1', 'C1CCCC1', 'C1=CC2CCC1CN2', 'C1=CC2CC1CN2', 'C1CCNCC1'],\n",
       " 'dis': [3.578308449144305,\n",
       "  4.900267785794218,\n",
       "  4.995280872821142,\n",
       "  5.145661406014962,\n",
       "  5.418627289758258]}"
      ]
     },
     "execution_count": 27,
     "metadata": {},
     "output_type": "execute_result"
    }
   ],
   "source": [
    "print_closest_words(x_embedding=frag2vec, x_query='C1CCCC1', add_vec=n)"
   ]
  },
  {
   "cell_type": "markdown",
   "metadata": {},
   "source": [
    "#### show md"
   ]
  },
  {
   "cell_type": "code",
   "execution_count": 29,
   "metadata": {},
   "outputs": [
    {
     "data": {
      "text/html": [
       "<div>\n",
       "<style scoped>\n",
       "    .dataframe tbody tr th:only-of-type {\n",
       "        vertical-align: middle;\n",
       "    }\n",
       "\n",
       "    .dataframe tbody tr th {\n",
       "        vertical-align: top;\n",
       "    }\n",
       "\n",
       "    .dataframe thead th {\n",
       "        text-align: right;\n",
       "    }\n",
       "</style>\n",
       "<table border=\"1\" class=\"dataframe\">\n",
       "  <thead>\n",
       "    <tr style=\"text-align: right;\">\n",
       "      <th></th>\n",
       "      <th>nN</th>\n",
       "      <th>nS</th>\n",
       "      <th>nO</th>\n",
       "      <th>nX</th>\n",
       "      <th>nBondsD</th>\n",
       "      <th>nBondsT</th>\n",
       "      <th>naRing</th>\n",
       "      <th>nARing</th>\n",
       "    </tr>\n",
       "    <tr>\n",
       "      <th>fragment</th>\n",
       "      <th></th>\n",
       "      <th></th>\n",
       "      <th></th>\n",
       "      <th></th>\n",
       "      <th></th>\n",
       "      <th></th>\n",
       "      <th></th>\n",
       "      <th></th>\n",
       "    </tr>\n",
       "  </thead>\n",
       "  <tbody>\n",
       "    <tr>\n",
       "      <th>CC</th>\n",
       "      <td>0</td>\n",
       "      <td>0</td>\n",
       "      <td>0</td>\n",
       "      <td>0</td>\n",
       "      <td>0</td>\n",
       "      <td>0</td>\n",
       "      <td>0</td>\n",
       "      <td>0</td>\n",
       "    </tr>\n",
       "    <tr>\n",
       "      <th>CN</th>\n",
       "      <td>1</td>\n",
       "      <td>0</td>\n",
       "      <td>0</td>\n",
       "      <td>0</td>\n",
       "      <td>0</td>\n",
       "      <td>0</td>\n",
       "      <td>0</td>\n",
       "      <td>0</td>\n",
       "    </tr>\n",
       "  </tbody>\n",
       "</table>\n",
       "</div>"
      ],
      "text/plain": [
       "          nN  nS  nO  nX  nBondsD  nBondsT  naRing  nARing\n",
       "fragment                                                  \n",
       "CC         0   0   0   0        0        0       0       0\n",
       "CN         1   0   0   0        0        0       0       0"
      ]
     },
     "execution_count": 29,
     "metadata": {},
     "output_type": "execute_result"
    }
   ],
   "source": [
    "# md4class = ['nN', 'nS', 'nO', 'nBondsD', 'naRing', 'nARing']\n",
    "parallel_frag_info = pd.read_csv('../fragment2vec/step3_model_parallel2vec.bin_frag_info.csv', index_col=0)\n",
    "# parallel_frag_info = parallel_frag_info.loc[:, md4class].copy()\n",
    "parallel_frag_info.head(2)"
   ]
  },
  {
   "cell_type": "code",
   "execution_count": 33,
   "metadata": {},
   "outputs": [
    {
     "name": "stdout",
     "output_type": "stream",
     "text": [
      "[t-SNE] Computing 91 nearest neighbors...\n",
      "[t-SNE] Indexed 505 samples in 0.010s...\n",
      "[t-SNE] Computed neighbors for 505 samples in 0.114s...\n",
      "[t-SNE] Computed conditional probabilities for sample 505 / 505\n",
      "[t-SNE] Mean sigma: 2.423002\n",
      "[t-SNE] KL divergence after 250 iterations with early exaggeration: 124.167282\n",
      "[t-SNE] KL divergence after 1750 iterations: 0.528396\n",
      "(505, 2)\n",
      "t-SNE took 3.9s.\n"
     ]
    },
    {
     "data": {
      "text/html": [
       "<div>\n",
       "<style scoped>\n",
       "    .dataframe tbody tr th:only-of-type {\n",
       "        vertical-align: middle;\n",
       "    }\n",
       "\n",
       "    .dataframe tbody tr th {\n",
       "        vertical-align: top;\n",
       "    }\n",
       "\n",
       "    .dataframe thead th {\n",
       "        text-align: right;\n",
       "    }\n",
       "</style>\n",
       "<table border=\"1\" class=\"dataframe\">\n",
       "  <thead>\n",
       "    <tr style=\"text-align: right;\">\n",
       "      <th></th>\n",
       "      <th>0</th>\n",
       "      <th>1</th>\n",
       "    </tr>\n",
       "    <tr>\n",
       "      <th>fragment</th>\n",
       "      <th></th>\n",
       "      <th></th>\n",
       "    </tr>\n",
       "  </thead>\n",
       "  <tbody>\n",
       "    <tr>\n",
       "      <th>CC</th>\n",
       "      <td>-22.826437</td>\n",
       "      <td>4.778559</td>\n",
       "    </tr>\n",
       "    <tr>\n",
       "      <th>CN</th>\n",
       "      <td>-22.517534</td>\n",
       "      <td>4.215286</td>\n",
       "    </tr>\n",
       "  </tbody>\n",
       "</table>\n",
       "</div>"
      ],
      "text/plain": [
       "                  0         1\n",
       "fragment                     \n",
       "CC       -22.826437  4.778559\n",
       "CN       -22.517534  4.215286"
      ]
     },
     "execution_count": 33,
     "metadata": {},
     "output_type": "execute_result"
    }
   ],
   "source": [
    "x_2d = reduce_by_tsne(frag2vec)\n",
    "x_2d_df = pd.DataFrame(data=x_2d, index=frag2vec.index)\n",
    "x_2d_df.head(2)"
   ]
  },
  {
   "cell_type": "code",
   "execution_count": 36,
   "metadata": {},
   "outputs": [],
   "source": [
    "show_each_md(x_reduced=x_2d_df, frag_info=parallel_frag_info, file_path='./images/t-sne_md_after_training.png')"
   ]
  },
  {
   "cell_type": "code",
   "execution_count": null,
   "metadata": {},
   "outputs": [],
   "source": []
  }
 ],
 "metadata": {
  "kernelspec": {
   "display_name": "Python 3",
   "language": "python",
   "name": "python3"
  },
  "language_info": {
   "codemirror_mode": {
    "name": "ipython",
    "version": 3
   },
   "file_extension": ".py",
   "mimetype": "text/x-python",
   "name": "python",
   "nbconvert_exporter": "python",
   "pygments_lexer": "ipython3",
   "version": "3.6.10"
  }
 },
 "nbformat": 4,
 "nbformat_minor": 4
}
