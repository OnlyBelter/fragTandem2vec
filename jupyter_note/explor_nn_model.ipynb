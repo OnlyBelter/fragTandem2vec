{
 "cells": [
  {
   "cell_type": "code",
   "execution_count": 218,
   "metadata": {},
   "outputs": [],
   "source": [
    "from __future__ import absolute_import, division, print_function, unicode_literals\n",
    "\n",
    "# TensorFlow and tf.keras\n",
    "import tensorflow as tf\n",
    "from tensorflow import keras\n",
    "\n",
    "# Helper libraries\n",
    "import numpy as np\n",
    "import pandas as pd\n",
    "import matplotlib.pyplot as plt\n",
    "import time\n",
    "from sklearn.metrics import pairwise_distances\n",
    "\n",
    "from rdkit import Chem\n",
    "from rdkit.Chem import Draw\n",
    "from rdkit.Chem.Draw import IPythonConsole\n",
    "IPythonConsole.ipython_useSVG = True"
   ]
  },
  {
   "cell_type": "code",
   "execution_count": 80,
   "metadata": {},
   "outputs": [],
   "source": [
    "def read_xy(x_fp, y_fp):\n",
    "    x = pd.read_csv(x_fp, header=None, index_col=0)\n",
    "    y = pd.read_csv(y_fp, index_col=0)\n",
    "    return {'x': x, 'y': y}"
   ]
  },
  {
   "cell_type": "code",
   "execution_count": 85,
   "metadata": {},
   "outputs": [],
   "source": [
    "def count_y_class(y_df):\n",
    "    y_class = y_df.apply(lambda x: ''.join([str(i) for i in x]), axis=1).to_frame(name='class')\n",
    "    # y_class.head(2)\n",
    "    \n",
    "    y_class2num = y_class['class'].value_counts().to_frame(name='num')\n",
    "    y_class2num['n_error'] = 0\n",
    "    return y_class2num"
   ]
  },
  {
   "cell_type": "code",
   "execution_count": 87,
   "metadata": {},
   "outputs": [],
   "source": [
    "def predict_y(x, model):\n",
    "    y_pred_raw = model.predict(x)\n",
    "    y_pred_bool = tf.math.sigmoid(y_pred_raw)\n",
    "    y_pred_bool = y_pred_bool.numpy()\n",
    "    y_pred_bool[y_pred_bool >= 0.5] = 1\n",
    "    y_pred_bool[y_pred_bool < 0.5] = 0\n",
    "    return y_pred_bool"
   ]
  },
  {
   "cell_type": "code",
   "execution_count": 89,
   "metadata": {},
   "outputs": [],
   "source": [
    "def count_pred_error_in_class(y, y_pred):\n",
    "    pred_comp_bool = np.all(y == y_pred, axis=1)\n",
    "    y_pred_error = y_pred[~pred_comp_bool]\n",
    "    y_class = y.apply(lambda x: ''.join([str(i) for i in x]), axis=1).to_frame(name='class')\n",
    "    y_pred_error_count_by_class = y_class.loc[y_class.index.isin(y_pred_error.index), 'class'].value_counts().to_frame(name='n_error')\n",
    "    \n",
    "    y_class2num = y_class['class'].value_counts().to_frame(name='num')\n",
    "    y_class2num['n_error'] = 0\n",
    "    y_class2num.loc[y_pred_error_count_by_class.index, 'n_error'] = y_pred_error_count_by_class.n_error\n",
    "    return y_class2num"
   ]
  },
  {
   "cell_type": "code",
   "execution_count": 81,
   "metadata": {},
   "outputs": [],
   "source": [
    "model = keras.models.load_model('../big-data/moses_dataset/nn/model.h5')"
   ]
  },
  {
   "cell_type": "code",
   "execution_count": 82,
   "metadata": {},
   "outputs": [],
   "source": [
    "xy_train = read_xy(x_fp='../big-data/moses_dataset/nn/x_training_set_mol2vec.csv', y_fp='../big-data/moses_dataset/nn/y_train.csv')\n",
    "x_train = xy_train['x']\n",
    "y_train = xy_train['y']"
   ]
  },
  {
   "cell_type": "code",
   "execution_count": 83,
   "metadata": {},
   "outputs": [
    {
     "data": {
      "text/html": [
       "<div>\n",
       "<style scoped>\n",
       "    .dataframe tbody tr th:only-of-type {\n",
       "        vertical-align: middle;\n",
       "    }\n",
       "\n",
       "    .dataframe tbody tr th {\n",
       "        vertical-align: top;\n",
       "    }\n",
       "\n",
       "    .dataframe thead th {\n",
       "        text-align: right;\n",
       "    }\n",
       "</style>\n",
       "<table border=\"1\" class=\"dataframe\">\n",
       "  <thead>\n",
       "    <tr style=\"text-align: right;\">\n",
       "      <th></th>\n",
       "      <th>1</th>\n",
       "      <th>2</th>\n",
       "      <th>3</th>\n",
       "      <th>4</th>\n",
       "      <th>5</th>\n",
       "      <th>6</th>\n",
       "      <th>7</th>\n",
       "      <th>8</th>\n",
       "      <th>9</th>\n",
       "      <th>10</th>\n",
       "      <th>...</th>\n",
       "      <th>91</th>\n",
       "      <th>92</th>\n",
       "      <th>93</th>\n",
       "      <th>94</th>\n",
       "      <th>95</th>\n",
       "      <th>96</th>\n",
       "      <th>97</th>\n",
       "      <th>98</th>\n",
       "      <th>99</th>\n",
       "      <th>100</th>\n",
       "    </tr>\n",
       "    <tr>\n",
       "      <th>0</th>\n",
       "      <th></th>\n",
       "      <th></th>\n",
       "      <th></th>\n",
       "      <th></th>\n",
       "      <th></th>\n",
       "      <th></th>\n",
       "      <th></th>\n",
       "      <th></th>\n",
       "      <th></th>\n",
       "      <th></th>\n",
       "      <th></th>\n",
       "      <th></th>\n",
       "      <th></th>\n",
       "      <th></th>\n",
       "      <th></th>\n",
       "      <th></th>\n",
       "      <th></th>\n",
       "      <th></th>\n",
       "      <th></th>\n",
       "      <th></th>\n",
       "      <th></th>\n",
       "    </tr>\n",
       "  </thead>\n",
       "  <tbody>\n",
       "    <tr>\n",
       "      <th>id6</th>\n",
       "      <td>0.230</td>\n",
       "      <td>4.271</td>\n",
       "      <td>-1.860</td>\n",
       "      <td>3.139</td>\n",
       "      <td>2.185</td>\n",
       "      <td>2.498</td>\n",
       "      <td>2.318</td>\n",
       "      <td>1.343</td>\n",
       "      <td>-0.212</td>\n",
       "      <td>1.851</td>\n",
       "      <td>...</td>\n",
       "      <td>7.804</td>\n",
       "      <td>1.818</td>\n",
       "      <td>0.267</td>\n",
       "      <td>3.757</td>\n",
       "      <td>-0.121</td>\n",
       "      <td>3.140</td>\n",
       "      <td>1.682</td>\n",
       "      <td>-2.240</td>\n",
       "      <td>-0.015</td>\n",
       "      <td>-1.227</td>\n",
       "    </tr>\n",
       "    <tr>\n",
       "      <th>id8</th>\n",
       "      <td>0.256</td>\n",
       "      <td>8.870</td>\n",
       "      <td>0.412</td>\n",
       "      <td>2.352</td>\n",
       "      <td>3.176</td>\n",
       "      <td>6.292</td>\n",
       "      <td>0.904</td>\n",
       "      <td>1.206</td>\n",
       "      <td>-0.017</td>\n",
       "      <td>-0.431</td>\n",
       "      <td>...</td>\n",
       "      <td>9.534</td>\n",
       "      <td>2.898</td>\n",
       "      <td>2.562</td>\n",
       "      <td>2.606</td>\n",
       "      <td>0.781</td>\n",
       "      <td>3.915</td>\n",
       "      <td>-3.332</td>\n",
       "      <td>-2.733</td>\n",
       "      <td>1.892</td>\n",
       "      <td>-2.017</td>\n",
       "    </tr>\n",
       "  </tbody>\n",
       "</table>\n",
       "<p>2 rows × 100 columns</p>\n",
       "</div>"
      ],
      "text/plain": [
       "       1      2      3      4      5      6      7      8      9      10   \\\n",
       "0                                                                           \n",
       "id6  0.230  4.271 -1.860  3.139  2.185  2.498  2.318  1.343 -0.212  1.851   \n",
       "id8  0.256  8.870  0.412  2.352  3.176  6.292  0.904  1.206 -0.017 -0.431   \n",
       "\n",
       "     ...    91     92     93     94     95     96     97     98     99     100  \n",
       "0    ...                                                                        \n",
       "id6  ...  7.804  1.818  0.267  3.757 -0.121  3.140  1.682 -2.240 -0.015 -1.227  \n",
       "id8  ...  9.534  2.898  2.562  2.606  0.781  3.915 -3.332 -2.733  1.892 -2.017  \n",
       "\n",
       "[2 rows x 100 columns]"
      ]
     },
     "execution_count": 83,
     "metadata": {},
     "output_type": "execute_result"
    }
   ],
   "source": [
    "x_train.head(2)"
   ]
  },
  {
   "cell_type": "code",
   "execution_count": 84,
   "metadata": {},
   "outputs": [
    {
     "data": {
      "text/html": [
       "<div>\n",
       "<style scoped>\n",
       "    .dataframe tbody tr th:only-of-type {\n",
       "        vertical-align: middle;\n",
       "    }\n",
       "\n",
       "    .dataframe tbody tr th {\n",
       "        vertical-align: top;\n",
       "    }\n",
       "\n",
       "    .dataframe thead th {\n",
       "        text-align: right;\n",
       "    }\n",
       "</style>\n",
       "<table border=\"1\" class=\"dataframe\">\n",
       "  <thead>\n",
       "    <tr style=\"text-align: right;\">\n",
       "      <th></th>\n",
       "      <th>nN</th>\n",
       "      <th>nS</th>\n",
       "      <th>nO</th>\n",
       "      <th>nX</th>\n",
       "      <th>nBondsD</th>\n",
       "      <th>nBondsT</th>\n",
       "      <th>naRing</th>\n",
       "      <th>nARing</th>\n",
       "    </tr>\n",
       "    <tr>\n",
       "      <th>0</th>\n",
       "      <th></th>\n",
       "      <th></th>\n",
       "      <th></th>\n",
       "      <th></th>\n",
       "      <th></th>\n",
       "      <th></th>\n",
       "      <th></th>\n",
       "      <th></th>\n",
       "    </tr>\n",
       "  </thead>\n",
       "  <tbody>\n",
       "    <tr>\n",
       "      <th>id6</th>\n",
       "      <td>1</td>\n",
       "      <td>0</td>\n",
       "      <td>1</td>\n",
       "      <td>1</td>\n",
       "      <td>1</td>\n",
       "      <td>0</td>\n",
       "      <td>1</td>\n",
       "      <td>1</td>\n",
       "    </tr>\n",
       "    <tr>\n",
       "      <th>id8</th>\n",
       "      <td>0</td>\n",
       "      <td>0</td>\n",
       "      <td>1</td>\n",
       "      <td>0</td>\n",
       "      <td>1</td>\n",
       "      <td>0</td>\n",
       "      <td>1</td>\n",
       "      <td>0</td>\n",
       "    </tr>\n",
       "  </tbody>\n",
       "</table>\n",
       "</div>"
      ],
      "text/plain": [
       "     nN  nS  nO  nX  nBondsD  nBondsT  naRing  nARing\n",
       "0                                                    \n",
       "id6   1   0   1   1        1        0       1       1\n",
       "id8   0   0   1   0        1        0       1       0"
      ]
     },
     "execution_count": 84,
     "metadata": {},
     "output_type": "execute_result"
    }
   ],
   "source": [
    "y_train.head(2)"
   ]
  },
  {
   "cell_type": "code",
   "execution_count": 86,
   "metadata": {},
   "outputs": [
    {
     "data": {
      "text/html": [
       "<div>\n",
       "<style scoped>\n",
       "    .dataframe tbody tr th:only-of-type {\n",
       "        vertical-align: middle;\n",
       "    }\n",
       "\n",
       "    .dataframe tbody tr th {\n",
       "        vertical-align: top;\n",
       "    }\n",
       "\n",
       "    .dataframe thead th {\n",
       "        text-align: right;\n",
       "    }\n",
       "</style>\n",
       "<table border=\"1\" class=\"dataframe\">\n",
       "  <thead>\n",
       "    <tr style=\"text-align: right;\">\n",
       "      <th></th>\n",
       "      <th>num</th>\n",
       "      <th>n_error</th>\n",
       "    </tr>\n",
       "  </thead>\n",
       "  <tbody>\n",
       "    <tr>\n",
       "      <th>11000010</th>\n",
       "      <td>4500</td>\n",
       "      <td>0</td>\n",
       "    </tr>\n",
       "    <tr>\n",
       "      <th>10110011</th>\n",
       "      <td>4500</td>\n",
       "      <td>0</td>\n",
       "    </tr>\n",
       "  </tbody>\n",
       "</table>\n",
       "</div>"
      ],
      "text/plain": [
       "           num  n_error\n",
       "11000010  4500        0\n",
       "10110011  4500        0"
      ]
     },
     "execution_count": 86,
     "metadata": {},
     "output_type": "execute_result"
    }
   ],
   "source": [
    "y_train_class2num = count_y_class(y_df=y_train)\n",
    "y_train_class2num.head(2)"
   ]
  },
  {
   "cell_type": "code",
   "execution_count": 88,
   "metadata": {},
   "outputs": [
    {
     "data": {
      "text/html": [
       "<div>\n",
       "<style scoped>\n",
       "    .dataframe tbody tr th:only-of-type {\n",
       "        vertical-align: middle;\n",
       "    }\n",
       "\n",
       "    .dataframe tbody tr th {\n",
       "        vertical-align: top;\n",
       "    }\n",
       "\n",
       "    .dataframe thead th {\n",
       "        text-align: right;\n",
       "    }\n",
       "</style>\n",
       "<table border=\"1\" class=\"dataframe\">\n",
       "  <thead>\n",
       "    <tr style=\"text-align: right;\">\n",
       "      <th></th>\n",
       "      <th>nN</th>\n",
       "      <th>nS</th>\n",
       "      <th>nO</th>\n",
       "      <th>nX</th>\n",
       "      <th>nBondsD</th>\n",
       "      <th>nBondsT</th>\n",
       "      <th>naRing</th>\n",
       "      <th>nARing</th>\n",
       "    </tr>\n",
       "    <tr>\n",
       "      <th>0</th>\n",
       "      <th></th>\n",
       "      <th></th>\n",
       "      <th></th>\n",
       "      <th></th>\n",
       "      <th></th>\n",
       "      <th></th>\n",
       "      <th></th>\n",
       "      <th></th>\n",
       "    </tr>\n",
       "  </thead>\n",
       "  <tbody>\n",
       "    <tr>\n",
       "      <th>id6</th>\n",
       "      <td>1.0</td>\n",
       "      <td>0.0</td>\n",
       "      <td>1.0</td>\n",
       "      <td>1.0</td>\n",
       "      <td>1.0</td>\n",
       "      <td>0.0</td>\n",
       "      <td>1.0</td>\n",
       "      <td>1.0</td>\n",
       "    </tr>\n",
       "    <tr>\n",
       "      <th>id8</th>\n",
       "      <td>0.0</td>\n",
       "      <td>0.0</td>\n",
       "      <td>1.0</td>\n",
       "      <td>0.0</td>\n",
       "      <td>1.0</td>\n",
       "      <td>0.0</td>\n",
       "      <td>1.0</td>\n",
       "      <td>0.0</td>\n",
       "    </tr>\n",
       "  </tbody>\n",
       "</table>\n",
       "</div>"
      ],
      "text/plain": [
       "      nN   nS   nO   nX  nBondsD  nBondsT  naRing  nARing\n",
       "0                                                        \n",
       "id6  1.0  0.0  1.0  1.0      1.0      0.0     1.0     1.0\n",
       "id8  0.0  0.0  1.0  0.0      1.0      0.0     1.0     0.0"
      ]
     },
     "execution_count": 88,
     "metadata": {},
     "output_type": "execute_result"
    }
   ],
   "source": [
    "y_train_pred_bool = predict_y(x=x_train, model=model)\n",
    "y_train_pred = pd.DataFrame(data=y_train_pred_bool, index=y_train.index, columns=y_train.columns)\n",
    "y_train_pred.head(2)"
   ]
  },
  {
   "cell_type": "code",
   "execution_count": 90,
   "metadata": {},
   "outputs": [
    {
     "data": {
      "text/html": [
       "<div>\n",
       "<style scoped>\n",
       "    .dataframe tbody tr th:only-of-type {\n",
       "        vertical-align: middle;\n",
       "    }\n",
       "\n",
       "    .dataframe tbody tr th {\n",
       "        vertical-align: top;\n",
       "    }\n",
       "\n",
       "    .dataframe thead th {\n",
       "        text-align: right;\n",
       "    }\n",
       "</style>\n",
       "<table border=\"1\" class=\"dataframe\">\n",
       "  <thead>\n",
       "    <tr style=\"text-align: right;\">\n",
       "      <th></th>\n",
       "      <th>num</th>\n",
       "      <th>n_error</th>\n",
       "    </tr>\n",
       "  </thead>\n",
       "  <tbody>\n",
       "    <tr>\n",
       "      <th>11000010</th>\n",
       "      <td>4500</td>\n",
       "      <td>74</td>\n",
       "    </tr>\n",
       "    <tr>\n",
       "      <th>10110011</th>\n",
       "      <td>4500</td>\n",
       "      <td>49</td>\n",
       "    </tr>\n",
       "    <tr>\n",
       "      <th>10010010</th>\n",
       "      <td>4500</td>\n",
       "      <td>15</td>\n",
       "    </tr>\n",
       "    <tr>\n",
       "      <th>11101001</th>\n",
       "      <td>4500</td>\n",
       "      <td>2104</td>\n",
       "    </tr>\n",
       "    <tr>\n",
       "      <th>11100011</th>\n",
       "      <td>4500</td>\n",
       "      <td>108</td>\n",
       "    </tr>\n",
       "  </tbody>\n",
       "</table>\n",
       "</div>"
      ],
      "text/plain": [
       "           num  n_error\n",
       "11000010  4500       74\n",
       "10110011  4500       49\n",
       "10010010  4500       15\n",
       "11101001  4500     2104\n",
       "11100011  4500      108"
      ]
     },
     "execution_count": 90,
     "metadata": {},
     "output_type": "execute_result"
    }
   ],
   "source": [
    "y_train_class2num2 = count_pred_error_in_class(y=y_train, y_pred=y_train_pred)\n",
    "y_train_class2num2.head()"
   ]
  },
  {
   "cell_type": "code",
   "execution_count": 91,
   "metadata": {},
   "outputs": [
    {
     "data": {
      "text/plain": [
       "num        155970\n",
       "n_error      8554\n",
       "dtype: int64"
      ]
     },
     "execution_count": 91,
     "metadata": {},
     "output_type": "execute_result"
    }
   ],
   "source": [
    "y_train_class2num2.sum()"
   ]
  },
  {
   "cell_type": "markdown",
   "metadata": {},
   "source": [
    "### test"
   ]
  },
  {
   "cell_type": "code",
   "execution_count": 92,
   "metadata": {},
   "outputs": [],
   "source": [
    "xy_test = read_xy(x_fp='../big-data/moses_dataset/nn/x_test_set_mol2vec.csv', y_fp='../big-data/moses_dataset/nn/y_test.csv')\n",
    "x_test = xy_test['x']\n",
    "y_test = xy_test['y']"
   ]
  },
  {
   "cell_type": "code",
   "execution_count": 93,
   "metadata": {},
   "outputs": [
    {
     "data": {
      "text/html": [
       "<div>\n",
       "<style scoped>\n",
       "    .dataframe tbody tr th:only-of-type {\n",
       "        vertical-align: middle;\n",
       "    }\n",
       "\n",
       "    .dataframe tbody tr th {\n",
       "        vertical-align: top;\n",
       "    }\n",
       "\n",
       "    .dataframe thead th {\n",
       "        text-align: right;\n",
       "    }\n",
       "</style>\n",
       "<table border=\"1\" class=\"dataframe\">\n",
       "  <thead>\n",
       "    <tr style=\"text-align: right;\">\n",
       "      <th></th>\n",
       "      <th>1</th>\n",
       "      <th>2</th>\n",
       "      <th>3</th>\n",
       "      <th>4</th>\n",
       "      <th>5</th>\n",
       "      <th>6</th>\n",
       "      <th>7</th>\n",
       "      <th>8</th>\n",
       "      <th>9</th>\n",
       "      <th>10</th>\n",
       "      <th>...</th>\n",
       "      <th>91</th>\n",
       "      <th>92</th>\n",
       "      <th>93</th>\n",
       "      <th>94</th>\n",
       "      <th>95</th>\n",
       "      <th>96</th>\n",
       "      <th>97</th>\n",
       "      <th>98</th>\n",
       "      <th>99</th>\n",
       "      <th>100</th>\n",
       "    </tr>\n",
       "    <tr>\n",
       "      <th>0</th>\n",
       "      <th></th>\n",
       "      <th></th>\n",
       "      <th></th>\n",
       "      <th></th>\n",
       "      <th></th>\n",
       "      <th></th>\n",
       "      <th></th>\n",
       "      <th></th>\n",
       "      <th></th>\n",
       "      <th></th>\n",
       "      <th></th>\n",
       "      <th></th>\n",
       "      <th></th>\n",
       "      <th></th>\n",
       "      <th></th>\n",
       "      <th></th>\n",
       "      <th></th>\n",
       "      <th></th>\n",
       "      <th></th>\n",
       "      <th></th>\n",
       "      <th></th>\n",
       "    </tr>\n",
       "  </thead>\n",
       "  <tbody>\n",
       "    <tr>\n",
       "      <th>id27</th>\n",
       "      <td>0.794</td>\n",
       "      <td>7.313</td>\n",
       "      <td>-1.258</td>\n",
       "      <td>2.849</td>\n",
       "      <td>2.937</td>\n",
       "      <td>3.976</td>\n",
       "      <td>1.416</td>\n",
       "      <td>1.870</td>\n",
       "      <td>0.279</td>\n",
       "      <td>1.028</td>\n",
       "      <td>...</td>\n",
       "      <td>10.392</td>\n",
       "      <td>2.231</td>\n",
       "      <td>1.297</td>\n",
       "      <td>3.920</td>\n",
       "      <td>-0.440</td>\n",
       "      <td>4.393</td>\n",
       "      <td>0.002</td>\n",
       "      <td>-3.069</td>\n",
       "      <td>0.695</td>\n",
       "      <td>-1.967</td>\n",
       "    </tr>\n",
       "    <tr>\n",
       "      <th>id39</th>\n",
       "      <td>1.467</td>\n",
       "      <td>3.095</td>\n",
       "      <td>-2.830</td>\n",
       "      <td>2.447</td>\n",
       "      <td>2.140</td>\n",
       "      <td>1.325</td>\n",
       "      <td>2.328</td>\n",
       "      <td>1.323</td>\n",
       "      <td>-0.670</td>\n",
       "      <td>2.027</td>\n",
       "      <td>...</td>\n",
       "      <td>7.120</td>\n",
       "      <td>1.221</td>\n",
       "      <td>0.689</td>\n",
       "      <td>4.305</td>\n",
       "      <td>-0.615</td>\n",
       "      <td>4.696</td>\n",
       "      <td>2.862</td>\n",
       "      <td>-1.267</td>\n",
       "      <td>-0.731</td>\n",
       "      <td>-1.225</td>\n",
       "    </tr>\n",
       "  </tbody>\n",
       "</table>\n",
       "<p>2 rows × 100 columns</p>\n",
       "</div>"
      ],
      "text/plain": [
       "        1      2      3      4      5      6      7      8      9      10   \\\n",
       "0                                                                            \n",
       "id27  0.794  7.313 -1.258  2.849  2.937  3.976  1.416  1.870  0.279  1.028   \n",
       "id39  1.467  3.095 -2.830  2.447  2.140  1.325  2.328  1.323 -0.670  2.027   \n",
       "\n",
       "      ...     91     92     93     94     95     96     97     98     99   \\\n",
       "0     ...                                                                   \n",
       "id27  ...  10.392  2.231  1.297  3.920 -0.440  4.393  0.002 -3.069  0.695   \n",
       "id39  ...   7.120  1.221  0.689  4.305 -0.615  4.696  2.862 -1.267 -0.731   \n",
       "\n",
       "        100  \n",
       "0            \n",
       "id27 -1.967  \n",
       "id39 -1.225  \n",
       "\n",
       "[2 rows x 100 columns]"
      ]
     },
     "execution_count": 93,
     "metadata": {},
     "output_type": "execute_result"
    }
   ],
   "source": [
    "x_test.head(2)"
   ]
  },
  {
   "cell_type": "code",
   "execution_count": 94,
   "metadata": {},
   "outputs": [
    {
     "data": {
      "text/html": [
       "<div>\n",
       "<style scoped>\n",
       "    .dataframe tbody tr th:only-of-type {\n",
       "        vertical-align: middle;\n",
       "    }\n",
       "\n",
       "    .dataframe tbody tr th {\n",
       "        vertical-align: top;\n",
       "    }\n",
       "\n",
       "    .dataframe thead th {\n",
       "        text-align: right;\n",
       "    }\n",
       "</style>\n",
       "<table border=\"1\" class=\"dataframe\">\n",
       "  <thead>\n",
       "    <tr style=\"text-align: right;\">\n",
       "      <th></th>\n",
       "      <th>nN</th>\n",
       "      <th>nS</th>\n",
       "      <th>nO</th>\n",
       "      <th>nX</th>\n",
       "      <th>nBondsD</th>\n",
       "      <th>nBondsT</th>\n",
       "      <th>naRing</th>\n",
       "      <th>nARing</th>\n",
       "    </tr>\n",
       "    <tr>\n",
       "      <th>0</th>\n",
       "      <th></th>\n",
       "      <th></th>\n",
       "      <th></th>\n",
       "      <th></th>\n",
       "      <th></th>\n",
       "      <th></th>\n",
       "      <th></th>\n",
       "      <th></th>\n",
       "    </tr>\n",
       "  </thead>\n",
       "  <tbody>\n",
       "    <tr>\n",
       "      <th>id27</th>\n",
       "      <td>0</td>\n",
       "      <td>0</td>\n",
       "      <td>1</td>\n",
       "      <td>0</td>\n",
       "      <td>1</td>\n",
       "      <td>0</td>\n",
       "      <td>1</td>\n",
       "      <td>0</td>\n",
       "    </tr>\n",
       "    <tr>\n",
       "      <th>id39</th>\n",
       "      <td>1</td>\n",
       "      <td>0</td>\n",
       "      <td>1</td>\n",
       "      <td>0</td>\n",
       "      <td>1</td>\n",
       "      <td>1</td>\n",
       "      <td>1</td>\n",
       "      <td>1</td>\n",
       "    </tr>\n",
       "  </tbody>\n",
       "</table>\n",
       "</div>"
      ],
      "text/plain": [
       "      nN  nS  nO  nX  nBondsD  nBondsT  naRing  nARing\n",
       "0                                                     \n",
       "id27   0   0   1   0        1        0       1       0\n",
       "id39   1   0   1   0        1        1       1       1"
      ]
     },
     "execution_count": 94,
     "metadata": {},
     "output_type": "execute_result"
    }
   ],
   "source": [
    "y_test.head(2)"
   ]
  },
  {
   "cell_type": "code",
   "execution_count": 96,
   "metadata": {},
   "outputs": [
    {
     "data": {
      "text/html": [
       "<div>\n",
       "<style scoped>\n",
       "    .dataframe tbody tr th:only-of-type {\n",
       "        vertical-align: middle;\n",
       "    }\n",
       "\n",
       "    .dataframe tbody tr th {\n",
       "        vertical-align: top;\n",
       "    }\n",
       "\n",
       "    .dataframe thead th {\n",
       "        text-align: right;\n",
       "    }\n",
       "</style>\n",
       "<table border=\"1\" class=\"dataframe\">\n",
       "  <thead>\n",
       "    <tr style=\"text-align: right;\">\n",
       "      <th></th>\n",
       "      <th>nN</th>\n",
       "      <th>nS</th>\n",
       "      <th>nO</th>\n",
       "      <th>nX</th>\n",
       "      <th>nBondsD</th>\n",
       "      <th>nBondsT</th>\n",
       "      <th>naRing</th>\n",
       "      <th>nARing</th>\n",
       "    </tr>\n",
       "    <tr>\n",
       "      <th>0</th>\n",
       "      <th></th>\n",
       "      <th></th>\n",
       "      <th></th>\n",
       "      <th></th>\n",
       "      <th></th>\n",
       "      <th></th>\n",
       "      <th></th>\n",
       "      <th></th>\n",
       "    </tr>\n",
       "  </thead>\n",
       "  <tbody>\n",
       "    <tr>\n",
       "      <th>id27</th>\n",
       "      <td>0.0</td>\n",
       "      <td>0.0</td>\n",
       "      <td>1.0</td>\n",
       "      <td>0.0</td>\n",
       "      <td>1.0</td>\n",
       "      <td>0.0</td>\n",
       "      <td>1.0</td>\n",
       "      <td>0.0</td>\n",
       "    </tr>\n",
       "    <tr>\n",
       "      <th>id39</th>\n",
       "      <td>1.0</td>\n",
       "      <td>0.0</td>\n",
       "      <td>1.0</td>\n",
       "      <td>0.0</td>\n",
       "      <td>1.0</td>\n",
       "      <td>1.0</td>\n",
       "      <td>1.0</td>\n",
       "      <td>0.0</td>\n",
       "    </tr>\n",
       "  </tbody>\n",
       "</table>\n",
       "</div>"
      ],
      "text/plain": [
       "       nN   nS   nO   nX  nBondsD  nBondsT  naRing  nARing\n",
       "0                                                         \n",
       "id27  0.0  0.0  1.0  0.0      1.0      0.0     1.0     0.0\n",
       "id39  1.0  0.0  1.0  0.0      1.0      1.0     1.0     0.0"
      ]
     },
     "execution_count": 96,
     "metadata": {},
     "output_type": "execute_result"
    }
   ],
   "source": [
    "y_test_pred = predict_y(x=x_test, model=model)\n",
    "y_test_pred = pd.DataFrame(data=y_test_pred, index=y_test.index, columns=y_test.columns)\n",
    "y_test_pred.head(2)"
   ]
  },
  {
   "cell_type": "code",
   "execution_count": 97,
   "metadata": {},
   "outputs": [
    {
     "data": {
      "text/html": [
       "<div>\n",
       "<style scoped>\n",
       "    .dataframe tbody tr th:only-of-type {\n",
       "        vertical-align: middle;\n",
       "    }\n",
       "\n",
       "    .dataframe tbody tr th {\n",
       "        vertical-align: top;\n",
       "    }\n",
       "\n",
       "    .dataframe thead th {\n",
       "        text-align: right;\n",
       "    }\n",
       "</style>\n",
       "<table border=\"1\" class=\"dataframe\">\n",
       "  <thead>\n",
       "    <tr style=\"text-align: right;\">\n",
       "      <th></th>\n",
       "      <th>num</th>\n",
       "      <th>n_error</th>\n",
       "    </tr>\n",
       "  </thead>\n",
       "  <tbody>\n",
       "    <tr>\n",
       "      <th>10111111</th>\n",
       "      <td>5000</td>\n",
       "      <td>2227</td>\n",
       "    </tr>\n",
       "    <tr>\n",
       "      <th>11101010</th>\n",
       "      <td>5000</td>\n",
       "      <td>570</td>\n",
       "    </tr>\n",
       "    <tr>\n",
       "      <th>10101111</th>\n",
       "      <td>5000</td>\n",
       "      <td>1280</td>\n",
       "    </tr>\n",
       "    <tr>\n",
       "      <th>10101010</th>\n",
       "      <td>5000</td>\n",
       "      <td>345</td>\n",
       "    </tr>\n",
       "    <tr>\n",
       "      <th>11000011</th>\n",
       "      <td>3826</td>\n",
       "      <td>717</td>\n",
       "    </tr>\n",
       "  </tbody>\n",
       "</table>\n",
       "</div>"
      ],
      "text/plain": [
       "           num  n_error\n",
       "10111111  5000     2227\n",
       "11101010  5000      570\n",
       "10101111  5000     1280\n",
       "10101010  5000      345\n",
       "11000011  3826      717"
      ]
     },
     "execution_count": 97,
     "metadata": {},
     "output_type": "execute_result"
    }
   ],
   "source": [
    "y_test_class2num = count_pred_error_in_class(y=y_test, y_pred=y_test_pred)\n",
    "y_test_class2num.head()"
   ]
  },
  {
   "cell_type": "code",
   "execution_count": 98,
   "metadata": {},
   "outputs": [
    {
     "data": {
      "text/plain": [
       "num        48207\n",
       "n_error     7821\n",
       "dtype: int64"
      ]
     },
     "execution_count": 98,
     "metadata": {},
     "output_type": "execute_result"
    }
   ],
   "source": [
    "y_test_class2num.sum()"
   ]
  },
  {
   "cell_type": "code",
   "execution_count": 99,
   "metadata": {},
   "outputs": [
    {
     "data": {
      "text/plain": [
       "0.16223784927500157"
      ]
     },
     "execution_count": 99,
     "metadata": {},
     "output_type": "execute_result"
    }
   ],
   "source": [
    "7821 / 48207"
   ]
  },
  {
   "cell_type": "code",
   "execution_count": 101,
   "metadata": {},
   "outputs": [],
   "source": [
    "y_test_class2num['class_in_train'] = 0\n",
    "y_test_class2num.loc[y_test_class2num.index.isin(y_train_class2num2.index), 'class_in_train'] = 1"
   ]
  },
  {
   "cell_type": "code",
   "execution_count": 105,
   "metadata": {},
   "outputs": [],
   "source": [
    "y_test_class2num['accuray_in_each_class'] = 1 - y_test_class2num['n_error'] / y_test_class2num['num']"
   ]
  },
  {
   "cell_type": "code",
   "execution_count": 106,
   "metadata": {},
   "outputs": [
    {
     "data": {
      "text/html": [
       "<div>\n",
       "<style scoped>\n",
       "    .dataframe tbody tr th:only-of-type {\n",
       "        vertical-align: middle;\n",
       "    }\n",
       "\n",
       "    .dataframe tbody tr th {\n",
       "        vertical-align: top;\n",
       "    }\n",
       "\n",
       "    .dataframe thead th {\n",
       "        text-align: right;\n",
       "    }\n",
       "</style>\n",
       "<table border=\"1\" class=\"dataframe\">\n",
       "  <thead>\n",
       "    <tr style=\"text-align: right;\">\n",
       "      <th></th>\n",
       "      <th>num</th>\n",
       "      <th>n_error</th>\n",
       "      <th>class_in_train</th>\n",
       "      <th>accuray_in_each_class</th>\n",
       "    </tr>\n",
       "  </thead>\n",
       "  <tbody>\n",
       "    <tr>\n",
       "      <th>10111111</th>\n",
       "      <td>5000</td>\n",
       "      <td>2227</td>\n",
       "      <td>0</td>\n",
       "      <td>0.554600</td>\n",
       "    </tr>\n",
       "    <tr>\n",
       "      <th>11101010</th>\n",
       "      <td>5000</td>\n",
       "      <td>570</td>\n",
       "      <td>0</td>\n",
       "      <td>0.886000</td>\n",
       "    </tr>\n",
       "    <tr>\n",
       "      <th>10101111</th>\n",
       "      <td>5000</td>\n",
       "      <td>1280</td>\n",
       "      <td>0</td>\n",
       "      <td>0.744000</td>\n",
       "    </tr>\n",
       "    <tr>\n",
       "      <th>10101010</th>\n",
       "      <td>5000</td>\n",
       "      <td>345</td>\n",
       "      <td>0</td>\n",
       "      <td>0.931000</td>\n",
       "    </tr>\n",
       "    <tr>\n",
       "      <th>11000011</th>\n",
       "      <td>3826</td>\n",
       "      <td>717</td>\n",
       "      <td>0</td>\n",
       "      <td>0.812598</td>\n",
       "    </tr>\n",
       "  </tbody>\n",
       "</table>\n",
       "</div>"
      ],
      "text/plain": [
       "           num  n_error  class_in_train  accuray_in_each_class\n",
       "10111111  5000     2227               0               0.554600\n",
       "11101010  5000      570               0               0.886000\n",
       "10101111  5000     1280               0               0.744000\n",
       "10101010  5000      345               0               0.931000\n",
       "11000011  3826      717               0               0.812598"
      ]
     },
     "execution_count": 106,
     "metadata": {},
     "output_type": "execute_result"
    }
   ],
   "source": [
    "y_test_class2num.head()"
   ]
  },
  {
   "cell_type": "code",
   "execution_count": 107,
   "metadata": {},
   "outputs": [],
   "source": [
    "y_test_class2num.to_csv('../big-data/moses_dataset/nn/y_test_class2num.csv')"
   ]
  },
  {
   "cell_type": "markdown",
   "metadata": {},
   "source": [
    "### embedding vector"
   ]
  },
  {
   "cell_type": "code",
   "execution_count": 108,
   "metadata": {},
   "outputs": [
    {
     "name": "stdout",
     "output_type": "stream",
     "text": [
      "WARNING:tensorflow:No training configuration found in save file: the model was *not* compiled. Compile it manually.\n"
     ]
    },
    {
     "data": {
      "text/plain": [
       "<tensorflow.python.keras.engine.sequential.Sequential at 0x7fd5190530b8>"
      ]
     },
     "execution_count": 108,
     "metadata": {},
     "output_type": "execute_result"
    }
   ],
   "source": [
    "m_part1 = keras.models.load_model('../big-data/moses_dataset/nn/m_part1.h5')\n",
    "m_part1"
   ]
  },
  {
   "cell_type": "code",
   "execution_count": 109,
   "metadata": {},
   "outputs": [
    {
     "data": {
      "text/plain": [
       "(204177, 100)"
      ]
     },
     "execution_count": 109,
     "metadata": {},
     "output_type": "execute_result"
    }
   ],
   "source": [
    "x_train_test = x_train.append(x_test)\n",
    "x_train_test.shape"
   ]
  },
  {
   "cell_type": "code",
   "execution_count": 118,
   "metadata": {},
   "outputs": [
    {
     "data": {
      "text/plain": [
       "numpy.ndarray"
      ]
     },
     "execution_count": 118,
     "metadata": {},
     "output_type": "execute_result"
    }
   ],
   "source": [
    "x_embedding = m_part1.predict(x_train_test)\n",
    "type(x_embedding)"
   ]
  },
  {
   "cell_type": "code",
   "execution_count": 119,
   "metadata": {},
   "outputs": [
    {
     "data": {
      "text/html": [
       "<div>\n",
       "<style scoped>\n",
       "    .dataframe tbody tr th:only-of-type {\n",
       "        vertical-align: middle;\n",
       "    }\n",
       "\n",
       "    .dataframe tbody tr th {\n",
       "        vertical-align: top;\n",
       "    }\n",
       "\n",
       "    .dataframe thead th {\n",
       "        text-align: right;\n",
       "    }\n",
       "</style>\n",
       "<table border=\"1\" class=\"dataframe\">\n",
       "  <thead>\n",
       "    <tr style=\"text-align: right;\">\n",
       "      <th></th>\n",
       "      <th>0</th>\n",
       "      <th>1</th>\n",
       "      <th>2</th>\n",
       "      <th>3</th>\n",
       "      <th>4</th>\n",
       "      <th>5</th>\n",
       "      <th>6</th>\n",
       "      <th>7</th>\n",
       "      <th>8</th>\n",
       "      <th>9</th>\n",
       "      <th>...</th>\n",
       "      <th>20</th>\n",
       "      <th>21</th>\n",
       "      <th>22</th>\n",
       "      <th>23</th>\n",
       "      <th>24</th>\n",
       "      <th>25</th>\n",
       "      <th>26</th>\n",
       "      <th>27</th>\n",
       "      <th>28</th>\n",
       "      <th>29</th>\n",
       "    </tr>\n",
       "    <tr>\n",
       "      <th>0</th>\n",
       "      <th></th>\n",
       "      <th></th>\n",
       "      <th></th>\n",
       "      <th></th>\n",
       "      <th></th>\n",
       "      <th></th>\n",
       "      <th></th>\n",
       "      <th></th>\n",
       "      <th></th>\n",
       "      <th></th>\n",
       "      <th></th>\n",
       "      <th></th>\n",
       "      <th></th>\n",
       "      <th></th>\n",
       "      <th></th>\n",
       "      <th></th>\n",
       "      <th></th>\n",
       "      <th></th>\n",
       "      <th></th>\n",
       "      <th></th>\n",
       "      <th></th>\n",
       "    </tr>\n",
       "  </thead>\n",
       "  <tbody>\n",
       "    <tr>\n",
       "      <th>id6</th>\n",
       "      <td>0.0</td>\n",
       "      <td>67.581932</td>\n",
       "      <td>4.033874</td>\n",
       "      <td>0.000000</td>\n",
       "      <td>0.000000</td>\n",
       "      <td>0.000000</td>\n",
       "      <td>0.000000</td>\n",
       "      <td>0.020211</td>\n",
       "      <td>1.418569</td>\n",
       "      <td>0.906741</td>\n",
       "      <td>...</td>\n",
       "      <td>6.702059</td>\n",
       "      <td>0.000000</td>\n",
       "      <td>0.0</td>\n",
       "      <td>0.0</td>\n",
       "      <td>0.000000</td>\n",
       "      <td>0.0</td>\n",
       "      <td>1.863779</td>\n",
       "      <td>2.241956</td>\n",
       "      <td>0.0</td>\n",
       "      <td>0.000000</td>\n",
       "    </tr>\n",
       "    <tr>\n",
       "      <th>id8</th>\n",
       "      <td>0.0</td>\n",
       "      <td>80.029938</td>\n",
       "      <td>0.121835</td>\n",
       "      <td>6.874247</td>\n",
       "      <td>2.472669</td>\n",
       "      <td>0.980489</td>\n",
       "      <td>1.512571</td>\n",
       "      <td>0.000000</td>\n",
       "      <td>0.987258</td>\n",
       "      <td>2.906722</td>\n",
       "      <td>...</td>\n",
       "      <td>10.012863</td>\n",
       "      <td>6.625997</td>\n",
       "      <td>0.0</td>\n",
       "      <td>0.0</td>\n",
       "      <td>0.135132</td>\n",
       "      <td>0.0</td>\n",
       "      <td>2.963767</td>\n",
       "      <td>3.289106</td>\n",
       "      <td>0.0</td>\n",
       "      <td>1.881185</td>\n",
       "    </tr>\n",
       "  </tbody>\n",
       "</table>\n",
       "<p>2 rows × 30 columns</p>\n",
       "</div>"
      ],
      "text/plain": [
       "      0          1         2         3         4         5         6   \\\n",
       "0                                                                       \n",
       "id6  0.0  67.581932  4.033874  0.000000  0.000000  0.000000  0.000000   \n",
       "id8  0.0  80.029938  0.121835  6.874247  2.472669  0.980489  1.512571   \n",
       "\n",
       "           7         8         9   ...         20        21   22   23  \\\n",
       "0                                  ...                                  \n",
       "id6  0.020211  1.418569  0.906741  ...   6.702059  0.000000  0.0  0.0   \n",
       "id8  0.000000  0.987258  2.906722  ...  10.012863  6.625997  0.0  0.0   \n",
       "\n",
       "           24   25        26        27   28        29  \n",
       "0                                                      \n",
       "id6  0.000000  0.0  1.863779  2.241956  0.0  0.000000  \n",
       "id8  0.135132  0.0  2.963767  3.289106  0.0  1.881185  \n",
       "\n",
       "[2 rows x 30 columns]"
      ]
     },
     "execution_count": 119,
     "metadata": {},
     "output_type": "execute_result"
    }
   ],
   "source": [
    "x_embedding = pd.DataFrame(data=x_embedding, index=x_train_test.index)\n",
    "x_embedding.head(2)"
   ]
  },
  {
   "cell_type": "markdown",
   "metadata": {},
   "source": [
    "##### fragment embedding"
   ]
  },
  {
   "cell_type": "code",
   "execution_count": 245,
   "metadata": {},
   "outputs": [
    {
     "data": {
      "text/html": [
       "<div>\n",
       "<style scoped>\n",
       "    .dataframe tbody tr th:only-of-type {\n",
       "        vertical-align: middle;\n",
       "    }\n",
       "\n",
       "    .dataframe tbody tr th {\n",
       "        vertical-align: top;\n",
       "    }\n",
       "\n",
       "    .dataframe thead th {\n",
       "        text-align: right;\n",
       "    }\n",
       "</style>\n",
       "<table border=\"1\" class=\"dataframe\">\n",
       "  <thead>\n",
       "    <tr style=\"text-align: right;\">\n",
       "      <th></th>\n",
       "      <th>0</th>\n",
       "      <th>1</th>\n",
       "      <th>2</th>\n",
       "      <th>3</th>\n",
       "      <th>4</th>\n",
       "      <th>5</th>\n",
       "      <th>6</th>\n",
       "      <th>7</th>\n",
       "      <th>8</th>\n",
       "      <th>9</th>\n",
       "      <th>...</th>\n",
       "      <th>90</th>\n",
       "      <th>91</th>\n",
       "      <th>92</th>\n",
       "      <th>93</th>\n",
       "      <th>94</th>\n",
       "      <th>95</th>\n",
       "      <th>96</th>\n",
       "      <th>97</th>\n",
       "      <th>98</th>\n",
       "      <th>99</th>\n",
       "    </tr>\n",
       "    <tr>\n",
       "      <th>fragment</th>\n",
       "      <th></th>\n",
       "      <th></th>\n",
       "      <th></th>\n",
       "      <th></th>\n",
       "      <th></th>\n",
       "      <th></th>\n",
       "      <th></th>\n",
       "      <th></th>\n",
       "      <th></th>\n",
       "      <th></th>\n",
       "      <th></th>\n",
       "      <th></th>\n",
       "      <th></th>\n",
       "      <th></th>\n",
       "      <th></th>\n",
       "      <th></th>\n",
       "      <th></th>\n",
       "      <th></th>\n",
       "      <th></th>\n",
       "      <th></th>\n",
       "      <th></th>\n",
       "    </tr>\n",
       "  </thead>\n",
       "  <tbody>\n",
       "    <tr>\n",
       "      <th>CC</th>\n",
       "      <td>0.102366</td>\n",
       "      <td>0.236778</td>\n",
       "      <td>-0.212418</td>\n",
       "      <td>0.097849</td>\n",
       "      <td>0.353949</td>\n",
       "      <td>0.066136</td>\n",
       "      <td>0.251520</td>\n",
       "      <td>0.141767</td>\n",
       "      <td>-0.135168</td>\n",
       "      <td>0.230127</td>\n",
       "      <td>...</td>\n",
       "      <td>0.707791</td>\n",
       "      <td>-0.000694</td>\n",
       "      <td>-0.055997</td>\n",
       "      <td>0.399240</td>\n",
       "      <td>-0.149455</td>\n",
       "      <td>0.417486</td>\n",
       "      <td>0.369599</td>\n",
       "      <td>-0.189464</td>\n",
       "      <td>-0.133221</td>\n",
       "      <td>0.059110</td>\n",
       "    </tr>\n",
       "    <tr>\n",
       "      <th>CN</th>\n",
       "      <td>0.135850</td>\n",
       "      <td>0.226165</td>\n",
       "      <td>-0.434924</td>\n",
       "      <td>0.303119</td>\n",
       "      <td>-0.014223</td>\n",
       "      <td>0.132242</td>\n",
       "      <td>0.368385</td>\n",
       "      <td>0.068198</td>\n",
       "      <td>-0.059371</td>\n",
       "      <td>0.287510</td>\n",
       "      <td>...</td>\n",
       "      <td>0.617289</td>\n",
       "      <td>-0.113810</td>\n",
       "      <td>0.043899</td>\n",
       "      <td>0.385367</td>\n",
       "      <td>0.093859</td>\n",
       "      <td>0.156435</td>\n",
       "      <td>0.381115</td>\n",
       "      <td>-0.142981</td>\n",
       "      <td>0.027194</td>\n",
       "      <td>-0.063204</td>\n",
       "    </tr>\n",
       "  </tbody>\n",
       "</table>\n",
       "<p>2 rows × 100 columns</p>\n",
       "</div>"
      ],
      "text/plain": [
       "                 0         1         2         3         4         5  \\\n",
       "fragment                                                               \n",
       "CC        0.102366  0.236778 -0.212418  0.097849  0.353949  0.066136   \n",
       "CN        0.135850  0.226165 -0.434924  0.303119 -0.014223  0.132242   \n",
       "\n",
       "                 6         7         8         9  ...        90        91  \\\n",
       "fragment                                          ...                       \n",
       "CC        0.251520  0.141767 -0.135168  0.230127  ...  0.707791 -0.000694   \n",
       "CN        0.368385  0.068198 -0.059371  0.287510  ...  0.617289 -0.113810   \n",
       "\n",
       "                92        93        94        95        96        97  \\\n",
       "fragment                                                               \n",
       "CC       -0.055997  0.399240 -0.149455  0.417486  0.369599 -0.189464   \n",
       "CN        0.043899  0.385367  0.093859  0.156435  0.381115 -0.142981   \n",
       "\n",
       "                98        99  \n",
       "fragment                      \n",
       "CC       -0.133221  0.059110  \n",
       "CN        0.027194 -0.063204  \n",
       "\n",
       "[2 rows x 100 columns]"
      ]
     },
     "execution_count": 245,
     "metadata": {},
     "output_type": "execute_result"
    }
   ],
   "source": [
    "frag2vec = pd.read_csv('../big-data/moses_dataset/best_model/sub_ws_4_minn_1_maxn_2/frag2vec_ws_4_minn_1_maxn_2.csv', index_col='fragment')\n",
    "frag2vec.head(2)"
   ]
  },
  {
   "cell_type": "code",
   "execution_count": 246,
   "metadata": {},
   "outputs": [
    {
     "data": {
      "text/html": [
       "<div>\n",
       "<style scoped>\n",
       "    .dataframe tbody tr th:only-of-type {\n",
       "        vertical-align: middle;\n",
       "    }\n",
       "\n",
       "    .dataframe tbody tr th {\n",
       "        vertical-align: top;\n",
       "    }\n",
       "\n",
       "    .dataframe thead th {\n",
       "        text-align: right;\n",
       "    }\n",
       "</style>\n",
       "<table border=\"1\" class=\"dataframe\">\n",
       "  <thead>\n",
       "    <tr style=\"text-align: right;\">\n",
       "      <th></th>\n",
       "      <th>0</th>\n",
       "      <th>1</th>\n",
       "      <th>2</th>\n",
       "      <th>3</th>\n",
       "      <th>4</th>\n",
       "      <th>5</th>\n",
       "      <th>6</th>\n",
       "      <th>7</th>\n",
       "      <th>8</th>\n",
       "      <th>9</th>\n",
       "      <th>...</th>\n",
       "      <th>20</th>\n",
       "      <th>21</th>\n",
       "      <th>22</th>\n",
       "      <th>23</th>\n",
       "      <th>24</th>\n",
       "      <th>25</th>\n",
       "      <th>26</th>\n",
       "      <th>27</th>\n",
       "      <th>28</th>\n",
       "      <th>29</th>\n",
       "    </tr>\n",
       "    <tr>\n",
       "      <th>fragment</th>\n",
       "      <th></th>\n",
       "      <th></th>\n",
       "      <th></th>\n",
       "      <th></th>\n",
       "      <th></th>\n",
       "      <th></th>\n",
       "      <th></th>\n",
       "      <th></th>\n",
       "      <th></th>\n",
       "      <th></th>\n",
       "      <th></th>\n",
       "      <th></th>\n",
       "      <th></th>\n",
       "      <th></th>\n",
       "      <th></th>\n",
       "      <th></th>\n",
       "      <th></th>\n",
       "      <th></th>\n",
       "      <th></th>\n",
       "      <th></th>\n",
       "      <th></th>\n",
       "    </tr>\n",
       "  </thead>\n",
       "  <tbody>\n",
       "    <tr>\n",
       "      <th>CC</th>\n",
       "      <td>0.879899</td>\n",
       "      <td>4.766980</td>\n",
       "      <td>0.484570</td>\n",
       "      <td>0.553562</td>\n",
       "      <td>0.671363</td>\n",
       "      <td>1.946618</td>\n",
       "      <td>1.211061</td>\n",
       "      <td>0.049551</td>\n",
       "      <td>0.000000</td>\n",
       "      <td>1.383978</td>\n",
       "      <td>...</td>\n",
       "      <td>0.0</td>\n",
       "      <td>1.430827</td>\n",
       "      <td>0.243160</td>\n",
       "      <td>0.453422</td>\n",
       "      <td>0.064221</td>\n",
       "      <td>0.418074</td>\n",
       "      <td>0.0</td>\n",
       "      <td>0.0</td>\n",
       "      <td>0.898957</td>\n",
       "      <td>1.974412</td>\n",
       "    </tr>\n",
       "    <tr>\n",
       "      <th>CN</th>\n",
       "      <td>0.949461</td>\n",
       "      <td>6.582223</td>\n",
       "      <td>0.017192</td>\n",
       "      <td>0.474302</td>\n",
       "      <td>0.457786</td>\n",
       "      <td>1.783010</td>\n",
       "      <td>1.694302</td>\n",
       "      <td>0.413362</td>\n",
       "      <td>0.393079</td>\n",
       "      <td>0.391579</td>\n",
       "      <td>...</td>\n",
       "      <td>0.0</td>\n",
       "      <td>1.946342</td>\n",
       "      <td>0.459903</td>\n",
       "      <td>0.213545</td>\n",
       "      <td>0.094952</td>\n",
       "      <td>0.602006</td>\n",
       "      <td>0.0</td>\n",
       "      <td>0.0</td>\n",
       "      <td>1.062216</td>\n",
       "      <td>1.731344</td>\n",
       "    </tr>\n",
       "  </tbody>\n",
       "</table>\n",
       "<p>2 rows × 30 columns</p>\n",
       "</div>"
      ],
      "text/plain": [
       "                0         1         2         3         4         5   \\\n",
       "fragment                                                               \n",
       "CC        0.879899  4.766980  0.484570  0.553562  0.671363  1.946618   \n",
       "CN        0.949461  6.582223  0.017192  0.474302  0.457786  1.783010   \n",
       "\n",
       "                6         7         8         9   ...   20        21  \\\n",
       "fragment                                          ...                  \n",
       "CC        1.211061  0.049551  0.000000  1.383978  ...  0.0  1.430827   \n",
       "CN        1.694302  0.413362  0.393079  0.391579  ...  0.0  1.946342   \n",
       "\n",
       "                22        23        24        25   26   27        28        29  \n",
       "fragment                                                                        \n",
       "CC        0.243160  0.453422  0.064221  0.418074  0.0  0.0  0.898957  1.974412  \n",
       "CN        0.459903  0.213545  0.094952  0.602006  0.0  0.0  1.062216  1.731344  \n",
       "\n",
       "[2 rows x 30 columns]"
      ]
     },
     "execution_count": 246,
     "metadata": {},
     "output_type": "execute_result"
    }
   ],
   "source": [
    "frag_embedding = m_part1.predict(frag2vec)\n",
    "frag_embedding_df = pd.DataFrame(data=frag_embedding, index=frag2vec.index)\n",
    "frag_embedding_df.head(2)"
   ]
  },
  {
   "cell_type": "code",
   "execution_count": 247,
   "metadata": {},
   "outputs": [],
   "source": [
    "frag_embedding_df.to_csv('../big-data/moses_dataset/nn/frag_embedding.csv')"
   ]
  },
  {
   "cell_type": "code",
   "execution_count": null,
   "metadata": {},
   "outputs": [],
   "source": []
  },
  {
   "cell_type": "code",
   "execution_count": 120,
   "metadata": {},
   "outputs": [
    {
     "data": {
      "text/html": [
       "<div>\n",
       "<style scoped>\n",
       "    .dataframe tbody tr th:only-of-type {\n",
       "        vertical-align: middle;\n",
       "    }\n",
       "\n",
       "    .dataframe tbody tr th {\n",
       "        vertical-align: top;\n",
       "    }\n",
       "\n",
       "    .dataframe thead th {\n",
       "        text-align: right;\n",
       "    }\n",
       "</style>\n",
       "<table border=\"1\" class=\"dataframe\">\n",
       "  <thead>\n",
       "    <tr style=\"text-align: right;\">\n",
       "      <th></th>\n",
       "      <th>smiles</th>\n",
       "    </tr>\n",
       "    <tr>\n",
       "      <th>cid</th>\n",
       "      <th></th>\n",
       "    </tr>\n",
       "  </thead>\n",
       "  <tbody>\n",
       "    <tr>\n",
       "      <th>id2</th>\n",
       "      <td>CCCS(=O)c1ccc2[nH]c(=NC(=O)OC)[nH]c2c1</td>\n",
       "    </tr>\n",
       "    <tr>\n",
       "      <th>id3</th>\n",
       "      <td>CC(C)(C)C(=O)C(Oc1ccc(Cl)cc1)n1ccnc1</td>\n",
       "    </tr>\n",
       "  </tbody>\n",
       "</table>\n",
       "</div>"
      ],
      "text/plain": [
       "                                     smiles\n",
       "cid                                        \n",
       "id2  CCCS(=O)c1ccc2[nH]c(=NC(=O)OC)[nH]c2c1\n",
       "id3    CC(C)(C)C(=O)C(Oc1ccc(Cl)cc1)n1ccnc1"
      ]
     },
     "execution_count": 120,
     "metadata": {},
     "output_type": "execute_result"
    }
   ],
   "source": [
    "cid2smiles = pd.read_csv('../big-data/moses_dataset/result/mol2md_with_cid.csv', index_col='cid', usecols=['smiles', 'cid'])\n",
    "cid2smiles.head(2)"
   ]
  },
  {
   "cell_type": "code",
   "execution_count": 192,
   "metadata": {},
   "outputs": [],
   "source": [
    "cid2smiles.loc[x_embedding.index, ['smiles']].to_csv('../big-data/moses_dataset/nn/cid2smiles_all_in_train_test.csv')"
   ]
  },
  {
   "cell_type": "code",
   "execution_count": 208,
   "metadata": {},
   "outputs": [
    {
     "data": {
      "text/html": [
       "<div>\n",
       "<style scoped>\n",
       "    .dataframe tbody tr th:only-of-type {\n",
       "        vertical-align: middle;\n",
       "    }\n",
       "\n",
       "    .dataframe tbody tr th {\n",
       "        vertical-align: top;\n",
       "    }\n",
       "\n",
       "    .dataframe thead th {\n",
       "        text-align: right;\n",
       "    }\n",
       "</style>\n",
       "<table border=\"1\" class=\"dataframe\">\n",
       "  <thead>\n",
       "    <tr style=\"text-align: right;\">\n",
       "      <th></th>\n",
       "      <th>0</th>\n",
       "      <th>1</th>\n",
       "      <th>2</th>\n",
       "      <th>3</th>\n",
       "      <th>4</th>\n",
       "      <th>5</th>\n",
       "      <th>6</th>\n",
       "      <th>7</th>\n",
       "      <th>8</th>\n",
       "      <th>9</th>\n",
       "      <th>...</th>\n",
       "      <th>20</th>\n",
       "      <th>21</th>\n",
       "      <th>22</th>\n",
       "      <th>23</th>\n",
       "      <th>24</th>\n",
       "      <th>25</th>\n",
       "      <th>26</th>\n",
       "      <th>27</th>\n",
       "      <th>28</th>\n",
       "      <th>29</th>\n",
       "    </tr>\n",
       "    <tr>\n",
       "      <th>smiles</th>\n",
       "      <th></th>\n",
       "      <th></th>\n",
       "      <th></th>\n",
       "      <th></th>\n",
       "      <th></th>\n",
       "      <th></th>\n",
       "      <th></th>\n",
       "      <th></th>\n",
       "      <th></th>\n",
       "      <th></th>\n",
       "      <th></th>\n",
       "      <th></th>\n",
       "      <th></th>\n",
       "      <th></th>\n",
       "      <th></th>\n",
       "      <th></th>\n",
       "      <th></th>\n",
       "      <th></th>\n",
       "      <th></th>\n",
       "      <th></th>\n",
       "      <th></th>\n",
       "    </tr>\n",
       "  </thead>\n",
       "  <tbody>\n",
       "    <tr>\n",
       "      <th>CC1Oc2ccc(Cl)cc2N(CC(O)CO)C1=O</th>\n",
       "      <td>0.0</td>\n",
       "      <td>67.581932</td>\n",
       "      <td>4.033874</td>\n",
       "      <td>0.000000</td>\n",
       "      <td>0.000000</td>\n",
       "      <td>0.000000</td>\n",
       "      <td>0.000000</td>\n",
       "      <td>0.020211</td>\n",
       "      <td>1.418569</td>\n",
       "      <td>0.906741</td>\n",
       "      <td>...</td>\n",
       "      <td>6.702059</td>\n",
       "      <td>0.000000</td>\n",
       "      <td>0.0</td>\n",
       "      <td>0.0</td>\n",
       "      <td>0.000000</td>\n",
       "      <td>0.0</td>\n",
       "      <td>1.863779</td>\n",
       "      <td>2.241956</td>\n",
       "      <td>0.0</td>\n",
       "      <td>0.000000</td>\n",
       "    </tr>\n",
       "    <tr>\n",
       "      <th>COc1ccccc1OC(=O)Oc1ccccc1OC</th>\n",
       "      <td>0.0</td>\n",
       "      <td>80.029938</td>\n",
       "      <td>0.121835</td>\n",
       "      <td>6.874247</td>\n",
       "      <td>2.472669</td>\n",
       "      <td>0.980489</td>\n",
       "      <td>1.512571</td>\n",
       "      <td>0.000000</td>\n",
       "      <td>0.987258</td>\n",
       "      <td>2.906722</td>\n",
       "      <td>...</td>\n",
       "      <td>10.012863</td>\n",
       "      <td>6.625997</td>\n",
       "      <td>0.0</td>\n",
       "      <td>0.0</td>\n",
       "      <td>0.135132</td>\n",
       "      <td>0.0</td>\n",
       "      <td>2.963767</td>\n",
       "      <td>3.289106</td>\n",
       "      <td>0.0</td>\n",
       "      <td>1.881185</td>\n",
       "    </tr>\n",
       "  </tbody>\n",
       "</table>\n",
       "<p>2 rows × 30 columns</p>\n",
       "</div>"
      ],
      "text/plain": [
       "                                 0          1         2         3         4   \\\n",
       "smiles                                                                         \n",
       "CC1Oc2ccc(Cl)cc2N(CC(O)CO)C1=O  0.0  67.581932  4.033874  0.000000  0.000000   \n",
       "COc1ccccc1OC(=O)Oc1ccccc1OC     0.0  80.029938  0.121835  6.874247  2.472669   \n",
       "\n",
       "                                      5         6         7         8   \\\n",
       "smiles                                                                   \n",
       "CC1Oc2ccc(Cl)cc2N(CC(O)CO)C1=O  0.000000  0.000000  0.020211  1.418569   \n",
       "COc1ccccc1OC(=O)Oc1ccccc1OC     0.980489  1.512571  0.000000  0.987258   \n",
       "\n",
       "                                      9   ...         20        21   22   23  \\\n",
       "smiles                                    ...                                  \n",
       "CC1Oc2ccc(Cl)cc2N(CC(O)CO)C1=O  0.906741  ...   6.702059  0.000000  0.0  0.0   \n",
       "COc1ccccc1OC(=O)Oc1ccccc1OC     2.906722  ...  10.012863  6.625997  0.0  0.0   \n",
       "\n",
       "                                      24   25        26        27   28  \\\n",
       "smiles                                                                   \n",
       "CC1Oc2ccc(Cl)cc2N(CC(O)CO)C1=O  0.000000  0.0  1.863779  2.241956  0.0   \n",
       "COc1ccccc1OC(=O)Oc1ccccc1OC     0.135132  0.0  2.963767  3.289106  0.0   \n",
       "\n",
       "                                      29  \n",
       "smiles                                    \n",
       "CC1Oc2ccc(Cl)cc2N(CC(O)CO)C1=O  0.000000  \n",
       "COc1ccccc1OC(=O)Oc1ccccc1OC     1.881185  \n",
       "\n",
       "[2 rows x 30 columns]"
      ]
     },
     "execution_count": 208,
     "metadata": {},
     "output_type": "execute_result"
    }
   ],
   "source": [
    "x_embedding2 = x_embedding.copy()\n",
    "x_embedding2['smiles'] = cid2smiles.loc[x_embedding.index, 'smiles']\n",
    "x_embedding2.set_index('smiles', inplace=True)\n",
    "# x_embedding.drop(columns='cid', inplace=True)\n",
    "x_embedding2.head(2)"
   ]
  },
  {
   "cell_type": "code",
   "execution_count": 209,
   "metadata": {},
   "outputs": [
    {
     "data": {
      "text/plain": [
       "'Cc1cc(Cc2cnc(N)nc2N)c2cccnc2c1N(C)C'"
      ]
     },
     "execution_count": 209,
     "metadata": {},
     "output_type": "execute_result"
    }
   ],
   "source": [
    "x_embedding2.iloc[9, :].name"
   ]
  },
  {
   "cell_type": "code",
   "execution_count": 154,
   "metadata": {},
   "outputs": [],
   "source": [
    "def cal_distance(x, y, metric='euclidean'):\n",
    "    if type(x) == pd.core.series.Series:\n",
    "        x = x.values.reshape(1, -1)\n",
    "    if type(y) == pd.core.series.Series:\n",
    "        y = y.values.reshape(1, -1)\n",
    "    return pairwise_distances(x, y, metric=metric)"
   ]
  },
  {
   "cell_type": "code",
   "execution_count": 251,
   "metadata": {},
   "outputs": [],
   "source": [
    "def print_closest_words(x_embedding, x_query, n=5, add_vec=None):\n",
    "    x = x_embedding.loc[x_query].values.reshape(1, -1).copy()\n",
    "    # print('x is: {}'.format(x))\n",
    "    if add_vec is not None:\n",
    "        x += add_vec\n",
    "        # print('x + add_vec is: {}'.format(x))\n",
    "    dists = cal_distance(x=x_embedding.values, y=x)     # compute distances to all words\n",
    "    lst = sorted(enumerate(dists), key=lambda x: x[1]) # sort by distance\n",
    "    # print(lst[:100])\n",
    "    if add_vec is not None:\n",
    "        for idx, difference in lst[0:n]:\n",
    "            print(x_embedding.iloc[idx,:].name, difference)\n",
    "    else:\n",
    "        for idx, difference in lst[1:n+1]:   # take the top n\n",
    "            print(x_embedding.iloc[idx,:].name, difference)"
   ]
  },
  {
   "cell_type": "code",
   "execution_count": 182,
   "metadata": {},
   "outputs": [],
   "source": [
    "def get_minus_result(x_embedding, x, y):\n",
    "    x = x_embedding.loc[x].values.reshape(1, -1)\n",
    "    y = x_embedding.loc[y].values.reshape(1, -1)\n",
    "    return x-y"
   ]
  },
  {
   "cell_type": "code",
   "execution_count": 180,
   "metadata": {},
   "outputs": [
    {
     "data": {
      "text/plain": [
       "array([[17.525618]], dtype=float32)"
      ]
     },
     "execution_count": 180,
     "metadata": {},
     "output_type": "execute_result"
    }
   ],
   "source": [
    "mol1 = x_embedding2.loc['COc1ccccc1OC(=O)Oc1ccccc1OC']\n",
    "mol2 = x_embedding2.loc['CC1Oc2ccc(Cl)cc2N(CC(O)CO)C1=O']\n",
    "# mol1 = mol1.values.reshape(-1,1)\n",
    "# print(mol1.shape, type(mol1))\n",
    "# print(type(mol1) == pd.core.series.Series)\n",
    "cal_distance(mol1, mol2)"
   ]
  },
  {
   "cell_type": "code",
   "execution_count": 204,
   "metadata": {},
   "outputs": [
    {
     "data": {
      "text/plain": [
       "array([[ 0.        ,  1.5102386 , -0.12183534, -0.03230286,  0.1806202 ,\n",
       "         0.9449151 , -0.31577134,  0.        , -0.32957083,  0.71452665,\n",
       "         0.5189152 ,  0.        ,  0.        ,  0.        ,  0.        ,\n",
       "         0.55741787,  0.        ,  0.46140313,  0.        , -0.2015264 ,\n",
       "        -0.08266449,  0.42657948,  0.        ,  0.        ,  0.18944024,\n",
       "         0.        ,  0.43624997, -0.03424692,  0.        , -0.05685472]],\n",
       "      dtype=float32)"
      ]
     },
     "execution_count": 204,
     "metadata": {},
     "output_type": "execute_result"
    }
   ],
   "source": [
    "ch2 = get_minus_result(x_embedding2, 'COc1cccc(COC(=O)c2cccc(OC)c2O)c1', 'COc1ccccc1OC(=O)Oc1ccccc1OC')\n",
    "ch2"
   ]
  },
  {
   "cell_type": "code",
   "execution_count": 189,
   "metadata": {},
   "outputs": [
    {
     "data": {
      "text/plain": [
       "array([[ 0.        , 80.02994   ,  0.12183534,  6.8742466 ,  2.4726686 ,\n",
       "         0.98048943,  1.5125712 ,  0.        ,  0.9872577 ,  2.9067218 ,\n",
       "        11.04242   ,  0.        ,  0.        ,  0.        ,  0.        ,\n",
       "        14.450691  ,  0.        ,  2.153011  ,  0.        ,  2.9999425 ,\n",
       "        10.012863  ,  6.6259966 ,  0.        ,  0.        ,  0.13513215,\n",
       "         0.        ,  2.9637668 ,  3.2891064 ,  0.        ,  1.8811848 ]],\n",
       "      dtype=float32)"
      ]
     },
     "execution_count": 189,
     "metadata": {},
     "output_type": "execute_result"
    }
   ],
   "source": [
    "x_embedding2.loc['COc1ccccc1OC(=O)Oc1ccccc1OC'].values.reshape(1,-1)"
   ]
  },
  {
   "cell_type": "code",
   "execution_count": 181,
   "metadata": {},
   "outputs": [
    {
     "name": "stdout",
     "output_type": "stream",
     "text": [
      "COc1ccccc1OC(=O)C(C)Oc1ccccc1 [2.100969]\n",
      "COc1ccc(OC(=O)C(C)Oc2ccccc2)cc1 [2.1009717]\n",
      "COC(=O)c1c(O)cc(OC)cc1OCc1ccccc1 [2.2790298]\n",
      "COc1cccc(COC(=O)c2cccc(OC)c2O)c1 [2.2790298]\n",
      "COc1ccc(OCCOC(=O)c2ccc(O)cc2)cc1 [2.2790298]\n"
     ]
    }
   ],
   "source": [
    "print_closest_words(x_embedding=x_embedding2, x_query='COc1ccccc1OC(=O)Oc1ccccc1OC')"
   ]
  },
  {
   "cell_type": "code",
   "execution_count": 214,
   "metadata": {},
   "outputs": [
    {
     "name": "stdout",
     "output_type": "stream",
     "text": [
      "x is: [[ 0.         54.23305     2.8906772   0.          0.73192406  1.6375101\n",
      "   0.66602534  0.          1.0117786   3.3028266   8.843242    0.\n",
      "   0.          0.          0.         13.1444845   0.          3.6800406\n",
      "   0.          0.          6.5596437   5.708664    0.          0.\n",
      "   0.          0.          3.63397     2.1773548   1.6543721   0.        ]]\n",
      "COC(=O)c1cc(Br)c(O)c(Br)c1 [0.]\n",
      "COc1c(Br)cc(C(C)=O)cc1Br [1.5614587]\n",
      "CC(=O)Oc1cc(Br)c(C)cc1Br [1.5614587]\n",
      "CC(=O)c1cc(Br)c(O)c(Br)c1O [1.5614587]\n",
      "CC(=O)Oc1c(Br)cc(C)cc1Br [1.5614587]\n"
     ]
    }
   ],
   "source": [
    "print_closest_words(x_embedding=x_embedding2, x_query='COC(=O)c1cc(Br)cc(Br)c1O')"
   ]
  },
  {
   "cell_type": "code",
   "execution_count": 215,
   "metadata": {},
   "outputs": [
    {
     "name": "stdout",
     "output_type": "stream",
     "text": [
      "x is: [[ 0.         54.23305     2.8906772   0.          0.73192406  1.6375101\n",
      "   0.66602534  0.          1.0117786   3.3028266   8.843242    0.\n",
      "   0.          0.          0.         13.1444845   0.          3.6800406\n",
      "   0.          0.          6.5596437   5.708664    0.          0.\n",
      "   0.          0.          3.63397     2.1773548   1.6543721   0.        ]]\n",
      "x + add_vec is: [[ 0.0000000e+00  5.5743290e+01  2.7688420e+00 -3.2302856e-02\n",
      "   9.1254425e-01  2.5824251e+00  3.5025400e-01  0.0000000e+00\n",
      "   6.8220776e-01  4.0173531e+00  9.3621569e+00  0.0000000e+00\n",
      "   0.0000000e+00  0.0000000e+00  0.0000000e+00  1.3701902e+01\n",
      "   0.0000000e+00  4.1414437e+00  0.0000000e+00 -2.0152640e-01\n",
      "   6.4769793e+00  6.1352434e+00  0.0000000e+00  0.0000000e+00\n",
      "   1.8944024e-01  0.0000000e+00  4.0702200e+00  2.1431079e+00\n",
      "   1.6543721e+00 -5.6854725e-02]]\n",
      "COCCC(=O)c1cc(Br)ccc1Br [1.2485814]\n",
      "COc1c(Br)cc(Cl)cc1C(C)=O [2.1403425]\n",
      "COC(=O)Cc1cccc(Cl)c1Br [2.1403425]\n",
      "COC(=O)Cc1ccc(Cl)c(Br)c1 [2.1403425]\n",
      "COC(=O)Cc1cc(Br)ccc1Cl [2.1403425]\n"
     ]
    }
   ],
   "source": [
    "print_closest_words(x_embedding=x_embedding2, x_query='COC(=O)c1cc(Br)cc(Br)c1O', add_vec=ch2)"
   ]
  },
  {
   "cell_type": "code",
   "execution_count": 216,
   "metadata": {},
   "outputs": [
    {
     "name": "stdout",
     "output_type": "stream",
     "text": [
      "x is: [[ 0.         58.040447    2.4904273   0.          1.2019337   1.229473\n",
      "   0.1426464   0.          0.8382514   3.1672394   8.829102    0.\n",
      "   0.          0.          0.         12.994283    0.          2.648728\n",
      "   0.          0.          6.205588    5.68963     0.          0.\n",
      "   0.          0.          4.229077    2.6698432   0.6435483   0.12427861]]\n",
      "x + add_vec is: [[ 0.0000000e+00  5.9550686e+01  2.3685920e+00 -3.2302856e-02\n",
      "   1.3825539e+00  2.1743882e+00 -1.7312494e-01  0.0000000e+00\n",
      "   5.0868058e-01  3.8817661e+00  9.3480167e+00  0.0000000e+00\n",
      "   0.0000000e+00  0.0000000e+00  0.0000000e+00  1.3551701e+01\n",
      "   0.0000000e+00  3.1101310e+00  0.0000000e+00 -2.0152640e-01\n",
      "   6.1229234e+00  6.1162095e+00  0.0000000e+00  0.0000000e+00\n",
      "   1.8944024e-01  0.0000000e+00  4.6653271e+00  2.6355963e+00\n",
      "   6.4354831e-01  6.7423888e-02]]\n",
      "CCOc1cc(O)c(C(=O)CC)cc1Br [1.44677]\n",
      "CCOC(=O)Cc1cc(C)cc(Br)c1O [1.44677]\n",
      "COc1ccc(C(=O)CCCO)cc1Br [1.44677]\n",
      "COC(=O)C(O)Cc1cccc(Br)c1 [1.7898979]\n",
      "COC(=O)C(O)Cc1ccc(Br)cc1 [1.7898979]\n"
     ]
    }
   ],
   "source": [
    "print_closest_words(x_embedding=x_embedding2, x_query='CCOC(=O)COc1ccc(Br)cc1', add_vec=ch2)"
   ]
  },
  {
   "cell_type": "code",
   "execution_count": 217,
   "metadata": {},
   "outputs": [
    {
     "name": "stdout",
     "output_type": "stream",
     "text": [
      "x is: [[ 0.         57.7161      2.6076584   0.          0.38495532  0.\n",
      "   0.          0.          0.92005426  4.169135    8.629711    0.\n",
      "   0.          0.          0.5258298  13.7016325   0.          1.0290844\n",
      "   0.          0.          6.6820755   0.          0.          0.\n",
      "   0.          0.          1.3072658   2.2966118   0.          0.        ]]\n",
      "O=C(OCC1CCCO1)c1ccccc1Br [0.]\n",
      "CCOC(=O)C1COc2ccc(Br)cc21 [0.]\n",
      "O=C(Cc1cccc(Br)c1)OC1CCOC1 [0.]\n",
      "CCOC(=O)C1Cc2cccc(Br)c2O1 [0.]\n",
      "COc1cc(Br)c2c(c1OC)C(=O)OC2 [1.5393735]\n"
     ]
    }
   ],
   "source": [
    "print_closest_words(x_embedding=x_embedding2, x_query='O=C(OCC1CCCO1)c1cccc(Br)c1')"
   ]
  },
  {
   "cell_type": "code",
   "execution_count": 226,
   "metadata": {},
   "outputs": [],
   "source": [
    "def draw_mol_by_smiles(smiles):\n",
    "    mol = Chem.MolFromSmiles(smiles)\n",
    "    size = (200, 200)\n",
    "    return Draw.MolToImage(mol, size=size)"
   ]
  },
  {
   "cell_type": "code",
   "execution_count": 229,
   "metadata": {},
   "outputs": [
    {
     "data": {
      "image/png": "[encoded data removed]",
      "text/plain": [
       "<PIL.Image.Image image mode=RGB size=200x200 at 0x7FD4D6E26FD0>"
      ]
     },
     "execution_count": 229,
     "metadata": {},
     "output_type": "execute_result"
    }
   ],
   "source": [
    "draw_mol_by_smiles('O=C(OCC1CCCO1)c1cccc(Br)c1')"
   ]
  },
  {
   "cell_type": "code",
   "execution_count": 230,
   "metadata": {},
   "outputs": [
    {
     "data": {
      "image/png": "[encoded data removed]",
      "text/plain": [
       "<PIL.Image.Image image mode=RGB size=200x200 at 0x7FD4D494B358>"
      ]
     },
     "execution_count": 230,
     "metadata": {},
     "output_type": "execute_result"
    }
   ],
   "source": [
    "draw_mol_by_smiles('COc1cc(Br)c2c(c1OC)C(=O)OC2')"
   ]
  },
  {
   "cell_type": "code",
   "execution_count": 231,
   "metadata": {},
   "outputs": [
    {
     "data": {
      "image/png": "[encoded data removed]",
      "text/plain": [
       "<PIL.Image.Image image mode=RGB size=200x200 at 0x7FD4D6BAACF8>"
      ]
     },
     "execution_count": 231,
     "metadata": {},
     "output_type": "execute_result"
    }
   ],
   "source": [
    "draw_mol_by_smiles('O=C(OCC1CCCO1)c1ccccc1Br')"
   ]
  },
  {
   "cell_type": "code",
   "execution_count": 233,
   "metadata": {},
   "outputs": [
    {
     "data": {
      "text/plain": [
       "array([[ 0.        , -4.5793076 ,  0.        , -0.3603382 , -0.23319244,\n",
       "         0.47312403,  0.        ,  0.        ,  0.        ,  0.06194568,\n",
       "        -0.40190792,  0.        ,  0.        ,  0.        ,  0.        ,\n",
       "        -0.8399906 ,  0.        ,  0.32900596,  0.        ,  0.10088366,\n",
       "        -0.6174593 , -0.46787882,  0.        ,  0.        ,  0.09594807,\n",
       "         0.        ,  0.1209743 , -0.07163858,  0.        ,  0.        ]],\n",
       "      dtype=float32)"
      ]
     },
     "execution_count": 233,
     "metadata": {},
     "output_type": "execute_result"
    }
   ],
   "source": [
    "o = get_minus_result(x_embedding=x_embedding2, x='O=c1c(O)c(-c2ccc(O)cc2)oc2ccccc12', y='O=c1c(O)c(-c2ccc(O)cc2)oc2cccc(O)c12')\n",
    "o"
   ]
  },
  {
   "cell_type": "code",
   "execution_count": 234,
   "metadata": {},
   "outputs": [
    {
     "data": {
      "image/png": "[encoded data removed]",
      "text/plain": [
       "<PIL.Image.Image image mode=RGB size=200x200 at 0x7FD4D6C517F0>"
      ]
     },
     "execution_count": 234,
     "metadata": {},
     "output_type": "execute_result"
    }
   ],
   "source": [
    "draw_mol_by_smiles('O=c1c(O)c(-c2ccc(O)cc2)oc2cccc(O)c12')"
   ]
  },
  {
   "cell_type": "code",
   "execution_count": 235,
   "metadata": {},
   "outputs": [
    {
     "data": {
      "image/png": "[encoded data removed]",
      "text/plain": [
       "<PIL.Image.Image image mode=RGB size=200x200 at 0x7FD518A67908>"
      ]
     },
     "execution_count": 235,
     "metadata": {},
     "output_type": "execute_result"
    }
   ],
   "source": [
    "draw_mol_by_smiles('O=c1c(O)c(-c2ccc(O)cc2)oc2ccccc12')"
   ]
  },
  {
   "cell_type": "code",
   "execution_count": 236,
   "metadata": {},
   "outputs": [
    {
     "name": "stdout",
     "output_type": "stream",
     "text": [
      "x is: [[ 0.        54.095474   0.         4.6700926  0.         0.\n",
      "   0.6684832  6.496822   0.         0.        11.348324   0.\n",
      "   0.         0.         0.3130484  7.0950704  0.         0.\n",
      "   0.         0.         6.192023   0.         1.2921927  0.\n",
      "   0.         0.         0.         0.         0.         0.       ]]\n",
      "x + add_vec is: [[ 0.         49.516167    0.          4.3097544  -0.23319244  0.47312403\n",
      "   0.6684832   6.496822    0.          0.06194568 10.946416    0.\n",
      "   0.          0.          0.3130484   6.2550797   0.          0.32900596\n",
      "   0.          0.10088366  5.5745635  -0.46787882  1.2921927   0.\n",
      "   0.09594807  0.          0.1209743  -0.07163858  0.          0.        ]]\n",
      "N#Cc1ccc(-n2ccnc2C2COCCN2)cc1 [1.6007155]\n",
      "N#Cc1ccccc1-n1ccnc1C1COCCN1 [1.6007155]\n",
      "N#Cc1cccc(-n2ccnc2C2COCCN2)c1 [1.6007155]\n",
      "Cc1coc(-c2[nH]c(C3CCCCC3)nc2C#N)n1 [1.9068636]\n",
      "Cc1cnc(-c2[nH]c(C3CCCCC3)nc2C#N)o1 [1.9068636]\n"
     ]
    }
   ],
   "source": [
    "print_closest_words(x_embedding=x_embedding2, x_query='Cc1ccc(-c2nc(C#N)c(N3CCCC3)o2)cc1', add_vec=o)"
   ]
  },
  {
   "cell_type": "code",
   "execution_count": 237,
   "metadata": {},
   "outputs": [
    {
     "data": {
      "image/png": "[encoded data removed]",
      "text/plain": [
       "<PIL.Image.Image image mode=RGB size=200x200 at 0x7FD5068A8588>"
      ]
     },
     "execution_count": 237,
     "metadata": {},
     "output_type": "execute_result"
    }
   ],
   "source": [
    "draw_mol_by_smiles('Cc1ccc(-c2nc(C#N)c(N3CCCC3)o2)cc1')"
   ]
  },
  {
   "cell_type": "code",
   "execution_count": 243,
   "metadata": {},
   "outputs": [
    {
     "data": {
      "image/png": "[encoded data removed]",
      "text/plain": [
       "<PIL.Image.Image image mode=RGB size=200x200 at 0x7FD518F89908>"
      ]
     },
     "execution_count": 243,
     "metadata": {},
     "output_type": "execute_result"
    }
   ],
   "source": [
    "draw_mol_by_smiles('c1ccc(-c2nc(CN)c(N3CCCC3)o2)cc1')"
   ]
  },
  {
   "cell_type": "code",
   "execution_count": 238,
   "metadata": {},
   "outputs": [
    {
     "data": {
      "image/png": "[encoded data removed]",
      "text/plain": [
       "<PIL.Image.Image image mode=RGB size=200x200 at 0x7FD5187ED908>"
      ]
     },
     "execution_count": 238,
     "metadata": {},
     "output_type": "execute_result"
    }
   ],
   "source": [
    "draw_mol_by_smiles('N#Cc1ccc(-n2ccnc2C2COCCN2)cc1')"
   ]
  },
  {
   "cell_type": "code",
   "execution_count": 239,
   "metadata": {},
   "outputs": [
    {
     "data": {
      "image/png": "[encoded data removed]",
      "text/plain": [
       "<PIL.Image.Image image mode=RGB size=200x200 at 0x7FD4D79E5940>"
      ]
     },
     "execution_count": 239,
     "metadata": {},
     "output_type": "execute_result"
    }
   ],
   "source": [
    "draw_mol_by_smiles('Cc1coc(-c2[nH]c(C3CCCCC3)nc2C#N)n1')"
   ]
  },
  {
   "cell_type": "code",
   "execution_count": 240,
   "metadata": {},
   "outputs": [
    {
     "name": "stdout",
     "output_type": "stream",
     "text": [
      "x is: [[ 0.        54.095474   0.         4.6700926  0.         0.\n",
      "   0.6684832  6.496822   0.         0.        11.348324   0.\n",
      "   0.         0.         0.3130484  7.0950704  0.         0.\n",
      "   0.         0.         6.192023   0.         1.2921927  0.\n",
      "   0.         0.         0.         0.         0.         0.       ]]\n",
      "x + add_vec is: [[ 0.0000000e+00  5.5605713e+01 -1.2183534e-01  4.6377897e+00\n",
      "   1.8062019e-01  9.4491512e-01  3.5271186e-01  6.4968219e+00\n",
      "  -3.2957083e-01  7.1452665e-01  1.1867239e+01  0.0000000e+00\n",
      "   0.0000000e+00  0.0000000e+00  3.1304839e-01  7.6524882e+00\n",
      "   0.0000000e+00  4.6140313e-01  0.0000000e+00 -2.0152640e-01\n",
      "   6.1093583e+00  4.2657948e-01  1.2921927e+00  0.0000000e+00\n",
      "   1.8944024e-01  0.0000000e+00  4.3624997e-01 -3.4246922e-02\n",
      "   0.0000000e+00 -5.6854725e-02]]\n",
      "N#Cc1nc(-c2cccnc2)oc1NC1CCCC1 [1.8229408]\n",
      "N#Cc1nnc2ccccc2c1NCC1CCCO1 [2.0215893]\n",
      "COCc1[nH]c(-c2ccc3c(c2)CCC3)nc1C#N [2.2516892]\n",
      "Cc1cccc(-c2nc(C#N)c(N3CCOCC3)o2)c1 [2.2627244]\n",
      "N#Cc1nc(Cc2ccccc2)oc1N1CCOCC1 [2.2627244]\n"
     ]
    }
   ],
   "source": [
    "print_closest_words(x_embedding=x_embedding2, x_query='Cc1ccc(-c2nc(C#N)c(N3CCCC3)o2)cc1', add_vec=ch2)"
   ]
  },
  {
   "cell_type": "code",
   "execution_count": 241,
   "metadata": {},
   "outputs": [
    {
     "data": {
      "image/png": "[encoded data removed]",
      "text/plain": [
       "<PIL.Image.Image image mode=RGB size=200x200 at 0x7FD4FC286CF8>"
      ]
     },
     "execution_count": 241,
     "metadata": {},
     "output_type": "execute_result"
    }
   ],
   "source": [
    "draw_mol_by_smiles('N#Cc1nc(-c2cccnc2)oc1NC1CCCC1')"
   ]
  },
  {
   "cell_type": "markdown",
   "metadata": {},
   "source": [
    "##### similarity in fragment embedding"
   ]
  },
  {
   "cell_type": "code",
   "execution_count": 252,
   "metadata": {},
   "outputs": [
    {
     "name": "stdout",
     "output_type": "stream",
     "text": [
      "CN [2.07466464]\n",
      "C1=CCCC=CC1 [2.14207096]\n",
      "C1=CCCCC=C1 [2.16296164]\n",
      "C1CCCC1 [2.31532599]\n",
      "C1=CCC=NC=C1 [2.32695495]\n"
     ]
    }
   ],
   "source": [
    "print_closest_words(x_embedding=frag2vec, x_query='CC')"
   ]
  },
  {
   "cell_type": "code",
   "execution_count": 253,
   "metadata": {},
   "outputs": [
    {
     "name": "stdout",
     "output_type": "stream",
     "text": [
      "C [1.5646602]\n",
      "CN [2.7478273]\n",
      "N [2.8887343]\n",
      "CBr [3.3683567]\n",
      "CO [3.4576266]\n"
     ]
    }
   ],
   "source": [
    "print_closest_words(x_embedding=frag_embedding_df, x_query='CC')"
   ]
  },
  {
   "cell_type": "code",
   "execution_count": 267,
   "metadata": {},
   "outputs": [
    {
     "name": "stdout",
     "output_type": "stream",
     "text": [
      "OBr [2.0014253]\n",
      "N [2.683726]\n",
      "C [3.167312]\n",
      "CF [3.335624]\n",
      "CN [3.4302983]\n"
     ]
    }
   ],
   "source": [
    "print_closest_words(x_embedding=frag_embedding_df, x_query='CO')"
   ]
  },
  {
   "cell_type": "code",
   "execution_count": 268,
   "metadata": {},
   "outputs": [
    {
     "name": "stdout",
     "output_type": "stream",
     "text": [
      "CN [2.07466464]\n",
      "C1=CCCC=CC1 [2.14207096]\n",
      "C1=CCCCC=C1 [2.16296164]\n",
      "C1CCCC1 [2.31532599]\n",
      "C1=CCC=NC=C1 [2.32695495]\n"
     ]
    }
   ],
   "source": [
    "print_closest_words(x_embedding=frag2vec, x_query='CC')"
   ]
  },
  {
   "cell_type": "code",
   "execution_count": 254,
   "metadata": {},
   "outputs": [
    {
     "name": "stdout",
     "output_type": "stream",
     "text": [
      "C=O [5.002908]\n",
      "C1=CC=CC=C1 [5.4707036]\n",
      "C1=CNCN1 [6.1134224]\n",
      "C1=NC=NC=N1 [6.3348575]\n",
      "C1=CCC1 [6.4296627]\n"
     ]
    }
   ],
   "source": [
    "print_closest_words(x_embedding=frag_embedding_df, x_query='C=C')"
   ]
  },
  {
   "cell_type": "code",
   "execution_count": 258,
   "metadata": {},
   "outputs": [
    {
     "data": {
      "text/plain": [
       "array([[ 0.36769712,  9.422612  , -0.48457044,  1.1551089 ,  1.5239681 ,\n",
       "         0.8708347 , -1.2110605 , -0.04955075,  1.1479666 ,  0.87259626,\n",
       "         3.7456775 ,  0.        ,  0.8183497 ,  2.1820397 ,  0.4321878 ,\n",
       "         2.4031503 , -0.48953053,  2.6529222 ,  0.        ,  0.845729  ,\n",
       "         0.65948963, -0.5821216 ,  0.12837031, -0.45342237,  0.09806375,\n",
       "        -0.27701962,  0.21591023,  0.5738481 , -0.8989567 ,  1.4418697 ]],\n",
       "      dtype=float32)"
      ]
     },
     "execution_count": 258,
     "metadata": {},
     "output_type": "execute_result"
    }
   ],
   "source": [
    "double_bond = get_minus_result(x_embedding=frag_embedding_df, x='C=C', y='CC')\n",
    "double_bond"
   ]
  },
  {
   "cell_type": "code",
   "execution_count": 264,
   "metadata": {},
   "outputs": [
    {
     "data": {
      "text/plain": [
       "array([[ 4.0723282e-01,  6.6590004e+00, -1.2108864e+00,  2.3326802e-01,\n",
       "         1.6675756e+00,  1.3117418e+00, -1.0975618e+00, -8.3342284e-02,\n",
       "         2.0483384e+00,  1.4814731e-01,  2.3806596e+00,  0.0000000e+00,\n",
       "         6.4973027e-01,  1.1030102e+00, -4.0664947e-01,  2.5701227e+00,\n",
       "         4.9589813e-02,  2.0444705e+00,  1.9256592e-02,  1.0507717e+00,\n",
       "        -3.7434539e-01,  8.6723781e-01, -5.3390515e-01,  0.0000000e+00,\n",
       "         5.4839289e-01, -1.6959384e-04,  1.7381706e+00,  9.9883437e-01,\n",
       "        -5.3652120e-01,  2.4301732e-01]], dtype=float32)"
      ]
     },
     "execution_count": 264,
     "metadata": {},
     "output_type": "execute_result"
    }
   ],
   "source": [
    "double_bond2 = get_minus_result(x_embedding=frag_embedding_df, x='C=O', y='CO')\n",
    "double_bond2"
   ]
  },
  {
   "cell_type": "code",
   "execution_count": 271,
   "metadata": {},
   "outputs": [
    {
     "data": {
      "text/plain": [
       "array([[-0.4695816 ,  1.8891354 , -1.2449311 ,  0.36235547,  0.9577973 ,\n",
       "         1.3812841 , -0.15191785, -0.23708494,  0.        , -0.95158863,\n",
       "         0.16325235,  0.        ,  0.5461434 ,  0.3075782 , -1.2855554 ,\n",
       "         1.0543567 ,  0.08943334,  1.4867198 , -0.00479811,  1.7650702 ,\n",
       "        -0.4521917 ,  1.1224887 , -0.4057414 , -0.03514176,  0.39405894,\n",
       "         0.12321979,  2.0169082 ,  0.8386388 ,  0.5432226 ,  1.225359  ]],\n",
       "      dtype=float32)"
      ]
     },
     "execution_count": 271,
     "metadata": {},
     "output_type": "execute_result"
    }
   ],
   "source": [
    "double_bond3 = get_minus_result(x_embedding=frag_embedding_df, x='C=S', y='CS')\n",
    "double_bond3"
   ]
  },
  {
   "cell_type": "code",
   "execution_count": 272,
   "metadata": {},
   "outputs": [
    {
     "data": {
      "text/plain": [
       "array([[ 0.15281081, 11.585732  , -0.01719204,  1.0333048 ,  3.6279893 ,\n",
       "         3.4798925 , -0.98005795,  0.5539837 ,  1.5436594 , -0.12800089,\n",
       "         5.1554136 ,  0.        ,  2.3757029 ,  1.6630778 , -0.456348  ,\n",
       "         2.580281  ,  1.4344052 ,  1.5856826 ,  1.6862209 ,  2.638512  ,\n",
       "         0.        ,  0.6221771 , -0.45990312,  1.3802598 ,  0.68077755,\n",
       "         0.7403398 ,  0.75010884,  0.        , -0.2682166 ,  2.8274286 ]],\n",
       "      dtype=float32)"
      ]
     },
     "execution_count": 272,
     "metadata": {},
     "output_type": "execute_result"
    }
   ],
   "source": [
    "double_bond4 = get_minus_result(x_embedding=frag_embedding_df, x='C=N', y='CN')\n",
    "double_bond4"
   ]
  },
  {
   "cell_type": "code",
   "execution_count": 280,
   "metadata": {},
   "outputs": [
    {
     "data": {
      "text/plain": [
       "array([ 0.11453979,  7.38912   , -0.73939496,  0.6960093 ,  1.9443325 ,\n",
       "        1.7609384 , -0.86014956,  0.04600143,  1.1849911 , -0.01471148,\n",
       "        2.8612509 ,  0.        ,  1.0974816 ,  1.3139265 , -0.42909127,\n",
       "        2.1519778 ,  0.27097446,  1.9424489 ,  0.42516983,  1.5750208 ,\n",
       "       -0.04176187,  0.5074455 , -0.31779483,  0.2229239 ,  0.4303233 ,\n",
       "        0.14659259,  1.1802745 ,  0.6028303 , -0.29011798,  1.4344187 ],\n",
       "      dtype=float32)"
      ]
     },
     "execution_count": 280,
     "metadata": {},
     "output_type": "execute_result"
    }
   ],
   "source": [
    "double_bond_mean = np.concatenate((double_bond, double_bond2, double_bond3, double_bond4)).mean(axis=0)\n",
    "double_bond_mean"
   ]
  },
  {
   "cell_type": "code",
   "execution_count": 261,
   "metadata": {},
   "outputs": [
    {
     "data": {
      "text/plain": [
       "array([[4.8198957]], dtype=float32)"
      ]
     },
     "execution_count": 261,
     "metadata": {},
     "output_type": "execute_result"
    }
   ],
   "source": [
    "cal_distance(double_bond, double_bound2)"
   ]
  },
  {
   "cell_type": "code",
   "execution_count": 281,
   "metadata": {},
   "outputs": [
    {
     "name": "stdout",
     "output_type": "stream",
     "text": [
      "C=C [3.808685]\n",
      "C=O [4.0065684]\n",
      "C=S [4.4869885]\n",
      "C1=CC=CC=C1 [5.1712956]\n",
      "C1=NC=NC=N1 [5.7014313]\n"
     ]
    }
   ],
   "source": [
    "print_closest_words(x_embedding=frag_embedding_df, x_query='CC', add_vec=double_bond_mean)"
   ]
  },
  {
   "cell_type": "code",
   "execution_count": 282,
   "metadata": {},
   "outputs": [
    {
     "name": "stdout",
     "output_type": "stream",
     "text": [
      "C=O [2.3767626]\n",
      "C=C [4.2255626]\n",
      "O=S [4.367085]\n",
      "C1=CN=CC1 [4.541905]\n",
      "C1=NCCN=C1 [4.861382]\n"
     ]
    }
   ],
   "source": [
    "print_closest_words(x_embedding=frag_embedding_df, x_query='CO', add_vec=double_bond_mean)"
   ]
  },
  {
   "cell_type": "code",
   "execution_count": 289,
   "metadata": {},
   "outputs": [
    {
     "name": "stdout",
     "output_type": "stream",
     "text": [
      "CF [3.2992227]\n",
      "CCl [3.6188667]\n",
      "OBr [3.7171252]\n",
      "N [3.8763359]\n",
      "CO [3.902422]\n"
     ]
    }
   ],
   "source": [
    "print_closest_words(x_embedding=frag_embedding_df, x_query='CS')"
   ]
  },
  {
   "cell_type": "code",
   "execution_count": 295,
   "metadata": {},
   "outputs": [
    {
     "name": "stdout",
     "output_type": "stream",
     "text": [
      "C=N [8.806425]\n",
      "NN [9.520893]\n",
      "OS [9.572178]\n",
      "C1NCNN1 [9.702293]\n",
      "C1=CSCC1 [10.3120985]\n"
     ]
    }
   ],
   "source": [
    "print_closest_words(x_embedding=frag_embedding_df, x_query='OS', add_vec=double_bond_mean)"
   ]
  },
  {
   "cell_type": "code",
   "execution_count": null,
   "metadata": {},
   "outputs": [],
   "source": []
  }
 ],
 "metadata": {
  "kernelspec": {
   "display_name": "Python 3",
   "language": "python",
   "name": "python3"
  },
  "language_info": {
   "codemirror_mode": {
    "name": "ipython",
    "version": 3
   },
   "file_extension": ".py",
   "mimetype": "text/x-python",
   "name": "python",
   "nbconvert_exporter": "python",
   "pygments_lexer": "ipython3",
   "version": "3.6.10"
  }
 },
 "nbformat": 4,
 "nbformat_minor": 4
}
