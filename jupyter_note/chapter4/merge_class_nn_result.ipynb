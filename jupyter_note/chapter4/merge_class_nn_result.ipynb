{
 "cells": [
  {
   "cell_type": "code",
   "execution_count": 1,
   "metadata": {},
   "outputs": [],
   "source": [
    "import pandas as pd"
   ]
  },
  {
   "cell_type": "code",
   "execution_count": 10,
   "metadata": {},
   "outputs": [
    {
     "data": {
      "text/html": [
       "<div>\n",
       "<style scoped>\n",
       "    .dataframe tbody tr th:only-of-type {\n",
       "        vertical-align: middle;\n",
       "    }\n",
       "\n",
       "    .dataframe tbody tr th {\n",
       "        vertical-align: top;\n",
       "    }\n",
       "\n",
       "    .dataframe thead th {\n",
       "        text-align: right;\n",
       "    }\n",
       "</style>\n",
       "<table border=\"1\" class=\"dataframe\">\n",
       "  <thead>\n",
       "    <tr style=\"text-align: right;\">\n",
       "      <th></th>\n",
       "      <th>num</th>\n",
       "      <th>n_error</th>\n",
       "      <th>class_in_train</th>\n",
       "      <th>accuray_in_each_class</th>\n",
       "    </tr>\n",
       "  </thead>\n",
       "  <tbody>\n",
       "    <tr>\n",
       "      <th>10101010</th>\n",
       "      <td>5000</td>\n",
       "      <td>160</td>\n",
       "      <td>0</td>\n",
       "      <td>0.968</td>\n",
       "    </tr>\n",
       "    <tr>\n",
       "      <th>11101010</th>\n",
       "      <td>5000</td>\n",
       "      <td>150</td>\n",
       "      <td>0</td>\n",
       "      <td>0.970</td>\n",
       "    </tr>\n",
       "  </tbody>\n",
       "</table>\n",
       "</div>"
      ],
      "text/plain": [
       "           num  n_error  class_in_train  accuray_in_each_class\n",
       "10101010  5000      160               0                  0.968\n",
       "11101010  5000      150               0                  0.970"
      ]
     },
     "execution_count": 10,
     "metadata": {},
     "output_type": "execute_result"
    }
   ],
   "source": [
    "result_model_mol2vec = pd.read_csv('./y_test_class2num_reg_model_mol2vec.csv', index_col=0)\n",
    "result_model_mol2vec.head(2)"
   ]
  },
  {
   "cell_type": "code",
   "execution_count": 11,
   "metadata": {},
   "outputs": [
    {
     "data": {
      "text/plain": [
       "['num', 'n_error', 'class_in_train', 'accuray_in_each_class']"
      ]
     },
     "execution_count": 11,
     "metadata": {},
     "output_type": "execute_result"
    }
   ],
   "source": [
    "cols = result_model_mol2vec.columns.to_list()\n",
    "cols"
   ]
  },
  {
   "cell_type": "code",
   "execution_count": 12,
   "metadata": {},
   "outputs": [
    {
     "data": {
      "text/html": [
       "<div>\n",
       "<style scoped>\n",
       "    .dataframe tbody tr th:only-of-type {\n",
       "        vertical-align: middle;\n",
       "    }\n",
       "\n",
       "    .dataframe tbody tr th {\n",
       "        vertical-align: top;\n",
       "    }\n",
       "\n",
       "    .dataframe thead th {\n",
       "        text-align: right;\n",
       "    }\n",
       "</style>\n",
       "<table border=\"1\" class=\"dataframe\">\n",
       "  <thead>\n",
       "    <tr style=\"text-align: right;\">\n",
       "      <th></th>\n",
       "      <th>num_mol2vec</th>\n",
       "      <th>n_error_mol2vec</th>\n",
       "      <th>class_in_train_mol2vec</th>\n",
       "      <th>accuray_in_each_class_mol2vec</th>\n",
       "    </tr>\n",
       "  </thead>\n",
       "  <tbody>\n",
       "    <tr>\n",
       "      <th>10101010</th>\n",
       "      <td>5000</td>\n",
       "      <td>160</td>\n",
       "      <td>0</td>\n",
       "      <td>0.968</td>\n",
       "    </tr>\n",
       "    <tr>\n",
       "      <th>11101010</th>\n",
       "      <td>5000</td>\n",
       "      <td>150</td>\n",
       "      <td>0</td>\n",
       "      <td>0.970</td>\n",
       "    </tr>\n",
       "  </tbody>\n",
       "</table>\n",
       "</div>"
      ],
      "text/plain": [
       "          num_mol2vec  n_error_mol2vec  class_in_train_mol2vec  \\\n",
       "10101010         5000              160                       0   \n",
       "11101010         5000              150                       0   \n",
       "\n",
       "          accuray_in_each_class_mol2vec  \n",
       "10101010                          0.968  \n",
       "11101010                          0.970  "
      ]
     },
     "execution_count": 12,
     "metadata": {},
     "output_type": "execute_result"
    }
   ],
   "source": [
    "result_model_mol2vec.rename(columns={i: i + '_mol2vec' for i in cols}, inplace=True)\n",
    "result_model_mol2vec.head(2)"
   ]
  },
  {
   "cell_type": "code",
   "execution_count": 14,
   "metadata": {},
   "outputs": [
    {
     "data": {
      "text/html": [
       "<div>\n",
       "<style scoped>\n",
       "    .dataframe tbody tr th:only-of-type {\n",
       "        vertical-align: middle;\n",
       "    }\n",
       "\n",
       "    .dataframe tbody tr th {\n",
       "        vertical-align: top;\n",
       "    }\n",
       "\n",
       "    .dataframe thead th {\n",
       "        text-align: right;\n",
       "    }\n",
       "</style>\n",
       "<table border=\"1\" class=\"dataframe\">\n",
       "  <thead>\n",
       "    <tr style=\"text-align: right;\">\n",
       "      <th></th>\n",
       "      <th>num_parallel</th>\n",
       "      <th>n_error_parallel</th>\n",
       "      <th>class_in_train_parallel</th>\n",
       "      <th>accuray_in_each_class_parallel</th>\n",
       "    </tr>\n",
       "  </thead>\n",
       "  <tbody>\n",
       "    <tr>\n",
       "      <th>10101010</th>\n",
       "      <td>5000</td>\n",
       "      <td>1412</td>\n",
       "      <td>0</td>\n",
       "      <td>0.7176</td>\n",
       "    </tr>\n",
       "    <tr>\n",
       "      <th>11101010</th>\n",
       "      <td>5000</td>\n",
       "      <td>177</td>\n",
       "      <td>0</td>\n",
       "      <td>0.9646</td>\n",
       "    </tr>\n",
       "  </tbody>\n",
       "</table>\n",
       "</div>"
      ],
      "text/plain": [
       "          num_parallel  n_error_parallel  class_in_train_parallel  \\\n",
       "10101010          5000              1412                        0   \n",
       "11101010          5000               177                        0   \n",
       "\n",
       "          accuray_in_each_class_parallel  \n",
       "10101010                          0.7176  \n",
       "11101010                          0.9646  "
      ]
     },
     "execution_count": 14,
     "metadata": {},
     "output_type": "execute_result"
    }
   ],
   "source": [
    "result_parellel = pd.read_csv('./y_test_class2num_reg_paralle.csv', index_col=0)\n",
    "result_parellel.rename(columns={i: i + '_parallel' for i in cols}, inplace=True)\n",
    "result_parellel.head(2)"
   ]
  },
  {
   "cell_type": "code",
   "execution_count": 15,
   "metadata": {},
   "outputs": [
    {
     "data": {
      "text/html": [
       "<div>\n",
       "<style scoped>\n",
       "    .dataframe tbody tr th:only-of-type {\n",
       "        vertical-align: middle;\n",
       "    }\n",
       "\n",
       "    .dataframe tbody tr th {\n",
       "        vertical-align: top;\n",
       "    }\n",
       "\n",
       "    .dataframe thead th {\n",
       "        text-align: right;\n",
       "    }\n",
       "</style>\n",
       "<table border=\"1\" class=\"dataframe\">\n",
       "  <thead>\n",
       "    <tr style=\"text-align: right;\">\n",
       "      <th></th>\n",
       "      <th>num_tandem</th>\n",
       "      <th>n_error_tandem</th>\n",
       "      <th>class_in_train_tandem</th>\n",
       "      <th>accuray_in_each_class_tandem</th>\n",
       "    </tr>\n",
       "  </thead>\n",
       "  <tbody>\n",
       "    <tr>\n",
       "      <th>10101010</th>\n",
       "      <td>5000</td>\n",
       "      <td>803</td>\n",
       "      <td>0</td>\n",
       "      <td>0.8394</td>\n",
       "    </tr>\n",
       "    <tr>\n",
       "      <th>10101111</th>\n",
       "      <td>5000</td>\n",
       "      <td>531</td>\n",
       "      <td>0</td>\n",
       "      <td>0.8938</td>\n",
       "    </tr>\n",
       "  </tbody>\n",
       "</table>\n",
       "</div>"
      ],
      "text/plain": [
       "          num_tandem  n_error_tandem  class_in_train_tandem  \\\n",
       "10101010        5000             803                      0   \n",
       "10101111        5000             531                      0   \n",
       "\n",
       "          accuray_in_each_class_tandem  \n",
       "10101010                        0.8394  \n",
       "10101111                        0.8938  "
      ]
     },
     "execution_count": 15,
     "metadata": {},
     "output_type": "execute_result"
    }
   ],
   "source": [
    "result_tandem = pd.read_csv('./y_test_class2num_reg_tandem.csv', index_col=0)\n",
    "result_tandem.rename(columns={i: i+ '_tandem' for i in cols}, inplace=True)\n",
    "result_tandem.head(2)"
   ]
  },
  {
   "cell_type": "code",
   "execution_count": 16,
   "metadata": {},
   "outputs": [
    {
     "data": {
      "text/html": [
       "<div>\n",
       "<style scoped>\n",
       "    .dataframe tbody tr th:only-of-type {\n",
       "        vertical-align: middle;\n",
       "    }\n",
       "\n",
       "    .dataframe tbody tr th {\n",
       "        vertical-align: top;\n",
       "    }\n",
       "\n",
       "    .dataframe thead th {\n",
       "        text-align: right;\n",
       "    }\n",
       "</style>\n",
       "<table border=\"1\" class=\"dataframe\">\n",
       "  <thead>\n",
       "    <tr style=\"text-align: right;\">\n",
       "      <th></th>\n",
       "      <th>num_random</th>\n",
       "      <th>n_error_random</th>\n",
       "      <th>class_in_train_random</th>\n",
       "      <th>accuray_in_each_class_random</th>\n",
       "    </tr>\n",
       "  </thead>\n",
       "  <tbody>\n",
       "    <tr>\n",
       "      <th>11101010</th>\n",
       "      <td>5000</td>\n",
       "      <td>3470</td>\n",
       "      <td>0</td>\n",
       "      <td>0.3060</td>\n",
       "    </tr>\n",
       "    <tr>\n",
       "      <th>10101111</th>\n",
       "      <td>5000</td>\n",
       "      <td>457</td>\n",
       "      <td>0</td>\n",
       "      <td>0.9086</td>\n",
       "    </tr>\n",
       "  </tbody>\n",
       "</table>\n",
       "</div>"
      ],
      "text/plain": [
       "          num_random  n_error_random  class_in_train_random  \\\n",
       "11101010        5000            3470                      0   \n",
       "10101111        5000             457                      0   \n",
       "\n",
       "          accuray_in_each_class_random  \n",
       "11101010                        0.3060  \n",
       "10101111                        0.9086  "
      ]
     },
     "execution_count": 16,
     "metadata": {},
     "output_type": "execute_result"
    }
   ],
   "source": [
    "result_random = pd.read_csv('./y_test_class2num_reg_random_init.csv', index_col=0)\n",
    "result_random.rename(columns={i: i + '_random' for i in cols}, inplace=True)\n",
    "result_random.head(2)"
   ]
  },
  {
   "cell_type": "code",
   "execution_count": 18,
   "metadata": {},
   "outputs": [
    {
     "data": {
      "text/html": [
       "<div>\n",
       "<style scoped>\n",
       "    .dataframe tbody tr th:only-of-type {\n",
       "        vertical-align: middle;\n",
       "    }\n",
       "\n",
       "    .dataframe tbody tr th {\n",
       "        vertical-align: top;\n",
       "    }\n",
       "\n",
       "    .dataframe thead th {\n",
       "        text-align: right;\n",
       "    }\n",
       "</style>\n",
       "<table border=\"1\" class=\"dataframe\">\n",
       "  <thead>\n",
       "    <tr style=\"text-align: right;\">\n",
       "      <th></th>\n",
       "      <th>num_mol2vec</th>\n",
       "      <th>n_error_mol2vec</th>\n",
       "      <th>class_in_train_mol2vec</th>\n",
       "      <th>accuray_in_each_class_mol2vec</th>\n",
       "      <th>accuray_in_each_class_parallel</th>\n",
       "    </tr>\n",
       "  </thead>\n",
       "  <tbody>\n",
       "    <tr>\n",
       "      <th>10101010</th>\n",
       "      <td>5000</td>\n",
       "      <td>160</td>\n",
       "      <td>0</td>\n",
       "      <td>0.968</td>\n",
       "      <td>0.7176</td>\n",
       "    </tr>\n",
       "    <tr>\n",
       "      <th>11101010</th>\n",
       "      <td>5000</td>\n",
       "      <td>150</td>\n",
       "      <td>0</td>\n",
       "      <td>0.970</td>\n",
       "      <td>0.9646</td>\n",
       "    </tr>\n",
       "  </tbody>\n",
       "</table>\n",
       "</div>"
      ],
      "text/plain": [
       "          num_mol2vec  n_error_mol2vec  class_in_train_mol2vec  \\\n",
       "10101010         5000              160                       0   \n",
       "11101010         5000              150                       0   \n",
       "\n",
       "          accuray_in_each_class_mol2vec  accuray_in_each_class_parallel  \n",
       "10101010                          0.968                          0.7176  \n",
       "11101010                          0.970                          0.9646  "
      ]
     },
     "execution_count": 18,
     "metadata": {},
     "output_type": "execute_result"
    }
   ],
   "source": [
    "tmp1 = result_model_mol2vec.merge(result_parellel.loc[:, ['accuray_in_each_class_parallel']], left_index=True, right_index=True)\n",
    "tmp1.head(2)"
   ]
  },
  {
   "cell_type": "code",
   "execution_count": 19,
   "metadata": {},
   "outputs": [
    {
     "data": {
      "text/html": [
       "<div>\n",
       "<style scoped>\n",
       "    .dataframe tbody tr th:only-of-type {\n",
       "        vertical-align: middle;\n",
       "    }\n",
       "\n",
       "    .dataframe tbody tr th {\n",
       "        vertical-align: top;\n",
       "    }\n",
       "\n",
       "    .dataframe thead th {\n",
       "        text-align: right;\n",
       "    }\n",
       "</style>\n",
       "<table border=\"1\" class=\"dataframe\">\n",
       "  <thead>\n",
       "    <tr style=\"text-align: right;\">\n",
       "      <th></th>\n",
       "      <th>num_mol2vec</th>\n",
       "      <th>n_error_mol2vec</th>\n",
       "      <th>class_in_train_mol2vec</th>\n",
       "      <th>accuray_in_each_class_mol2vec</th>\n",
       "      <th>accuray_in_each_class_parallel</th>\n",
       "      <th>accuray_in_each_class_tandem</th>\n",
       "    </tr>\n",
       "  </thead>\n",
       "  <tbody>\n",
       "    <tr>\n",
       "      <th>10101010</th>\n",
       "      <td>5000</td>\n",
       "      <td>160</td>\n",
       "      <td>0</td>\n",
       "      <td>0.968</td>\n",
       "      <td>0.7176</td>\n",
       "      <td>0.8394</td>\n",
       "    </tr>\n",
       "    <tr>\n",
       "      <th>11101010</th>\n",
       "      <td>5000</td>\n",
       "      <td>150</td>\n",
       "      <td>0</td>\n",
       "      <td>0.970</td>\n",
       "      <td>0.9646</td>\n",
       "      <td>0.7158</td>\n",
       "    </tr>\n",
       "  </tbody>\n",
       "</table>\n",
       "</div>"
      ],
      "text/plain": [
       "          num_mol2vec  n_error_mol2vec  class_in_train_mol2vec  \\\n",
       "10101010         5000              160                       0   \n",
       "11101010         5000              150                       0   \n",
       "\n",
       "          accuray_in_each_class_mol2vec  accuray_in_each_class_parallel  \\\n",
       "10101010                          0.968                          0.7176   \n",
       "11101010                          0.970                          0.9646   \n",
       "\n",
       "          accuray_in_each_class_tandem  \n",
       "10101010                        0.8394  \n",
       "11101010                        0.7158  "
      ]
     },
     "execution_count": 19,
     "metadata": {},
     "output_type": "execute_result"
    }
   ],
   "source": [
    "tmp2 = tmp1.merge(result_tandem.loc[:, ['accuray_in_each_class_tandem']], left_index=True, right_index=True)\n",
    "tmp2.head(2)"
   ]
  },
  {
   "cell_type": "code",
   "execution_count": 20,
   "metadata": {},
   "outputs": [
    {
     "data": {
      "text/html": [
       "<div>\n",
       "<style scoped>\n",
       "    .dataframe tbody tr th:only-of-type {\n",
       "        vertical-align: middle;\n",
       "    }\n",
       "\n",
       "    .dataframe tbody tr th {\n",
       "        vertical-align: top;\n",
       "    }\n",
       "\n",
       "    .dataframe thead th {\n",
       "        text-align: right;\n",
       "    }\n",
       "</style>\n",
       "<table border=\"1\" class=\"dataframe\">\n",
       "  <thead>\n",
       "    <tr style=\"text-align: right;\">\n",
       "      <th></th>\n",
       "      <th>num_mol2vec</th>\n",
       "      <th>n_error_mol2vec</th>\n",
       "      <th>class_in_train_mol2vec</th>\n",
       "      <th>accuray_in_each_class_mol2vec</th>\n",
       "      <th>accuray_in_each_class_parallel</th>\n",
       "      <th>accuray_in_each_class_tandem</th>\n",
       "      <th>accuray_in_each_class_random</th>\n",
       "    </tr>\n",
       "  </thead>\n",
       "  <tbody>\n",
       "    <tr>\n",
       "      <th>10101010</th>\n",
       "      <td>5000</td>\n",
       "      <td>160</td>\n",
       "      <td>0</td>\n",
       "      <td>0.968</td>\n",
       "      <td>0.7176</td>\n",
       "      <td>0.8394</td>\n",
       "      <td>0.4014</td>\n",
       "    </tr>\n",
       "    <tr>\n",
       "      <th>11101010</th>\n",
       "      <td>5000</td>\n",
       "      <td>150</td>\n",
       "      <td>0</td>\n",
       "      <td>0.970</td>\n",
       "      <td>0.9646</td>\n",
       "      <td>0.7158</td>\n",
       "      <td>0.3060</td>\n",
       "    </tr>\n",
       "  </tbody>\n",
       "</table>\n",
       "</div>"
      ],
      "text/plain": [
       "          num_mol2vec  n_error_mol2vec  class_in_train_mol2vec  \\\n",
       "10101010         5000              160                       0   \n",
       "11101010         5000              150                       0   \n",
       "\n",
       "          accuray_in_each_class_mol2vec  accuray_in_each_class_parallel  \\\n",
       "10101010                          0.968                          0.7176   \n",
       "11101010                          0.970                          0.9646   \n",
       "\n",
       "          accuray_in_each_class_tandem  accuray_in_each_class_random  \n",
       "10101010                        0.8394                        0.4014  \n",
       "11101010                        0.7158                        0.3060  "
      ]
     },
     "execution_count": 20,
     "metadata": {},
     "output_type": "execute_result"
    }
   ],
   "source": [
    "final_result = tmp2.merge(result_random.loc[:, ['accuray_in_each_class_random']], left_index=True, right_index=True)\n",
    "final_result.head(2)"
   ]
  },
  {
   "cell_type": "code",
   "execution_count": 21,
   "metadata": {},
   "outputs": [],
   "source": [
    "final_result.drop(columns=['n_error_mol2vec'], inplace=True)"
   ]
  },
  {
   "cell_type": "code",
   "execution_count": 22,
   "metadata": {},
   "outputs": [],
   "source": [
    "final_result.to_csv('merged_y_test_class_accuracy.csv')"
   ]
  },
  {
   "cell_type": "code",
   "execution_count": null,
   "metadata": {},
   "outputs": [],
   "source": []
  }
 ],
 "metadata": {
  "kernelspec": {
   "display_name": "Python 3",
   "language": "python",
   "name": "python3"
  },
  "language_info": {
   "codemirror_mode": {
    "name": "ipython",
    "version": 3
   },
   "file_extension": ".py",
   "mimetype": "text/x-python",
   "name": "python",
   "nbconvert_exporter": "python",
   "pygments_lexer": "ipython3",
   "version": "3.6.10"
  }
 },
 "nbformat": 4,
 "nbformat_minor": 4
}
