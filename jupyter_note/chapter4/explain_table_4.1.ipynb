{
 "cells": [
  {
   "cell_type": "markdown",
   "metadata": {},
   "source": [
    "### This question was asked by teacher Yao\n",
    "- Why some classes always have higher accuracy in classification"
   ]
  },
  {
   "cell_type": "code",
   "execution_count": 37,
   "metadata": {},
   "outputs": [],
   "source": [
    "import pandas as pd\n",
    "import numpy as np\n",
    "import seaborn as sns\n",
    "from tqdm import tqdm\n",
    "import matplotlib.pyplot as plt"
   ]
  },
  {
   "cell_type": "code",
   "execution_count": 4,
   "metadata": {},
   "outputs": [
    {
     "name": "stdout",
     "output_type": "stream",
     "text": [
      "(140, 7)\n"
     ]
    },
    {
     "data": {
      "text/html": [
       "<div>\n",
       "<style scoped>\n",
       "    .dataframe tbody tr th:only-of-type {\n",
       "        vertical-align: middle;\n",
       "    }\n",
       "\n",
       "    .dataframe tbody tr th {\n",
       "        vertical-align: top;\n",
       "    }\n",
       "\n",
       "    .dataframe thead th {\n",
       "        text-align: right;\n",
       "    }\n",
       "</style>\n",
       "<table border=\"1\" class=\"dataframe\">\n",
       "  <thead>\n",
       "    <tr style=\"text-align: right;\">\n",
       "      <th></th>\n",
       "      <th>Unnamed: 0</th>\n",
       "      <th>num_mol2vec</th>\n",
       "      <th>class_in_train_mol2vec</th>\n",
       "      <th>accuray_in_each_class_mol2vec</th>\n",
       "      <th>accuray_in_each_class_parallel</th>\n",
       "      <th>accuray_in_each_class_tandem</th>\n",
       "      <th>accuray_in_each_class_random</th>\n",
       "    </tr>\n",
       "  </thead>\n",
       "  <tbody>\n",
       "    <tr>\n",
       "      <th>0</th>\n",
       "      <td>10101010</td>\n",
       "      <td>5000</td>\n",
       "      <td>0</td>\n",
       "      <td>0.9316</td>\n",
       "      <td>0.7176</td>\n",
       "      <td>0.8394</td>\n",
       "      <td>0.4014</td>\n",
       "    </tr>\n",
       "    <tr>\n",
       "      <th>1</th>\n",
       "      <td>10101111</td>\n",
       "      <td>5000</td>\n",
       "      <td>0</td>\n",
       "      <td>0.9800</td>\n",
       "      <td>0.9410</td>\n",
       "      <td>0.8938</td>\n",
       "      <td>0.9086</td>\n",
       "    </tr>\n",
       "  </tbody>\n",
       "</table>\n",
       "</div>"
      ],
      "text/plain": [
       "   Unnamed: 0  num_mol2vec  class_in_train_mol2vec  \\\n",
       "0    10101010         5000                       0   \n",
       "1    10101111         5000                       0   \n",
       "\n",
       "   accuray_in_each_class_mol2vec  accuray_in_each_class_parallel  \\\n",
       "0                         0.9316                          0.7176   \n",
       "1                         0.9800                          0.9410   \n",
       "\n",
       "   accuray_in_each_class_tandem  accuray_in_each_class_random  \n",
       "0                        0.8394                        0.4014  \n",
       "1                        0.8938                        0.9086  "
      ]
     },
     "execution_count": 4,
     "metadata": {},
     "output_type": "execute_result"
    }
   ],
   "source": [
    "class_accuracy = pd.read_csv('./merged_y_test_class_accuracy_new.csv')\n",
    "print(class_accuracy.shape)\n",
    "class_accuracy.head(2)"
   ]
  },
  {
   "cell_type": "code",
   "execution_count": 8,
   "metadata": {},
   "outputs": [
    {
     "data": {
      "text/html": [
       "<div>\n",
       "<style scoped>\n",
       "    .dataframe tbody tr th:only-of-type {\n",
       "        vertical-align: middle;\n",
       "    }\n",
       "\n",
       "    .dataframe tbody tr th {\n",
       "        vertical-align: top;\n",
       "    }\n",
       "\n",
       "    .dataframe thead th {\n",
       "        text-align: right;\n",
       "    }\n",
       "</style>\n",
       "<table border=\"1\" class=\"dataframe\">\n",
       "  <thead>\n",
       "    <tr style=\"text-align: right;\">\n",
       "      <th></th>\n",
       "      <th>Unnamed: 0</th>\n",
       "      <th>num_mol2vec</th>\n",
       "      <th>class_in_train_mol2vec</th>\n",
       "      <th>accuray_in_each_class_mol2vec</th>\n",
       "      <th>accuray_in_each_class_parallel</th>\n",
       "      <th>accuray_in_each_class_tandem</th>\n",
       "      <th>accuray_in_each_class_random</th>\n",
       "    </tr>\n",
       "  </thead>\n",
       "  <tbody>\n",
       "    <tr>\n",
       "      <th>0</th>\n",
       "      <td>10101010</td>\n",
       "      <td>5000</td>\n",
       "      <td>0</td>\n",
       "      <td>0.931600</td>\n",
       "      <td>0.717600</td>\n",
       "      <td>0.839400</td>\n",
       "      <td>0.401400</td>\n",
       "    </tr>\n",
       "    <tr>\n",
       "      <th>1</th>\n",
       "      <td>10101111</td>\n",
       "      <td>5000</td>\n",
       "      <td>0</td>\n",
       "      <td>0.980000</td>\n",
       "      <td>0.941000</td>\n",
       "      <td>0.893800</td>\n",
       "      <td>0.908600</td>\n",
       "    </tr>\n",
       "    <tr>\n",
       "      <th>2</th>\n",
       "      <td>10111111</td>\n",
       "      <td>5000</td>\n",
       "      <td>0</td>\n",
       "      <td>0.872400</td>\n",
       "      <td>0.947200</td>\n",
       "      <td>0.881400</td>\n",
       "      <td>0.265600</td>\n",
       "    </tr>\n",
       "    <tr>\n",
       "      <th>3</th>\n",
       "      <td>11101010</td>\n",
       "      <td>5000</td>\n",
       "      <td>0</td>\n",
       "      <td>0.920800</td>\n",
       "      <td>0.964600</td>\n",
       "      <td>0.715800</td>\n",
       "      <td>0.306000</td>\n",
       "    </tr>\n",
       "    <tr>\n",
       "      <th>4</th>\n",
       "      <td>11000011</td>\n",
       "      <td>3826</td>\n",
       "      <td>0</td>\n",
       "      <td>0.980920</td>\n",
       "      <td>0.995557</td>\n",
       "      <td>0.965238</td>\n",
       "      <td>0.829848</td>\n",
       "    </tr>\n",
       "    <tr>\n",
       "      <th>5</th>\n",
       "      <td>10110110</td>\n",
       "      <td>2812</td>\n",
       "      <td>0</td>\n",
       "      <td>0.860242</td>\n",
       "      <td>0.995021</td>\n",
       "      <td>0.944523</td>\n",
       "      <td>0.417852</td>\n",
       "    </tr>\n",
       "    <tr>\n",
       "      <th>6</th>\n",
       "      <td>10101101</td>\n",
       "      <td>1337</td>\n",
       "      <td>0</td>\n",
       "      <td>0.940165</td>\n",
       "      <td>0.952880</td>\n",
       "      <td>0.362004</td>\n",
       "      <td>0.145101</td>\n",
       "    </tr>\n",
       "    <tr>\n",
       "      <th>7</th>\n",
       "      <td>10000111</td>\n",
       "      <td>1247</td>\n",
       "      <td>0</td>\n",
       "      <td>0.949479</td>\n",
       "      <td>0.973536</td>\n",
       "      <td>0.943063</td>\n",
       "      <td>0.855654</td>\n",
       "    </tr>\n",
       "    <tr>\n",
       "      <th>8</th>\n",
       "      <td>11111111</td>\n",
       "      <td>1218</td>\n",
       "      <td>0</td>\n",
       "      <td>0.893268</td>\n",
       "      <td>0.985222</td>\n",
       "      <td>0.951560</td>\n",
       "      <td>0.203612</td>\n",
       "    </tr>\n",
       "    <tr>\n",
       "      <th>40</th>\n",
       "      <td>10101000</td>\n",
       "      <td>230</td>\n",
       "      <td>0</td>\n",
       "      <td>0.986957</td>\n",
       "      <td>0.860870</td>\n",
       "      <td>0.386957</td>\n",
       "      <td>0.008696</td>\n",
       "    </tr>\n",
       "    <tr>\n",
       "      <th>58</th>\n",
       "      <td>110110</td>\n",
       "      <td>58</td>\n",
       "      <td>0</td>\n",
       "      <td>0.293103</td>\n",
       "      <td>0.982759</td>\n",
       "      <td>0.931034</td>\n",
       "      <td>0.000000</td>\n",
       "    </tr>\n",
       "  </tbody>\n",
       "</table>\n",
       "</div>"
      ],
      "text/plain": [
       "    Unnamed: 0  num_mol2vec  class_in_train_mol2vec  \\\n",
       "0     10101010         5000                       0   \n",
       "1     10101111         5000                       0   \n",
       "2     10111111         5000                       0   \n",
       "3     11101010         5000                       0   \n",
       "4     11000011         3826                       0   \n",
       "5     10110110         2812                       0   \n",
       "6     10101101         1337                       0   \n",
       "7     10000111         1247                       0   \n",
       "8     11111111         1218                       0   \n",
       "40    10101000          230                       0   \n",
       "58      110110           58                       0   \n",
       "\n",
       "    accuray_in_each_class_mol2vec  accuray_in_each_class_parallel  \\\n",
       "0                        0.931600                        0.717600   \n",
       "1                        0.980000                        0.941000   \n",
       "2                        0.872400                        0.947200   \n",
       "3                        0.920800                        0.964600   \n",
       "4                        0.980920                        0.995557   \n",
       "5                        0.860242                        0.995021   \n",
       "6                        0.940165                        0.952880   \n",
       "7                        0.949479                        0.973536   \n",
       "8                        0.893268                        0.985222   \n",
       "40                       0.986957                        0.860870   \n",
       "58                       0.293103                        0.982759   \n",
       "\n",
       "    accuray_in_each_class_tandem  accuray_in_each_class_random  \n",
       "0                       0.839400                      0.401400  \n",
       "1                       0.893800                      0.908600  \n",
       "2                       0.881400                      0.265600  \n",
       "3                       0.715800                      0.306000  \n",
       "4                       0.965238                      0.829848  \n",
       "5                       0.944523                      0.417852  \n",
       "6                       0.362004                      0.145101  \n",
       "7                       0.943063                      0.855654  \n",
       "8                       0.951560                      0.203612  \n",
       "40                      0.386957                      0.008696  \n",
       "58                      0.931034                      0.000000  "
      ]
     },
     "execution_count": 8,
     "metadata": {},
     "output_type": "execute_result"
    }
   ],
   "source": [
    "class_accuracy[(class_accuracy.class_in_train_mol2vec==0) & (class_accuracy.num_mol2vec>=50)]"
   ]
  },
  {
   "cell_type": "code",
   "execution_count": 6,
   "metadata": {},
   "outputs": [
    {
     "data": {
      "text/html": [
       "<div>\n",
       "<style scoped>\n",
       "    .dataframe tbody tr th:only-of-type {\n",
       "        vertical-align: middle;\n",
       "    }\n",
       "\n",
       "    .dataframe tbody tr th {\n",
       "        vertical-align: top;\n",
       "    }\n",
       "\n",
       "    .dataframe thead th {\n",
       "        text-align: right;\n",
       "    }\n",
       "</style>\n",
       "<table border=\"1\" class=\"dataframe\">\n",
       "  <thead>\n",
       "    <tr style=\"text-align: right;\">\n",
       "      <th></th>\n",
       "      <th>nN</th>\n",
       "      <th>nS</th>\n",
       "      <th>nO</th>\n",
       "      <th>nX</th>\n",
       "      <th>nBondsD</th>\n",
       "      <th>nBondsT</th>\n",
       "      <th>naRing</th>\n",
       "      <th>nARing</th>\n",
       "    </tr>\n",
       "    <tr>\n",
       "      <th>cid</th>\n",
       "      <th></th>\n",
       "      <th></th>\n",
       "      <th></th>\n",
       "      <th></th>\n",
       "      <th></th>\n",
       "      <th></th>\n",
       "      <th></th>\n",
       "      <th></th>\n",
       "    </tr>\n",
       "  </thead>\n",
       "  <tbody>\n",
       "    <tr>\n",
       "      <th>id924952</th>\n",
       "      <td>0</td>\n",
       "      <td>0</td>\n",
       "      <td>0</td>\n",
       "      <td>0</td>\n",
       "      <td>1</td>\n",
       "      <td>0</td>\n",
       "      <td>0</td>\n",
       "      <td>8</td>\n",
       "    </tr>\n",
       "    <tr>\n",
       "      <th>id57340</th>\n",
       "      <td>0</td>\n",
       "      <td>0</td>\n",
       "      <td>0</td>\n",
       "      <td>6</td>\n",
       "      <td>0</td>\n",
       "      <td>0</td>\n",
       "      <td>0</td>\n",
       "      <td>0</td>\n",
       "    </tr>\n",
       "  </tbody>\n",
       "</table>\n",
       "</div>"
      ],
      "text/plain": [
       "          nN  nS  nO  nX  nBondsD  nBondsT  naRing  nARing\n",
       "cid                                                       \n",
       "id924952   0   0   0   0        1        0       0       8\n",
       "id57340    0   0   0   6        0        0       0       0"
      ]
     },
     "execution_count": 6,
     "metadata": {},
     "output_type": "execute_result"
    }
   ],
   "source": [
    "mol2md = pd.read_csv('../../big-data/moses_dataset/result/mol2md_downsampled_max_5000.csv', index_col=0)\n",
    "mol2md.head(2)"
   ]
  },
  {
   "cell_type": "code",
   "execution_count": 7,
   "metadata": {},
   "outputs": [
    {
     "data": {
      "text/html": [
       "<div>\n",
       "<style scoped>\n",
       "    .dataframe tbody tr th:only-of-type {\n",
       "        vertical-align: middle;\n",
       "    }\n",
       "\n",
       "    .dataframe tbody tr th {\n",
       "        vertical-align: top;\n",
       "    }\n",
       "\n",
       "    .dataframe thead th {\n",
       "        text-align: right;\n",
       "    }\n",
       "</style>\n",
       "<table border=\"1\" class=\"dataframe\">\n",
       "  <thead>\n",
       "    <tr style=\"text-align: right;\">\n",
       "      <th></th>\n",
       "      <th>nN</th>\n",
       "      <th>nS</th>\n",
       "      <th>nO</th>\n",
       "      <th>nX</th>\n",
       "      <th>nBondsD</th>\n",
       "      <th>nBondsT</th>\n",
       "      <th>naRing</th>\n",
       "      <th>nARing</th>\n",
       "      <th>class</th>\n",
       "    </tr>\n",
       "    <tr>\n",
       "      <th>cid</th>\n",
       "      <th></th>\n",
       "      <th></th>\n",
       "      <th></th>\n",
       "      <th></th>\n",
       "      <th></th>\n",
       "      <th></th>\n",
       "      <th></th>\n",
       "      <th></th>\n",
       "      <th></th>\n",
       "    </tr>\n",
       "  </thead>\n",
       "  <tbody>\n",
       "    <tr>\n",
       "      <th>id924952</th>\n",
       "      <td>0</td>\n",
       "      <td>0</td>\n",
       "      <td>0</td>\n",
       "      <td>0</td>\n",
       "      <td>1</td>\n",
       "      <td>0</td>\n",
       "      <td>0</td>\n",
       "      <td>1</td>\n",
       "      <td>00001001</td>\n",
       "    </tr>\n",
       "    <tr>\n",
       "      <th>id57340</th>\n",
       "      <td>0</td>\n",
       "      <td>0</td>\n",
       "      <td>0</td>\n",
       "      <td>1</td>\n",
       "      <td>0</td>\n",
       "      <td>0</td>\n",
       "      <td>0</td>\n",
       "      <td>0</td>\n",
       "      <td>00010000</td>\n",
       "    </tr>\n",
       "    <tr>\n",
       "      <th>id777512</th>\n",
       "      <td>0</td>\n",
       "      <td>0</td>\n",
       "      <td>0</td>\n",
       "      <td>1</td>\n",
       "      <td>0</td>\n",
       "      <td>0</td>\n",
       "      <td>0</td>\n",
       "      <td>0</td>\n",
       "      <td>00010000</td>\n",
       "    </tr>\n",
       "    <tr>\n",
       "      <th>id851222</th>\n",
       "      <td>0</td>\n",
       "      <td>0</td>\n",
       "      <td>0</td>\n",
       "      <td>1</td>\n",
       "      <td>0</td>\n",
       "      <td>0</td>\n",
       "      <td>0</td>\n",
       "      <td>0</td>\n",
       "      <td>00010000</td>\n",
       "    </tr>\n",
       "    <tr>\n",
       "      <th>id851238</th>\n",
       "      <td>0</td>\n",
       "      <td>0</td>\n",
       "      <td>0</td>\n",
       "      <td>1</td>\n",
       "      <td>0</td>\n",
       "      <td>0</td>\n",
       "      <td>0</td>\n",
       "      <td>0</td>\n",
       "      <td>00010000</td>\n",
       "    </tr>\n",
       "  </tbody>\n",
       "</table>\n",
       "</div>"
      ],
      "text/plain": [
       "          nN  nS  nO  nX  nBondsD  nBondsT  naRing  nARing     class\n",
       "cid                                                                 \n",
       "id924952   0   0   0   0        1        0       0       1  00001001\n",
       "id57340    0   0   0   1        0        0       0       0  00010000\n",
       "id777512   0   0   0   1        0        0       0       0  00010000\n",
       "id851222   0   0   0   1        0        0       0       0  00010000\n",
       "id851238   0   0   0   1        0        0       0       0  00010000"
      ]
     },
     "execution_count": 7,
     "metadata": {},
     "output_type": "execute_result"
    }
   ],
   "source": [
    "mol2md_class = mol2md.copy()\n",
    "mol2md_class[mol2md_class >= 1] = 1\n",
    "mol2md_class['class'] = mol2md_class.apply(lambda x: ''.join([str(i) for i in x]), axis=1)\n",
    "mol2md_class.head()"
   ]
  },
  {
   "cell_type": "code",
   "execution_count": 9,
   "metadata": {},
   "outputs": [
    {
     "data": {
      "text/plain": [
       "(5000, 9)"
      ]
     },
     "execution_count": 9,
     "metadata": {},
     "output_type": "execute_result"
    }
   ],
   "source": [
    "class_10101010 = mol2md_class[mol2md_class['class'] == '10101010']  # parallel model is worse\n",
    "class_10101010.shape"
   ]
  },
  {
   "cell_type": "code",
   "execution_count": 10,
   "metadata": {},
   "outputs": [
    {
     "data": {
      "text/plain": [
       "(3826, 9)"
      ]
     },
     "execution_count": 10,
     "metadata": {},
     "output_type": "execute_result"
    }
   ],
   "source": [
    "class_11000011 = mol2md_class[mol2md_class['class'] == '11000011']  # similar\n",
    "class_11000011.shape"
   ]
  },
  {
   "cell_type": "code",
   "execution_count": 11,
   "metadata": {},
   "outputs": [
    {
     "data": {
      "text/plain": [
       "(58, 9)"
      ]
     },
     "execution_count": 11,
     "metadata": {},
     "output_type": "execute_result"
    }
   ],
   "source": [
    "class_110110 = mol2md_class[mol2md_class['class'] == '00110110']  # parallel model is much better\n",
    "class_110110.shape"
   ]
  },
  {
   "cell_type": "code",
   "execution_count": 22,
   "metadata": {
    "collapsed": true,
    "jupyter": {
     "outputs_hidden": true
    }
   },
   "outputs": [
    {
     "data": {
      "text/plain": [
       "['id20107',\n",
       " 'id53217',\n",
       " 'id53229',\n",
       " 'id53232',\n",
       " 'id55083',\n",
       " 'id62381',\n",
       " 'id64416',\n",
       " 'id64431',\n",
       " 'id82044',\n",
       " 'id298612',\n",
       " 'id490813',\n",
       " 'id490814',\n",
       " 'id490816',\n",
       " 'id490818',\n",
       " 'id490819',\n",
       " 'id490827',\n",
       " 'id493247',\n",
       " 'id503613',\n",
       " 'id503614',\n",
       " 'id570309',\n",
       " 'id676362',\n",
       " 'id702474',\n",
       " 'id702475',\n",
       " 'id702476',\n",
       " 'id702477',\n",
       " 'id702478',\n",
       " 'id702479',\n",
       " 'id702480',\n",
       " 'id702481',\n",
       " 'id702482',\n",
       " 'id702483',\n",
       " 'id702484',\n",
       " 'id702485',\n",
       " 'id702486',\n",
       " 'id702487',\n",
       " 'id702489',\n",
       " 'id702492',\n",
       " 'id702493',\n",
       " 'id702494',\n",
       " 'id702495',\n",
       " 'id702497',\n",
       " 'id702498',\n",
       " 'id702499',\n",
       " 'id702500',\n",
       " 'id702501',\n",
       " 'id702502',\n",
       " 'id702503',\n",
       " 'id702504',\n",
       " 'id702506',\n",
       " 'id702507',\n",
       " 'id702508',\n",
       " 'id702510',\n",
       " 'id850386',\n",
       " 'id877529',\n",
       " 'id1009358',\n",
       " 'id1401013',\n",
       " 'id1550934',\n",
       " 'id1550949']"
      ]
     },
     "execution_count": 22,
     "metadata": {},
     "output_type": "execute_result"
    }
   ],
   "source": [
    "class_110110.index.to_list()"
   ]
  },
  {
   "cell_type": "markdown",
   "metadata": {},
   "source": [
    "### get mol sentence by cid"
   ]
  },
  {
   "cell_type": "code",
   "execution_count": 29,
   "metadata": {},
   "outputs": [],
   "source": [
    "def get_mol_sentence_by_cid(mol_sent_fp, selected_class, cid2smiles_fp=None, model_type='mol2vec', class_id=''):\n",
    "    selected_cid2mol_sentence = {}\n",
    "    inx2cid = {}\n",
    "    cid_list = selected_class.index.to_list()\n",
    "    result_fn = './table_4_1/class_{}_mol_sentence_model_{}.csv'.format(class_id, model_type)\n",
    "    if cid2smiles_fp:\n",
    "        cid2smiles = pd.read_csv(cid2smiles_fp, usecols=['cid'])\n",
    "        inx2cid = cid2smiles['cid'].to_dict()\n",
    "    with open(mol_sent_fp, 'r') as f_handle:\n",
    "        for counter, each_row in enumerate(tqdm(f_handle)):\n",
    "            each_row = each_row.strip()\n",
    "            cid = ''\n",
    "            mol_sent = ''\n",
    "            if counter in inx2cid:\n",
    "                cid = inx2cid[counter]\n",
    "                mol_sent = each_row  # mol sentence is the whole row and seperated by space\n",
    "            else:\n",
    "                cid = each_row.split('\\t')[0]\n",
    "                mol_sent = ' '.join(each_row.split('\\t')[1].split(','))  # mol sentence is the second part and seperated by ','\n",
    "            if cid in cid_list:\n",
    "                if model_type == 'parallel':\n",
    "                    with open(result_fn, 'a') as f_handle2:\n",
    "                        f_handle2.write(each_row + '\\n')\n",
    "                else:\n",
    "                    selected_cid2mol_sentence[cid] = mol_sent\n",
    "        if selected_cid2mol_sentence:\n",
    "            selected_cid2mol_sentence_df = pd.DataFrame.from_dict(selected_cid2mol_sentence, orient='index')\n",
    "            selected_cid2mol_sentence_df.to_csv(result_fn)\n",
    "        # return selected_cid2mol_sentence_df"
   ]
  },
  {
   "cell_type": "code",
   "execution_count": 30,
   "metadata": {},
   "outputs": [],
   "source": [
    "mol_sent_fp_mol2vec = '../../big-data/moses_dataset/model_mol2vec/cid2smiles_training_set_coupus_all_MOSES.txt'\n",
    "cid2smiles_fp = '../../big-data/moses_dataset/raw_data/all_cid2smiles_moses.csv'\n",
    "mol_sent_fp_parallel = '../../big-data/moses_dataset/result/step2_parallel_cid2smiles_sentence.csv'\n",
    "class_id2class_df = {'10101010': class_10101010, '11000011': class_11000011, '110110': class_110110}"
   ]
  },
  {
   "cell_type": "code",
   "execution_count": 31,
   "metadata": {},
   "outputs": [
    {
     "name": "stdout",
     "output_type": "stream",
     "text": [
      ">>> class 10101010\n",
      "  model mol2vec...\n"
     ]
    },
    {
     "name": "stderr",
     "output_type": "stream",
     "text": [
      "1584663it [02:24, 10985.65it/s]\n",
      "3286it [00:00, 16326.92it/s]"
     ]
    },
    {
     "name": "stdout",
     "output_type": "stream",
     "text": [
      "  model parallel...\n"
     ]
    },
    {
     "name": "stderr",
     "output_type": "stream",
     "text": [
      "13640898it [20:30, 11089.09it/s]\n"
     ]
    }
   ],
   "source": [
    "class_id = '10101010'\n",
    "print('>>> class {}'.format(class_id))\n",
    "print('  model mol2vec...')\n",
    "get_mol_sentence_by_cid(mol_sent_fp=mol_sent_fp_mol2vec, cid2smiles_fp=cid2smiles_fp, \n",
    "                        selected_class=class_id2class_df[class_id], model_type='mol2vec', class_id=class_id)\n",
    "print('  model parallel...')\n",
    "get_mol_sentence_by_cid(mol_sent_fp=mol_sent_fp_parallel, \n",
    "                        selected_class=class_id2class_df[class_id], model_type='parallel', class_id=class_id)"
   ]
  },
  {
   "cell_type": "code",
   "execution_count": 32,
   "metadata": {},
   "outputs": [
    {
     "name": "stdout",
     "output_type": "stream",
     "text": [
      ">>> class 11000011\n",
      "  model mol2vec...\n"
     ]
    },
    {
     "name": "stderr",
     "output_type": "stream",
     "text": [
      "1584663it [01:24, 18697.17it/s]\n",
      "2138it [00:00, 21376.35it/s]"
     ]
    },
    {
     "name": "stdout",
     "output_type": "stream",
     "text": [
      "  model parallel...\n"
     ]
    },
    {
     "name": "stderr",
     "output_type": "stream",
     "text": [
      "13640898it [12:18, 18480.56it/s]\n"
     ]
    },
    {
     "name": "stdout",
     "output_type": "stream",
     "text": [
      ">>> class 110110\n",
      "  model mol2vec...\n"
     ]
    },
    {
     "name": "stderr",
     "output_type": "stream",
     "text": [
      "1584663it [00:02, 552658.17it/s]\n",
      "81340it [00:00, 402712.42it/s]"
     ]
    },
    {
     "name": "stdout",
     "output_type": "stream",
     "text": [
      "  model parallel...\n"
     ]
    },
    {
     "name": "stderr",
     "output_type": "stream",
     "text": [
      "13640898it [00:34, 400245.53it/s]\n"
     ]
    }
   ],
   "source": [
    "class_id = '11000011'\n",
    "print('>>> class {}'.format(class_id))\n",
    "print('  model mol2vec...')\n",
    "get_mol_sentence_by_cid(mol_sent_fp=mol_sent_fp_mol2vec, cid2smiles_fp=cid2smiles_fp, \n",
    "                        selected_class=class_id2class_df[class_id], model_type='mol2vec', class_id=class_id)\n",
    "print('  model parallel...')\n",
    "get_mol_sentence_by_cid(mol_sent_fp=mol_sent_fp_parallel, \n",
    "                        selected_class=class_id2class_df[class_id], model_type='parallel', class_id=class_id)\n",
    "\n",
    "class_id = '110110'\n",
    "print('>>> class {}'.format(class_id))\n",
    "print('  model mol2vec...')\n",
    "get_mol_sentence_by_cid(mol_sent_fp=mol_sent_fp_mol2vec, cid2smiles_fp=cid2smiles_fp, \n",
    "                        selected_class=class_id2class_df[class_id], model_type='mol2vec', class_id=class_id)\n",
    "print('  model parallel...')\n",
    "get_mol_sentence_by_cid(mol_sent_fp=mol_sent_fp_parallel, \n",
    "                        selected_class=class_id2class_df[class_id], model_type='parallel', class_id=class_id)"
   ]
  },
  {
   "cell_type": "markdown",
   "metadata": {},
   "source": [
    "### cal length of mol sentence"
   ]
  },
  {
   "cell_type": "code",
   "execution_count": 33,
   "metadata": {},
   "outputs": [],
   "source": [
    "def cal_len_mol_sent(class_id, model_type):\n",
    "    fn = './table_4_1/class_{}_mol_sentence_model_{}.csv'.format(class_id, model_type)\n",
    "    len_mol_sent = []\n",
    "    with open(fn, 'r') as f_handle:\n",
    "        for i in f_handle:\n",
    "            if model_type == 'parallel':\n",
    "                cid, mol_sent = i.strip().split('\\t')\n",
    "                frags = mol_sent.split(',')\n",
    "                len_mol_sent.append(len(frags))\n",
    "            if model_type == 'mol2vec':\n",
    "                cid, mol_sent = i.strip().split(',')\n",
    "                if mol_sent != '0':\n",
    "                    frags = mol_sent.split(' ')\n",
    "                    len_mol_sent.append(len(frags))\n",
    "    print('There are {} sentences in this class'.format(len(len_mol_sent)))\n",
    "    return len_mol_sent"
   ]
  },
  {
   "cell_type": "code",
   "execution_count": 40,
   "metadata": {},
   "outputs": [
    {
     "name": "stdout",
     "output_type": "stream",
     "text": [
      "There are 5000 sentences in this class\n",
      "There are 47468 sentences in this class\n",
      "There are 3826 sentences in this class\n",
      "There are 9542 sentences in this class\n",
      "There are 58 sentences in this class\n",
      "There are 409 sentences in this class\n"
     ]
    }
   ],
   "source": [
    "class2len_mol_sent = {}\n",
    "for class_id in class_id2class_df.keys():\n",
    "    for model_type in ['mol2vec', 'parallel']:\n",
    "        _ = pd.DataFrame(columns=['class_id', 'model_type', 'len_mol_sent'])\n",
    "        _['len_mol_sent'] = cal_len_mol_sent(class_id, model_type)\n",
    "        _['class_id'] = class_id\n",
    "        _['model_type'] = model_type\n",
    "        class2len_mol_sent[class_id + '-' + model_type] = _"
   ]
  },
  {
   "cell_type": "code",
   "execution_count": 44,
   "metadata": {},
   "outputs": [
    {
     "data": {
      "text/plain": [
       "(66303, 3)"
      ]
     },
     "execution_count": 44,
     "metadata": {},
     "output_type": "execute_result"
    }
   ],
   "source": [
    "class2len_mol_sent_df = pd.concat(list(class2len_mol_sent.values()))\n",
    "class2len_mol_sent_df.shape"
   ]
  },
  {
   "cell_type": "code",
   "execution_count": 46,
   "metadata": {},
   "outputs": [
    {
     "data": {
      "text/html": [
       "<div>\n",
       "<style scoped>\n",
       "    .dataframe tbody tr th:only-of-type {\n",
       "        vertical-align: middle;\n",
       "    }\n",
       "\n",
       "    .dataframe tbody tr th {\n",
       "        vertical-align: top;\n",
       "    }\n",
       "\n",
       "    .dataframe thead th {\n",
       "        text-align: right;\n",
       "    }\n",
       "</style>\n",
       "<table border=\"1\" class=\"dataframe\">\n",
       "  <thead>\n",
       "    <tr style=\"text-align: right;\">\n",
       "      <th></th>\n",
       "      <th>class_id</th>\n",
       "      <th>model_type</th>\n",
       "      <th>len_mol_sent</th>\n",
       "    </tr>\n",
       "  </thead>\n",
       "  <tbody>\n",
       "    <tr>\n",
       "      <th>404</th>\n",
       "      <td>110110</td>\n",
       "      <td>parallel</td>\n",
       "      <td>7</td>\n",
       "    </tr>\n",
       "    <tr>\n",
       "      <th>405</th>\n",
       "      <td>110110</td>\n",
       "      <td>parallel</td>\n",
       "      <td>6</td>\n",
       "    </tr>\n",
       "    <tr>\n",
       "      <th>406</th>\n",
       "      <td>110110</td>\n",
       "      <td>parallel</td>\n",
       "      <td>5</td>\n",
       "    </tr>\n",
       "    <tr>\n",
       "      <th>407</th>\n",
       "      <td>110110</td>\n",
       "      <td>parallel</td>\n",
       "      <td>4</td>\n",
       "    </tr>\n",
       "    <tr>\n",
       "      <th>408</th>\n",
       "      <td>110110</td>\n",
       "      <td>parallel</td>\n",
       "      <td>4</td>\n",
       "    </tr>\n",
       "  </tbody>\n",
       "</table>\n",
       "</div>"
      ],
      "text/plain": [
       "    class_id model_type  len_mol_sent\n",
       "404   110110   parallel             7\n",
       "405   110110   parallel             6\n",
       "406   110110   parallel             5\n",
       "407   110110   parallel             4\n",
       "408   110110   parallel             4"
      ]
     },
     "execution_count": 46,
     "metadata": {},
     "output_type": "execute_result"
    }
   ],
   "source": [
    "class2len_mol_sent_df.tail()"
   ]
  },
  {
   "cell_type": "code",
   "execution_count": 52,
   "metadata": {},
   "outputs": [],
   "source": [
    "class2len_mol_sent_df2 = class2len_mol_sent_df.copy()\n",
    "class2len_mol_sent_df2.loc[class2len_mol_sent_df['model_type']=='mol2vec', 'len_mol_sent'] = class2len_mol_sent_df2.loc[class2len_mol_sent_df['model_type']=='mol2vec', 'len_mol_sent'] - 30\n",
    "class2len_mol_sent_df2.loc[class2len_mol_sent_df['model_type']=='mol2vec', 'model_type'] = 'mol2vec - 30'"
   ]
  },
  {
   "cell_type": "code",
   "execution_count": 47,
   "metadata": {},
   "outputs": [],
   "source": [
    "class2len_mol_sent_df.to_csv('./table_4_1/class2len_mol_sentence_df.csv')"
   ]
  },
  {
   "cell_type": "code",
   "execution_count": 36,
   "metadata": {},
   "outputs": [],
   "source": [
    "for key, values in class2len_mol_sent.items():\n",
    "    with open('./table_4_1/class2len_mol_sentence.txt', 'a') as f_handle:\n",
    "        f_handle.write(key + '\\t' + ','.join([str(n) for n in values]) + '\\n')"
   ]
  },
  {
   "cell_type": "code",
   "execution_count": 49,
   "metadata": {},
   "outputs": [
    {
     "data": {
      "image/png": "[encoded data removed]",
      "text/plain": [
       "<Figure size 432x288 with 1 Axes>"
      ]
     },
     "metadata": {},
     "output_type": "display_data"
    }
   ],
   "source": [
    "import pandas as pd\n",
    "import seaborn as sns\n",
    "sns.set(style=\"whitegrid\", palette=\"muted\")\n",
    "\n",
    "# # Load the example iris dataset\n",
    "# iris = sns.load_dataset(\"iris\")\n",
    "\n",
    "# # \"Melt\" the dataset to \"long-form\" or \"tidy\" representation\n",
    "# iris = pd.melt(iris, \"species\", var_name=\"measurement\")\n",
    "\n",
    "sns.boxplot(x=\"class_id\", y=\"len_mol_sent\",\n",
    "            hue=\"model_type\", palette=[\"m\", \"g\"],\n",
    "            data=class2len_mol_sent_df)\n",
    "sns.despine(offset=10, trim=True)"
   ]
  },
  {
   "cell_type": "code",
   "execution_count": 54,
   "metadata": {},
   "outputs": [
    {
     "data": {
      "image/png": "[encoded data removed]",
      "text/plain": [
       "<Figure size 648x432 with 1 Axes>"
      ]
     },
     "metadata": {},
     "output_type": "display_data"
    }
   ],
   "source": [
    "import pandas as pd\n",
    "import seaborn as sns\n",
    "sns.set(style=\"whitegrid\", palette=\"muted\")\n",
    "\n",
    "# # Load the example iris dataset\n",
    "# iris = sns.load_dataset(\"iris\")\n",
    "\n",
    "# # \"Melt\" the dataset to \"long-form\" or \"tidy\" representation\n",
    "# iris = pd.melt(iris, \"species\", var_name=\"measurement\")\n",
    "plt.figure(figsize=(9, 6))\n",
    "sns.boxplot(x=\"class_id\", y=\"len_mol_sent\",\n",
    "            hue=\"model_type\", palette=[\"m\", \"g\"],\n",
    "            data=class2len_mol_sent_df2)\n",
    "sns.despine(offset=10, trim=True)\n",
    "plt.tight_layout()\n",
    "plt.savefig('./table_4_1/compare_sentence_len.png', dpi=200)"
   ]
  },
  {
   "cell_type": "markdown",
   "metadata": {},
   "source": [
    "### get frequency of fragment in all MOSES data-set"
   ]
  },
  {
   "cell_type": "code",
   "execution_count": 58,
   "metadata": {},
   "outputs": [],
   "source": [
    "def get_frag_in_class(class_id, model_type):\n",
    "    fn = './table_4_1/class_{}_mol_sentence_model_{}.csv'.format(class_id, model_type)\n",
    "    frag_in_class = {}\n",
    "    with open(fn, 'r') as f_handle:\n",
    "        for i in f_handle:\n",
    "            frags = []\n",
    "            if model_type == 'parallel':\n",
    "                cid, mol_sent = i.strip().split('\\t')\n",
    "                frags = mol_sent.split(',')\n",
    "                #len_mol_sent.append(len(frags))\n",
    "            if model_type == 'mol2vec':\n",
    "                cid, mol_sent = i.strip().split(',')\n",
    "                if mol_sent != '0':\n",
    "                    frags = mol_sent.split(' ')\n",
    "            for frag in frags:\n",
    "                frag_in_class[frag] = 0\n",
    "                    # len_mol_sent.append(len(frags))\n",
    "    print('There are {} fragments in this class'.format(len(frag_in_class)))\n",
    "    return list(frag_in_class.keys())"
   ]
  },
  {
   "cell_type": "code",
   "execution_count": 59,
   "metadata": {},
   "outputs": [
    {
     "name": "stdout",
     "output_type": "stream",
     "text": [
      "There are 620 fragments in this class\n",
      "There are 99 fragments in this class\n",
      "There are 530 fragments in this class\n",
      "There are 100 fragments in this class\n",
      "There are 91 fragments in this class\n",
      "There are 8 fragments in this class\n"
     ]
    }
   ],
   "source": [
    "class2frag = {}\n",
    "for class_id in class_id2class_df.keys():\n",
    "    for model_type in ['mol2vec', 'parallel']:\n",
    "        _ = pd.DataFrame(columns=['class_id', 'model_type', 'fragment'])\n",
    "        _['fragment'] = get_frag_in_class(class_id, model_type)\n",
    "        _['class_id'] = class_id\n",
    "        _['model_type'] = model_type\n",
    "        class2frag[class_id + '-' + model_type] = _"
   ]
  },
  {
   "cell_type": "code",
   "execution_count": 60,
   "metadata": {},
   "outputs": [
    {
     "data": {
      "text/plain": [
       "(1448, 3)"
      ]
     },
     "execution_count": 60,
     "metadata": {},
     "output_type": "execute_result"
    }
   ],
   "source": [
    "class2frag_df = pd.concat(list(class2frag.values()))\n",
    "class2frag_df.shape"
   ]
  },
  {
   "cell_type": "code",
   "execution_count": 63,
   "metadata": {},
   "outputs": [],
   "source": [
    "class2frag_df.to_csv('./table_4_1/class2frag.csv')"
   ]
  },
  {
   "cell_type": "code",
   "execution_count": 61,
   "metadata": {},
   "outputs": [
    {
     "data": {
      "text/html": [
       "<div>\n",
       "<style scoped>\n",
       "    .dataframe tbody tr th:only-of-type {\n",
       "        vertical-align: middle;\n",
       "    }\n",
       "\n",
       "    .dataframe tbody tr th {\n",
       "        vertical-align: top;\n",
       "    }\n",
       "\n",
       "    .dataframe thead th {\n",
       "        text-align: right;\n",
       "    }\n",
       "</style>\n",
       "<table border=\"1\" class=\"dataframe\">\n",
       "  <thead>\n",
       "    <tr style=\"text-align: right;\">\n",
       "      <th></th>\n",
       "      <th>class_id</th>\n",
       "      <th>model_type</th>\n",
       "      <th>fragment</th>\n",
       "    </tr>\n",
       "  </thead>\n",
       "  <tbody>\n",
       "    <tr>\n",
       "      <th>0</th>\n",
       "      <td>10101010</td>\n",
       "      <td>mol2vec</td>\n",
       "      <td>2246997334</td>\n",
       "    </tr>\n",
       "    <tr>\n",
       "      <th>1</th>\n",
       "      <td>10101010</td>\n",
       "      <td>mol2vec</td>\n",
       "      <td>3696402029</td>\n",
       "    </tr>\n",
       "    <tr>\n",
       "      <th>2</th>\n",
       "      <td>10101010</td>\n",
       "      <td>mol2vec</td>\n",
       "      <td>2246703798</td>\n",
       "    </tr>\n",
       "    <tr>\n",
       "      <th>3</th>\n",
       "      <td>10101010</td>\n",
       "      <td>mol2vec</td>\n",
       "      <td>535847852</td>\n",
       "    </tr>\n",
       "    <tr>\n",
       "      <th>4</th>\n",
       "      <td>10101010</td>\n",
       "      <td>mol2vec</td>\n",
       "      <td>2245384272</td>\n",
       "    </tr>\n",
       "  </tbody>\n",
       "</table>\n",
       "</div>"
      ],
      "text/plain": [
       "   class_id model_type    fragment\n",
       "0  10101010    mol2vec  2246997334\n",
       "1  10101010    mol2vec  3696402029\n",
       "2  10101010    mol2vec  2246703798\n",
       "3  10101010    mol2vec   535847852\n",
       "4  10101010    mol2vec  2245384272"
      ]
     },
     "execution_count": 61,
     "metadata": {},
     "output_type": "execute_result"
    }
   ],
   "source": [
    "class2frag_df.head()"
   ]
  },
  {
   "cell_type": "code",
   "execution_count": 64,
   "metadata": {},
   "outputs": [
    {
     "data": {
      "text/html": [
       "<div>\n",
       "<style scoped>\n",
       "    .dataframe tbody tr th:only-of-type {\n",
       "        vertical-align: middle;\n",
       "    }\n",
       "\n",
       "    .dataframe tbody tr th {\n",
       "        vertical-align: top;\n",
       "    }\n",
       "\n",
       "    .dataframe thead th {\n",
       "        text-align: right;\n",
       "    }\n",
       "</style>\n",
       "<table border=\"1\" class=\"dataframe\">\n",
       "  <thead>\n",
       "    <tr style=\"text-align: right;\">\n",
       "      <th></th>\n",
       "      <th>count</th>\n",
       "    </tr>\n",
       "    <tr>\n",
       "      <th>fragment</th>\n",
       "      <th></th>\n",
       "    </tr>\n",
       "  </thead>\n",
       "  <tbody>\n",
       "    <tr>\n",
       "      <th>CC</th>\n",
       "      <td>23568756</td>\n",
       "    </tr>\n",
       "    <tr>\n",
       "      <th>CN</th>\n",
       "      <td>19360804</td>\n",
       "    </tr>\n",
       "    <tr>\n",
       "      <th>C</th>\n",
       "      <td>16215117</td>\n",
       "    </tr>\n",
       "    <tr>\n",
       "      <th>C=O</th>\n",
       "      <td>6971706</td>\n",
       "    </tr>\n",
       "    <tr>\n",
       "      <th>C1=CC=CC=C1</th>\n",
       "      <td>6809589</td>\n",
       "    </tr>\n",
       "  </tbody>\n",
       "</table>\n",
       "</div>"
      ],
      "text/plain": [
       "                count\n",
       "fragment             \n",
       "CC           23568756\n",
       "CN           19360804\n",
       "C            16215117\n",
       "C=O           6971706\n",
       "C1=CC=CC=C1   6809589"
      ]
     },
     "execution_count": 64,
     "metadata": {},
     "output_type": "execute_result"
    }
   ],
   "source": [
    "frag2num_parallel_model = pd.read_csv('./step2_parallel_frag2num_recount.csv', index_col='fragment', usecols=[1,2])\n",
    "frag2num_parallel_model.head()"
   ]
  },
  {
   "cell_type": "code",
   "execution_count": 66,
   "metadata": {},
   "outputs": [],
   "source": [
    "frag2num_parallel_model['freq'] = frag2num_parallel_model['count'] / frag2num_parallel_model['count'].sum()"
   ]
  },
  {
   "cell_type": "code",
   "execution_count": 67,
   "metadata": {},
   "outputs": [
    {
     "data": {
      "text/html": [
       "<div>\n",
       "<style scoped>\n",
       "    .dataframe tbody tr th:only-of-type {\n",
       "        vertical-align: middle;\n",
       "    }\n",
       "\n",
       "    .dataframe tbody tr th {\n",
       "        vertical-align: top;\n",
       "    }\n",
       "\n",
       "    .dataframe thead th {\n",
       "        text-align: right;\n",
       "    }\n",
       "</style>\n",
       "<table border=\"1\" class=\"dataframe\">\n",
       "  <thead>\n",
       "    <tr style=\"text-align: right;\">\n",
       "      <th></th>\n",
       "      <th>count</th>\n",
       "    </tr>\n",
       "    <tr>\n",
       "      <th>fragment</th>\n",
       "      <th></th>\n",
       "    </tr>\n",
       "  </thead>\n",
       "  <tbody>\n",
       "    <tr>\n",
       "      <th>3218693969</th>\n",
       "      <td>8074516</td>\n",
       "    </tr>\n",
       "    <tr>\n",
       "      <th>3217380708</th>\n",
       "      <td>6319726</td>\n",
       "    </tr>\n",
       "    <tr>\n",
       "      <th>951226070</th>\n",
       "      <td>4145346</td>\n",
       "    </tr>\n",
       "    <tr>\n",
       "      <th>2968968094</th>\n",
       "      <td>2711673</td>\n",
       "    </tr>\n",
       "    <tr>\n",
       "      <th>2246728737</th>\n",
       "      <td>2572786</td>\n",
       "    </tr>\n",
       "  </tbody>\n",
       "</table>\n",
       "</div>"
      ],
      "text/plain": [
       "              count\n",
       "fragment           \n",
       "3218693969  8074516\n",
       "3217380708  6319726\n",
       "951226070   4145346\n",
       "2968968094  2711673\n",
       "2246728737  2572786"
      ]
     },
     "execution_count": 67,
     "metadata": {},
     "output_type": "execute_result"
    }
   ],
   "source": [
    "frag2num_mol2vec = pd.read_csv('./frag2num_all_moses_model_mol2vec.csv', index_col='fragment')\n",
    "frag2num_mol2vec.head()"
   ]
  },
  {
   "cell_type": "code",
   "execution_count": 68,
   "metadata": {},
   "outputs": [],
   "source": [
    "frag2num_mol2vec['freq'] = frag2num_mol2vec['count'] / frag2num_mol2vec['count'].sum()"
   ]
  },
  {
   "cell_type": "code",
   "execution_count": 69,
   "metadata": {},
   "outputs": [
    {
     "name": "stdout",
     "output_type": "stream",
     "text": [
      "(3732, 2)\n"
     ]
    },
    {
     "data": {
      "text/html": [
       "<div>\n",
       "<style scoped>\n",
       "    .dataframe tbody tr th:only-of-type {\n",
       "        vertical-align: middle;\n",
       "    }\n",
       "\n",
       "    .dataframe tbody tr th {\n",
       "        vertical-align: top;\n",
       "    }\n",
       "\n",
       "    .dataframe thead th {\n",
       "        text-align: right;\n",
       "    }\n",
       "</style>\n",
       "<table border=\"1\" class=\"dataframe\">\n",
       "  <thead>\n",
       "    <tr style=\"text-align: right;\">\n",
       "      <th></th>\n",
       "      <th>count</th>\n",
       "      <th>freq</th>\n",
       "    </tr>\n",
       "    <tr>\n",
       "      <th>fragment</th>\n",
       "      <th></th>\n",
       "      <th></th>\n",
       "    </tr>\n",
       "  </thead>\n",
       "  <tbody>\n",
       "    <tr>\n",
       "      <th>CC</th>\n",
       "      <td>23568756</td>\n",
       "      <td>0.231374</td>\n",
       "    </tr>\n",
       "    <tr>\n",
       "      <th>CN</th>\n",
       "      <td>19360804</td>\n",
       "      <td>0.190065</td>\n",
       "    </tr>\n",
       "    <tr>\n",
       "      <th>C</th>\n",
       "      <td>16215117</td>\n",
       "      <td>0.159184</td>\n",
       "    </tr>\n",
       "    <tr>\n",
       "      <th>C=O</th>\n",
       "      <td>6971706</td>\n",
       "      <td>0.068441</td>\n",
       "    </tr>\n",
       "    <tr>\n",
       "      <th>C1=CC=CC=C1</th>\n",
       "      <td>6809589</td>\n",
       "      <td>0.066850</td>\n",
       "    </tr>\n",
       "  </tbody>\n",
       "</table>\n",
       "</div>"
      ],
      "text/plain": [
       "                count      freq\n",
       "fragment                       \n",
       "CC           23568756  0.231374\n",
       "CN           19360804  0.190065\n",
       "C            16215117  0.159184\n",
       "C=O           6971706  0.068441\n",
       "C1=CC=CC=C1   6809589  0.066850"
      ]
     },
     "execution_count": 69,
     "metadata": {},
     "output_type": "execute_result"
    }
   ],
   "source": [
    "frag2freq = pd.concat([frag2num_parallel_model, frag2num_mol2vec])\n",
    "print(frag2freq.shape)\n",
    "frag2freq.head()"
   ]
  },
  {
   "cell_type": "code",
   "execution_count": 70,
   "metadata": {},
   "outputs": [
    {
     "data": {
      "text/html": [
       "<div>\n",
       "<style scoped>\n",
       "    .dataframe tbody tr th:only-of-type {\n",
       "        vertical-align: middle;\n",
       "    }\n",
       "\n",
       "    .dataframe tbody tr th {\n",
       "        vertical-align: top;\n",
       "    }\n",
       "\n",
       "    .dataframe thead th {\n",
       "        text-align: right;\n",
       "    }\n",
       "</style>\n",
       "<table border=\"1\" class=\"dataframe\">\n",
       "  <thead>\n",
       "    <tr style=\"text-align: right;\">\n",
       "      <th></th>\n",
       "      <th>class_id</th>\n",
       "      <th>model_type</th>\n",
       "      <th>fragment</th>\n",
       "      <th>count</th>\n",
       "      <th>freq</th>\n",
       "    </tr>\n",
       "  </thead>\n",
       "  <tbody>\n",
       "    <tr>\n",
       "      <th>0</th>\n",
       "      <td>10101010</td>\n",
       "      <td>mol2vec</td>\n",
       "      <td>2246997334</td>\n",
       "      <td>21045</td>\n",
       "      <td>0.000307</td>\n",
       "    </tr>\n",
       "    <tr>\n",
       "      <th>1</th>\n",
       "      <td>10101010</td>\n",
       "      <td>mol2vec</td>\n",
       "      <td>3696402029</td>\n",
       "      <td>19098</td>\n",
       "      <td>0.000278</td>\n",
       "    </tr>\n",
       "    <tr>\n",
       "      <th>2</th>\n",
       "      <td>10101010</td>\n",
       "      <td>mol2vec</td>\n",
       "      <td>2246703798</td>\n",
       "      <td>28179</td>\n",
       "      <td>0.000411</td>\n",
       "    </tr>\n",
       "    <tr>\n",
       "      <th>3</th>\n",
       "      <td>10101010</td>\n",
       "      <td>mol2vec</td>\n",
       "      <td>535847852</td>\n",
       "      <td>18726</td>\n",
       "      <td>0.000273</td>\n",
       "    </tr>\n",
       "    <tr>\n",
       "      <th>4</th>\n",
       "      <td>10101010</td>\n",
       "      <td>mol2vec</td>\n",
       "      <td>2245384272</td>\n",
       "      <td>2121169</td>\n",
       "      <td>0.030924</td>\n",
       "    </tr>\n",
       "  </tbody>\n",
       "</table>\n",
       "</div>"
      ],
      "text/plain": [
       "   class_id model_type    fragment    count      freq\n",
       "0  10101010    mol2vec  2246997334    21045  0.000307\n",
       "1  10101010    mol2vec  3696402029    19098  0.000278\n",
       "2  10101010    mol2vec  2246703798    28179  0.000411\n",
       "3  10101010    mol2vec   535847852    18726  0.000273\n",
       "4  10101010    mol2vec  2245384272  2121169  0.030924"
      ]
     },
     "execution_count": 70,
     "metadata": {},
     "output_type": "execute_result"
    }
   ],
   "source": [
    "class2frag_freq = class2frag_df.merge(frag2freq, left_on='fragment', right_index=True)\n",
    "class2frag_freq.head()"
   ]
  },
  {
   "cell_type": "code",
   "execution_count": 76,
   "metadata": {},
   "outputs": [],
   "source": [
    "class2frag_freq.to_csv('./table_4_1/class2fragment_frequency.csv')"
   ]
  },
  {
   "cell_type": "code",
   "execution_count": 74,
   "metadata": {},
   "outputs": [
    {
     "data": {
      "image/png": "[encoded data removed]",
      "text/plain": [
       "<Figure size 648x432 with 1 Axes>"
      ]
     },
     "metadata": {},
     "output_type": "display_data"
    }
   ],
   "source": [
    "import pandas as pd\n",
    "import seaborn as sns\n",
    "sns.set(style=\"whitegrid\", palette=\"muted\")\n",
    "\n",
    "# # Load the example iris dataset\n",
    "# iris = sns.load_dataset(\"iris\")\n",
    "\n",
    "# # \"Melt\" the dataset to \"long-form\" or \"tidy\" representation\n",
    "# iris = pd.melt(iris, \"species\", var_name=\"measurement\")\n",
    "plt.figure(figsize=(9, 6))\n",
    "sns.boxplot(x=\"class_id\", y=\"freq\",\n",
    "            hue=\"model_type\", palette=[\"m\", \"g\"],\n",
    "            data=class2frag_freq)\n",
    "sns.despine(offset=10, trim=True)\n",
    "plt.tight_layout()\n",
    "plt.savefig('./table_4_1/compare_frag_frequency.png', dpi=200)"
   ]
  },
  {
   "cell_type": "code",
   "execution_count": 71,
   "metadata": {},
   "outputs": [
    {
     "data": {
      "text/plain": [
       "<matplotlib.axes._subplots.AxesSubplot at 0x7f3cb9e1f860>"
      ]
     },
     "execution_count": 71,
     "metadata": {},
     "output_type": "execute_result"
    },
    {
     "data": {
      "image/png": "[encoded data removed]",
      "text/plain": [
       "<Figure size 432x288 with 1 Axes>"
      ]
     },
     "metadata": {},
     "output_type": "display_data"
    }
   ],
   "source": [
    "# Create a random dataset across several variables\n",
    "rs = np.random.RandomState(0)\n",
    "n, p = 40, 8\n",
    "d = rs.normal(0, 2, (n, p))\n",
    "d += np.log(np.arange(1, p + 1)) * -5 + 10\n",
    "\n",
    "# Use cubehelix to get a custom sequential palette\n",
    "pal = sns.cubehelix_palette(p, rot=-.5, dark=.3)\n",
    "\n",
    "# Show each distribution with both violins and points\n",
    "sns.violinplot(data=d, palette=pal, inner=\"points\")"
   ]
  },
  {
   "cell_type": "code",
   "execution_count": 73,
   "metadata": {},
   "outputs": [
    {
     "data": {
      "text/plain": [
       "(40, 8)"
      ]
     },
     "execution_count": 73,
     "metadata": {},
     "output_type": "execute_result"
    }
   ],
   "source": [
    "d.shape"
   ]
  },
  {
   "cell_type": "code",
   "execution_count": null,
   "metadata": {},
   "outputs": [],
   "source": []
  }
 ],
 "metadata": {
  "kernelspec": {
   "display_name": "Python 3",
   "language": "python",
   "name": "python3"
  },
  "language_info": {
   "codemirror_mode": {
    "name": "ipython",
    "version": 3
   },
   "file_extension": ".py",
   "mimetype": "text/x-python",
   "name": "python",
   "nbconvert_exporter": "python",
   "pygments_lexer": "ipython3",
   "version": "3.6.10"
  }
 },
 "nbformat": 4,
 "nbformat_minor": 4
}
